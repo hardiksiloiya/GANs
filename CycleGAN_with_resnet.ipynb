{
  "nbformat": 4,
  "nbformat_minor": 0,
  "metadata": {
    "colab": {
      "name": "CycleGAN.ipynb",
      "provenance": [],
      "collapsed_sections": [],
      "mount_file_id": "1dcC_NT44LmQ7mXeYU9QLYGHHVQggxZS_",
      "authorship_tag": "ABX9TyO0P5am+6M0fHNAWovIvRgX",
      "include_colab_link": true
    },
    "kernelspec": {
      "name": "python3",
      "display_name": "Python 3"
    },
    "language_info": {
      "name": "python"
    },
    "accelerator": "GPU"
  },
  "cells": [
    {
      "cell_type": "markdown",
      "metadata": {
        "id": "view-in-github",
        "colab_type": "text"
      },
      "source": [
        "<a href=\"https://colab.research.google.com/github/hardiksiloiya/GANs/blob/main/CycleGAN_with_resnet.ipynb\" target=\"_parent\"><img src=\"https://colab.research.google.com/assets/colab-badge.svg\" alt=\"Open In Colab\"/></a>"
      ]
    },
    {
      "cell_type": "code",
      "metadata": {
        "colab": {
          "base_uri": "https://localhost:8080/"
        },
        "id": "FYomza1q7uL6",
        "outputId": "44d6d9d9-fb47-4b6a-9ca1-ada89746c53c"
      },
      "source": [
        "!pip install tensorflow_addons\n",
        "!gdown --id 1tCKRDgng0XxhbEsLncsatHXMupD_goHy\n",
        "!gdown --id 19_bil_5hs1ERHOILF7DtmziMXqPBfJN3"
      ],
      "execution_count": 6,
      "outputs": [
        {
          "output_type": "stream",
          "text": [
            "Requirement already satisfied: tensorflow_addons in /usr/local/lib/python3.7/dist-packages (0.13.0)\n",
            "Requirement already satisfied: typeguard>=2.7 in /usr/local/lib/python3.7/dist-packages (from tensorflow_addons) (2.7.1)\n",
            "Downloading...\n",
            "From: https://drive.google.com/uc?id=1tCKRDgng0XxhbEsLncsatHXMupD_goHy\n",
            "To: /content/scene.rar\n",
            "63.0MB [00:00, 152MB/s]\n",
            "Downloading...\n",
            "From: https://drive.google.com/uc?id=19_bil_5hs1ERHOILF7DtmziMXqPBfJN3\n",
            "To: /content/Claude_Monet.rar\n",
            "26.0MB [00:00, 113MB/s] \n"
          ],
          "name": "stdout"
        }
      ]
    },
    {
      "cell_type": "code",
      "metadata": {
        "colab": {
          "base_uri": "https://localhost:8080/"
        },
        "id": "goR-Rb0lCK3g",
        "outputId": "195eaf92-6430-431d-97aa-a0266549a61a"
      },
      "source": [
        "!pip install unrar\n",
        "!unrar x scene.rar\n",
        "!unrar x Claude_Monet.rar"
      ],
      "execution_count": 3,
      "outputs": [
        {
          "output_type": "stream",
          "text": [
            "Collecting unrar\n",
            "  Downloading https://files.pythonhosted.org/packages/bb/0b/53130ccd483e3db8c8a460cb579bdb21b458d5494d67a261e1a5b273fbb9/unrar-0.4-py3-none-any.whl\n",
            "Installing collected packages: unrar\n",
            "Successfully installed unrar-0.4\n",
            "\n",
            "UNRAR 5.50 freeware      Copyright (c) 1993-2017 Alexander Roshal\n",
            "\n",
            "\n",
            "Extracting from scene.rar\n",
            "\n",
            "Creating    scene                                                     OK\n",
            "Extracting  scene/00000113.jpg                                           \b\b\b\b  0%\b\b\b\b\b  OK \n",
            "Extracting  scene/00000113_(2).jpg                                       \b\b\b\b  0%\b\b\b\b\b  OK \n",
            "Extracting  scene/00000113_(3).jpg                                       \b\b\b\b  0%\b\b\b\b\b  OK \n",
            "Extracting  scene/00000113_(4).jpg                                       \b\b\b\b  1%\b\b\b\b\b  OK \n",
            "Extracting  scene/00000113_(5).jpg                                       \b\b\b\b  1%\b\b\b\b\b  OK \n",
            "Extracting  scene/00000113_(6).jpg                                       \b\b\b\b  1%\b\b\b\b\b  OK \n",
            "Extracting  scene/00000114.jpg                                           \b\b\b\b  1%\b\b\b\b\b  OK \n",
            "Extracting  scene/00000114_(2).jpg                                       \b\b\b\b  1%\b\b\b\b\b  OK \n",
            "Extracting  scene/00000114_(3).jpg                                       \b\b\b\b  2%\b\b\b\b\b  OK \n",
            "Extracting  scene/00000114_(4).jpg                                       \b\b\b\b  2%\b\b\b\b\b  OK \n",
            "Extracting  scene/00000114_(5).jpg                                       \b\b\b\b  2%\b\b\b\b\b  OK \n",
            "Extracting  scene/00000114_(6).jpg                                       \b\b\b\b  2%\b\b\b\b\b  OK \n",
            "Extracting  scene/00000115.jpg                                           \b\b\b\b  2%\b\b\b\b\b  OK \n",
            "Extracting  scene/00000115_(2).jpg                                       \b\b\b\b  3%\b\b\b\b\b  OK \n",
            "Extracting  scene/00000115_(3).jpg                                       \b\b\b\b  3%\b\b\b\b\b  OK \n",
            "Extracting  scene/00000115_(4).jpg                                       \b\b\b\b  3%\b\b\b\b\b  OK \n",
            "Extracting  scene/00000115_(5).jpg                                       \b\b\b\b  4%\b\b\b\b\b  OK \n",
            "Extracting  scene/00000115_(6).jpg                                       \b\b\b\b  4%\b\b\b\b\b  OK \n",
            "Extracting  scene/00000115_(7).jpg                                       \b\b\b\b  4%\b\b\b\b\b  OK \n",
            "Extracting  scene/00000116.jpg                                           \b\b\b\b  5%\b\b\b\b\b  OK \n",
            "Extracting  scene/00000116_(2).jpg                                       \b\b\b\b  5%\b\b\b\b\b  OK \n",
            "Extracting  scene/00000116_(3).jpg                                       \b\b\b\b  5%\b\b\b\b\b  OK \n",
            "Extracting  scene/00000116_(4).jpg                                       \b\b\b\b  5%\b\b\b\b\b  OK \n",
            "Extracting  scene/00000116_(5).jpg                                       \b\b\b\b  6%\b\b\b\b\b  OK \n",
            "Extracting  scene/00000116_(6).jpg                                       \b\b\b\b  6%\b\b\b\b\b  OK \n",
            "Extracting  scene/00000117.jpg                                           \b\b\b\b  6%\b\b\b\b\b  OK \n",
            "Extracting  scene/00000117_(2).jpg                                       \b\b\b\b  7%\b\b\b\b\b  OK \n",
            "Extracting  scene/00000117_(3).jpg                                       \b\b\b\b  7%\b\b\b\b\b  OK \n",
            "Extracting  scene/00000117_(4).jpg                                       \b\b\b\b  7%\b\b\b\b\b  OK \n",
            "Extracting  scene/00000117_(5).jpg                                       \b\b\b\b  7%\b\b\b\b\b  OK \n",
            "Extracting  scene/00000117_(6).jpg                                       \b\b\b\b  7%\b\b\b\b\b  OK \n",
            "Extracting  scene/00000118.jpg                                           \b\b\b\b  7%\b\b\b\b\b  OK \n",
            "Extracting  scene/00000118_(2).jpg                                       \b\b\b\b  8%\b\b\b\b\b  OK \n",
            "Extracting  scene/00000118_(3).jpg                                       \b\b\b\b  8%\b\b\b\b\b  OK \n",
            "Extracting  scene/00000118_(4).jpg                                       \b\b\b\b  8%\b\b\b\b\b  OK \n",
            "Extracting  scene/00000118_(5).jpg                                       \b\b\b\b  8%\b\b\b\b  9%\b\b\b\b\b  OK \n",
            "Extracting  scene/00000118_(6).jpg                                       \b\b\b\b  9%\b\b\b\b\b  OK \n",
            "Extracting  scene/00000119.jpg                                           \b\b\b\b  9%\b\b\b\b\b  OK \n",
            "Extracting  scene/00000119_(2).jpg                                       \b\b\b\b  9%\b\b\b\b\b  OK \n",
            "Extracting  scene/00000119_(3).jpg                                       \b\b\b\b  9%\b\b\b\b 10%\b\b\b\b\b  OK \n",
            "Extracting  scene/00000119_(4).jpg                                       \b\b\b\b 10%\b\b\b\b\b  OK \n",
            "Extracting  scene/00000119_(5).jpg                                       \b\b\b\b 10%\b\b\b\b\b  OK \n",
            "Extracting  scene/00000119_(6).jpg                                       \b\b\b\b 10%\b\b\b\b\b  OK \n",
            "Extracting  scene/00000120.jpg                                           \b\b\b\b 11%\b\b\b\b\b  OK \n",
            "Extracting  scene/00000120_(2).jpg                                       \b\b\b\b 11%\b\b\b\b 12%\b\b\b\b\b  OK \n",
            "Extracting  scene/00000120_(3).jpg                                       \b\b\b\b 12%\b\b\b\b\b  OK \n",
            "Extracting  scene/00000120_(4).jpg                                       \b\b\b\b 12%\b\b\b\b\b  OK \n",
            "Extracting  scene/00000120_(5).jpg                                       \b\b\b\b 13%\b\b\b\b\b  OK \n",
            "Extracting  scene/00000121.jpg                                           \b\b\b\b 13%\b\b\b\b\b  OK \n",
            "Extracting  scene/00000121_(2).jpg                                       \b\b\b\b 13%\b\b\b\b\b  OK \n",
            "Extracting  scene/00000121_(3).jpg                                       \b\b\b\b 13%\b\b\b\b 14%\b\b\b\b\b  OK \n",
            "Extracting  scene/00000121_(4).jpg                                       \b\b\b\b 14%\b\b\b\b\b  OK \n",
            "Extracting  scene/00000121_(5).jpg                                       \b\b\b\b 14%\b\b\b\b\b  OK \n",
            "Extracting  scene/00000121_(6).jpg                                       \b\b\b\b 15%\b\b\b\b\b  OK \n",
            "Extracting  scene/00000121_(7).jpg                                       \b\b\b\b 15%\b\b\b\b\b  OK \n",
            "Extracting  scene/00000122.jpg                                           \b\b\b\b 15%\b\b\b\b\b  OK \n",
            "Extracting  scene/00000122_(2).jpg                                       \b\b\b\b 15%\b\b\b\b\b  OK \n",
            "Extracting  scene/00000122_(3).jpg                                       \b\b\b\b 16%\b\b\b\b\b  OK \n",
            "Extracting  scene/00000122_(4).jpg                                       \b\b\b\b 16%\b\b\b\b\b  OK \n",
            "Extracting  scene/00000122_(5).jpg                                       \b\b\b\b 16%\b\b\b\b\b  OK \n",
            "Extracting  scene/00000122_(6).jpg                                       \b\b\b\b 16%\b\b\b\b\b  OK \n",
            "Extracting  scene/00000123.jpg                                           \b\b\b\b 17%\b\b\b\b\b  OK \n",
            "Extracting  scene/00000123_(2).jpg                                       \b\b\b\b 17%\b\b\b\b\b  OK \n",
            "Extracting  scene/00000123_(3).jpg                                       \b\b\b\b 17%\b\b\b\b\b  OK \n",
            "Extracting  scene/00000123_(4).jpg                                       \b\b\b\b 17%\b\b\b\b\b  OK \n",
            "Extracting  scene/00000123_(5).jpg                                       \b\b\b\b 17%\b\b\b\b\b  OK \n",
            "Extracting  scene/00000123_(6).jpg                                       \b\b\b\b 17%\b\b\b\b\b  OK \n",
            "Extracting  scene/00000124.jpg                                           \b\b\b\b 18%\b\b\b\b\b  OK \n",
            "Extracting  scene/00000124_(2).jpg                                       \b\b\b\b 18%\b\b\b\b\b  OK \n",
            "Extracting  scene/00000124_(3).jpg                                       \b\b\b\b 18%\b\b\b\b\b  OK \n",
            "Extracting  scene/00000124_(4).jpg                                       \b\b\b\b 18%\b\b\b\b\b  OK \n",
            "Extracting  scene/00000124_(5).jpg                                       \b\b\b\b 18%\b\b\b\b\b  OK \n",
            "Extracting  scene/00000124_(6).jpg                                       \b\b\b\b 19%\b\b\b\b\b  OK \n",
            "Extracting  scene/00000124_(7).jpg                                       \b\b\b\b 19%\b\b\b\b\b  OK \n",
            "Extracting  scene/00000125.jpg                                           \b\b\b\b 19%\b\b\b\b\b  OK \n",
            "Extracting  scene/00000125_(2).jpg                                       \b\b\b\b 19%\b\b\b\b\b  OK \n",
            "Extracting  scene/00000125_(3).jpg                                       \b\b\b\b 20%\b\b\b\b\b  OK \n",
            "Extracting  scene/00000125_(4).jpg                                       \b\b\b\b 20%\b\b\b\b\b  OK \n",
            "Extracting  scene/00000125_(5).jpg                                       \b\b\b\b 20%\b\b\b\b\b  OK \n",
            "Extracting  scene/00000125_(6).jpg                                       \b\b\b\b 21%\b\b\b\b\b  OK \n",
            "Extracting  scene/00000126.jpg                                           \b\b\b\b 21%\b\b\b\b\b  OK \n",
            "Extracting  scene/00000126_(2).jpg                                       \b\b\b\b 21%\b\b\b\b\b  OK \n",
            "Extracting  scene/00000126_(3).jpg                                       \b\b\b\b 21%\b\b\b\b\b  OK \n",
            "Extracting  scene/00000126_(4).jpg                                       \b\b\b\b 22%\b\b\b\b\b  OK \n",
            "Extracting  scene/00000126_(5).jpg                                       \b\b\b\b 22%\b\b\b\b\b  OK \n",
            "Extracting  scene/00000126_(6).jpg                                       \b\b\b\b 22%\b\b\b\b\b  OK \n",
            "Extracting  scene/00000126_(7).jpg                                       \b\b\b\b 22%\b\b\b\b\b  OK \n",
            "Extracting  scene/00000127.jpg                                           \b\b\b\b 23%\b\b\b\b\b  OK \n",
            "Extracting  scene/00000127_(2).jpg                                       \b\b\b\b 24%\b\b\b\b\b  OK \n",
            "Extracting  scene/00000127_(3).jpg                                       \b\b\b\b 24%\b\b\b\b\b  OK \n",
            "Extracting  scene/00000127_(4).jpg                                       \b\b\b\b 24%\b\b\b\b\b  OK \n",
            "Extracting  scene/00000127_(5).jpg                                       \b\b\b\b 24%\b\b\b\b\b  OK \n",
            "Extracting  scene/00000127_(6).jpg                                       \b\b\b\b 24%\b\b\b\b\b  OK \n",
            "Extracting  scene/00000128.jpg                                           \b\b\b\b 24%\b\b\b\b\b  OK \n",
            "Extracting  scene/00000128_(2).jpg                                       \b\b\b\b 25%\b\b\b\b\b  OK \n",
            "Extracting  scene/00000128_(3).jpg                                       \b\b\b\b 25%\b\b\b\b\b  OK \n",
            "Extracting  scene/00000128_(4).jpg                                       \b\b\b\b 25%\b\b\b\b\b  OK \n",
            "Extracting  scene/00000128_(5).jpg                                       \b\b\b\b 25%\b\b\b\b\b  OK \n",
            "Extracting  scene/00000128_(6).jpg                                       \b\b\b\b 26%\b\b\b\b\b  OK \n",
            "Extracting  scene/00000129.jpg                                           \b\b\b\b 26%\b\b\b\b\b  OK \n",
            "Extracting  scene/00000129_(2).jpg                                       \b\b\b\b 26%\b\b\b\b\b  OK \n",
            "Extracting  scene/00000129_(3).jpg                                       \b\b\b\b 26%\b\b\b\b\b  OK \n",
            "Extracting  scene/00000129_(4).jpg                                       \b\b\b\b 27%\b\b\b\b\b  OK \n",
            "Extracting  scene/00000129_(5).jpg                                       \b\b\b\b 27%\b\b\b\b\b  OK \n",
            "Extracting  scene/00000129_(6).jpg                                       \b\b\b\b 27%\b\b\b\b\b  OK \n",
            "Extracting  scene/00000130.jpg                                           \b\b\b\b 28%\b\b\b\b\b  OK \n",
            "Extracting  scene/00000130_(2).jpg                                       \b\b\b\b 28%\b\b\b\b\b  OK \n",
            "Extracting  scene/00000130_(3).jpg                                       \b\b\b\b 28%\b\b\b\b 29%\b\b\b\b\b  OK \n",
            "Extracting  scene/00000130_(4).jpg                                       \b\b\b\b 29%\b\b\b\b\b  OK \n",
            "Extracting  scene/00000130_(5).jpg                                       \b\b\b\b 29%\b\b\b\b\b  OK \n",
            "Extracting  scene/00000130_(6).jpg                                       \b\b\b\b 30%\b\b\b\b\b  OK \n",
            "Extracting  scene/00000131.jpg                                           \b\b\b\b 30%\b\b\b\b\b  OK \n",
            "Extracting  scene/00000131_(2).jpg                                       \b\b\b\b 30%\b\b\b\b\b  OK \n",
            "Extracting  scene/00000131_(3).jpg                                       \b\b\b\b 30%\b\b\b\b 31%\b\b\b\b\b  OK \n",
            "Extracting  scene/00000131_(4).jpg                                       \b\b\b\b 31%\b\b\b\b\b  OK \n",
            "Extracting  scene/00000131_(5).jpg                                       \b\b\b\b 31%\b\b\b\b\b  OK \n",
            "Extracting  scene/00000131_(6).jpg                                       \b\b\b\b 31%\b\b\b\b\b  OK \n",
            "Extracting  scene/00000132.jpg                                           \b\b\b\b 32%\b\b\b\b\b  OK \n",
            "Extracting  scene/00000132_(2).jpg                                       \b\b\b\b 32%\b\b\b\b\b  OK \n",
            "Extracting  scene/00000132_(3).jpg                                       \b\b\b\b 32%\b\b\b\b\b  OK \n",
            "Extracting  scene/00000132_(4).jpg                                       \b\b\b\b 32%\b\b\b\b\b  OK \n",
            "Extracting  scene/00000132_(5).jpg                                       \b\b\b\b 33%\b\b\b\b\b  OK \n",
            "Extracting  scene/00000132_(6).jpg                                       \b\b\b\b 33%\b\b\b\b\b  OK \n",
            "Extracting  scene/00000133.jpg                                           \b\b\b\b 33%\b\b\b\b\b  OK \n",
            "Extracting  scene/00000133_(2).jpg                                       \b\b\b\b 33%\b\b\b\b\b  OK \n",
            "Extracting  scene/00000133_(3).jpg                                       \b\b\b\b 34%\b\b\b\b\b  OK \n",
            "Extracting  scene/00000133_(4).jpg                                       \b\b\b\b 34%\b\b\b\b\b  OK \n",
            "Extracting  scene/00000133_(5).jpg                                       \b\b\b\b 34%\b\b\b\b\b  OK \n",
            "Extracting  scene/00000133_(6).jpg                                       \b\b\b\b 35%\b\b\b\b\b  OK \n",
            "Extracting  scene/00000134.jpg                                           \b\b\b\b 35%\b\b\b\b\b  OK \n",
            "Extracting  scene/00000134_(2).jpg                                       \b\b\b\b 35%\b\b\b\b\b  OK \n",
            "Extracting  scene/00000134_(3).jpg                                       \b\b\b\b 36%\b\b\b\b\b  OK \n",
            "Extracting  scene/00000134_(4).jpg                                       \b\b\b\b 36%\b\b\b\b\b  OK \n",
            "Extracting  scene/00000134_(5).jpg                                       \b\b\b\b 36%\b\b\b\b\b  OK \n",
            "Extracting  scene/00000134_(6).jpg                                       \b\b\b\b 36%\b\b\b\b 37%\b\b\b\b\b  OK \n",
            "Extracting  scene/00000134_(7).jpg                                       \b\b\b\b 37%\b\b\b\b\b  OK \n",
            "Extracting  scene/00000135.jpg                                           \b\b\b\b 37%\b\b\b\b\b  OK \n",
            "Extracting  scene/00000135_(2).jpg                                       \b\b\b\b 38%\b\b\b\b\b  OK \n",
            "Extracting  scene/00000135_(3).jpg                                       \b\b\b\b 38%\b\b\b\b\b  OK \n",
            "Extracting  scene/00000135_(4).jpg                                       \b\b\b\b 38%\b\b\b\b\b  OK \n",
            "Extracting  scene/00000135_(5).jpg                                       \b\b\b\b 38%\b\b\b\b\b  OK \n",
            "Extracting  scene/00000135_(6).jpg                                       \b\b\b\b 39%\b\b\b\b\b  OK \n",
            "Extracting  scene/00000136.jpg                                           \b\b\b\b 39%\b\b\b\b\b  OK \n",
            "Extracting  scene/00000136_(2).jpg                                       \b\b\b\b 39%\b\b\b\b\b  OK \n",
            "Extracting  scene/00000136_(3).jpg                                       \b\b\b\b 39%\b\b\b\b\b  OK \n",
            "Extracting  scene/00000136_(4).jpg                                       \b\b\b\b 39%\b\b\b\b\b  OK \n",
            "Extracting  scene/00000136_(5).jpg                                       \b\b\b\b 40%\b\b\b\b\b  OK \n",
            "Extracting  scene/00000136_(6).jpg                                       \b\b\b\b 40%\b\b\b\b\b  OK \n",
            "Extracting  scene/00000137.jpg                                           \b\b\b\b 40%\b\b\b\b\b  OK \n",
            "Extracting  scene/00000137_(2).jpg                                       \b\b\b\b 40%\b\b\b\b\b  OK \n",
            "Extracting  scene/00000137_(3).jpg                                       \b\b\b\b 41%\b\b\b\b\b  OK \n",
            "Extracting  scene/00000137_(4).jpg                                       \b\b\b\b 41%\b\b\b\b\b  OK \n",
            "Extracting  scene/00000137_(5).jpg                                       \b\b\b\b 42%\b\b\b\b\b  OK \n",
            "Extracting  scene/00000137_(6).jpg                                       \b\b\b\b 42%\b\b\b\b\b  OK \n",
            "Extracting  scene/00000138.jpg                                           \b\b\b\b 42%\b\b\b\b\b  OK \n",
            "Extracting  scene/00000138_(2).jpg                                       \b\b\b\b 42%\b\b\b\b\b  OK \n",
            "Extracting  scene/00000138_(3).jpg                                       \b\b\b\b 43%\b\b\b\b\b  OK \n",
            "Extracting  scene/00000138_(4).jpg                                       \b\b\b\b 43%\b\b\b\b\b  OK \n",
            "Extracting  scene/00000138_(5).jpg                                       \b\b\b\b 43%\b\b\b\b\b  OK \n",
            "Extracting  scene/00000138_(6).jpg                                       \b\b\b\b 43%\b\b\b\b\b  OK \n",
            "Extracting  scene/00000139.jpg                                           \b\b\b\b 44%\b\b\b\b\b  OK \n",
            "Extracting  scene/00000139_(2).jpg                                       \b\b\b\b 44%\b\b\b\b\b  OK \n",
            "Extracting  scene/00000139_(3).jpg                                       \b\b\b\b 44%\b\b\b\b\b  OK \n",
            "Extracting  scene/00000139_(4).jpg                                       \b\b\b\b 44%\b\b\b\b\b  OK \n",
            "Extracting  scene/00000139_(5).jpg                                       \b\b\b\b 45%\b\b\b\b\b  OK \n",
            "Extracting  scene/00000139_(6).jpg                                       \b\b\b\b 45%\b\b\b\b\b  OK \n",
            "Extracting  scene/00000140.jpg                                           \b\b\b\b 45%\b\b\b\b\b  OK \n",
            "Extracting  scene/00000140_(2).jpg                                       \b\b\b\b 46%\b\b\b\b\b  OK \n",
            "Extracting  scene/00000140_(3).jpg                                       \b\b\b\b 46%\b\b\b\b\b  OK \n",
            "Extracting  scene/00000140_(4).jpg                                       \b\b\b\b 46%\b\b\b\b\b  OK \n",
            "Extracting  scene/00000140_(5).jpg                                       \b\b\b\b 46%\b\b\b\b\b  OK \n",
            "Extracting  scene/00000140_(6).jpg                                       \b\b\b\b 47%\b\b\b\b\b  OK \n",
            "Extracting  scene/00000141.jpg                                           \b\b\b\b 47%\b\b\b\b\b  OK \n",
            "Extracting  scene/00000141_(2).jpg                                       \b\b\b\b 47%\b\b\b\b\b  OK \n",
            "Extracting  scene/00000141_(3).jpg                                       \b\b\b\b 48%\b\b\b\b\b  OK \n",
            "Extracting  scene/00000141_(4).jpg                                       \b\b\b\b 48%\b\b\b\b\b  OK \n",
            "Extracting  scene/00000141_(5).jpg                                       \b\b\b\b 48%\b\b\b\b\b  OK \n",
            "Extracting  scene/00000141_(6).jpg                                       \b\b\b\b 48%\b\b\b\b\b  OK \n",
            "Extracting  scene/00000142.jpg                                           \b\b\b\b 49%\b\b\b\b\b  OK \n",
            "Extracting  scene/00000142_(2).jpg                                       \b\b\b\b 49%\b\b\b\b\b  OK \n",
            "Extracting  scene/00000142_(3).jpg                                       \b\b\b\b 49%\b\b\b\b\b  OK \n",
            "Extracting  scene/00000142_(4).jpg                                       \b\b\b\b 49%\b\b\b\b\b  OK \n",
            "Extracting  scene/00000142_(5).jpg                                       \b\b\b\b 49%\b\b\b\b\b  OK \n",
            "Extracting  scene/00000142_(6).jpg                                       \b\b\b\b 50%\b\b\b\b\b  OK \n",
            "Extracting  scene/00000143.jpg                                           \b\b\b\b 50%\b\b\b\b\b  OK \n",
            "Extracting  scene/00000143_(2).jpg                                       \b\b\b\b 50%\b\b\b\b\b  OK \n",
            "Extracting  scene/00000143_(3).jpg                                       \b\b\b\b 50%\b\b\b\b\b  OK \n",
            "Extracting  scene/00000143_(4).jpg                                       \b\b\b\b 50%\b\b\b\b\b  OK \n",
            "Extracting  scene/00000143_(5).jpg                                       \b\b\b\b 51%\b\b\b\b\b  OK \n",
            "Extracting  scene/00000143_(6).jpg                                       \b\b\b\b 51%\b\b\b\b 52%\b\b\b\b\b  OK \n",
            "Extracting  scene/00000144.jpg                                           \b\b\b\b 52%\b\b\b\b\b  OK \n",
            "Extracting  scene/00000144_(2).jpg                                       \b\b\b\b 52%\b\b\b\b\b  OK \n",
            "Extracting  scene/00000144_(3).jpg                                       \b\b\b\b 53%\b\b\b\b\b  OK \n",
            "Extracting  scene/00000144_(4).jpg                                       \b\b\b\b 53%\b\b\b\b\b  OK \n",
            "Extracting  scene/00000144_(5).jpg                                       \b\b\b\b 53%\b\b\b\b\b  OK \n",
            "Extracting  scene/00000144_(6).jpg                                       \b\b\b\b 53%\b\b\b\b\b  OK \n",
            "Extracting  scene/00000145.jpg                                           \b\b\b\b 53%\b\b\b\b\b  OK \n",
            "Extracting  scene/00000145_(2).jpg                                       \b\b\b\b 53%\b\b\b\b\b  OK \n",
            "Extracting  scene/00000145_(3).jpg                                       \b\b\b\b 54%\b\b\b\b\b  OK \n",
            "Extracting  scene/00000145_(4).jpg                                       \b\b\b\b 54%\b\b\b\b\b  OK \n",
            "Extracting  scene/00000145_(5).jpg                                       \b\b\b\b 54%\b\b\b\b\b  OK \n",
            "Extracting  scene/00000145_(6).jpg                                       \b\b\b\b 54%\b\b\b\b\b  OK \n",
            "Extracting  scene/00000146.jpg                                           \b\b\b\b 55%\b\b\b\b\b  OK \n",
            "Extracting  scene/00000146_(2).jpg                                       \b\b\b\b 55%\b\b\b\b\b  OK \n",
            "Extracting  scene/00000146_(3).jpg                                       \b\b\b\b 55%\b\b\b\b\b  OK \n",
            "Extracting  scene/00000146_(4).jpg                                       \b\b\b\b 55%\b\b\b\b\b  OK \n",
            "Extracting  scene/00000146_(5).jpg                                       \b\b\b\b 56%\b\b\b\b\b  OK \n",
            "Extracting  scene/00000146_(6).jpg                                       \b\b\b\b 56%\b\b\b\b\b  OK \n",
            "Extracting  scene/00000147.jpg                                           \b\b\b\b 56%\b\b\b\b\b  OK \n",
            "Extracting  scene/00000147_(2).jpg                                       \b\b\b\b 57%\b\b\b\b\b  OK \n",
            "Extracting  scene/00000147_(3).jpg                                       \b\b\b\b 57%\b\b\b\b\b  OK \n",
            "Extracting  scene/00000147_(4).jpg                                       \b\b\b\b 57%\b\b\b\b\b  OK \n",
            "Extracting  scene/00000147_(5).jpg                                       \b\b\b\b 57%\b\b\b\b\b  OK \n",
            "Extracting  scene/00000147_(6).jpg                                       \b\b\b\b 58%\b\b\b\b\b  OK \n",
            "Extracting  scene/00000148.jpg                                           \b\b\b\b 58%\b\b\b\b\b  OK \n",
            "Extracting  scene/00000148_(2).jpg                                       \b\b\b\b 58%\b\b\b\b\b  OK \n",
            "Extracting  scene/00000148_(3).jpg                                       \b\b\b\b 59%\b\b\b\b\b  OK \n",
            "Extracting  scene/00000148_(4).jpg                                       \b\b\b\b 59%\b\b\b\b\b  OK \n",
            "Extracting  scene/00000148_(5).jpg                                       \b\b\b\b 59%\b\b\b\b\b  OK \n",
            "Extracting  scene/00000148_(6).jpg                                       \b\b\b\b 59%\b\b\b\b\b  OK \n",
            "Extracting  scene/00000149.jpg                                           \b\b\b\b 60%\b\b\b\b\b  OK \n",
            "Extracting  scene/00000149_(2).jpg                                       \b\b\b\b 60%\b\b\b\b\b  OK \n",
            "Extracting  scene/00000149_(3).jpg                                       \b\b\b\b 60%\b\b\b\b\b  OK \n",
            "Extracting  scene/00000149_(4).jpg                                       \b\b\b\b 60%\b\b\b\b\b  OK \n",
            "Extracting  scene/00000149_(5).jpg                                       \b\b\b\b 60%\b\b\b\b\b  OK \n",
            "Extracting  scene/00000149_(6).jpg                                       \b\b\b\b 61%\b\b\b\b\b  OK \n",
            "Extracting  scene/00000150.jpg                                           \b\b\b\b 61%\b\b\b\b\b  OK \n",
            "Extracting  scene/00000150_(2).jpg                                       \b\b\b\b 61%\b\b\b\b\b  OK \n",
            "Extracting  scene/00000150_(3).jpg                                       \b\b\b\b 62%\b\b\b\b\b  OK \n",
            "Extracting  scene/00000150_(4).jpg                                       \b\b\b\b 62%\b\b\b\b\b  OK \n",
            "Extracting  scene/00000150_(5).jpg                                       \b\b\b\b 62%\b\b\b\b\b  OK \n",
            "Extracting  scene/00000150_(6).jpg                                       \b\b\b\b 62%\b\b\b\b\b  OK \n",
            "Extracting  scene/00000151.jpg                                           \b\b\b\b 62%\b\b\b\b\b  OK \n",
            "Extracting  scene/00000151_(2).jpg                                       \b\b\b\b 63%\b\b\b\b\b  OK \n",
            "Extracting  scene/00000151_(3).jpg                                       \b\b\b\b 63%\b\b\b\b\b  OK \n",
            "Extracting  scene/00000151_(4).jpg                                       \b\b\b\b 63%\b\b\b\b\b  OK \n",
            "Extracting  scene/00000151_(5).jpg                                       \b\b\b\b 63%\b\b\b\b 64%\b\b\b\b\b  OK \n",
            "Extracting  scene/00000151_(6).jpg                                       \b\b\b\b 64%\b\b\b\b\b  OK \n",
            "Extracting  scene/00000152.jpg                                           \b\b\b\b 65%\b\b\b\b\b  OK \n",
            "Extracting  scene/00000152_(2).jpg                                       \b\b\b\b 65%\b\b\b\b\b  OK \n",
            "Extracting  scene/00000152_(3).jpg                                       \b\b\b\b 65%\b\b\b\b\b  OK \n",
            "Extracting  scene/00000152_(4).jpg                                       \b\b\b\b 65%\b\b\b\b\b  OK \n",
            "Extracting  scene/00000152_(5).jpg                                       \b\b\b\b 66%\b\b\b\b\b  OK \n",
            "Extracting  scene/00000152_(6).jpg                                       \b\b\b\b 66%\b\b\b\b\b  OK \n",
            "Extracting  scene/00000153.jpg                                           \b\b\b\b 66%\b\b\b\b\b  OK \n",
            "Extracting  scene/00000153_(2).jpg                                       \b\b\b\b 66%\b\b\b\b\b  OK \n",
            "Extracting  scene/00000153_(3).jpg                                       \b\b\b\b 66%\b\b\b\b\b  OK \n",
            "Extracting  scene/00000153_(4).jpg                                       \b\b\b\b 67%\b\b\b\b\b  OK \n",
            "Extracting  scene/00000153_(5).jpg                                       \b\b\b\b 67%\b\b\b\b\b  OK \n",
            "Extracting  scene/00000153_(6).jpg                                       \b\b\b\b 67%\b\b\b\b\b  OK \n",
            "Extracting  scene/00000154.jpg                                           \b\b\b\b 67%\b\b\b\b\b  OK \n",
            "Extracting  scene/00000154_(2).jpg                                       \b\b\b\b 68%\b\b\b\b\b  OK \n",
            "Extracting  scene/00000154_(3).jpg                                       \b\b\b\b 68%\b\b\b\b\b  OK \n",
            "Extracting  scene/00000154_(4).jpg                                       \b\b\b\b 68%\b\b\b\b\b  OK \n",
            "Extracting  scene/00000154_(5).jpg                                       \b\b\b\b 69%\b\b\b\b\b  OK \n",
            "Extracting  scene/00000154_(6).jpg                                       \b\b\b\b 69%\b\b\b\b\b  OK \n",
            "Extracting  scene/00000155.jpg                                           \b\b\b\b 69%\b\b\b\b\b  OK \n",
            "Extracting  scene/00000155_(2).jpg                                       \b\b\b\b 69%\b\b\b\b\b  OK \n",
            "Extracting  scene/00000155_(3).jpg                                       \b\b\b\b 70%\b\b\b\b\b  OK \n",
            "Extracting  scene/00000155_(4).jpg                                       \b\b\b\b 70%\b\b\b\b\b  OK \n",
            "Extracting  scene/00000155_(5).jpg                                       \b\b\b\b 70%\b\b\b\b\b  OK \n",
            "Extracting  scene/00000155_(6).jpg                                       \b\b\b\b 70%\b\b\b\b\b  OK \n",
            "Extracting  scene/00000156.jpg                                           \b\b\b\b 70%\b\b\b\b\b  OK \n",
            "Extracting  scene/00000156_(2).jpg                                       \b\b\b\b 70%\b\b\b\b\b  OK \n",
            "Extracting  scene/00000156_(3).jpg                                       \b\b\b\b 70%\b\b\b\b\b  OK \n",
            "Extracting  scene/00000156_(4).jpg                                       \b\b\b\b 71%\b\b\b\b\b  OK \n",
            "Extracting  scene/00000156_(5).jpg                                       \b\b\b\b 71%\b\b\b\b\b  OK \n",
            "Extracting  scene/00000156_(6).jpg                                       \b\b\b\b 71%\b\b\b\b\b  OK \n",
            "Extracting  scene/00000157.jpg                                           \b\b\b\b 71%\b\b\b\b\b  OK \n",
            "Extracting  scene/00000157_(2).jpg                                       \b\b\b\b 71%\b\b\b\b\b  OK \n",
            "Extracting  scene/00000157_(3).jpg                                       \b\b\b\b 71%\b\b\b\b\b  OK \n",
            "Extracting  scene/00000157_(4).jpg                                       \b\b\b\b 71%\b\b\b\b\b  OK \n",
            "Extracting  scene/00000157_(5).jpg                                       \b\b\b\b 72%\b\b\b\b\b  OK \n",
            "Extracting  scene/00000157_(6).jpg                                       \b\b\b\b 72%\b\b\b\b\b  OK \n",
            "Extracting  scene/00000158.jpg                                           \b\b\b\b 72%\b\b\b\b\b  OK \n",
            "Extracting  scene/00000158_(2).jpg                                       \b\b\b\b 72%\b\b\b\b\b  OK \n",
            "Extracting  scene/00000304_(3).jpg                                       \b\b\b\b 73%\b\b\b\b\b  OK \n",
            "Extracting  scene/00000304_(4).jpg                                       \b\b\b\b 73%\b\b\b\b\b  OK \n",
            "Extracting  scene/00000304_(5).jpg                                       \b\b\b\b 73%\b\b\b\b\b  OK \n",
            "Extracting  scene/00000304_(6).jpg                                       \b\b\b\b 73%\b\b\b\b\b  OK \n",
            "Extracting  scene/00000305.jpg                                           \b\b\b\b 74%\b\b\b\b\b  OK \n",
            "Extracting  scene/00000305_(2).jpg                                       \b\b\b\b 74%\b\b\b\b\b  OK \n",
            "Extracting  scene/00000305_(3).jpg                                       \b\b\b\b 74%\b\b\b\b\b  OK \n",
            "Extracting  scene/00000305_(4).jpg                                       \b\b\b\b 75%\b\b\b\b\b  OK \n",
            "Extracting  scene/00000305_(5).jpg                                       \b\b\b\b 75%\b\b\b\b\b  OK \n",
            "Extracting  scene/00000305_(6).jpg                                       \b\b\b\b 75%\b\b\b\b\b  OK \n",
            "Extracting  scene/00000306.jpg                                           \b\b\b\b 75%\b\b\b\b\b  OK \n",
            "Extracting  scene/00000306_(2).jpg                                       \b\b\b\b 76%\b\b\b\b\b  OK \n",
            "Extracting  scene/00000306_(3).jpg                                       \b\b\b\b 76%\b\b\b\b\b  OK \n",
            "Extracting  scene/00000306_(4).jpg                                       \b\b\b\b 76%\b\b\b\b\b  OK \n",
            "Extracting  scene/00000306_(5).jpg                                       \b\b\b\b 76%\b\b\b\b\b  OK \n",
            "Extracting  scene/00000306_(6).jpg                                       \b\b\b\b 76%\b\b\b\b\b  OK \n",
            "Extracting  scene/00000307.jpg                                           \b\b\b\b 76%\b\b\b\b\b  OK \n",
            "Extracting  scene/00000307_(2).jpg                                       \b\b\b\b 77%\b\b\b\b\b  OK \n",
            "Extracting  scene/00000307_(3).jpg                                       \b\b\b\b 77%\b\b\b\b\b  OK \n",
            "Extracting  scene/00000307_(4).jpg                                       \b\b\b\b 77%\b\b\b\b\b  OK \n",
            "Extracting  scene/00000307_(5).jpg                                       \b\b\b\b 77%\b\b\b\b\b  OK \n",
            "Extracting  scene/00000307_(6).jpg                                       \b\b\b\b 77%\b\b\b\b\b  OK \n",
            "Extracting  scene/00000308.jpg                                           \b\b\b\b 78%\b\b\b\b\b  OK \n",
            "Extracting  scene/00000308_(2).jpg                                       \b\b\b\b 78%\b\b\b\b\b  OK \n",
            "Extracting  scene/00000310.jpg                                           \b\b\b\b 78%\b\b\b\b\b  OK \n",
            "Extracting  scene/00000310_(2).jpg                                       \b\b\b\b 79%\b\b\b\b\b  OK \n",
            "Extracting  scene/00000312.jpg                                           \b\b\b\b 79%\b\b\b\b\b  OK \n",
            "Extracting  scene/00000312_(2).jpg                                       \b\b\b\b 79%\b\b\b\b\b  OK \n",
            "Extracting  scene/00000314.jpg                                           \b\b\b\b 80%\b\b\b\b\b  OK \n",
            "Extracting  scene/00000314_(2).jpg                                       \b\b\b\b 80%\b\b\b\b\b  OK \n",
            "Extracting  scene/00000316.jpg                                           \b\b\b\b 81%\b\b\b\b\b  OK \n",
            "Extracting  scene/00000316_(2).jpg                                       \b\b\b\b 81%\b\b\b\b\b  OK \n",
            "Extracting  scene/00000318.jpg                                           \b\b\b\b 81%\b\b\b\b\b  OK \n",
            "Extracting  scene/00000318_(2).jpg                                       \b\b\b\b 81%\b\b\b\b\b  OK \n",
            "Extracting  scene/00000320.jpg                                           \b\b\b\b 82%\b\b\b\b\b  OK \n",
            "Extracting  scene/00000320_(2).jpg                                       \b\b\b\b 82%\b\b\b\b\b  OK \n",
            "Extracting  scene/00000322.jpg                                           \b\b\b\b 82%\b\b\b\b\b  OK \n",
            "Extracting  scene/00000322_(2).jpg                                       \b\b\b\b 82%\b\b\b\b\b  OK \n",
            "Extracting  scene/00000324.jpg                                           \b\b\b\b 83%\b\b\b\b\b  OK \n",
            "Extracting  scene/00000324_(2).jpg                                       \b\b\b\b 83%\b\b\b\b\b  OK \n",
            "Extracting  scene/00000326.jpg                                           \b\b\b\b 83%\b\b\b\b\b  OK \n",
            "Extracting  scene/00000326_(2).jpg                                       \b\b\b\b 83%\b\b\b\b\b  OK \n",
            "Extracting  scene/00000328.jpg                                           \b\b\b\b 84%\b\b\b\b\b  OK \n",
            "Extracting  scene/00000328_(2).jpg                                       \b\b\b\b 84%\b\b\b\b\b  OK \n",
            "Extracting  scene/00000330.jpg                                           \b\b\b\b 84%\b\b\b\b\b  OK \n",
            "Extracting  scene/00000330_(2).jpg                                       \b\b\b\b 85%\b\b\b\b\b  OK \n",
            "Extracting  scene/00000332.jpg                                           \b\b\b\b 85%\b\b\b\b\b  OK \n",
            "Extracting  scene/00000332_(2).jpg                                       \b\b\b\b 86%\b\b\b\b\b  OK \n",
            "Extracting  scene/00000334.jpg                                           \b\b\b\b 86%\b\b\b\b\b  OK \n",
            "Extracting  scene/00000334_(2).jpg                                       \b\b\b\b 86%\b\b\b\b\b  OK \n",
            "Extracting  scene/00000336.jpg                                           \b\b\b\b 86%\b\b\b\b\b  OK \n",
            "Extracting  scene/00000336_(2).jpg                                       \b\b\b\b 86%\b\b\b\b\b  OK \n",
            "Extracting  scene/00000338.jpg                                           \b\b\b\b 87%\b\b\b\b\b  OK \n",
            "Extracting  scene/00000338_(2).jpg                                       \b\b\b\b 87%\b\b\b\b\b  OK \n",
            "Extracting  scene/00000340.jpg                                           \b\b\b\b 88%\b\b\b\b\b  OK \n",
            "Extracting  scene/00000340_(2).jpg                                       \b\b\b\b 88%\b\b\b\b\b  OK \n",
            "Extracting  scene/00000342.jpg                                           \b\b\b\b 88%\b\b\b\b\b  OK \n",
            "Extracting  scene/00000342_(2).jpg                                       \b\b\b\b 88%\b\b\b\b\b  OK \n",
            "Extracting  scene/00000344.jpg                                           \b\b\b\b 88%\b\b\b\b\b  OK \n",
            "Extracting  scene/00000344_(2).jpg                                       \b\b\b\b 89%\b\b\b\b\b  OK \n",
            "Extracting  scene/00000346.jpg                                           \b\b\b\b 90%\b\b\b\b\b  OK \n",
            "Extracting  scene/00000346_(2).jpg                                       \b\b\b\b 90%\b\b\b\b\b  OK \n",
            "Extracting  scene/00000348.jpg                                           \b\b\b\b 90%\b\b\b\b\b  OK \n",
            "Extracting  scene/00000348_(2).jpg                                       \b\b\b\b 91%\b\b\b\b\b  OK \n",
            "Extracting  scene/00000350.jpg                                           \b\b\b\b 91%\b\b\b\b\b  OK \n",
            "Extracting  scene/00000350_(2).jpg                                       \b\b\b\b 91%\b\b\b\b\b  OK \n",
            "Extracting  scene/00000350_(3).jpg                                       \b\b\b\b 92%\b\b\b\b\b  OK \n",
            "Extracting  scene/00000350_(4).jpg                                       \b\b\b\b 92%\b\b\b\b\b  OK \n",
            "Extracting  scene/00000350_(5).jpg                                       \b\b\b\b 92%\b\b\b\b\b  OK \n",
            "Extracting  scene/00000350_(6).jpg                                       \b\b\b\b 92%\b\b\b\b\b  OK \n",
            "Extracting  scene/00000351.jpg                                           \b\b\b\b 92%\b\b\b\b\b  OK \n",
            "Extracting  scene/00000351_(2).jpg                                       \b\b\b\b 92%\b\b\b\b\b  OK \n",
            "Extracting  scene/00000351_(3).jpg                                       \b\b\b\b 93%\b\b\b\b\b  OK \n",
            "Extracting  scene/00000351_(4).jpg                                       \b\b\b\b 93%\b\b\b\b\b  OK \n",
            "Extracting  scene/00000351_(5).jpg                                       \b\b\b\b 93%\b\b\b\b\b  OK \n",
            "Extracting  scene/00000351_(6).jpg                                       \b\b\b\b 93%\b\b\b\b\b  OK \n",
            "Extracting  scene/00000352.jpg                                           \b\b\b\b 93%\b\b\b\b\b  OK \n",
            "Extracting  scene/00000352_(2).jpg                                       \b\b\b\b 94%\b\b\b\b\b  OK \n",
            "Extracting  scene/00000352_(3).jpg                                       \b\b\b\b 94%\b\b\b\b\b  OK \n",
            "Extracting  scene/00000352_(4).jpg                                       \b\b\b\b 94%\b\b\b\b\b  OK \n",
            "Extracting  scene/00000352_(5).jpg                                       \b\b\b\b 94%\b\b\b\b\b  OK \n",
            "Extracting  scene/00000352_(6).jpg                                       \b\b\b\b 94%\b\b\b\b\b  OK \n",
            "Extracting  scene/00000353.jpg                                           \b\b\b\b 94%\b\b\b\b\b  OK \n",
            "Extracting  scene/00000353_(2).jpg                                       \b\b\b\b 95%\b\b\b\b\b  OK \n",
            "Extracting  scene/00000353_(3).jpg                                       \b\b\b\b 95%\b\b\b\b\b  OK \n",
            "Extracting  scene/00000353_(4).jpg                                       \b\b\b\b 95%\b\b\b\b\b  OK \n",
            "Extracting  scene/00000353_(5).jpg                                       \b\b\b\b 95%\b\b\b\b\b  OK \n",
            "Extracting  scene/00000353_(6).jpg                                       \b\b\b\b 96%\b\b\b\b\b  OK \n",
            "Extracting  scene/00000354.jpg                                           \b\b\b\b 96%\b\b\b\b\b  OK \n",
            "Extracting  scene/00000354_(2).jpg                                       \b\b\b\b 97%\b\b\b\b\b  OK \n",
            "Extracting  scene/00000354_(3).jpg                                       \b\b\b\b 97%\b\b\b\b\b  OK \n",
            "Extracting  scene/00000354_(4).jpg                                       \b\b\b\b 97%\b\b\b\b\b  OK \n",
            "Extracting  scene/00000354_(5).jpg                                       \b\b\b\b 98%\b\b\b\b\b  OK \n",
            "Extracting  scene/00000354_(6).jpg                                       \b\b\b\b 98%\b\b\b\b\b  OK \n",
            "Extracting  scene/00000355.jpg                                           \b\b\b\b 98%\b\b\b\b\b  OK \n",
            "Extracting  scene/00000355_(2).jpg                                       \b\b\b\b 99%\b\b\b\b\b  OK \n",
            "Extracting  scene/00000355_(3).jpg                                       \b\b\b\b 99%\b\b\b\b\b  OK \n",
            "Extracting  scene/00000355_(4).jpg                                       \b\b\b\b 99%\b\b\b\b\b  OK \n",
            "Extracting  scene/00000355_(5).jpg                                       \b\b\b\b 99%\b\b\b\b\b  OK \n",
            "Extracting  scene/00000355_(6).jpg                                       \b\b\b\b 99%\b\b\b\b\b  OK \n",
            "Extracting  scene/00000356.jpg                                           \b\b\b\b 99%\b\b\b\b\b  OK \n",
            "Extracting  scene/00000356_(2).jpg                                       \b\b\b\b 99%\b\b\b\b\b  OK \n",
            "All OK\n"
          ],
          "name": "stdout"
        }
      ]
    },
    {
      "cell_type": "code",
      "metadata": {
        "colab": {
          "base_uri": "https://localhost:8080/"
        },
        "id": "GqMIOFUb7Xsv",
        "outputId": "81d1c868-21fe-437c-893a-131c5c870688"
      },
      "source": [
        "import os\n",
        "import glob\n",
        "import cv2\n",
        "import numpy as np\n",
        "import matplotlib.pyplot as plt\n",
        "import random\n",
        "import tensorflow as tf\n",
        "from tensorflow.keras.layers import Activation,Concatenate,Conv2D,UpSampling2D,Dense,Flatten,Input,add\n",
        "from tensorflow_addons.layers import InstanceNormalization\n",
        "from tensorflow.keras.optimizers import Adam\n",
        "from tensorflow.keras import Model\n",
        "\n",
        "glosses=[]\n",
        "dlosses=[]\n",
        "def batch(temp, n=1):\n",
        "    l = len(temp)\n",
        "    for ndx in range(0, l, n):\n",
        "        yield temp[ndx:min(ndx + n, l)]\n",
        "\n",
        "def data_loader(x1,x2):\n",
        "    random.shuffle(x1)\n",
        "    random.shuffle(x2)\n",
        "    \n",
        "    app=batch(x1,5)\n",
        "    bnn=batch(x2,5)\n",
        "    res=zip(app,bnn)\n",
        "    return list(res)\n",
        "\n",
        "def train():\n",
        "  valid=np.ones((5,8,8,1))\n",
        "  fake=np.zeros((5,8,8,1))\n",
        "\n",
        "  for i in range(100):\n",
        "    print(\"epoch \",i)\n",
        "    for [imgea,imgeb] in data_loader(apples,bananas):\n",
        "        tempa=[]\n",
        "        tempb=[]\n",
        "        if min(len(imgea),len(imgeb))<5:\n",
        "          break\n",
        "        for j in range(min(len(imgea),len(imgeb))):\n",
        "            sample1=cv2.imread(imgea[j])\n",
        "            sample2=cv2.imread(imgeb[j])\n",
        "            sample1=cv2.resize(sample1,dsize=(256,256),interpolation=cv2.INTER_CUBIC)\n",
        "            sample2=cv2.resize(sample1,dsize=(256,256),interpolation=cv2.INTER_CUBIC)\n",
        "            #sample1=cv2.cvtColor(sample1,cv2.COLOR_BGR2RGB)\n",
        "            #sample2=cv2.cvtColor(sample2,cv2.COLOR_BGR2RGB)\n",
        "            tempa.append(sample1)\n",
        "            tempb.append(sample2)\n",
        "        imga=np.array(tempa)/255.0\n",
        "        imgb=np.array(tempb)/255.0\n",
        "       # for xx in imga:\n",
        "       #   print(\"hihhihhihihhihihhhhhhhhhhhhhhhhhhhhhhhh\")\n",
        "       #   plt.imshow(xx)\n",
        "       #   plt.show()\n",
        "       #   print(\"jjjjjjjjjjjjjjjjjjjjjjjjjjjjjjjjjjjjjjjjj\")\n",
        "       # print(\"real image here################\")\n",
        "       # plt.imshow(imga[0])\n",
        "       # plt.show\n",
        "       # print(\"end here ##########################\")\n",
        "\n",
        "        fakeb=generator_ab(imga)\n",
        "        fakea=generator_ba(imgb)\n",
        "\n",
        "        daloss1=discriminator_a.train_on_batch(imga,valid)\n",
        "        daloss2=discriminator_a.train_on_batch(fakea,fake)\n",
        "\n",
        "        dbloss1=discriminator_b.train_on_batch(imgb,valid)\n",
        "        dbloss2=discriminator_b.train_on_batch(fakeb,fake)\n",
        "        dloss=0.5*np.add((0.5*np.add(daloss1,daloss2)),(0.5*np.add(dbloss1,dbloss2)))\n",
        "        gloss=combined.train_on_batch([imga,imgb],[valid,valid,imga,imgb,imga,imgb]) \n",
        "        print('dloss - ',dloss[0],'  daccuracy - ',100*dloss[1])\n",
        "        print('gloss - ',gloss[0])\n",
        "        glosses.append(gloss)\n",
        "        dlosses.append(dloss)\n",
        "        '''\n",
        "        jj=random.randint(1,50)+1\n",
        "\n",
        "        testimg=cv2.imread('apples/Claude_Monet_{}.jpg'.format(jj))\n",
        "        testimg=cv2.resize(testimg,dsize=(256,256),interpolation=cv2.INTER_CUBIC)\n",
        "\n",
        "        \n",
        "        testimg=np.array(testimg)/255.0\n",
        "        testimg=np.reshape(testimg,(1,256,256,3))\n",
        "\n",
        "        testout=generator_ab.predict(testimg)\n",
        "        testout=np.reshape(testout,(256,256,3))\n",
        "        testout=cv2.cvtColor(testout,cv2.COLOR_BGR2RGB)\n",
        "\n",
        "        plt.imshow(testout)\n",
        "        plt.show()\n",
        "        '''\n",
        "    discriminator_a.save('discriminator_a')\n",
        "    discriminator_b.save('discriminator_b')\n",
        "    combined.save('combined')\n",
        "    generator_ab.save('generator_ab')\n",
        "    generator_ba.save('generator_ba')\n",
        "    \n",
        "\n",
        "\n",
        "if __name__ == '__main__':\n",
        "    #gpu_options = tf.GPUOptions(allow_growth=True)\n",
        "    #session = tf.InteractiveSession(config=tf.ConfigProto(gpu_options=gpu_options))\n",
        "\n",
        "    path=''\n",
        "    apples=glob.glob(path+'apples/*')\n",
        "    bananas=glob.glob(path+'guava/*')\n",
        "    dat=data_loader(apples,bananas)\n",
        "\n",
        "    #generator A -> B\n",
        "    a1=Input((256,256,3))\n",
        "    generator_ab_input=a1\n",
        "    a1=Conv2D(128,5,2,\"same\")(a1)\n",
        "    a1=Activation('relu')(a1)\n",
        "    a1=InstanceNormalization()(a1)\n",
        "\n",
        "    a1=Conv2D(128,5,2,\"same\")(a1)\n",
        "    a1=Activation('relu')(a1)\n",
        "    a1=InstanceNormalization()(a1)\n",
        "\n",
        "    a1=Conv2D(64,5,2,\"same\")(a1)\n",
        "    a1=Activation('relu')(a1)\n",
        "    a1=InstanceNormalization()(a1)\n",
        "\n",
        "    temp1=a1\n",
        "    a1=Conv2D(64,5,1,'same')(a1)\n",
        "    a1=InstanceNormalization()(a1)\n",
        "    a1=Activation('relu')(a1)\n",
        "    a1=add([a1,temp1])\n",
        "\n",
        "    temp2=a1\n",
        "    a1=Conv2D(64,5,1,'same')(a1)\n",
        "    a1=InstanceNormalization()(a1)\n",
        "    a1=Activation('relu')(a1)\n",
        "    a1=add([a1,temp2])\n",
        "\n",
        "    temp3=a1\n",
        "    a1=Conv2D(64,5,1,'same')(a1)\n",
        "    a1=InstanceNormalization()(a1)\n",
        "    a1=Activation('relu')(a1)\n",
        "    a1=add([a1,temp3])\n",
        "\n",
        "    temp4=a1\n",
        "    a1=Conv2D(64,5,1,'same')(a1)\n",
        "    a1=InstanceNormalization()(a1)\n",
        "    a1=Activation('relu')(a1)\n",
        "    a1=add([a1,temp4])\n",
        "\n",
        "\n",
        "    a1=UpSampling2D(2)(a1)\n",
        "    a1=Conv2D(64,5,1,\"same\")(a1)\n",
        "    a1=Activation('relu')(a1)\n",
        "\n",
        "    a1=UpSampling2D(2)(a1)\n",
        "    a1=Conv2D(32,5,1,\"same\")(a1)\n",
        "    a1=Activation('relu')(a1)\n",
        "\n",
        "    a1=UpSampling2D(2)(a1)\n",
        "    a1=Conv2D(3,5,1,\"same\")(a1)\n",
        "    a1=Activation('sigmoid')(a1)\n",
        "    generator_ab_output=a1\n",
        "\n",
        "    generator_ab=Model(generator_ab_input,generator_ab_output)\n",
        "\n",
        "    #generator_ab.summary()\n",
        "\n",
        "    #####\n",
        "\n",
        "    #generator B -> A\n",
        "    b1=Input((256,256,3))\n",
        "    generator_ba_input=b1\n",
        "    b1=Conv2D(128,5,2,\"same\")(b1)\n",
        "    b1=Activation('relu')(b1)\n",
        "    b1=InstanceNormalization()(b1)\n",
        "\n",
        "    b1=Conv2D(128,5,2,\"same\")(b1)\n",
        "    b1=Activation('relu')(b1)\n",
        "    b1=InstanceNormalization()(b1)\n",
        "\n",
        "    b1=Conv2D(64,5,2,\"same\")(b1)\n",
        "    b1=Activation('relu')(b1)\n",
        "    b1=InstanceNormalization()(b1)\n",
        "\n",
        "    temp5=b1\n",
        "    b1=Conv2D(64,5,1,'same')(b1)\n",
        "    b1=InstanceNormalization()(b1)\n",
        "    b1=Activation('relu')(b1)\n",
        "    b1=add([b1,temp5])\n",
        "\n",
        "    temp6=b1\n",
        "    b1=Conv2D(64,5,1,'same')(b1)\n",
        "    b1=InstanceNormalization()(b1)\n",
        "    b1=Activation('relu')(b1)\n",
        "    b1=add([b1,temp6])\n",
        "\n",
        "    temp7=b1\n",
        "    b1=Conv2D(64,5,1,'same')(b1)\n",
        "    b1=InstanceNormalization()(b1)\n",
        "    b1=Activation('relu')(b1)\n",
        "    b1=add([b1,temp7])\n",
        "\n",
        "    temp8=b1\n",
        "    b1=Conv2D(64,5,1,'same')(b1)\n",
        "    b1=InstanceNormalization()(b1)\n",
        "    b1=Activation('relu')(b1)\n",
        "    b1=add([b1,temp8])\n",
        "\n",
        "    b1=UpSampling2D(2)(b1)\n",
        "    b1=Conv2D(64,5,1,\"same\")(b1)\n",
        "    b1=Activation('relu')(b1)\n",
        "\n",
        "    b1=UpSampling2D(2)(b1)\n",
        "    b1=Conv2D(32,5,1,\"same\")(b1)\n",
        "    b1=Activation('relu')(b1)\n",
        "\n",
        "    b1=UpSampling2D(2)(b1)\n",
        "    b1=Conv2D(3,5,1,\"same\")(b1)\n",
        "    b1=Activation('sigmoid')(b1)\n",
        "    generator_ba_output=b1\n",
        "\n",
        "    generator_ba=Model(generator_ba_input,generator_ba_output)\n",
        "\n",
        "    #generator_ba.summary()\n",
        "\n",
        "    #####\n",
        "\n",
        "    d1=Input((256,256,3))\n",
        "    discriminator_a_input=d1\n",
        "    d1=Conv2D(32,5,2,'same')(d1)\n",
        "    d1=Activation('relu')(d1)\n",
        "\n",
        "    d1=Conv2D(128,5,2,'same')(d1)\n",
        "    d1=Activation('relu')(d1)\n",
        "    d1=InstanceNormalization()(d1)\n",
        "\n",
        "    d1=Conv2D(128,5,2,'same')(d1)\n",
        "    d1=Activation('relu')(d1)\n",
        "    d1=InstanceNormalization()(d1)\n",
        "\n",
        "    d1=Conv2D(64,5,2,'same')(d1)\n",
        "    d1=Activation('relu')(d1)\n",
        "    d1=InstanceNormalization()(d1)\n",
        "\n",
        "    d1=Conv2D(1,5,2,'same')(d1)\n",
        "    discriminator_a_output=d1\n",
        "    discriminator_a=Model(discriminator_a_input,discriminator_a_output)\n",
        "    #discriminator_ab.summary()\n",
        "\n",
        "    ######\n",
        "\n",
        "    d2=Input((256,256,3))\n",
        "    discriminator_b_input=d2\n",
        "    d2=Conv2D(32,5,2,'same')(d2)\n",
        "    d2=Activation('relu')(d2)\n",
        "\n",
        "    d2=Conv2D(128,5,2,'same')(d2)\n",
        "    d2=Activation('relu')(d2)\n",
        "    d2=InstanceNormalization()(d2)\n",
        "\n",
        "    d2=Conv2D(128,5,2,'same')(d2)\n",
        "    d2=Activation('relu')(d2)\n",
        "    d2=InstanceNormalization()(d2)\n",
        "\n",
        "    d2=Conv2D(64,5,2,'same')(d2)\n",
        "    d2=Activation('relu')(d2)\n",
        "    d2=InstanceNormalization()(d2)\n",
        "\n",
        "    d2=Conv2D(1,5,2,'same')(d2)\n",
        "    discriminator_b_output=d2\n",
        "    discriminator_b=Model(discriminator_b_input,discriminator_b_output)\n",
        "    #discriminator_b.summary()\n",
        "\n",
        "\n",
        "    ################\n",
        "\n",
        "    discriminator_a.compile(optimizer=Adam(0.00001,0.5),loss='mse',metrics=['accuracy'])\n",
        "    discriminator_b.compile(optimizer=Adam(0.00001,0.5),loss='mse',metrics=['accuracy'])\n",
        "\n",
        "    discriminator_a.trainable=False\n",
        "    discriminator_b.trainable=False\n",
        "    im_a=Input((256,256,3))\n",
        "    im_b=Input((256,256,3))\n",
        "    fake_a=generator_ba(im_b)\n",
        "    fake_b=generator_ab(im_a)\n",
        "    valid_a=discriminator_a(fake_a)\n",
        "    valid_b=discriminator_b(fake_b)\n",
        "\n",
        "    recons_a=generator_ba(fake_b)\n",
        "    recons_b=generator_ab(fake_a)\n",
        "\n",
        "    id_a=generator_ba(im_a)\n",
        "    id_b=generator_ab(im_b)\n",
        "\n",
        "    combined=Model(inputs=[im_a,im_b],outputs=[valid_a,valid_b,recons_a,recons_b,id_a,id_b])\n",
        "    combined.compile(loss=['mse','mse','mae','mae','mae','mae'],optimizer=Adam(0.0001))\n",
        "    discriminator_a.trainable=True\n",
        "    discriminator_b.trainable=True\n",
        "\n",
        "    #testimg=cv2.imread('apple/14_100.jpg')\n",
        "    #testimg=cv2.resize(testimg,dsize=(256,256),interpolation=cv2.INTER_CUBIC)\n",
        "\n",
        "    #testimg=[cv2.cvtColor(testimg,cv2.COLOR_BGR2RGB)]\n",
        "    #testimg=np.array(testimg,np.float32)\n",
        "    #generator_ab.summary()\n",
        "    #print(np.shape(testimg))\n",
        "\n",
        "    #testout=generator_ab.predict(testimg)\n",
        "    #testout=np.reshape(testout,(256,256,3))\n",
        "    #plt.imshow(testout)\n",
        "    #plt.show()\n",
        "\n",
        "    train()\n",
        "    #combined.save()\n"
      ],
      "execution_count": 19,
      "outputs": [
        {
          "output_type": "stream",
          "text": [
            "epoch  0\n",
            "dloss -  1.9992095530033112   daccuracy -  50.78124925494194\n",
            "gloss -  5.900650501251221\n",
            "dloss -  1.9655319154262543   daccuracy -  48.59374910593033\n",
            "gloss -  5.407034397125244\n",
            "dloss -  2.1212507784366608   daccuracy -  47.734374552965164\n",
            "gloss -  5.62659215927124\n",
            "dloss -  2.0374889373779297   daccuracy -  49.21875\n",
            "gloss -  5.862929344177246\n",
            "dloss -  1.976484477519989   daccuracy -  51.17187425494194\n",
            "gloss -  5.734736442565918\n",
            "dloss -  1.8657338917255402   daccuracy -  48.28124940395355\n",
            "gloss -  5.175461769104004\n",
            "dloss -  1.8008317053318024   daccuracy -  47.42187485098839\n",
            "gloss -  5.579946517944336\n",
            "dloss -  1.7952404022216797   daccuracy -  47.734376043081284\n",
            "gloss -  4.984136581420898\n",
            "dloss -  1.6618041098117828   daccuracy -  50.390625\n",
            "gloss -  4.898437976837158\n",
            "dloss -  1.6561699211597443   daccuracy -  50.15625059604645\n",
            "gloss -  4.8891143798828125\n",
            "dloss -  1.7063920497894287   daccuracy -  45.624999701976776\n",
            "gloss -  4.930239677429199\n",
            "dloss -  1.62701615691185   daccuracy -  47.343749552965164\n",
            "gloss -  4.556768894195557\n",
            "dloss -  1.7503726780414581   daccuracy -  48.124999552965164\n",
            "gloss -  4.706180095672607\n",
            "dloss -  1.7098285853862762   daccuracy -  45.85937410593033\n",
            "gloss -  4.21973180770874\n",
            "INFO:tensorflow:Assets written to: discriminator_a/assets\n",
            "INFO:tensorflow:Assets written to: discriminator_b/assets\n"
          ],
          "name": "stdout"
        },
        {
          "output_type": "stream",
          "text": [
            "/usr/local/lib/python3.7/dist-packages/tensorflow/python/keras/utils/generic_utils.py:497: CustomMaskWarning: Custom mask layers require a config and must override get_config. When loading, the custom mask layer must be passed to the custom_objects argument.\n",
            "  category=CustomMaskWarning)\n"
          ],
          "name": "stderr"
        },
        {
          "output_type": "stream",
          "text": [
            "INFO:tensorflow:Assets written to: combined/assets\n",
            "WARNING:tensorflow:Compiled the loaded model, but the compiled metrics have yet to be built. `model.compile_metrics` will be empty until you train or evaluate the model.\n",
            "INFO:tensorflow:Assets written to: generator_ab/assets\n"
          ],
          "name": "stdout"
        },
        {
          "output_type": "stream",
          "text": [
            "/usr/local/lib/python3.7/dist-packages/tensorflow/python/keras/utils/generic_utils.py:497: CustomMaskWarning: Custom mask layers require a config and must override get_config. When loading, the custom mask layer must be passed to the custom_objects argument.\n",
            "  category=CustomMaskWarning)\n"
          ],
          "name": "stderr"
        },
        {
          "output_type": "stream",
          "text": [
            "WARNING:tensorflow:Compiled the loaded model, but the compiled metrics have yet to be built. `model.compile_metrics` will be empty until you train or evaluate the model.\n",
            "INFO:tensorflow:Assets written to: generator_ba/assets\n"
          ],
          "name": "stdout"
        },
        {
          "output_type": "stream",
          "text": [
            "/usr/local/lib/python3.7/dist-packages/tensorflow/python/keras/utils/generic_utils.py:497: CustomMaskWarning: Custom mask layers require a config and must override get_config. When loading, the custom mask layer must be passed to the custom_objects argument.\n",
            "  category=CustomMaskWarning)\n"
          ],
          "name": "stderr"
        },
        {
          "output_type": "stream",
          "text": [
            "epoch  1\n",
            "dloss -  1.4706555604934692   daccuracy -  45.703125\n",
            "gloss -  3.449817657470703\n",
            "dloss -  1.3633610159158707   daccuracy -  45.390624552965164\n",
            "gloss -  3.2472362518310547\n",
            "dloss -  1.4902566373348236   daccuracy -  45.3125\n",
            "gloss -  3.3699142932891846\n",
            "dloss -  1.4692906886339188   daccuracy -  47.65624925494194\n",
            "gloss -  3.6779873371124268\n",
            "dloss -  1.2310741990804672   daccuracy -  47.81250059604645\n",
            "gloss -  3.234595775604248\n",
            "dloss -  1.2445377558469772   daccuracy -  48.515625298023224\n",
            "gloss -  3.806727647781372\n",
            "dloss -  1.2537381500005722   daccuracy -  47.968749701976776\n",
            "gloss -  3.5122756958007812\n",
            "dloss -  1.3322197645902634   daccuracy -  47.65625074505806\n",
            "gloss -  3.6492130756378174\n",
            "dloss -  1.339651107788086   daccuracy -  49.531249701976776\n",
            "gloss -  3.6167330741882324\n",
            "dloss -  1.3713147640228271   daccuracy -  45.624998956918716\n",
            "gloss -  3.388611316680908\n",
            "dloss -  1.30945385992527   daccuracy -  49.37499985098839\n",
            "gloss -  3.3604323863983154\n",
            "dloss -  1.2660870403051376   daccuracy -  47.65625074505806\n",
            "gloss -  3.3724727630615234\n",
            "dloss -  1.3419687747955322   daccuracy -  47.26562574505806\n",
            "gloss -  3.3337161540985107\n",
            "dloss -  1.4801417887210846   daccuracy -  45.781250298023224\n",
            "gloss -  3.3296265602111816\n",
            "INFO:tensorflow:Assets written to: discriminator_a/assets\n",
            "INFO:tensorflow:Assets written to: discriminator_b/assets\n"
          ],
          "name": "stdout"
        },
        {
          "output_type": "stream",
          "text": [
            "/usr/local/lib/python3.7/dist-packages/tensorflow/python/keras/utils/generic_utils.py:497: CustomMaskWarning: Custom mask layers require a config and must override get_config. When loading, the custom mask layer must be passed to the custom_objects argument.\n",
            "  category=CustomMaskWarning)\n"
          ],
          "name": "stderr"
        },
        {
          "output_type": "stream",
          "text": [
            "INFO:tensorflow:Assets written to: combined/assets\n",
            "WARNING:tensorflow:Compiled the loaded model, but the compiled metrics have yet to be built. `model.compile_metrics` will be empty until you train or evaluate the model.\n",
            "INFO:tensorflow:Assets written to: generator_ab/assets\n"
          ],
          "name": "stdout"
        },
        {
          "output_type": "stream",
          "text": [
            "/usr/local/lib/python3.7/dist-packages/tensorflow/python/keras/utils/generic_utils.py:497: CustomMaskWarning: Custom mask layers require a config and must override get_config. When loading, the custom mask layer must be passed to the custom_objects argument.\n",
            "  category=CustomMaskWarning)\n"
          ],
          "name": "stderr"
        },
        {
          "output_type": "stream",
          "text": [
            "WARNING:tensorflow:Compiled the loaded model, but the compiled metrics have yet to be built. `model.compile_metrics` will be empty until you train or evaluate the model.\n",
            "INFO:tensorflow:Assets written to: generator_ba/assets\n"
          ],
          "name": "stdout"
        },
        {
          "output_type": "stream",
          "text": [
            "/usr/local/lib/python3.7/dist-packages/tensorflow/python/keras/utils/generic_utils.py:497: CustomMaskWarning: Custom mask layers require a config and must override get_config. When loading, the custom mask layer must be passed to the custom_objects argument.\n",
            "  category=CustomMaskWarning)\n"
          ],
          "name": "stderr"
        },
        {
          "output_type": "stream",
          "text": [
            "epoch  2\n",
            "dloss -  1.1938490122556686   daccuracy -  46.562499552965164\n",
            "gloss -  2.8928894996643066\n",
            "dloss -  1.0822371989488602   daccuracy -  46.015624701976776\n",
            "gloss -  2.782658576965332\n",
            "dloss -  1.162709578871727   daccuracy -  47.265625\n",
            "gloss -  2.538086414337158\n",
            "dloss -  1.0549475401639938   daccuracy -  44.921875\n",
            "gloss -  2.5203189849853516\n",
            "dloss -  1.116521030664444   daccuracy -  46.32812514901161\n",
            "gloss -  2.4424848556518555\n",
            "dloss -  1.0497040003538132   daccuracy -  49.84375089406967\n",
            "gloss -  2.8002560138702393\n",
            "dloss -  1.1996154636144638   daccuracy -  44.453124701976776\n",
            "gloss -  2.4884426593780518\n",
            "dloss -  1.015234500169754   daccuracy -  47.49999940395355\n",
            "gloss -  2.5361328125\n",
            "dloss -  1.1042324006557465   daccuracy -  49.531250447034836\n",
            "gloss -  2.828047513961792\n",
            "dloss -  1.1921331286430359   daccuracy -  44.999999552965164\n",
            "gloss -  2.593330144882202\n",
            "dloss -  1.1593404114246368   daccuracy -  47.65625074505806\n",
            "gloss -  2.649664878845215\n",
            "dloss -  1.1168214529752731   daccuracy -  46.171874552965164\n",
            "gloss -  2.3873815536499023\n",
            "dloss -  1.1773513108491898   daccuracy -  45.31249925494194\n",
            "gloss -  2.507434368133545\n",
            "dloss -  1.065414234995842   daccuracy -  46.71874940395355\n",
            "gloss -  2.6414523124694824\n",
            "INFO:tensorflow:Assets written to: discriminator_a/assets\n",
            "INFO:tensorflow:Assets written to: discriminator_b/assets\n"
          ],
          "name": "stdout"
        },
        {
          "output_type": "stream",
          "text": [
            "/usr/local/lib/python3.7/dist-packages/tensorflow/python/keras/utils/generic_utils.py:497: CustomMaskWarning: Custom mask layers require a config and must override get_config. When loading, the custom mask layer must be passed to the custom_objects argument.\n",
            "  category=CustomMaskWarning)\n"
          ],
          "name": "stderr"
        },
        {
          "output_type": "stream",
          "text": [
            "INFO:tensorflow:Assets written to: combined/assets\n",
            "WARNING:tensorflow:Compiled the loaded model, but the compiled metrics have yet to be built. `model.compile_metrics` will be empty until you train or evaluate the model.\n",
            "INFO:tensorflow:Assets written to: generator_ab/assets\n"
          ],
          "name": "stdout"
        },
        {
          "output_type": "stream",
          "text": [
            "/usr/local/lib/python3.7/dist-packages/tensorflow/python/keras/utils/generic_utils.py:497: CustomMaskWarning: Custom mask layers require a config and must override get_config. When loading, the custom mask layer must be passed to the custom_objects argument.\n",
            "  category=CustomMaskWarning)\n"
          ],
          "name": "stderr"
        },
        {
          "output_type": "stream",
          "text": [
            "WARNING:tensorflow:Compiled the loaded model, but the compiled metrics have yet to be built. `model.compile_metrics` will be empty until you train or evaluate the model.\n",
            "INFO:tensorflow:Assets written to: generator_ba/assets\n"
          ],
          "name": "stdout"
        },
        {
          "output_type": "stream",
          "text": [
            "/usr/local/lib/python3.7/dist-packages/tensorflow/python/keras/utils/generic_utils.py:497: CustomMaskWarning: Custom mask layers require a config and must override get_config. When loading, the custom mask layer must be passed to the custom_objects argument.\n",
            "  category=CustomMaskWarning)\n"
          ],
          "name": "stderr"
        },
        {
          "output_type": "stream",
          "text": [
            "epoch  3\n",
            "dloss -  1.0344595313072205   daccuracy -  44.921875\n",
            "gloss -  2.0478267669677734\n",
            "dloss -  0.9869025498628616   daccuracy -  45.234374701976776\n",
            "gloss -  2.102086305618286\n",
            "dloss -  1.0250762552022934   daccuracy -  40.703124552965164\n",
            "gloss -  1.9724786281585693\n",
            "dloss -  0.9203201830387115   daccuracy -  48.359374701976776\n",
            "gloss -  2.2947685718536377\n",
            "dloss -  0.9527898877859116   daccuracy -  47.03124985098839\n",
            "gloss -  2.0950047969818115\n",
            "dloss -  0.9818734675645828   daccuracy -  46.24999985098839\n",
            "gloss -  2.103058338165283\n",
            "dloss -  0.8747249692678452   daccuracy -  49.687500298023224\n",
            "gloss -  2.364210844039917\n",
            "dloss -  0.9249055087566376   daccuracy -  43.98437514901161\n",
            "gloss -  2.126796245574951\n",
            "dloss -  1.0460548251867294   daccuracy -  42.73437410593033\n",
            "gloss -  2.2157819271087646\n",
            "dloss -  1.0686392039060593   daccuracy -  43.98437514901161\n",
            "gloss -  2.105412244796753\n",
            "dloss -  0.9594011455774307   daccuracy -  45.781250298023224\n",
            "gloss -  2.289684295654297\n",
            "dloss -  1.0089491456747055   daccuracy -  44.609375298023224\n",
            "gloss -  2.389760971069336\n",
            "dloss -  0.9778397083282471   daccuracy -  46.875\n",
            "gloss -  2.304176092147827\n",
            "dloss -  0.9686678051948547   daccuracy -  48.67187440395355\n",
            "gloss -  2.371696710586548\n",
            "INFO:tensorflow:Assets written to: discriminator_a/assets\n",
            "INFO:tensorflow:Assets written to: discriminator_b/assets\n"
          ],
          "name": "stdout"
        },
        {
          "output_type": "stream",
          "text": [
            "/usr/local/lib/python3.7/dist-packages/tensorflow/python/keras/utils/generic_utils.py:497: CustomMaskWarning: Custom mask layers require a config and must override get_config. When loading, the custom mask layer must be passed to the custom_objects argument.\n",
            "  category=CustomMaskWarning)\n"
          ],
          "name": "stderr"
        },
        {
          "output_type": "stream",
          "text": [
            "INFO:tensorflow:Assets written to: combined/assets\n",
            "WARNING:tensorflow:Compiled the loaded model, but the compiled metrics have yet to be built. `model.compile_metrics` will be empty until you train or evaluate the model.\n",
            "INFO:tensorflow:Assets written to: generator_ab/assets\n"
          ],
          "name": "stdout"
        },
        {
          "output_type": "stream",
          "text": [
            "/usr/local/lib/python3.7/dist-packages/tensorflow/python/keras/utils/generic_utils.py:497: CustomMaskWarning: Custom mask layers require a config and must override get_config. When loading, the custom mask layer must be passed to the custom_objects argument.\n",
            "  category=CustomMaskWarning)\n"
          ],
          "name": "stderr"
        },
        {
          "output_type": "stream",
          "text": [
            "WARNING:tensorflow:Compiled the loaded model, but the compiled metrics have yet to be built. `model.compile_metrics` will be empty until you train or evaluate the model.\n",
            "INFO:tensorflow:Assets written to: generator_ba/assets\n"
          ],
          "name": "stdout"
        },
        {
          "output_type": "stream",
          "text": [
            "/usr/local/lib/python3.7/dist-packages/tensorflow/python/keras/utils/generic_utils.py:497: CustomMaskWarning: Custom mask layers require a config and must override get_config. When loading, the custom mask layer must be passed to the custom_objects argument.\n",
            "  category=CustomMaskWarning)\n"
          ],
          "name": "stderr"
        },
        {
          "output_type": "stream",
          "text": [
            "epoch  4\n",
            "dloss -  0.9540173411369324   daccuracy -  43.671875447034836\n",
            "gloss -  1.7270433902740479\n",
            "dloss -  0.8311583697795868   daccuracy -  46.64062485098839\n",
            "gloss -  2.1650032997131348\n",
            "dloss -  0.9621988385915756   daccuracy -  39.531249552965164\n",
            "gloss -  1.6642639636993408\n",
            "dloss -  0.862634003162384   daccuracy -  45.07812485098839\n",
            "gloss -  1.922795295715332\n",
            "dloss -  0.819398507475853   daccuracy -  46.71875014901161\n",
            "gloss -  2.0670125484466553\n",
            "dloss -  0.9732083827257156   daccuracy -  41.484375298023224\n",
            "gloss -  1.7668216228485107\n",
            "dloss -  0.8518206477165222   daccuracy -  46.171873807907104\n",
            "gloss -  1.9529011249542236\n",
            "dloss -  0.8717732131481171   daccuracy -  48.59375059604645\n",
            "gloss -  2.109375\n",
            "dloss -  0.9071760922670364   daccuracy -  42.42187514901161\n",
            "gloss -  1.844478964805603\n",
            "dloss -  0.8896586894989014   daccuracy -  45.390625298023224\n",
            "gloss -  2.09346079826355\n",
            "dloss -  0.9092189520597458   daccuracy -  47.50000014901161\n",
            "gloss -  2.2532472610473633\n",
            "dloss -  0.9712838530540466   daccuracy -  43.281249701976776\n",
            "gloss -  1.9874820709228516\n",
            "dloss -  1.0012761354446411   daccuracy -  42.890624701976776\n",
            "gloss -  1.7861979007720947\n",
            "dloss -  0.8439146280288696   daccuracy -  48.750001192092896\n",
            "gloss -  2.052227735519409\n",
            "INFO:tensorflow:Assets written to: discriminator_a/assets\n",
            "INFO:tensorflow:Assets written to: discriminator_b/assets\n"
          ],
          "name": "stdout"
        },
        {
          "output_type": "stream",
          "text": [
            "/usr/local/lib/python3.7/dist-packages/tensorflow/python/keras/utils/generic_utils.py:497: CustomMaskWarning: Custom mask layers require a config and must override get_config. When loading, the custom mask layer must be passed to the custom_objects argument.\n",
            "  category=CustomMaskWarning)\n"
          ],
          "name": "stderr"
        },
        {
          "output_type": "stream",
          "text": [
            "INFO:tensorflow:Assets written to: combined/assets\n",
            "WARNING:tensorflow:Compiled the loaded model, but the compiled metrics have yet to be built. `model.compile_metrics` will be empty until you train or evaluate the model.\n",
            "INFO:tensorflow:Assets written to: generator_ab/assets\n"
          ],
          "name": "stdout"
        },
        {
          "output_type": "stream",
          "text": [
            "/usr/local/lib/python3.7/dist-packages/tensorflow/python/keras/utils/generic_utils.py:497: CustomMaskWarning: Custom mask layers require a config and must override get_config. When loading, the custom mask layer must be passed to the custom_objects argument.\n",
            "  category=CustomMaskWarning)\n"
          ],
          "name": "stderr"
        },
        {
          "output_type": "stream",
          "text": [
            "WARNING:tensorflow:Compiled the loaded model, but the compiled metrics have yet to be built. `model.compile_metrics` will be empty until you train or evaluate the model.\n",
            "INFO:tensorflow:Assets written to: generator_ba/assets\n"
          ],
          "name": "stdout"
        },
        {
          "output_type": "stream",
          "text": [
            "/usr/local/lib/python3.7/dist-packages/tensorflow/python/keras/utils/generic_utils.py:497: CustomMaskWarning: Custom mask layers require a config and must override get_config. When loading, the custom mask layer must be passed to the custom_objects argument.\n",
            "  category=CustomMaskWarning)\n"
          ],
          "name": "stderr"
        },
        {
          "output_type": "stream",
          "text": [
            "epoch  5\n",
            "dloss -  0.9133638888597488   daccuracy -  39.374999701976776\n",
            "gloss -  1.5998852252960205\n",
            "dloss -  0.8950313478708267   daccuracy -  40.85937440395355\n",
            "gloss -  1.6780147552490234\n",
            "dloss -  0.8443045914173126   daccuracy -  41.25000014901161\n",
            "gloss -  1.7013494968414307\n",
            "dloss -  0.8276616334915161   daccuracy -  42.109374701976776\n",
            "gloss -  1.7320101261138916\n",
            "dloss -  0.8986862152814865   daccuracy -  38.43749985098839\n",
            "gloss -  1.518765926361084\n",
            "dloss -  0.7586507350206375   daccuracy -  44.453125447034836\n",
            "gloss -  1.786722183227539\n",
            "dloss -  0.8305843323469162   daccuracy -  41.328124701976776\n",
            "gloss -  1.6967432498931885\n",
            "dloss -  0.8327851295471191   daccuracy -  44.29687559604645\n",
            "gloss -  1.7541240453720093\n",
            "dloss -  0.8925002217292786   daccuracy -  43.046876043081284\n",
            "gloss -  1.6855413913726807\n",
            "dloss -  0.8851327896118164   daccuracy -  42.42187514901161\n",
            "gloss -  1.8644126653671265\n",
            "dloss -  0.8409223705530167   daccuracy -  46.953124552965164\n",
            "gloss -  2.1647229194641113\n",
            "dloss -  0.8772221654653549   daccuracy -  47.42187410593033\n",
            "gloss -  1.8279247283935547\n",
            "dloss -  0.7947486639022827   daccuracy -  44.14062574505806\n",
            "gloss -  1.7660572528839111\n",
            "dloss -  0.8170434087514877   daccuracy -  45.46874985098839\n",
            "gloss -  1.8030064105987549\n",
            "INFO:tensorflow:Assets written to: discriminator_a/assets\n",
            "INFO:tensorflow:Assets written to: discriminator_b/assets\n"
          ],
          "name": "stdout"
        },
        {
          "output_type": "stream",
          "text": [
            "/usr/local/lib/python3.7/dist-packages/tensorflow/python/keras/utils/generic_utils.py:497: CustomMaskWarning: Custom mask layers require a config and must override get_config. When loading, the custom mask layer must be passed to the custom_objects argument.\n",
            "  category=CustomMaskWarning)\n"
          ],
          "name": "stderr"
        },
        {
          "output_type": "stream",
          "text": [
            "INFO:tensorflow:Assets written to: combined/assets\n",
            "WARNING:tensorflow:Compiled the loaded model, but the compiled metrics have yet to be built. `model.compile_metrics` will be empty until you train or evaluate the model.\n",
            "INFO:tensorflow:Assets written to: generator_ab/assets\n"
          ],
          "name": "stdout"
        },
        {
          "output_type": "stream",
          "text": [
            "/usr/local/lib/python3.7/dist-packages/tensorflow/python/keras/utils/generic_utils.py:497: CustomMaskWarning: Custom mask layers require a config and must override get_config. When loading, the custom mask layer must be passed to the custom_objects argument.\n",
            "  category=CustomMaskWarning)\n"
          ],
          "name": "stderr"
        },
        {
          "output_type": "stream",
          "text": [
            "WARNING:tensorflow:Compiled the loaded model, but the compiled metrics have yet to be built. `model.compile_metrics` will be empty until you train or evaluate the model.\n",
            "INFO:tensorflow:Assets written to: generator_ba/assets\n"
          ],
          "name": "stdout"
        },
        {
          "output_type": "stream",
          "text": [
            "/usr/local/lib/python3.7/dist-packages/tensorflow/python/keras/utils/generic_utils.py:497: CustomMaskWarning: Custom mask layers require a config and must override get_config. When loading, the custom mask layer must be passed to the custom_objects argument.\n",
            "  category=CustomMaskWarning)\n"
          ],
          "name": "stderr"
        },
        {
          "output_type": "stream",
          "text": [
            "epoch  6\n",
            "dloss -  0.7749251425266266   daccuracy -  41.40625\n",
            "gloss -  1.5717134475708008\n",
            "dloss -  0.8431140035390854   daccuracy -  40.07812514901161\n",
            "gloss -  1.4408763647079468\n",
            "dloss -  0.7862797528505325   daccuracy -  41.875001043081284\n",
            "gloss -  1.623626708984375\n",
            "dloss -  0.8464691340923309   daccuracy -  39.84375\n",
            "gloss -  1.4770375490188599\n",
            "dloss -  0.7967710494995117   daccuracy -  41.24999940395355\n",
            "gloss -  1.7234811782836914\n",
            "dloss -  0.8690974116325378   daccuracy -  38.90624940395355\n",
            "gloss -  1.5266120433807373\n",
            "dloss -  0.8172941952943802   daccuracy -  43.437499552965164\n",
            "gloss -  1.8186496496200562\n",
            "dloss -  0.8222709745168686   daccuracy -  42.890624701976776\n",
            "gloss -  1.7685178518295288\n",
            "dloss -  0.8578643947839737   daccuracy -  40.39062559604645\n",
            "gloss -  1.5480139255523682\n",
            "dloss -  0.8535027503967285   daccuracy -  41.64062514901161\n",
            "gloss -  1.5484139919281006\n",
            "dloss -  0.6915452927350998   daccuracy -  45.70312574505806\n",
            "gloss -  1.5897932052612305\n",
            "dloss -  0.7686765044927597   daccuracy -  44.29687485098839\n",
            "gloss -  1.8401206731796265\n",
            "dloss -  0.8159269243478775   daccuracy -  42.109374701976776\n",
            "gloss -  1.7177190780639648\n",
            "dloss -  0.870204746723175   daccuracy -  41.95312559604645\n",
            "gloss -  1.7645223140716553\n",
            "INFO:tensorflow:Assets written to: discriminator_a/assets\n",
            "INFO:tensorflow:Assets written to: discriminator_b/assets\n"
          ],
          "name": "stdout"
        },
        {
          "output_type": "stream",
          "text": [
            "/usr/local/lib/python3.7/dist-packages/tensorflow/python/keras/utils/generic_utils.py:497: CustomMaskWarning: Custom mask layers require a config and must override get_config. When loading, the custom mask layer must be passed to the custom_objects argument.\n",
            "  category=CustomMaskWarning)\n"
          ],
          "name": "stderr"
        },
        {
          "output_type": "stream",
          "text": [
            "INFO:tensorflow:Assets written to: combined/assets\n",
            "WARNING:tensorflow:Compiled the loaded model, but the compiled metrics have yet to be built. `model.compile_metrics` will be empty until you train or evaluate the model.\n",
            "INFO:tensorflow:Assets written to: generator_ab/assets\n"
          ],
          "name": "stdout"
        },
        {
          "output_type": "stream",
          "text": [
            "/usr/local/lib/python3.7/dist-packages/tensorflow/python/keras/utils/generic_utils.py:497: CustomMaskWarning: Custom mask layers require a config and must override get_config. When loading, the custom mask layer must be passed to the custom_objects argument.\n",
            "  category=CustomMaskWarning)\n"
          ],
          "name": "stderr"
        },
        {
          "output_type": "stream",
          "text": [
            "WARNING:tensorflow:Compiled the loaded model, but the compiled metrics have yet to be built. `model.compile_metrics` will be empty until you train or evaluate the model.\n",
            "INFO:tensorflow:Assets written to: generator_ba/assets\n"
          ],
          "name": "stdout"
        },
        {
          "output_type": "stream",
          "text": [
            "/usr/local/lib/python3.7/dist-packages/tensorflow/python/keras/utils/generic_utils.py:497: CustomMaskWarning: Custom mask layers require a config and must override get_config. When loading, the custom mask layer must be passed to the custom_objects argument.\n",
            "  category=CustomMaskWarning)\n"
          ],
          "name": "stderr"
        },
        {
          "output_type": "stream",
          "text": [
            "epoch  7\n",
            "dloss -  0.8395299017429352   daccuracy -  35.70312410593033\n",
            "gloss -  1.4564833641052246\n",
            "dloss -  0.7776781171560287   daccuracy -  38.750000298023224\n",
            "gloss -  1.3734192848205566\n",
            "dloss -  0.8436894118785858   daccuracy -  36.71875\n",
            "gloss -  1.3683207035064697\n",
            "dloss -  0.7505538910627365   daccuracy -  42.96874925494194\n",
            "gloss -  1.6358144283294678\n",
            "dloss -  0.7987089306116104   daccuracy -  39.453125\n",
            "gloss -  1.4322575330734253\n",
            "dloss -  0.7844191491603851   daccuracy -  39.29687514901161\n",
            "gloss -  1.5098953247070312\n",
            "dloss -  0.788272887468338   daccuracy -  41.796875\n",
            "gloss -  1.4886994361877441\n",
            "dloss -  0.7675885707139969   daccuracy -  41.484374552965164\n",
            "gloss -  1.4839222431182861\n",
            "dloss -  0.7888147830963135   daccuracy -  41.093750298023224\n",
            "gloss -  1.5467411279678345\n",
            "dloss -  0.8086411356925964   daccuracy -  40.78124985098839\n",
            "gloss -  1.6655908823013306\n",
            "dloss -  0.7789907604455948   daccuracy -  41.875000298023224\n",
            "gloss -  1.5339975357055664\n",
            "dloss -  0.7369360327720642   daccuracy -  44.453125447034836\n",
            "gloss -  1.718327283859253\n",
            "dloss -  0.7644727230072021   daccuracy -  43.437499552965164\n",
            "gloss -  1.7731907367706299\n",
            "dloss -  0.6580564826726913   daccuracy -  44.53124925494194\n",
            "gloss -  1.5788326263427734\n",
            "INFO:tensorflow:Assets written to: discriminator_a/assets\n",
            "INFO:tensorflow:Assets written to: discriminator_b/assets\n"
          ],
          "name": "stdout"
        },
        {
          "output_type": "stream",
          "text": [
            "/usr/local/lib/python3.7/dist-packages/tensorflow/python/keras/utils/generic_utils.py:497: CustomMaskWarning: Custom mask layers require a config and must override get_config. When loading, the custom mask layer must be passed to the custom_objects argument.\n",
            "  category=CustomMaskWarning)\n"
          ],
          "name": "stderr"
        },
        {
          "output_type": "stream",
          "text": [
            "INFO:tensorflow:Assets written to: combined/assets\n",
            "WARNING:tensorflow:Compiled the loaded model, but the compiled metrics have yet to be built. `model.compile_metrics` will be empty until you train or evaluate the model.\n",
            "INFO:tensorflow:Assets written to: generator_ab/assets\n"
          ],
          "name": "stdout"
        },
        {
          "output_type": "stream",
          "text": [
            "/usr/local/lib/python3.7/dist-packages/tensorflow/python/keras/utils/generic_utils.py:497: CustomMaskWarning: Custom mask layers require a config and must override get_config. When loading, the custom mask layer must be passed to the custom_objects argument.\n",
            "  category=CustomMaskWarning)\n"
          ],
          "name": "stderr"
        },
        {
          "output_type": "stream",
          "text": [
            "WARNING:tensorflow:Compiled the loaded model, but the compiled metrics have yet to be built. `model.compile_metrics` will be empty until you train or evaluate the model.\n",
            "INFO:tensorflow:Assets written to: generator_ba/assets\n"
          ],
          "name": "stdout"
        },
        {
          "output_type": "stream",
          "text": [
            "/usr/local/lib/python3.7/dist-packages/tensorflow/python/keras/utils/generic_utils.py:497: CustomMaskWarning: Custom mask layers require a config and must override get_config. When loading, the custom mask layer must be passed to the custom_objects argument.\n",
            "  category=CustomMaskWarning)\n"
          ],
          "name": "stderr"
        },
        {
          "output_type": "stream",
          "text": [
            "epoch  8\n",
            "dloss -  0.7181818783283234   daccuracy -  40.156250447034836\n",
            "gloss -  1.3830220699310303\n",
            "dloss -  0.7463464289903641   daccuracy -  40.312500298023224\n",
            "gloss -  1.415803074836731\n",
            "dloss -  0.7464291304349899   daccuracy -  37.34375014901161\n",
            "gloss -  1.4455773830413818\n",
            "dloss -  0.6921263933181763   daccuracy -  43.437500298023224\n",
            "gloss -  1.6137138605117798\n",
            "dloss -  0.6689610183238983   daccuracy -  44.999999552965164\n",
            "gloss -  1.6314847469329834\n",
            "dloss -  0.7388380318880081   daccuracy -  40.85937514901161\n",
            "gloss -  1.4640464782714844\n",
            "dloss -  0.758539006114006   daccuracy -  40.46875014901161\n",
            "gloss -  1.5373942852020264\n",
            "dloss -  0.8873763829469681   daccuracy -  33.20312425494194\n",
            "gloss -  1.392643928527832\n",
            "dloss -  0.8136528879404068   daccuracy -  40.312499552965164\n",
            "gloss -  1.5919013023376465\n",
            "dloss -  0.7897956520318985   daccuracy -  33.82812514901161\n",
            "gloss -  1.371714472770691\n",
            "dloss -  0.7831971645355225   daccuracy -  39.60937410593033\n",
            "gloss -  1.5793663263320923\n",
            "dloss -  0.7250294834375381   daccuracy -  43.828124552965164\n",
            "gloss -  1.723487138748169\n",
            "dloss -  0.8024147599935532   daccuracy -  39.60937485098839\n",
            "gloss -  1.6011970043182373\n",
            "dloss -  0.768665686249733   daccuracy -  42.109375447034836\n",
            "gloss -  1.5678552389144897\n",
            "INFO:tensorflow:Assets written to: discriminator_a/assets\n",
            "INFO:tensorflow:Assets written to: discriminator_b/assets\n"
          ],
          "name": "stdout"
        },
        {
          "output_type": "stream",
          "text": [
            "/usr/local/lib/python3.7/dist-packages/tensorflow/python/keras/utils/generic_utils.py:497: CustomMaskWarning: Custom mask layers require a config and must override get_config. When loading, the custom mask layer must be passed to the custom_objects argument.\n",
            "  category=CustomMaskWarning)\n"
          ],
          "name": "stderr"
        },
        {
          "output_type": "stream",
          "text": [
            "INFO:tensorflow:Assets written to: combined/assets\n",
            "WARNING:tensorflow:Compiled the loaded model, but the compiled metrics have yet to be built. `model.compile_metrics` will be empty until you train or evaluate the model.\n",
            "INFO:tensorflow:Assets written to: generator_ab/assets\n"
          ],
          "name": "stdout"
        },
        {
          "output_type": "stream",
          "text": [
            "/usr/local/lib/python3.7/dist-packages/tensorflow/python/keras/utils/generic_utils.py:497: CustomMaskWarning: Custom mask layers require a config and must override get_config. When loading, the custom mask layer must be passed to the custom_objects argument.\n",
            "  category=CustomMaskWarning)\n"
          ],
          "name": "stderr"
        },
        {
          "output_type": "stream",
          "text": [
            "WARNING:tensorflow:Compiled the loaded model, but the compiled metrics have yet to be built. `model.compile_metrics` will be empty until you train or evaluate the model.\n",
            "INFO:tensorflow:Assets written to: generator_ba/assets\n"
          ],
          "name": "stdout"
        },
        {
          "output_type": "stream",
          "text": [
            "/usr/local/lib/python3.7/dist-packages/tensorflow/python/keras/utils/generic_utils.py:497: CustomMaskWarning: Custom mask layers require a config and must override get_config. When loading, the custom mask layer must be passed to the custom_objects argument.\n",
            "  category=CustomMaskWarning)\n"
          ],
          "name": "stderr"
        },
        {
          "output_type": "stream",
          "text": [
            "epoch  9\n",
            "dloss -  0.740419790148735   daccuracy -  34.14062522351742\n",
            "gloss -  1.318508505821228\n",
            "dloss -  0.7283643931150436   daccuracy -  40.546874701976776\n",
            "gloss -  1.3697621822357178\n",
            "dloss -  0.8074681162834167   daccuracy -  32.18749985098839\n",
            "gloss -  1.3176255226135254\n",
            "dloss -  0.7478893995285034   daccuracy -  37.34375014901161\n",
            "gloss -  1.3213543891906738\n",
            "dloss -  0.7338263988494873   daccuracy -  40.703125298023224\n",
            "gloss -  1.4596500396728516\n",
            "dloss -  0.660001665353775   daccuracy -  40.85937589406967\n",
            "gloss -  1.472337245941162\n",
            "dloss -  0.8233772814273834   daccuracy -  36.95312514901161\n",
            "gloss -  1.4582747220993042\n",
            "dloss -  0.8353344053030014   daccuracy -  34.37499925494194\n",
            "gloss -  1.4454009532928467\n",
            "dloss -  0.7183939963579178   daccuracy -  39.765624701976776\n",
            "gloss -  1.5020763874053955\n",
            "dloss -  0.7372562140226364   daccuracy -  39.374999701976776\n",
            "gloss -  1.336651086807251\n",
            "dloss -  0.7306164503097534   daccuracy -  40.78124985098839\n",
            "gloss -  1.4768874645233154\n",
            "dloss -  0.7411891669034958   daccuracy -  38.67187574505806\n",
            "gloss -  1.3089017868041992\n",
            "dloss -  0.7482102364301682   daccuracy -  43.75000074505806\n",
            "gloss -  1.7037765979766846\n",
            "dloss -  0.7780881971120834   daccuracy -  34.843749552965164\n",
            "gloss -  1.4085886478424072\n",
            "INFO:tensorflow:Assets written to: discriminator_a/assets\n",
            "INFO:tensorflow:Assets written to: discriminator_b/assets\n"
          ],
          "name": "stdout"
        },
        {
          "output_type": "stream",
          "text": [
            "/usr/local/lib/python3.7/dist-packages/tensorflow/python/keras/utils/generic_utils.py:497: CustomMaskWarning: Custom mask layers require a config and must override get_config. When loading, the custom mask layer must be passed to the custom_objects argument.\n",
            "  category=CustomMaskWarning)\n"
          ],
          "name": "stderr"
        },
        {
          "output_type": "stream",
          "text": [
            "INFO:tensorflow:Assets written to: combined/assets\n",
            "WARNING:tensorflow:Compiled the loaded model, but the compiled metrics have yet to be built. `model.compile_metrics` will be empty until you train or evaluate the model.\n",
            "INFO:tensorflow:Assets written to: generator_ab/assets\n"
          ],
          "name": "stdout"
        },
        {
          "output_type": "stream",
          "text": [
            "/usr/local/lib/python3.7/dist-packages/tensorflow/python/keras/utils/generic_utils.py:497: CustomMaskWarning: Custom mask layers require a config and must override get_config. When loading, the custom mask layer must be passed to the custom_objects argument.\n",
            "  category=CustomMaskWarning)\n"
          ],
          "name": "stderr"
        },
        {
          "output_type": "stream",
          "text": [
            "WARNING:tensorflow:Compiled the loaded model, but the compiled metrics have yet to be built. `model.compile_metrics` will be empty until you train or evaluate the model.\n",
            "INFO:tensorflow:Assets written to: generator_ba/assets\n"
          ],
          "name": "stdout"
        },
        {
          "output_type": "stream",
          "text": [
            "/usr/local/lib/python3.7/dist-packages/tensorflow/python/keras/utils/generic_utils.py:497: CustomMaskWarning: Custom mask layers require a config and must override get_config. When loading, the custom mask layer must be passed to the custom_objects argument.\n",
            "  category=CustomMaskWarning)\n"
          ],
          "name": "stderr"
        },
        {
          "output_type": "stream",
          "text": [
            "epoch  10\n",
            "dloss -  0.7163570821285248   daccuracy -  37.578124552965164\n",
            "gloss -  1.2918798923492432\n",
            "dloss -  0.7715646028518677   daccuracy -  33.671875298023224\n",
            "gloss -  1.1764321327209473\n",
            "dloss -  0.7737457454204559   daccuracy -  36.249999701976776\n",
            "gloss -  1.3286608457565308\n",
            "dloss -  0.7859900444746017   daccuracy -  32.8125\n",
            "gloss -  1.2942923307418823\n",
            "dloss -  0.7434518188238144   daccuracy -  39.374999701976776\n",
            "gloss -  1.3857399225234985\n",
            "dloss -  0.7214419841766357   daccuracy -  35.468750447034836\n",
            "gloss -  1.4710736274719238\n",
            "dloss -  0.7083244472742081   daccuracy -  37.5\n",
            "gloss -  1.4034302234649658\n",
            "dloss -  0.7677487134933472   daccuracy -  36.09374985098839\n",
            "gloss -  1.441765546798706\n",
            "dloss -  0.7170377224683762   daccuracy -  38.51562514901161\n",
            "gloss -  1.5470905303955078\n",
            "dloss -  0.7851703613996506   daccuracy -  33.74999985098839\n",
            "gloss -  1.3235691785812378\n",
            "dloss -  0.7857191562652588   daccuracy -  35.234375298023224\n",
            "gloss -  1.4518181085586548\n",
            "dloss -  0.7016604244709015   daccuracy -  38.90625014901161\n",
            "gloss -  1.2668638229370117\n",
            "dloss -  0.7293317914009094   daccuracy -  38.43749985098839\n",
            "gloss -  1.411909580230713\n",
            "dloss -  0.8232470899820328   daccuracy -  37.109375\n",
            "gloss -  1.429609775543213\n",
            "INFO:tensorflow:Assets written to: discriminator_a/assets\n",
            "INFO:tensorflow:Assets written to: discriminator_b/assets\n"
          ],
          "name": "stdout"
        },
        {
          "output_type": "stream",
          "text": [
            "/usr/local/lib/python3.7/dist-packages/tensorflow/python/keras/utils/generic_utils.py:497: CustomMaskWarning: Custom mask layers require a config and must override get_config. When loading, the custom mask layer must be passed to the custom_objects argument.\n",
            "  category=CustomMaskWarning)\n"
          ],
          "name": "stderr"
        },
        {
          "output_type": "stream",
          "text": [
            "INFO:tensorflow:Assets written to: combined/assets\n",
            "WARNING:tensorflow:Compiled the loaded model, but the compiled metrics have yet to be built. `model.compile_metrics` will be empty until you train or evaluate the model.\n",
            "INFO:tensorflow:Assets written to: generator_ab/assets\n"
          ],
          "name": "stdout"
        },
        {
          "output_type": "stream",
          "text": [
            "/usr/local/lib/python3.7/dist-packages/tensorflow/python/keras/utils/generic_utils.py:497: CustomMaskWarning: Custom mask layers require a config and must override get_config. When loading, the custom mask layer must be passed to the custom_objects argument.\n",
            "  category=CustomMaskWarning)\n"
          ],
          "name": "stderr"
        },
        {
          "output_type": "stream",
          "text": [
            "WARNING:tensorflow:Compiled the loaded model, but the compiled metrics have yet to be built. `model.compile_metrics` will be empty until you train or evaluate the model.\n",
            "INFO:tensorflow:Assets written to: generator_ba/assets\n"
          ],
          "name": "stdout"
        },
        {
          "output_type": "stream",
          "text": [
            "/usr/local/lib/python3.7/dist-packages/tensorflow/python/keras/utils/generic_utils.py:497: CustomMaskWarning: Custom mask layers require a config and must override get_config. When loading, the custom mask layer must be passed to the custom_objects argument.\n",
            "  category=CustomMaskWarning)\n"
          ],
          "name": "stderr"
        },
        {
          "output_type": "stream",
          "text": [
            "epoch  11\n",
            "dloss -  0.8200531005859375   daccuracy -  31.093749776482582\n",
            "gloss -  1.2123124599456787\n",
            "dloss -  0.7621883898973465   daccuracy -  32.890625298023224\n",
            "gloss -  1.2511895895004272\n",
            "dloss -  0.747752919793129   daccuracy -  31.953125447034836\n",
            "gloss -  1.185233473777771\n",
            "dloss -  0.6977656036615372   daccuracy -  40.07812365889549\n",
            "gloss -  1.3183777332305908\n",
            "dloss -  0.7903155982494354   daccuracy -  33.59375\n",
            "gloss -  1.2941315174102783\n",
            "dloss -  0.7600966393947601   daccuracy -  32.109374552965164\n",
            "gloss -  1.2805604934692383\n",
            "dloss -  0.7425410151481628   daccuracy -  35.78125014901161\n",
            "gloss -  1.2240945100784302\n",
            "dloss -  0.7845806777477264   daccuracy -  34.843750298023224\n",
            "gloss -  1.2942304611206055\n",
            "dloss -  0.7284547984600067   daccuracy -  35.78125089406967\n",
            "gloss -  1.3115936517715454\n",
            "dloss -  0.7251799255609512   daccuracy -  38.203124701976776\n",
            "gloss -  1.5278278589248657\n",
            "dloss -  0.6522043496370316   daccuracy -  38.28125\n",
            "gloss -  1.4966251850128174\n",
            "dloss -  0.7062878906726837   daccuracy -  37.26562485098839\n",
            "gloss -  1.3576195240020752\n",
            "dloss -  0.7267086058855057   daccuracy -  35.31250059604645\n",
            "gloss -  1.3095285892486572\n",
            "dloss -  0.709377720952034   daccuracy -  37.031249701976776\n",
            "gloss -  1.3860365152359009\n",
            "INFO:tensorflow:Assets written to: discriminator_a/assets\n",
            "INFO:tensorflow:Assets written to: discriminator_b/assets\n"
          ],
          "name": "stdout"
        },
        {
          "output_type": "stream",
          "text": [
            "/usr/local/lib/python3.7/dist-packages/tensorflow/python/keras/utils/generic_utils.py:497: CustomMaskWarning: Custom mask layers require a config and must override get_config. When loading, the custom mask layer must be passed to the custom_objects argument.\n",
            "  category=CustomMaskWarning)\n"
          ],
          "name": "stderr"
        },
        {
          "output_type": "stream",
          "text": [
            "INFO:tensorflow:Assets written to: combined/assets\n",
            "WARNING:tensorflow:Compiled the loaded model, but the compiled metrics have yet to be built. `model.compile_metrics` will be empty until you train or evaluate the model.\n",
            "INFO:tensorflow:Assets written to: generator_ab/assets\n"
          ],
          "name": "stdout"
        },
        {
          "output_type": "stream",
          "text": [
            "/usr/local/lib/python3.7/dist-packages/tensorflow/python/keras/utils/generic_utils.py:497: CustomMaskWarning: Custom mask layers require a config and must override get_config. When loading, the custom mask layer must be passed to the custom_objects argument.\n",
            "  category=CustomMaskWarning)\n"
          ],
          "name": "stderr"
        },
        {
          "output_type": "stream",
          "text": [
            "WARNING:tensorflow:Compiled the loaded model, but the compiled metrics have yet to be built. `model.compile_metrics` will be empty until you train or evaluate the model.\n",
            "INFO:tensorflow:Assets written to: generator_ba/assets\n"
          ],
          "name": "stdout"
        },
        {
          "output_type": "stream",
          "text": [
            "/usr/local/lib/python3.7/dist-packages/tensorflow/python/keras/utils/generic_utils.py:497: CustomMaskWarning: Custom mask layers require a config and must override get_config. When loading, the custom mask layer must be passed to the custom_objects argument.\n",
            "  category=CustomMaskWarning)\n"
          ],
          "name": "stderr"
        },
        {
          "output_type": "stream",
          "text": [
            "epoch  12\n",
            "dloss -  0.740270346403122   daccuracy -  32.96874985098839\n",
            "gloss -  1.195813536643982\n",
            "dloss -  0.706684872508049   daccuracy -  31.874999776482582\n",
            "gloss -  1.1967612504959106\n",
            "dloss -  0.7755042016506195   daccuracy -  32.65625014901161\n",
            "gloss -  1.3844027519226074\n",
            "dloss -  0.7117459774017334   daccuracy -  36.015625298023224\n",
            "gloss -  1.2521344423294067\n",
            "dloss -  0.6844733357429504   daccuracy -  36.87500059604645\n",
            "gloss -  1.2563793659210205\n",
            "dloss -  0.8015103042125702   daccuracy -  29.531249776482582\n",
            "gloss -  1.1853629350662231\n",
            "dloss -  0.6851204335689545   daccuracy -  37.5\n",
            "gloss -  1.3626596927642822\n",
            "dloss -  0.7287857979536057   daccuracy -  37.10937574505806\n",
            "gloss -  1.455331802368164\n",
            "dloss -  0.7520242184400558   daccuracy -  33.74999985098839\n",
            "gloss -  1.472190499305725\n",
            "dloss -  0.7177726179361343   daccuracy -  35.15625\n",
            "gloss -  1.2574524879455566\n",
            "dloss -  0.699141189455986   daccuracy -  36.95312440395355\n",
            "gloss -  1.28903329372406\n",
            "dloss -  0.6691839843988419   daccuracy -  36.87500059604645\n",
            "gloss -  1.3142681121826172\n",
            "dloss -  0.7149776369333267   daccuracy -  36.796874552965164\n",
            "gloss -  1.3528391122817993\n",
            "dloss -  0.6509411931037903   daccuracy -  40.78124985098839\n",
            "gloss -  1.5214906930923462\n",
            "INFO:tensorflow:Assets written to: discriminator_a/assets\n",
            "INFO:tensorflow:Assets written to: discriminator_b/assets\n"
          ],
          "name": "stdout"
        },
        {
          "output_type": "stream",
          "text": [
            "/usr/local/lib/python3.7/dist-packages/tensorflow/python/keras/utils/generic_utils.py:497: CustomMaskWarning: Custom mask layers require a config and must override get_config. When loading, the custom mask layer must be passed to the custom_objects argument.\n",
            "  category=CustomMaskWarning)\n"
          ],
          "name": "stderr"
        },
        {
          "output_type": "stream",
          "text": [
            "INFO:tensorflow:Assets written to: combined/assets\n",
            "WARNING:tensorflow:Compiled the loaded model, but the compiled metrics have yet to be built. `model.compile_metrics` will be empty until you train or evaluate the model.\n"
          ],
          "name": "stdout"
        },
        {
          "output_type": "stream",
          "text": [
            "/usr/local/lib/python3.7/dist-packages/tensorflow/python/keras/utils/generic_utils.py:497: CustomMaskWarning: Custom mask layers require a config and must override get_config. When loading, the custom mask layer must be passed to the custom_objects argument.\n",
            "  category=CustomMaskWarning)\n"
          ],
          "name": "stderr"
        },
        {
          "output_type": "stream",
          "text": [
            "INFO:tensorflow:Assets written to: generator_ab/assets\n",
            "WARNING:tensorflow:Compiled the loaded model, but the compiled metrics have yet to be built. `model.compile_metrics` will be empty until you train or evaluate the model.\n",
            "INFO:tensorflow:Assets written to: generator_ba/assets\n"
          ],
          "name": "stdout"
        },
        {
          "output_type": "stream",
          "text": [
            "/usr/local/lib/python3.7/dist-packages/tensorflow/python/keras/utils/generic_utils.py:497: CustomMaskWarning: Custom mask layers require a config and must override get_config. When loading, the custom mask layer must be passed to the custom_objects argument.\n",
            "  category=CustomMaskWarning)\n"
          ],
          "name": "stderr"
        },
        {
          "output_type": "stream",
          "text": [
            "epoch  13\n",
            "dloss -  0.7809959799051285   daccuracy -  30.46875037252903\n",
            "gloss -  1.1857352256774902\n",
            "dloss -  0.6824665516614914   daccuracy -  33.43750014901161\n",
            "gloss -  1.3340001106262207\n",
            "dloss -  0.7327665388584137   daccuracy -  32.96874985098839\n",
            "gloss -  1.2472490072250366\n",
            "dloss -  0.6661111563444138   daccuracy -  36.09374985098839\n",
            "gloss -  1.2821398973464966\n",
            "dloss -  0.6971821635961533   daccuracy -  31.64062462747097\n",
            "gloss -  1.1992121934890747\n",
            "dloss -  0.7479815632104874   daccuracy -  33.74999985098839\n",
            "gloss -  1.259717345237732\n",
            "dloss -  0.697846457362175   daccuracy -  36.09374985098839\n",
            "gloss -  1.2848026752471924\n",
            "dloss -  0.7080643028020859   daccuracy -  34.99999977648258\n",
            "gloss -  1.2117983102798462\n",
            "dloss -  0.7431973069906235   daccuracy -  34.296874701976776\n",
            "gloss -  1.2831547260284424\n",
            "dloss -  0.6896463334560394   daccuracy -  35.31249985098839\n",
            "gloss -  1.3239209651947021\n",
            "dloss -  0.6528298854827881   daccuracy -  36.09374985098839\n",
            "gloss -  1.2559303045272827\n",
            "dloss -  0.6641976684331894   daccuracy -  37.968750298023224\n",
            "gloss -  1.3985621929168701\n",
            "dloss -  0.6864805072546005   daccuracy -  37.968750298023224\n",
            "gloss -  1.3805278539657593\n",
            "dloss -  0.6414382234215736   daccuracy -  39.140624552965164\n",
            "gloss -  1.4921061992645264\n",
            "INFO:tensorflow:Assets written to: discriminator_a/assets\n",
            "INFO:tensorflow:Assets written to: discriminator_b/assets\n"
          ],
          "name": "stdout"
        },
        {
          "output_type": "stream",
          "text": [
            "/usr/local/lib/python3.7/dist-packages/tensorflow/python/keras/utils/generic_utils.py:497: CustomMaskWarning: Custom mask layers require a config and must override get_config. When loading, the custom mask layer must be passed to the custom_objects argument.\n",
            "  category=CustomMaskWarning)\n"
          ],
          "name": "stderr"
        },
        {
          "output_type": "stream",
          "text": [
            "INFO:tensorflow:Assets written to: combined/assets\n",
            "WARNING:tensorflow:Compiled the loaded model, but the compiled metrics have yet to be built. `model.compile_metrics` will be empty until you train or evaluate the model.\n",
            "INFO:tensorflow:Assets written to: generator_ab/assets\n"
          ],
          "name": "stdout"
        },
        {
          "output_type": "stream",
          "text": [
            "/usr/local/lib/python3.7/dist-packages/tensorflow/python/keras/utils/generic_utils.py:497: CustomMaskWarning: Custom mask layers require a config and must override get_config. When loading, the custom mask layer must be passed to the custom_objects argument.\n",
            "  category=CustomMaskWarning)\n"
          ],
          "name": "stderr"
        },
        {
          "output_type": "stream",
          "text": [
            "WARNING:tensorflow:Compiled the loaded model, but the compiled metrics have yet to be built. `model.compile_metrics` will be empty until you train or evaluate the model.\n",
            "INFO:tensorflow:Assets written to: generator_ba/assets\n"
          ],
          "name": "stdout"
        },
        {
          "output_type": "stream",
          "text": [
            "/usr/local/lib/python3.7/dist-packages/tensorflow/python/keras/utils/generic_utils.py:497: CustomMaskWarning: Custom mask layers require a config and must override get_config. When loading, the custom mask layer must be passed to the custom_objects argument.\n",
            "  category=CustomMaskWarning)\n"
          ],
          "name": "stderr"
        },
        {
          "output_type": "stream",
          "text": [
            "epoch  14\n",
            "dloss -  0.6970384269952774   daccuracy -  33.04687477648258\n",
            "gloss -  1.1889185905456543\n",
            "dloss -  0.7135520875453949   daccuracy -  32.343750074505806\n",
            "gloss -  1.202958106994629\n",
            "dloss -  0.7139531373977661   daccuracy -  28.359374403953552\n",
            "gloss -  1.0837182998657227\n",
            "dloss -  0.6920255869626999   daccuracy -  34.37500074505806\n",
            "gloss -  1.3100464344024658\n",
            "dloss -  0.6709492802619934   daccuracy -  36.796875298023224\n",
            "gloss -  1.2280243635177612\n",
            "dloss -  0.737933024764061   daccuracy -  32.03125037252903\n",
            "gloss -  1.1854914426803589\n",
            "dloss -  0.6266176700592041   daccuracy -  37.890625\n",
            "gloss -  1.3068079948425293\n",
            "dloss -  0.6518691331148148   daccuracy -  36.32812425494194\n",
            "gloss -  1.2100863456726074\n",
            "dloss -  0.694472998380661   daccuracy -  37.26562485098839\n",
            "gloss -  1.2285351753234863\n",
            "dloss -  0.675994947552681   daccuracy -  34.53124985098839\n",
            "gloss -  1.493762731552124\n",
            "dloss -  0.7105181366205215   daccuracy -  34.37499925494194\n",
            "gloss -  1.3400139808654785\n",
            "dloss -  0.6992361694574356   daccuracy -  32.499999552965164\n",
            "gloss -  1.278609275817871\n",
            "dloss -  0.6170046478509903   daccuracy -  39.531249552965164\n",
            "gloss -  1.4655425548553467\n",
            "dloss -  0.6953483670949936   daccuracy -  35.234375298023224\n",
            "gloss -  1.405657172203064\n",
            "INFO:tensorflow:Assets written to: discriminator_a/assets\n",
            "INFO:tensorflow:Assets written to: discriminator_b/assets\n"
          ],
          "name": "stdout"
        },
        {
          "output_type": "stream",
          "text": [
            "/usr/local/lib/python3.7/dist-packages/tensorflow/python/keras/utils/generic_utils.py:497: CustomMaskWarning: Custom mask layers require a config and must override get_config. When loading, the custom mask layer must be passed to the custom_objects argument.\n",
            "  category=CustomMaskWarning)\n"
          ],
          "name": "stderr"
        },
        {
          "output_type": "stream",
          "text": [
            "INFO:tensorflow:Assets written to: combined/assets\n",
            "WARNING:tensorflow:Compiled the loaded model, but the compiled metrics have yet to be built. `model.compile_metrics` will be empty until you train or evaluate the model.\n",
            "INFO:tensorflow:Assets written to: generator_ab/assets\n"
          ],
          "name": "stdout"
        },
        {
          "output_type": "stream",
          "text": [
            "/usr/local/lib/python3.7/dist-packages/tensorflow/python/keras/utils/generic_utils.py:497: CustomMaskWarning: Custom mask layers require a config and must override get_config. When loading, the custom mask layer must be passed to the custom_objects argument.\n",
            "  category=CustomMaskWarning)\n"
          ],
          "name": "stderr"
        },
        {
          "output_type": "stream",
          "text": [
            "WARNING:tensorflow:Compiled the loaded model, but the compiled metrics have yet to be built. `model.compile_metrics` will be empty until you train or evaluate the model.\n",
            "INFO:tensorflow:Assets written to: generator_ba/assets\n"
          ],
          "name": "stdout"
        },
        {
          "output_type": "stream",
          "text": [
            "/usr/local/lib/python3.7/dist-packages/tensorflow/python/keras/utils/generic_utils.py:497: CustomMaskWarning: Custom mask layers require a config and must override get_config. When loading, the custom mask layer must be passed to the custom_objects argument.\n",
            "  category=CustomMaskWarning)\n"
          ],
          "name": "stderr"
        },
        {
          "output_type": "stream",
          "text": [
            "epoch  15\n",
            "dloss -  0.6787129938602448   daccuracy -  30.937499552965164\n",
            "gloss -  1.132310152053833\n",
            "dloss -  0.7676077634096146   daccuracy -  27.031249925494194\n",
            "gloss -  1.2484493255615234\n",
            "dloss -  0.7117833346128464   daccuracy -  32.26562477648258\n",
            "gloss -  1.2018994092941284\n",
            "dloss -  0.6418973207473755   daccuracy -  34.296875074505806\n",
            "gloss -  1.1892986297607422\n",
            "dloss -  0.6061220020055771   daccuracy -  34.296874329447746\n",
            "gloss -  1.2238911390304565\n",
            "dloss -  0.6949492543935776   daccuracy -  32.499999552965164\n",
            "gloss -  1.2530710697174072\n",
            "dloss -  0.6350592076778412   daccuracy -  35.93750074505806\n",
            "gloss -  1.2624248266220093\n",
            "dloss -  0.7151896208524704   daccuracy -  32.109374552965164\n",
            "gloss -  1.1800124645233154\n",
            "dloss -  0.6678475737571716   daccuracy -  34.53124985098839\n",
            "gloss -  1.1192551851272583\n",
            "dloss -  0.7231403142213821   daccuracy -  32.18750059604645\n",
            "gloss -  1.2559860944747925\n",
            "dloss -  0.6905314326286316   daccuracy -  34.375\n",
            "gloss -  1.3902971744537354\n",
            "dloss -  0.6210761368274689   daccuracy -  34.843749925494194\n",
            "gloss -  1.2551580667495728\n",
            "dloss -  0.6911851614713669   daccuracy -  32.81250074505806\n",
            "gloss -  1.228277325630188\n",
            "dloss -  0.6082598716020584   daccuracy -  37.5\n",
            "gloss -  1.280847430229187\n",
            "INFO:tensorflow:Assets written to: discriminator_a/assets\n",
            "INFO:tensorflow:Assets written to: discriminator_b/assets\n"
          ],
          "name": "stdout"
        },
        {
          "output_type": "stream",
          "text": [
            "/usr/local/lib/python3.7/dist-packages/tensorflow/python/keras/utils/generic_utils.py:497: CustomMaskWarning: Custom mask layers require a config and must override get_config. When loading, the custom mask layer must be passed to the custom_objects argument.\n",
            "  category=CustomMaskWarning)\n"
          ],
          "name": "stderr"
        },
        {
          "output_type": "stream",
          "text": [
            "INFO:tensorflow:Assets written to: combined/assets\n",
            "WARNING:tensorflow:Compiled the loaded model, but the compiled metrics have yet to be built. `model.compile_metrics` will be empty until you train or evaluate the model.\n",
            "INFO:tensorflow:Assets written to: generator_ab/assets\n"
          ],
          "name": "stdout"
        },
        {
          "output_type": "stream",
          "text": [
            "/usr/local/lib/python3.7/dist-packages/tensorflow/python/keras/utils/generic_utils.py:497: CustomMaskWarning: Custom mask layers require a config and must override get_config. When loading, the custom mask layer must be passed to the custom_objects argument.\n",
            "  category=CustomMaskWarning)\n"
          ],
          "name": "stderr"
        },
        {
          "output_type": "stream",
          "text": [
            "WARNING:tensorflow:Compiled the loaded model, but the compiled metrics have yet to be built. `model.compile_metrics` will be empty until you train or evaluate the model.\n",
            "INFO:tensorflow:Assets written to: generator_ba/assets\n"
          ],
          "name": "stdout"
        },
        {
          "output_type": "stream",
          "text": [
            "/usr/local/lib/python3.7/dist-packages/tensorflow/python/keras/utils/generic_utils.py:497: CustomMaskWarning: Custom mask layers require a config and must override get_config. When loading, the custom mask layer must be passed to the custom_objects argument.\n",
            "  category=CustomMaskWarning)\n"
          ],
          "name": "stderr"
        },
        {
          "output_type": "stream",
          "text": [
            "epoch  16\n",
            "dloss -  0.6212456226348877   daccuracy -  35.39062514901161\n",
            "gloss -  1.4333864450454712\n",
            "dloss -  0.7222754508256912   daccuracy -  26.5625\n",
            "gloss -  1.0742053985595703\n",
            "dloss -  0.7109405994415283   daccuracy -  30.312500149011612\n",
            "gloss -  1.1183795928955078\n",
            "dloss -  0.7180519104003906   daccuracy -  29.999999701976776\n",
            "gloss -  1.1789824962615967\n",
            "dloss -  0.6860166490077972   daccuracy -  32.499999552965164\n",
            "gloss -  1.2273279428482056\n",
            "dloss -  0.7304320484399796   daccuracy -  29.29687462747097\n",
            "gloss -  1.1036653518676758\n",
            "dloss -  0.7890610694885254   daccuracy -  26.171875\n",
            "gloss -  1.0665326118469238\n",
            "dloss -  0.5909053534269333   daccuracy -  38.67187425494194\n",
            "gloss -  1.289870023727417\n",
            "dloss -  0.6795994937419891   daccuracy -  33.281249925494194\n",
            "gloss -  1.1347315311431885\n",
            "dloss -  0.5953907072544098   daccuracy -  37.109375\n",
            "gloss -  1.253248929977417\n",
            "dloss -  0.6088329255580902   daccuracy -  34.453125298023224\n",
            "gloss -  1.3638617992401123\n",
            "dloss -  0.6284957826137543   daccuracy -  36.17187514901161\n",
            "gloss -  1.3124955892562866\n",
            "dloss -  0.6756930947303772   daccuracy -  32.03125\n",
            "gloss -  1.3053795099258423\n",
            "dloss -  0.5773142352700233   daccuracy -  38.04687485098839\n",
            "gloss -  1.3621655702590942\n",
            "INFO:tensorflow:Assets written to: discriminator_a/assets\n",
            "INFO:tensorflow:Assets written to: discriminator_b/assets\n"
          ],
          "name": "stdout"
        },
        {
          "output_type": "stream",
          "text": [
            "/usr/local/lib/python3.7/dist-packages/tensorflow/python/keras/utils/generic_utils.py:497: CustomMaskWarning: Custom mask layers require a config and must override get_config. When loading, the custom mask layer must be passed to the custom_objects argument.\n",
            "  category=CustomMaskWarning)\n"
          ],
          "name": "stderr"
        },
        {
          "output_type": "stream",
          "text": [
            "INFO:tensorflow:Assets written to: combined/assets\n",
            "WARNING:tensorflow:Compiled the loaded model, but the compiled metrics have yet to be built. `model.compile_metrics` will be empty until you train or evaluate the model.\n",
            "INFO:tensorflow:Assets written to: generator_ab/assets\n"
          ],
          "name": "stdout"
        },
        {
          "output_type": "stream",
          "text": [
            "/usr/local/lib/python3.7/dist-packages/tensorflow/python/keras/utils/generic_utils.py:497: CustomMaskWarning: Custom mask layers require a config and must override get_config. When loading, the custom mask layer must be passed to the custom_objects argument.\n",
            "  category=CustomMaskWarning)\n"
          ],
          "name": "stderr"
        },
        {
          "output_type": "stream",
          "text": [
            "WARNING:tensorflow:Compiled the loaded model, but the compiled metrics have yet to be built. `model.compile_metrics` will be empty until you train or evaluate the model.\n",
            "INFO:tensorflow:Assets written to: generator_ba/assets\n"
          ],
          "name": "stdout"
        },
        {
          "output_type": "stream",
          "text": [
            "/usr/local/lib/python3.7/dist-packages/tensorflow/python/keras/utils/generic_utils.py:497: CustomMaskWarning: Custom mask layers require a config and must override get_config. When loading, the custom mask layer must be passed to the custom_objects argument.\n",
            "  category=CustomMaskWarning)\n"
          ],
          "name": "stderr"
        },
        {
          "output_type": "stream",
          "text": [
            "epoch  17\n",
            "dloss -  0.6251711696386337   daccuracy -  31.25\n",
            "gloss -  1.1416329145431519\n",
            "dloss -  0.6742488145828247   daccuracy -  30.390625074505806\n",
            "gloss -  1.142513394355774\n",
            "dloss -  0.7452602535486221   daccuracy -  25.312500447034836\n",
            "gloss -  1.1579440832138062\n",
            "dloss -  0.7164074033498764   daccuracy -  28.593749552965164\n",
            "gloss -  1.1333421468734741\n",
            "dloss -  0.6543788909912109   daccuracy -  31.25000074505806\n",
            "gloss -  1.28006112575531\n",
            "dloss -  0.6846435070037842   daccuracy -  31.64062537252903\n",
            "gloss -  1.1910860538482666\n",
            "dloss -  0.7048313319683075   daccuracy -  31.562500447034836\n",
            "gloss -  1.1895650625228882\n",
            "dloss -  0.6280479580163956   daccuracy -  33.281249552965164\n",
            "gloss -  1.18594229221344\n",
            "dloss -  0.6076041087508202   daccuracy -  36.796874552965164\n",
            "gloss -  1.3287642002105713\n",
            "dloss -  0.6502256542444229   daccuracy -  31.015624478459358\n",
            "gloss -  1.172763466835022\n",
            "dloss -  0.6174271553754807   daccuracy -  36.640624701976776\n",
            "gloss -  1.2979568243026733\n",
            "dloss -  0.7827340960502625   daccuracy -  26.953125\n",
            "gloss -  1.342856526374817\n",
            "dloss -  0.6913323104381561   daccuracy -  31.953125447034836\n",
            "gloss -  1.1764123439788818\n",
            "dloss -  0.6188639849424362   daccuracy -  36.249999701976776\n",
            "gloss -  1.225083589553833\n",
            "INFO:tensorflow:Assets written to: discriminator_a/assets\n",
            "INFO:tensorflow:Assets written to: discriminator_b/assets\n"
          ],
          "name": "stdout"
        },
        {
          "output_type": "stream",
          "text": [
            "/usr/local/lib/python3.7/dist-packages/tensorflow/python/keras/utils/generic_utils.py:497: CustomMaskWarning: Custom mask layers require a config and must override get_config. When loading, the custom mask layer must be passed to the custom_objects argument.\n",
            "  category=CustomMaskWarning)\n"
          ],
          "name": "stderr"
        },
        {
          "output_type": "stream",
          "text": [
            "INFO:tensorflow:Assets written to: combined/assets\n",
            "WARNING:tensorflow:Compiled the loaded model, but the compiled metrics have yet to be built. `model.compile_metrics` will be empty until you train or evaluate the model.\n",
            "INFO:tensorflow:Assets written to: generator_ab/assets\n"
          ],
          "name": "stdout"
        },
        {
          "output_type": "stream",
          "text": [
            "/usr/local/lib/python3.7/dist-packages/tensorflow/python/keras/utils/generic_utils.py:497: CustomMaskWarning: Custom mask layers require a config and must override get_config. When loading, the custom mask layer must be passed to the custom_objects argument.\n",
            "  category=CustomMaskWarning)\n"
          ],
          "name": "stderr"
        },
        {
          "output_type": "stream",
          "text": [
            "WARNING:tensorflow:Compiled the loaded model, but the compiled metrics have yet to be built. `model.compile_metrics` will be empty until you train or evaluate the model.\n",
            "INFO:tensorflow:Assets written to: generator_ba/assets\n"
          ],
          "name": "stdout"
        },
        {
          "output_type": "stream",
          "text": [
            "/usr/local/lib/python3.7/dist-packages/tensorflow/python/keras/utils/generic_utils.py:497: CustomMaskWarning: Custom mask layers require a config and must override get_config. When loading, the custom mask layer must be passed to the custom_objects argument.\n",
            "  category=CustomMaskWarning)\n"
          ],
          "name": "stderr"
        },
        {
          "output_type": "stream",
          "text": [
            "epoch  18\n",
            "dloss -  0.5704267621040344   daccuracy -  35.078125074505806\n",
            "gloss -  1.1795097589492798\n",
            "dloss -  0.6452606767416   daccuracy -  29.609374701976776\n",
            "gloss -  1.1941895484924316\n",
            "dloss -  0.658515676856041   daccuracy -  30.46875\n",
            "gloss -  1.1557703018188477\n",
            "dloss -  0.74653559923172   daccuracy -  25.0\n",
            "gloss -  1.072476863861084\n",
            "dloss -  0.6828632354736328   daccuracy -  30.937500298023224\n",
            "gloss -  1.2394988536834717\n",
            "dloss -  0.6841103881597519   daccuracy -  28.51562462747097\n",
            "gloss -  1.2749496698379517\n",
            "dloss -  0.6127974539995193   daccuracy -  31.562500074505806\n",
            "gloss -  1.1481605768203735\n",
            "dloss -  0.7355255484580994   daccuracy -  27.656250074505806\n",
            "gloss -  1.1544005870819092\n",
            "dloss -  0.6314200758934021   daccuracy -  33.59374925494194\n",
            "gloss -  1.1787523031234741\n",
            "dloss -  0.726574718952179   daccuracy -  28.828124329447746\n",
            "gloss -  1.202535629272461\n",
            "dloss -  0.6482154130935669   daccuracy -  31.328124552965164\n",
            "gloss -  1.1690088510513306\n",
            "dloss -  0.7296356558799744   daccuracy -  27.812500670552254\n",
            "gloss -  1.1029939651489258\n",
            "dloss -  0.6200271993875504   daccuracy -  36.015625298023224\n",
            "gloss -  1.223151683807373\n",
            "dloss -  0.6004310101270676   daccuracy -  38.750001043081284\n",
            "gloss -  1.2186516523361206\n",
            "INFO:tensorflow:Assets written to: discriminator_a/assets\n",
            "INFO:tensorflow:Assets written to: discriminator_b/assets\n"
          ],
          "name": "stdout"
        },
        {
          "output_type": "stream",
          "text": [
            "/usr/local/lib/python3.7/dist-packages/tensorflow/python/keras/utils/generic_utils.py:497: CustomMaskWarning: Custom mask layers require a config and must override get_config. When loading, the custom mask layer must be passed to the custom_objects argument.\n",
            "  category=CustomMaskWarning)\n"
          ],
          "name": "stderr"
        },
        {
          "output_type": "stream",
          "text": [
            "INFO:tensorflow:Assets written to: combined/assets\n",
            "WARNING:tensorflow:Compiled the loaded model, but the compiled metrics have yet to be built. `model.compile_metrics` will be empty until you train or evaluate the model.\n",
            "INFO:tensorflow:Assets written to: generator_ab/assets\n"
          ],
          "name": "stdout"
        },
        {
          "output_type": "stream",
          "text": [
            "/usr/local/lib/python3.7/dist-packages/tensorflow/python/keras/utils/generic_utils.py:497: CustomMaskWarning: Custom mask layers require a config and must override get_config. When loading, the custom mask layer must be passed to the custom_objects argument.\n",
            "  category=CustomMaskWarning)\n"
          ],
          "name": "stderr"
        },
        {
          "output_type": "stream",
          "text": [
            "WARNING:tensorflow:Compiled the loaded model, but the compiled metrics have yet to be built. `model.compile_metrics` will be empty until you train or evaluate the model.\n",
            "INFO:tensorflow:Assets written to: generator_ba/assets\n"
          ],
          "name": "stdout"
        },
        {
          "output_type": "stream",
          "text": [
            "/usr/local/lib/python3.7/dist-packages/tensorflow/python/keras/utils/generic_utils.py:497: CustomMaskWarning: Custom mask layers require a config and must override get_config. When loading, the custom mask layer must be passed to the custom_objects argument.\n",
            "  category=CustomMaskWarning)\n"
          ],
          "name": "stderr"
        },
        {
          "output_type": "stream",
          "text": [
            "epoch  19\n",
            "dloss -  0.6392051577568054   daccuracy -  28.359375149011612\n",
            "gloss -  1.1306421756744385\n",
            "dloss -  0.6632247716188431   daccuracy -  25.546874478459358\n",
            "gloss -  1.1028454303741455\n",
            "dloss -  0.623790830373764   daccuracy -  30.234374850988388\n",
            "gloss -  1.0547071695327759\n",
            "dloss -  0.6135645061731339   daccuracy -  28.046874701976776\n",
            "gloss -  1.0587929487228394\n",
            "dloss -  0.6855470687150955   daccuracy -  27.812500298023224\n",
            "gloss -  1.3062469959259033\n",
            "dloss -  0.6671208143234253   daccuracy -  28.828125447034836\n",
            "gloss -  1.0903205871582031\n",
            "dloss -  0.6069579124450684   daccuracy -  31.24999962747097\n",
            "gloss -  1.2198156118392944\n",
            "dloss -  0.6118660494685173   daccuracy -  32.734374701976776\n",
            "gloss -  1.2006313800811768\n",
            "dloss -  0.8190785050392151   daccuracy -  22.812499850988388\n",
            "gloss -  1.1240967512130737\n",
            "dloss -  0.7270608097314835   daccuracy -  27.500000223517418\n",
            "gloss -  0.9664327502250671\n",
            "dloss -  0.6231996119022369   daccuracy -  31.796874478459358\n",
            "gloss -  1.2783844470977783\n",
            "dloss -  0.6203220933675766   daccuracy -  33.82812477648258\n",
            "gloss -  1.1979881525039673\n",
            "dloss -  0.6597584784030914   daccuracy -  30.781249701976776\n",
            "gloss -  1.2513349056243896\n",
            "dloss -  0.6728074923157692   daccuracy -  31.484374403953552\n",
            "gloss -  1.236552119255066\n",
            "INFO:tensorflow:Assets written to: discriminator_a/assets\n",
            "INFO:tensorflow:Assets written to: discriminator_b/assets\n"
          ],
          "name": "stdout"
        },
        {
          "output_type": "stream",
          "text": [
            "/usr/local/lib/python3.7/dist-packages/tensorflow/python/keras/utils/generic_utils.py:497: CustomMaskWarning: Custom mask layers require a config and must override get_config. When loading, the custom mask layer must be passed to the custom_objects argument.\n",
            "  category=CustomMaskWarning)\n"
          ],
          "name": "stderr"
        },
        {
          "output_type": "stream",
          "text": [
            "INFO:tensorflow:Assets written to: combined/assets\n",
            "WARNING:tensorflow:Compiled the loaded model, but the compiled metrics have yet to be built. `model.compile_metrics` will be empty until you train or evaluate the model.\n",
            "INFO:tensorflow:Assets written to: generator_ab/assets\n"
          ],
          "name": "stdout"
        },
        {
          "output_type": "stream",
          "text": [
            "/usr/local/lib/python3.7/dist-packages/tensorflow/python/keras/utils/generic_utils.py:497: CustomMaskWarning: Custom mask layers require a config and must override get_config. When loading, the custom mask layer must be passed to the custom_objects argument.\n",
            "  category=CustomMaskWarning)\n"
          ],
          "name": "stderr"
        },
        {
          "output_type": "stream",
          "text": [
            "WARNING:tensorflow:Compiled the loaded model, but the compiled metrics have yet to be built. `model.compile_metrics` will be empty until you train or evaluate the model.\n",
            "INFO:tensorflow:Assets written to: generator_ba/assets\n"
          ],
          "name": "stdout"
        },
        {
          "output_type": "stream",
          "text": [
            "/usr/local/lib/python3.7/dist-packages/tensorflow/python/keras/utils/generic_utils.py:497: CustomMaskWarning: Custom mask layers require a config and must override get_config. When loading, the custom mask layer must be passed to the custom_objects argument.\n",
            "  category=CustomMaskWarning)\n"
          ],
          "name": "stderr"
        },
        {
          "output_type": "stream",
          "text": [
            "epoch  20\n",
            "dloss -  0.6256302297115326   daccuracy -  28.046875074505806\n",
            "gloss -  1.1102087497711182\n",
            "dloss -  0.6890167146921158   daccuracy -  28.51562537252903\n",
            "gloss -  1.0987858772277832\n",
            "dloss -  0.6143689900636673   daccuracy -  30.390624701976776\n",
            "gloss -  1.1051936149597168\n",
            "dloss -  0.6312747299671173   daccuracy -  31.093749776482582\n",
            "gloss -  1.1854820251464844\n",
            "dloss -  0.6832875311374664   daccuracy -  26.875000074505806\n",
            "gloss -  1.2684677839279175\n",
            "dloss -  0.631636455655098   daccuracy -  28.593749552965164\n",
            "gloss -  1.0314393043518066\n",
            "dloss -  0.6427145898342133   daccuracy -  30.937499925494194\n",
            "gloss -  1.0895613431930542\n",
            "dloss -  0.6443874090909958   daccuracy -  29.453125223517418\n",
            "gloss -  1.13088858127594\n",
            "dloss -  0.6787622421979904   daccuracy -  27.500000223517418\n",
            "gloss -  1.2062641382217407\n",
            "dloss -  0.6328819394111633   daccuracy -  31.562499701976776\n",
            "gloss -  1.1750874519348145\n",
            "dloss -  0.6134732812643051   daccuracy -  31.015624850988388\n",
            "gloss -  1.1766690015792847\n",
            "dloss -  0.781615823507309   daccuracy -  25.078124552965164\n",
            "gloss -  1.0887072086334229\n",
            "dloss -  0.5937922447919846   daccuracy -  33.281249552965164\n",
            "gloss -  1.3147088289260864\n",
            "dloss -  0.673809677362442   daccuracy -  29.375000298023224\n",
            "gloss -  1.2186644077301025\n",
            "INFO:tensorflow:Assets written to: discriminator_a/assets\n",
            "INFO:tensorflow:Assets written to: discriminator_b/assets\n"
          ],
          "name": "stdout"
        },
        {
          "output_type": "stream",
          "text": [
            "/usr/local/lib/python3.7/dist-packages/tensorflow/python/keras/utils/generic_utils.py:497: CustomMaskWarning: Custom mask layers require a config and must override get_config. When loading, the custom mask layer must be passed to the custom_objects argument.\n",
            "  category=CustomMaskWarning)\n"
          ],
          "name": "stderr"
        },
        {
          "output_type": "stream",
          "text": [
            "INFO:tensorflow:Assets written to: combined/assets\n",
            "WARNING:tensorflow:Compiled the loaded model, but the compiled metrics have yet to be built. `model.compile_metrics` will be empty until you train or evaluate the model.\n",
            "INFO:tensorflow:Assets written to: generator_ab/assets\n"
          ],
          "name": "stdout"
        },
        {
          "output_type": "stream",
          "text": [
            "/usr/local/lib/python3.7/dist-packages/tensorflow/python/keras/utils/generic_utils.py:497: CustomMaskWarning: Custom mask layers require a config and must override get_config. When loading, the custom mask layer must be passed to the custom_objects argument.\n",
            "  category=CustomMaskWarning)\n"
          ],
          "name": "stderr"
        },
        {
          "output_type": "stream",
          "text": [
            "WARNING:tensorflow:Compiled the loaded model, but the compiled metrics have yet to be built. `model.compile_metrics` will be empty until you train or evaluate the model.\n",
            "INFO:tensorflow:Assets written to: generator_ba/assets\n"
          ],
          "name": "stdout"
        },
        {
          "output_type": "stream",
          "text": [
            "/usr/local/lib/python3.7/dist-packages/tensorflow/python/keras/utils/generic_utils.py:497: CustomMaskWarning: Custom mask layers require a config and must override get_config. When loading, the custom mask layer must be passed to the custom_objects argument.\n",
            "  category=CustomMaskWarning)\n"
          ],
          "name": "stderr"
        },
        {
          "output_type": "stream",
          "text": [
            "epoch  21\n",
            "dloss -  0.5903145670890808   daccuracy -  32.26562477648258\n",
            "gloss -  1.0607848167419434\n",
            "dloss -  0.6888308823108673   daccuracy -  25.78125\n",
            "gloss -  1.0817185640335083\n",
            "dloss -  0.6293522715568542   daccuracy -  28.359374776482582\n",
            "gloss -  1.0954774618148804\n",
            "dloss -  0.7205238491296768   daccuracy -  25.156250223517418\n",
            "gloss -  1.1247260570526123\n",
            "dloss -  0.612175464630127   daccuracy -  31.09375089406967\n",
            "gloss -  1.2143133878707886\n",
            "dloss -  0.6586136072874069   daccuracy -  29.140625149011612\n",
            "gloss -  1.2166423797607422\n",
            "dloss -  0.7064594030380249   daccuracy -  25.78125037252903\n",
            "gloss -  1.2354487180709839\n",
            "dloss -  0.6239123046398163   daccuracy -  28.359375149011612\n",
            "gloss -  1.2296634912490845\n",
            "dloss -  0.5501275956630707   daccuracy -  31.796874478459358\n",
            "gloss -  1.2359923124313354\n",
            "dloss -  0.6288205087184906   daccuracy -  29.921875521540642\n",
            "gloss -  1.1339085102081299\n",
            "dloss -  0.6273061484098434   daccuracy -  29.6875\n",
            "gloss -  1.081017255783081\n",
            "dloss -  0.6839446350932121   daccuracy -  28.359375149011612\n",
            "gloss -  1.1721925735473633\n",
            "dloss -  0.645397424697876   daccuracy -  29.531250149011612\n",
            "gloss -  1.1879656314849854\n",
            "dloss -  0.691349595785141   daccuracy -  27.73437462747097\n",
            "gloss -  1.1790448427200317\n",
            "INFO:tensorflow:Assets written to: discriminator_a/assets\n",
            "INFO:tensorflow:Assets written to: discriminator_b/assets\n"
          ],
          "name": "stdout"
        },
        {
          "output_type": "stream",
          "text": [
            "/usr/local/lib/python3.7/dist-packages/tensorflow/python/keras/utils/generic_utils.py:497: CustomMaskWarning: Custom mask layers require a config and must override get_config. When loading, the custom mask layer must be passed to the custom_objects argument.\n",
            "  category=CustomMaskWarning)\n"
          ],
          "name": "stderr"
        },
        {
          "output_type": "stream",
          "text": [
            "INFO:tensorflow:Assets written to: combined/assets\n",
            "WARNING:tensorflow:Compiled the loaded model, but the compiled metrics have yet to be built. `model.compile_metrics` will be empty until you train or evaluate the model.\n",
            "INFO:tensorflow:Assets written to: generator_ab/assets\n"
          ],
          "name": "stdout"
        },
        {
          "output_type": "stream",
          "text": [
            "/usr/local/lib/python3.7/dist-packages/tensorflow/python/keras/utils/generic_utils.py:497: CustomMaskWarning: Custom mask layers require a config and must override get_config. When loading, the custom mask layer must be passed to the custom_objects argument.\n",
            "  category=CustomMaskWarning)\n"
          ],
          "name": "stderr"
        },
        {
          "output_type": "stream",
          "text": [
            "WARNING:tensorflow:Compiled the loaded model, but the compiled metrics have yet to be built. `model.compile_metrics` will be empty until you train or evaluate the model.\n",
            "INFO:tensorflow:Assets written to: generator_ba/assets\n"
          ],
          "name": "stdout"
        },
        {
          "output_type": "stream",
          "text": [
            "/usr/local/lib/python3.7/dist-packages/tensorflow/python/keras/utils/generic_utils.py:497: CustomMaskWarning: Custom mask layers require a config and must override get_config. When loading, the custom mask layer must be passed to the custom_objects argument.\n",
            "  category=CustomMaskWarning)\n"
          ],
          "name": "stderr"
        },
        {
          "output_type": "stream",
          "text": [
            "epoch  22\n",
            "dloss -  0.5883398056030273   daccuracy -  31.093750149011612\n",
            "gloss -  1.0244860649108887\n",
            "dloss -  0.6330946981906891   daccuracy -  27.109375223517418\n",
            "gloss -  1.0900964736938477\n",
            "dloss -  0.6782712638378143   daccuracy -  23.906249552965164\n",
            "gloss -  1.062956690788269\n",
            "dloss -  0.6517088264226913   daccuracy -  27.265625074505806\n",
            "gloss -  1.1291985511779785\n",
            "dloss -  0.6898730248212814   daccuracy -  24.531249329447746\n",
            "gloss -  1.0477919578552246\n",
            "dloss -  0.644437164068222   daccuracy -  26.796874031424522\n",
            "gloss -  1.0844690799713135\n",
            "dloss -  0.6839126870036125   daccuracy -  27.73437537252903\n",
            "gloss -  1.2166783809661865\n",
            "dloss -  0.5787314251065254   daccuracy -  32.343749701976776\n",
            "gloss -  1.2731878757476807\n",
            "dloss -  0.5425507724285126   daccuracy -  34.76562574505806\n",
            "gloss -  1.2462183237075806\n",
            "dloss -  0.5901422798633575   daccuracy -  32.26562440395355\n",
            "gloss -  1.2785921096801758\n",
            "dloss -  0.6610196977853775   daccuracy -  27.578125521540642\n",
            "gloss -  1.063653588294983\n",
            "dloss -  0.6948898881673813   daccuracy -  26.95312462747097\n",
            "gloss -  1.1440973281860352\n",
            "dloss -  0.6459466964006424   daccuracy -  32.65624977648258\n",
            "gloss -  1.1645890474319458\n",
            "dloss -  0.6277817189693451   daccuracy -  30.390625074505806\n",
            "gloss -  1.2782669067382812\n",
            "INFO:tensorflow:Assets written to: discriminator_a/assets\n",
            "INFO:tensorflow:Assets written to: discriminator_b/assets\n"
          ],
          "name": "stdout"
        },
        {
          "output_type": "stream",
          "text": [
            "/usr/local/lib/python3.7/dist-packages/tensorflow/python/keras/utils/generic_utils.py:497: CustomMaskWarning: Custom mask layers require a config and must override get_config. When loading, the custom mask layer must be passed to the custom_objects argument.\n",
            "  category=CustomMaskWarning)\n"
          ],
          "name": "stderr"
        },
        {
          "output_type": "stream",
          "text": [
            "INFO:tensorflow:Assets written to: combined/assets\n",
            "WARNING:tensorflow:Compiled the loaded model, but the compiled metrics have yet to be built. `model.compile_metrics` will be empty until you train or evaluate the model.\n",
            "INFO:tensorflow:Assets written to: generator_ab/assets\n"
          ],
          "name": "stdout"
        },
        {
          "output_type": "stream",
          "text": [
            "/usr/local/lib/python3.7/dist-packages/tensorflow/python/keras/utils/generic_utils.py:497: CustomMaskWarning: Custom mask layers require a config and must override get_config. When loading, the custom mask layer must be passed to the custom_objects argument.\n",
            "  category=CustomMaskWarning)\n"
          ],
          "name": "stderr"
        },
        {
          "output_type": "stream",
          "text": [
            "WARNING:tensorflow:Compiled the loaded model, but the compiled metrics have yet to be built. `model.compile_metrics` will be empty until you train or evaluate the model.\n",
            "INFO:tensorflow:Assets written to: generator_ba/assets\n"
          ],
          "name": "stdout"
        },
        {
          "output_type": "stream",
          "text": [
            "/usr/local/lib/python3.7/dist-packages/tensorflow/python/keras/utils/generic_utils.py:497: CustomMaskWarning: Custom mask layers require a config and must override get_config. When loading, the custom mask layer must be passed to the custom_objects argument.\n",
            "  category=CustomMaskWarning)\n"
          ],
          "name": "stderr"
        },
        {
          "output_type": "stream",
          "text": [
            "epoch  23\n",
            "dloss -  0.654855340719223   daccuracy -  25.39062537252903\n",
            "gloss -  1.0036662817001343\n",
            "dloss -  0.620567724108696   daccuracy -  26.406250149011612\n",
            "gloss -  1.0327826738357544\n",
            "dloss -  0.6638994514942169   daccuracy -  25.937499850988388\n",
            "gloss -  1.0804831981658936\n",
            "dloss -  0.6503223776817322   daccuracy -  26.640624925494194\n",
            "gloss -  1.029956340789795\n",
            "dloss -  0.545774981379509   daccuracy -  35.31250059604645\n",
            "gloss -  1.1525590419769287\n",
            "dloss -  0.6510581374168396   daccuracy -  28.046874701976776\n",
            "gloss -  1.2384202480316162\n",
            "dloss -  0.6565977483987808   daccuracy -  26.718750037252903\n",
            "gloss -  1.0793434381484985\n",
            "dloss -  0.583696037530899   daccuracy -  30.859375\n",
            "gloss -  1.148321270942688\n",
            "dloss -  0.5761222764849663   daccuracy -  30.312500149011612\n",
            "gloss -  1.198882818222046\n",
            "dloss -  0.5897935479879379   daccuracy -  31.406249850988388\n",
            "gloss -  1.1755261421203613\n",
            "dloss -  0.6661025062203407   daccuracy -  27.812499925494194\n",
            "gloss -  1.1435809135437012\n",
            "dloss -  0.6325619965791702   daccuracy -  31.953124701976776\n",
            "gloss -  1.2093771696090698\n",
            "dloss -  0.6466694325208664   daccuracy -  30.312500149011612\n",
            "gloss -  1.2983380556106567\n",
            "dloss -  0.6429572701454163   daccuracy -  27.499999850988388\n",
            "gloss -  1.178673267364502\n",
            "INFO:tensorflow:Assets written to: discriminator_a/assets\n",
            "INFO:tensorflow:Assets written to: discriminator_b/assets\n"
          ],
          "name": "stdout"
        },
        {
          "output_type": "stream",
          "text": [
            "/usr/local/lib/python3.7/dist-packages/tensorflow/python/keras/utils/generic_utils.py:497: CustomMaskWarning: Custom mask layers require a config and must override get_config. When loading, the custom mask layer must be passed to the custom_objects argument.\n",
            "  category=CustomMaskWarning)\n"
          ],
          "name": "stderr"
        },
        {
          "output_type": "stream",
          "text": [
            "INFO:tensorflow:Assets written to: combined/assets\n",
            "WARNING:tensorflow:Compiled the loaded model, but the compiled metrics have yet to be built. `model.compile_metrics` will be empty until you train or evaluate the model.\n",
            "INFO:tensorflow:Assets written to: generator_ab/assets\n"
          ],
          "name": "stdout"
        },
        {
          "output_type": "stream",
          "text": [
            "/usr/local/lib/python3.7/dist-packages/tensorflow/python/keras/utils/generic_utils.py:497: CustomMaskWarning: Custom mask layers require a config and must override get_config. When loading, the custom mask layer must be passed to the custom_objects argument.\n",
            "  category=CustomMaskWarning)\n"
          ],
          "name": "stderr"
        },
        {
          "output_type": "stream",
          "text": [
            "WARNING:tensorflow:Compiled the loaded model, but the compiled metrics have yet to be built. `model.compile_metrics` will be empty until you train or evaluate the model.\n",
            "INFO:tensorflow:Assets written to: generator_ba/assets\n"
          ],
          "name": "stdout"
        },
        {
          "output_type": "stream",
          "text": [
            "/usr/local/lib/python3.7/dist-packages/tensorflow/python/keras/utils/generic_utils.py:497: CustomMaskWarning: Custom mask layers require a config and must override get_config. When loading, the custom mask layer must be passed to the custom_objects argument.\n",
            "  category=CustomMaskWarning)\n"
          ],
          "name": "stderr"
        },
        {
          "output_type": "stream",
          "text": [
            "epoch  24\n",
            "dloss -  0.6005867421627045   daccuracy -  27.421875298023224\n",
            "gloss -  1.056688666343689\n",
            "dloss -  0.5638031959533691   daccuracy -  29.765624925494194\n",
            "gloss -  1.075913429260254\n",
            "dloss -  0.64219169318676   daccuracy -  23.984374850988388\n",
            "gloss -  1.0314058065414429\n",
            "dloss -  0.6223788261413574   daccuracy -  27.421875298023224\n",
            "gloss -  1.0705381631851196\n",
            "dloss -  0.5762450397014618   daccuracy -  29.531249776482582\n",
            "gloss -  1.0383589267730713\n",
            "dloss -  0.6595479995012283   daccuracy -  26.093750074505806\n",
            "gloss -  1.1678098440170288\n",
            "dloss -  0.6341693848371506   daccuracy -  26.718749850988388\n",
            "gloss -  1.0984605550765991\n",
            "dloss -  0.6692169010639191   daccuracy -  26.56249962747097\n",
            "gloss -  1.0960209369659424\n",
            "dloss -  0.6159396916627884   daccuracy -  27.812500670552254\n",
            "gloss -  1.1286855936050415\n",
            "dloss -  0.6046700924634933   daccuracy -  27.890625596046448\n",
            "gloss -  1.0995045900344849\n",
            "dloss -  0.6711340993642807   daccuracy -  26.249999552965164\n",
            "gloss -  1.1390182971954346\n",
            "dloss -  0.5438895970582962   daccuracy -  31.484374776482582\n",
            "gloss -  1.1972111463546753\n",
            "dloss -  0.6553321033716202   daccuracy -  24.531250074505806\n",
            "gloss -  1.1011340618133545\n",
            "dloss -  0.6044810637831688   daccuracy -  29.921875149011612\n",
            "gloss -  1.0910283327102661\n",
            "INFO:tensorflow:Assets written to: discriminator_a/assets\n",
            "INFO:tensorflow:Assets written to: discriminator_b/assets\n"
          ],
          "name": "stdout"
        },
        {
          "output_type": "stream",
          "text": [
            "/usr/local/lib/python3.7/dist-packages/tensorflow/python/keras/utils/generic_utils.py:497: CustomMaskWarning: Custom mask layers require a config and must override get_config. When loading, the custom mask layer must be passed to the custom_objects argument.\n",
            "  category=CustomMaskWarning)\n"
          ],
          "name": "stderr"
        },
        {
          "output_type": "stream",
          "text": [
            "INFO:tensorflow:Assets written to: combined/assets\n",
            "WARNING:tensorflow:Compiled the loaded model, but the compiled metrics have yet to be built. `model.compile_metrics` will be empty until you train or evaluate the model.\n",
            "INFO:tensorflow:Assets written to: generator_ab/assets\n"
          ],
          "name": "stdout"
        },
        {
          "output_type": "stream",
          "text": [
            "/usr/local/lib/python3.7/dist-packages/tensorflow/python/keras/utils/generic_utils.py:497: CustomMaskWarning: Custom mask layers require a config and must override get_config. When loading, the custom mask layer must be passed to the custom_objects argument.\n",
            "  category=CustomMaskWarning)\n"
          ],
          "name": "stderr"
        },
        {
          "output_type": "stream",
          "text": [
            "WARNING:tensorflow:Compiled the loaded model, but the compiled metrics have yet to be built. `model.compile_metrics` will be empty until you train or evaluate the model.\n",
            "INFO:tensorflow:Assets written to: generator_ba/assets\n"
          ],
          "name": "stdout"
        },
        {
          "output_type": "stream",
          "text": [
            "/usr/local/lib/python3.7/dist-packages/tensorflow/python/keras/utils/generic_utils.py:497: CustomMaskWarning: Custom mask layers require a config and must override get_config. When loading, the custom mask layer must be passed to the custom_objects argument.\n",
            "  category=CustomMaskWarning)\n"
          ],
          "name": "stderr"
        },
        {
          "output_type": "stream",
          "text": [
            "epoch  25\n",
            "dloss -  0.585271567106247   daccuracy -  29.29687537252903\n",
            "gloss -  1.114493489265442\n",
            "dloss -  0.5721247792243958   daccuracy -  28.984374925494194\n",
            "gloss -  1.0937339067459106\n",
            "dloss -  0.6188943237066269   daccuracy -  26.56250037252903\n",
            "gloss -  1.1041669845581055\n",
            "dloss -  0.6700815856456757   daccuracy -  22.187499701976776\n",
            "gloss -  0.9753910303115845\n",
            "dloss -  0.6792340874671936   daccuracy -  23.984375596046448\n",
            "gloss -  1.015669822692871\n",
            "dloss -  0.6199354976415634   daccuracy -  25.624999776482582\n",
            "gloss -  1.076027274131775\n",
            "dloss -  0.6436516493558884   daccuracy -  24.21875037252903\n",
            "gloss -  1.1109602451324463\n",
            "dloss -  0.5665300339460373   daccuracy -  27.031249925494194\n",
            "gloss -  1.1098393201828003\n",
            "dloss -  0.5754835456609726   daccuracy -  26.640624925494194\n",
            "gloss -  1.1215184926986694\n",
            "dloss -  0.6416908800601959   daccuracy -  25.859375670552254\n",
            "gloss -  1.1328036785125732\n",
            "dloss -  0.5739524438977242   daccuracy -  31.64062462747097\n",
            "gloss -  1.1792428493499756\n",
            "dloss -  0.601109191775322   daccuracy -  29.999999701976776\n",
            "gloss -  1.011461853981018\n",
            "dloss -  0.5695729553699493   daccuracy -  29.609375074505806\n",
            "gloss -  1.03797447681427\n",
            "dloss -  0.6176982969045639   daccuracy -  28.12499962747097\n",
            "gloss -  1.0599085092544556\n",
            "INFO:tensorflow:Assets written to: discriminator_a/assets\n",
            "INFO:tensorflow:Assets written to: discriminator_b/assets\n"
          ],
          "name": "stdout"
        },
        {
          "output_type": "stream",
          "text": [
            "/usr/local/lib/python3.7/dist-packages/tensorflow/python/keras/utils/generic_utils.py:497: CustomMaskWarning: Custom mask layers require a config and must override get_config. When loading, the custom mask layer must be passed to the custom_objects argument.\n",
            "  category=CustomMaskWarning)\n"
          ],
          "name": "stderr"
        },
        {
          "output_type": "stream",
          "text": [
            "INFO:tensorflow:Assets written to: combined/assets\n",
            "WARNING:tensorflow:Compiled the loaded model, but the compiled metrics have yet to be built. `model.compile_metrics` will be empty until you train or evaluate the model.\n",
            "INFO:tensorflow:Assets written to: generator_ab/assets\n"
          ],
          "name": "stdout"
        },
        {
          "output_type": "stream",
          "text": [
            "/usr/local/lib/python3.7/dist-packages/tensorflow/python/keras/utils/generic_utils.py:497: CustomMaskWarning: Custom mask layers require a config and must override get_config. When loading, the custom mask layer must be passed to the custom_objects argument.\n",
            "  category=CustomMaskWarning)\n"
          ],
          "name": "stderr"
        },
        {
          "output_type": "stream",
          "text": [
            "WARNING:tensorflow:Compiled the loaded model, but the compiled metrics have yet to be built. `model.compile_metrics` will be empty until you train or evaluate the model.\n",
            "INFO:tensorflow:Assets written to: generator_ba/assets\n"
          ],
          "name": "stdout"
        },
        {
          "output_type": "stream",
          "text": [
            "/usr/local/lib/python3.7/dist-packages/tensorflow/python/keras/utils/generic_utils.py:497: CustomMaskWarning: Custom mask layers require a config and must override get_config. When loading, the custom mask layer must be passed to the custom_objects argument.\n",
            "  category=CustomMaskWarning)\n"
          ],
          "name": "stderr"
        },
        {
          "output_type": "stream",
          "text": [
            "epoch  26\n",
            "dloss -  0.6231540739536285   daccuracy -  24.375000223517418\n",
            "gloss -  1.0120972394943237\n",
            "dloss -  0.6184751987457275   daccuracy -  22.890624776482582\n",
            "gloss -  1.0422916412353516\n",
            "dloss -  0.5897491276264191   daccuracy -  24.843749403953552\n",
            "gloss -  1.0495582818984985\n",
            "dloss -  0.5891300439834595   daccuracy -  27.265625447034836\n",
            "gloss -  1.0651228427886963\n",
            "dloss -  0.5686045363545418   daccuracy -  28.203124552965164\n",
            "gloss -  1.0437617301940918\n",
            "dloss -  0.6540656685829163   daccuracy -  21.015624701976776\n",
            "gloss -  0.9647554159164429\n",
            "dloss -  0.6749031394720078   daccuracy -  23.82812537252903\n",
            "gloss -  1.148805022239685\n",
            "dloss -  0.6582187116146088   daccuracy -  25.39062574505806\n",
            "gloss -  1.0970468521118164\n",
            "dloss -  0.6081709265708923   daccuracy -  27.265625074505806\n",
            "gloss -  1.025674819946289\n",
            "dloss -  0.6200584247708321   daccuracy -  25.624999403953552\n",
            "gloss -  1.0706144571304321\n",
            "dloss -  0.6020498126745224   daccuracy -  26.718749850988388\n",
            "gloss -  1.0925507545471191\n",
            "dloss -  0.5841410011053085   daccuracy -  27.656249701976776\n",
            "gloss -  1.0928291082382202\n",
            "dloss -  0.6016681492328644   daccuracy -  29.374999925494194\n",
            "gloss -  1.1128267049789429\n",
            "dloss -  0.6522154659032822   daccuracy -  20.781249925494194\n",
            "gloss -  1.0461235046386719\n",
            "INFO:tensorflow:Assets written to: discriminator_a/assets\n",
            "INFO:tensorflow:Assets written to: discriminator_b/assets\n"
          ],
          "name": "stdout"
        },
        {
          "output_type": "stream",
          "text": [
            "/usr/local/lib/python3.7/dist-packages/tensorflow/python/keras/utils/generic_utils.py:497: CustomMaskWarning: Custom mask layers require a config and must override get_config. When loading, the custom mask layer must be passed to the custom_objects argument.\n",
            "  category=CustomMaskWarning)\n"
          ],
          "name": "stderr"
        },
        {
          "output_type": "stream",
          "text": [
            "INFO:tensorflow:Assets written to: combined/assets\n",
            "WARNING:tensorflow:Compiled the loaded model, but the compiled metrics have yet to be built. `model.compile_metrics` will be empty until you train or evaluate the model.\n",
            "INFO:tensorflow:Assets written to: generator_ab/assets\n"
          ],
          "name": "stdout"
        },
        {
          "output_type": "stream",
          "text": [
            "/usr/local/lib/python3.7/dist-packages/tensorflow/python/keras/utils/generic_utils.py:497: CustomMaskWarning: Custom mask layers require a config and must override get_config. When loading, the custom mask layer must be passed to the custom_objects argument.\n",
            "  category=CustomMaskWarning)\n"
          ],
          "name": "stderr"
        },
        {
          "output_type": "stream",
          "text": [
            "WARNING:tensorflow:Compiled the loaded model, but the compiled metrics have yet to be built. `model.compile_metrics` will be empty until you train or evaluate the model.\n",
            "INFO:tensorflow:Assets written to: generator_ba/assets\n"
          ],
          "name": "stdout"
        },
        {
          "output_type": "stream",
          "text": [
            "/usr/local/lib/python3.7/dist-packages/tensorflow/python/keras/utils/generic_utils.py:497: CustomMaskWarning: Custom mask layers require a config and must override get_config. When loading, the custom mask layer must be passed to the custom_objects argument.\n",
            "  category=CustomMaskWarning)\n"
          ],
          "name": "stderr"
        },
        {
          "output_type": "stream",
          "text": [
            "epoch  27\n",
            "dloss -  0.5637013986706734   daccuracy -  28.203124925494194\n",
            "gloss -  1.0581406354904175\n",
            "dloss -  0.6166087836027145   daccuracy -  25.156250223517418\n",
            "gloss -  1.0593512058258057\n",
            "dloss -  0.5331844836473465   daccuracy -  27.812499552965164\n",
            "gloss -  1.0803254842758179\n",
            "dloss -  0.6940041035413742   daccuracy -  19.375000149011612\n",
            "gloss -  0.9994398355484009\n",
            "dloss -  0.5991062670946121   daccuracy -  24.609375186264515\n",
            "gloss -  1.005140781402588\n",
            "dloss -  0.6822835803031921   daccuracy -  19.765624590218067\n",
            "gloss -  0.9928994178771973\n",
            "dloss -  0.5837095901370049   daccuracy -  24.375000409781933\n",
            "gloss -  1.0583062171936035\n",
            "dloss -  0.6264844536781311   daccuracy -  22.65625\n",
            "gloss -  1.0189210176467896\n",
            "dloss -  0.6046811789274216   daccuracy -  24.765625223517418\n",
            "gloss -  1.0048058032989502\n",
            "dloss -  0.6349191665649414   daccuracy -  21.87500037252903\n",
            "gloss -  1.044064998626709\n",
            "dloss -  0.5652980357408524   daccuracy -  27.812499552965164\n",
            "gloss -  1.1458553075790405\n",
            "dloss -  0.6776611804962158   daccuracy -  24.062499403953552\n",
            "gloss -  1.066218614578247\n",
            "dloss -  0.5691800937056541   daccuracy -  27.421874552965164\n",
            "gloss -  0.9956034421920776\n",
            "dloss -  0.6016241908073425   daccuracy -  23.906249925494194\n",
            "gloss -  1.0321675539016724\n",
            "INFO:tensorflow:Assets written to: discriminator_a/assets\n",
            "INFO:tensorflow:Assets written to: discriminator_b/assets\n"
          ],
          "name": "stdout"
        },
        {
          "output_type": "stream",
          "text": [
            "/usr/local/lib/python3.7/dist-packages/tensorflow/python/keras/utils/generic_utils.py:497: CustomMaskWarning: Custom mask layers require a config and must override get_config. When loading, the custom mask layer must be passed to the custom_objects argument.\n",
            "  category=CustomMaskWarning)\n"
          ],
          "name": "stderr"
        },
        {
          "output_type": "stream",
          "text": [
            "INFO:tensorflow:Assets written to: combined/assets\n",
            "WARNING:tensorflow:Compiled the loaded model, but the compiled metrics have yet to be built. `model.compile_metrics` will be empty until you train or evaluate the model.\n",
            "INFO:tensorflow:Assets written to: generator_ab/assets\n"
          ],
          "name": "stdout"
        },
        {
          "output_type": "stream",
          "text": [
            "/usr/local/lib/python3.7/dist-packages/tensorflow/python/keras/utils/generic_utils.py:497: CustomMaskWarning: Custom mask layers require a config and must override get_config. When loading, the custom mask layer must be passed to the custom_objects argument.\n",
            "  category=CustomMaskWarning)\n"
          ],
          "name": "stderr"
        },
        {
          "output_type": "stream",
          "text": [
            "WARNING:tensorflow:Compiled the loaded model, but the compiled metrics have yet to be built. `model.compile_metrics` will be empty until you train or evaluate the model.\n",
            "INFO:tensorflow:Assets written to: generator_ba/assets\n"
          ],
          "name": "stdout"
        },
        {
          "output_type": "stream",
          "text": [
            "/usr/local/lib/python3.7/dist-packages/tensorflow/python/keras/utils/generic_utils.py:497: CustomMaskWarning: Custom mask layers require a config and must override get_config. When loading, the custom mask layer must be passed to the custom_objects argument.\n",
            "  category=CustomMaskWarning)\n"
          ],
          "name": "stderr"
        },
        {
          "output_type": "stream",
          "text": [
            "epoch  28\n",
            "dloss -  0.6788931638002396   daccuracy -  17.96875037252903\n",
            "gloss -  0.9784954190254211\n",
            "dloss -  0.6110634654760361   daccuracy -  22.18749988824129\n",
            "gloss -  0.8972057104110718\n",
            "dloss -  0.5528517439961433   daccuracy -  26.718750596046448\n",
            "gloss -  1.1301488876342773\n",
            "dloss -  0.6270075291395187   daccuracy -  19.374999962747097\n",
            "gloss -  0.9909768104553223\n",
            "dloss -  0.6136122271418571   daccuracy -  20.078125223517418\n",
            "gloss -  0.9631345868110657\n",
            "dloss -  0.6194341033697128   daccuracy -  23.750000074505806\n",
            "gloss -  1.0173254013061523\n",
            "dloss -  0.5974574834108353   daccuracy -  25.07812473922968\n",
            "gloss -  1.0989515781402588\n",
            "dloss -  0.6267621368169785   daccuracy -  22.109375149011612\n",
            "gloss -  1.0302402973175049\n",
            "dloss -  0.6305301263928413   daccuracy -  21.015625447034836\n",
            "gloss -  1.0797958374023438\n",
            "dloss -  0.599363811314106   daccuracy -  24.921874701976776\n",
            "gloss -  1.0010486841201782\n",
            "dloss -  0.5938426926732063   daccuracy -  24.453124776482582\n",
            "gloss -  1.0122302770614624\n",
            "dloss -  0.5736864283680916   daccuracy -  27.187499403953552\n",
            "gloss -  1.0739917755126953\n",
            "dloss -  0.5803058445453644   daccuracy -  25.624999962747097\n",
            "gloss -  1.0762659311294556\n",
            "dloss -  0.5595854669809341   daccuracy -  29.921874776482582\n",
            "gloss -  1.0233248472213745\n",
            "INFO:tensorflow:Assets written to: discriminator_a/assets\n",
            "INFO:tensorflow:Assets written to: discriminator_b/assets\n"
          ],
          "name": "stdout"
        },
        {
          "output_type": "stream",
          "text": [
            "/usr/local/lib/python3.7/dist-packages/tensorflow/python/keras/utils/generic_utils.py:497: CustomMaskWarning: Custom mask layers require a config and must override get_config. When loading, the custom mask layer must be passed to the custom_objects argument.\n",
            "  category=CustomMaskWarning)\n"
          ],
          "name": "stderr"
        },
        {
          "output_type": "stream",
          "text": [
            "INFO:tensorflow:Assets written to: combined/assets\n",
            "WARNING:tensorflow:Compiled the loaded model, but the compiled metrics have yet to be built. `model.compile_metrics` will be empty until you train or evaluate the model.\n",
            "INFO:tensorflow:Assets written to: generator_ab/assets\n"
          ],
          "name": "stdout"
        },
        {
          "output_type": "stream",
          "text": [
            "/usr/local/lib/python3.7/dist-packages/tensorflow/python/keras/utils/generic_utils.py:497: CustomMaskWarning: Custom mask layers require a config and must override get_config. When loading, the custom mask layer must be passed to the custom_objects argument.\n",
            "  category=CustomMaskWarning)\n"
          ],
          "name": "stderr"
        },
        {
          "output_type": "stream",
          "text": [
            "WARNING:tensorflow:Compiled the loaded model, but the compiled metrics have yet to be built. `model.compile_metrics` will be empty until you train or evaluate the model.\n",
            "INFO:tensorflow:Assets written to: generator_ba/assets\n"
          ],
          "name": "stdout"
        },
        {
          "output_type": "stream",
          "text": [
            "/usr/local/lib/python3.7/dist-packages/tensorflow/python/keras/utils/generic_utils.py:497: CustomMaskWarning: Custom mask layers require a config and must override get_config. When loading, the custom mask layer must be passed to the custom_objects argument.\n",
            "  category=CustomMaskWarning)\n"
          ],
          "name": "stderr"
        },
        {
          "output_type": "stream",
          "text": [
            "epoch  29\n",
            "dloss -  0.6599321514368057   daccuracy -  19.296875037252903\n",
            "gloss -  0.9877851605415344\n",
            "dloss -  0.6265220195055008   daccuracy -  19.374999590218067\n",
            "gloss -  1.046592354774475\n",
            "dloss -  0.5248784199357033   daccuracy -  27.34375\n",
            "gloss -  1.041419267654419\n",
            "dloss -  0.5813997536897659   daccuracy -  21.87500037252903\n",
            "gloss -  1.04506254196167\n",
            "dloss -  0.5607791468501091   daccuracy -  26.17187537252903\n",
            "gloss -  1.0434374809265137\n",
            "dloss -  0.6610989719629288   daccuracy -  19.45312526077032\n",
            "gloss -  0.9143856167793274\n",
            "dloss -  0.5770305097103119   daccuracy -  23.51562511175871\n",
            "gloss -  0.9299451112747192\n",
            "dloss -  0.5944389626383781   daccuracy -  23.281249776482582\n",
            "gloss -  1.0021657943725586\n",
            "dloss -  0.5666893050074577   daccuracy -  24.921875447034836\n",
            "gloss -  0.9996364712715149\n",
            "dloss -  0.617919072508812   daccuracy -  20.156249962747097\n",
            "gloss -  1.1263302564620972\n",
            "dloss -  0.5608685463666916   daccuracy -  25.937499850988388\n",
            "gloss -  1.0536187887191772\n",
            "dloss -  0.5618700832128525   daccuracy -  25.703125074505806\n",
            "gloss -  1.0504177808761597\n",
            "dloss -  0.5518001690506935   daccuracy -  26.328125596046448\n",
            "gloss -  1.0493978261947632\n",
            "dloss -  0.6351930946111679   daccuracy -  22.031249478459358\n",
            "gloss -  1.010749101638794\n",
            "INFO:tensorflow:Assets written to: discriminator_a/assets\n",
            "INFO:tensorflow:Assets written to: discriminator_b/assets\n"
          ],
          "name": "stdout"
        },
        {
          "output_type": "stream",
          "text": [
            "/usr/local/lib/python3.7/dist-packages/tensorflow/python/keras/utils/generic_utils.py:497: CustomMaskWarning: Custom mask layers require a config and must override get_config. When loading, the custom mask layer must be passed to the custom_objects argument.\n",
            "  category=CustomMaskWarning)\n"
          ],
          "name": "stderr"
        },
        {
          "output_type": "stream",
          "text": [
            "INFO:tensorflow:Assets written to: combined/assets\n",
            "WARNING:tensorflow:Compiled the loaded model, but the compiled metrics have yet to be built. `model.compile_metrics` will be empty until you train or evaluate the model.\n",
            "INFO:tensorflow:Assets written to: generator_ab/assets\n"
          ],
          "name": "stdout"
        },
        {
          "output_type": "stream",
          "text": [
            "/usr/local/lib/python3.7/dist-packages/tensorflow/python/keras/utils/generic_utils.py:497: CustomMaskWarning: Custom mask layers require a config and must override get_config. When loading, the custom mask layer must be passed to the custom_objects argument.\n",
            "  category=CustomMaskWarning)\n"
          ],
          "name": "stderr"
        },
        {
          "output_type": "stream",
          "text": [
            "WARNING:tensorflow:Compiled the loaded model, but the compiled metrics have yet to be built. `model.compile_metrics` will be empty until you train or evaluate the model.\n",
            "INFO:tensorflow:Assets written to: generator_ba/assets\n"
          ],
          "name": "stdout"
        },
        {
          "output_type": "stream",
          "text": [
            "/usr/local/lib/python3.7/dist-packages/tensorflow/python/keras/utils/generic_utils.py:497: CustomMaskWarning: Custom mask layers require a config and must override get_config. When loading, the custom mask layer must be passed to the custom_objects argument.\n",
            "  category=CustomMaskWarning)\n"
          ],
          "name": "stderr"
        },
        {
          "output_type": "stream",
          "text": [
            "epoch  30\n",
            "dloss -  0.5935407280921936   daccuracy -  21.718750335276127\n",
            "gloss -  0.9726589322090149\n",
            "dloss -  0.5739518404006958   daccuracy -  20.703125558793545\n",
            "gloss -  0.9667474627494812\n",
            "dloss -  0.6295037716627121   daccuracy -  20.156250149011612\n",
            "gloss -  1.0135066509246826\n",
            "dloss -  0.5655472204089165   daccuracy -  23.203124850988388\n",
            "gloss -  1.1122748851776123\n",
            "dloss -  0.6169495806097984   daccuracy -  21.015624701976776\n",
            "gloss -  1.0037438869476318\n",
            "dloss -  0.6109215170145035   daccuracy -  22.26562537252903\n",
            "gloss -  0.9947859048843384\n",
            "dloss -  0.6386750638484955   daccuracy -  18.671875074505806\n",
            "gloss -  0.9748126864433289\n",
            "dloss -  0.568143904209137   daccuracy -  24.375000223517418\n",
            "gloss -  1.049760341644287\n",
            "dloss -  0.6110450699925423   daccuracy -  20.859375223517418\n",
            "gloss -  1.0453667640686035\n",
            "dloss -  0.5370374396443367   daccuracy -  24.374999850988388\n",
            "gloss -  1.0381337404251099\n",
            "dloss -  0.5683328211307526   daccuracy -  23.750000447034836\n",
            "gloss -  1.0692578554153442\n",
            "dloss -  0.4944159686565399   daccuracy -  28.12499962747097\n",
            "gloss -  1.1021170616149902\n",
            "dloss -  0.5993931889533997   daccuracy -  20.937500149011612\n",
            "gloss -  0.9538299441337585\n",
            "dloss -  0.5674788951873779   daccuracy -  25.390625\n",
            "gloss -  0.999315083026886\n",
            "INFO:tensorflow:Assets written to: discriminator_a/assets\n",
            "INFO:tensorflow:Assets written to: discriminator_b/assets\n"
          ],
          "name": "stdout"
        },
        {
          "output_type": "stream",
          "text": [
            "/usr/local/lib/python3.7/dist-packages/tensorflow/python/keras/utils/generic_utils.py:497: CustomMaskWarning: Custom mask layers require a config and must override get_config. When loading, the custom mask layer must be passed to the custom_objects argument.\n",
            "  category=CustomMaskWarning)\n"
          ],
          "name": "stderr"
        },
        {
          "output_type": "stream",
          "text": [
            "INFO:tensorflow:Assets written to: combined/assets\n",
            "WARNING:tensorflow:Compiled the loaded model, but the compiled metrics have yet to be built. `model.compile_metrics` will be empty until you train or evaluate the model.\n",
            "INFO:tensorflow:Assets written to: generator_ab/assets\n"
          ],
          "name": "stdout"
        },
        {
          "output_type": "stream",
          "text": [
            "/usr/local/lib/python3.7/dist-packages/tensorflow/python/keras/utils/generic_utils.py:497: CustomMaskWarning: Custom mask layers require a config and must override get_config. When loading, the custom mask layer must be passed to the custom_objects argument.\n",
            "  category=CustomMaskWarning)\n"
          ],
          "name": "stderr"
        },
        {
          "output_type": "stream",
          "text": [
            "WARNING:tensorflow:Compiled the loaded model, but the compiled metrics have yet to be built. `model.compile_metrics` will be empty until you train or evaluate the model.\n",
            "INFO:tensorflow:Assets written to: generator_ba/assets\n"
          ],
          "name": "stdout"
        },
        {
          "output_type": "stream",
          "text": [
            "/usr/local/lib/python3.7/dist-packages/tensorflow/python/keras/utils/generic_utils.py:497: CustomMaskWarning: Custom mask layers require a config and must override get_config. When loading, the custom mask layer must be passed to the custom_objects argument.\n",
            "  category=CustomMaskWarning)\n"
          ],
          "name": "stderr"
        },
        {
          "output_type": "stream",
          "text": [
            "epoch  31\n",
            "dloss -  0.5609841421246529   daccuracy -  23.750000074505806\n",
            "gloss -  1.1801323890686035\n",
            "dloss -  0.582339845597744   daccuracy -  23.124999925494194\n",
            "gloss -  0.9448482394218445\n",
            "dloss -  0.5398531407117844   daccuracy -  25.234374776482582\n",
            "gloss -  1.0308843851089478\n",
            "dloss -  0.6119335368275642   daccuracy -  20.156250149011612\n",
            "gloss -  0.972140908241272\n",
            "dloss -  0.6016560643911362   daccuracy -  21.015625447034836\n",
            "gloss -  0.9917232394218445\n",
            "dloss -  0.5747144818305969   daccuracy -  23.671875521540642\n",
            "gloss -  1.0571081638336182\n",
            "dloss -  0.5323710441589355   daccuracy -  24.765624664723873\n",
            "gloss -  0.9996420741081238\n",
            "dloss -  0.5213383361697197   daccuracy -  26.874999329447746\n",
            "gloss -  1.0814703702926636\n",
            "dloss -  0.5181508809328079   daccuracy -  24.843749776482582\n",
            "gloss -  1.0104159116744995\n",
            "dloss -  0.5598704293370247   daccuracy -  23.984374850988388\n",
            "gloss -  1.0190181732177734\n",
            "dloss -  0.588563084602356   daccuracy -  24.531250074505806\n",
            "gloss -  1.0644277334213257\n",
            "dloss -  0.5988059937953949   daccuracy -  22.26562537252903\n",
            "gloss -  0.9717097282409668\n",
            "dloss -  0.5791390538215637   daccuracy -  21.640624850988388\n",
            "gloss -  1.0411169528961182\n",
            "dloss -  0.5615557953715324   daccuracy -  25.312500819563866\n",
            "gloss -  1.050389051437378\n",
            "INFO:tensorflow:Assets written to: discriminator_a/assets\n",
            "INFO:tensorflow:Assets written to: discriminator_b/assets\n"
          ],
          "name": "stdout"
        },
        {
          "output_type": "stream",
          "text": [
            "/usr/local/lib/python3.7/dist-packages/tensorflow/python/keras/utils/generic_utils.py:497: CustomMaskWarning: Custom mask layers require a config and must override get_config. When loading, the custom mask layer must be passed to the custom_objects argument.\n",
            "  category=CustomMaskWarning)\n"
          ],
          "name": "stderr"
        },
        {
          "output_type": "stream",
          "text": [
            "INFO:tensorflow:Assets written to: combined/assets\n",
            "WARNING:tensorflow:Compiled the loaded model, but the compiled metrics have yet to be built. `model.compile_metrics` will be empty until you train or evaluate the model.\n",
            "INFO:tensorflow:Assets written to: generator_ab/assets\n"
          ],
          "name": "stdout"
        },
        {
          "output_type": "stream",
          "text": [
            "/usr/local/lib/python3.7/dist-packages/tensorflow/python/keras/utils/generic_utils.py:497: CustomMaskWarning: Custom mask layers require a config and must override get_config. When loading, the custom mask layer must be passed to the custom_objects argument.\n",
            "  category=CustomMaskWarning)\n"
          ],
          "name": "stderr"
        },
        {
          "output_type": "stream",
          "text": [
            "WARNING:tensorflow:Compiled the loaded model, but the compiled metrics have yet to be built. `model.compile_metrics` will be empty until you train or evaluate the model.\n",
            "INFO:tensorflow:Assets written to: generator_ba/assets\n"
          ],
          "name": "stdout"
        },
        {
          "output_type": "stream",
          "text": [
            "/usr/local/lib/python3.7/dist-packages/tensorflow/python/keras/utils/generic_utils.py:497: CustomMaskWarning: Custom mask layers require a config and must override get_config. When loading, the custom mask layer must be passed to the custom_objects argument.\n",
            "  category=CustomMaskWarning)\n"
          ],
          "name": "stderr"
        },
        {
          "output_type": "stream",
          "text": [
            "epoch  32\n",
            "dloss -  0.5914251729846001   daccuracy -  19.765625521540642\n",
            "gloss -  0.998975932598114\n",
            "dloss -  0.5623072981834412   daccuracy -  22.578125447034836\n",
            "gloss -  1.0641323328018188\n",
            "dloss -  0.5794348567724228   daccuracy -  22.187499701976776\n",
            "gloss -  0.9594882130622864\n",
            "dloss -  0.5694156587123871   daccuracy -  20.781249552965164\n",
            "gloss -  1.0155110359191895\n",
            "dloss -  0.5225799381732941   daccuracy -  25.468750298023224\n",
            "gloss -  1.1200906038284302\n",
            "dloss -  0.5315859541296959   daccuracy -  25.390625\n",
            "gloss -  0.9783440828323364\n",
            "dloss -  0.5388014540076256   daccuracy -  25.00000037252903\n",
            "gloss -  0.9815484285354614\n",
            "dloss -  0.5742016732692719   daccuracy -  20.312500558793545\n",
            "gloss -  0.9662734866142273\n",
            "dloss -  0.5745793655514717   daccuracy -  22.499999776482582\n",
            "gloss -  1.0284308195114136\n",
            "dloss -  0.5954032242298126   daccuracy -  22.031250223517418\n",
            "gloss -  1.0360639095306396\n",
            "dloss -  0.5440109968185425   daccuracy -  24.140625074505806\n",
            "gloss -  1.0618964433670044\n",
            "dloss -  0.5703734308481216   daccuracy -  21.796875074505806\n",
            "gloss -  1.0028339624404907\n",
            "dloss -  0.6620852947235107   daccuracy -  17.96875\n",
            "gloss -  1.1208419799804688\n",
            "dloss -  0.4987480789422989   daccuracy -  26.95312462747097\n",
            "gloss -  1.0094842910766602\n",
            "INFO:tensorflow:Assets written to: discriminator_a/assets\n",
            "INFO:tensorflow:Assets written to: discriminator_b/assets\n"
          ],
          "name": "stdout"
        },
        {
          "output_type": "stream",
          "text": [
            "/usr/local/lib/python3.7/dist-packages/tensorflow/python/keras/utils/generic_utils.py:497: CustomMaskWarning: Custom mask layers require a config and must override get_config. When loading, the custom mask layer must be passed to the custom_objects argument.\n",
            "  category=CustomMaskWarning)\n"
          ],
          "name": "stderr"
        },
        {
          "output_type": "stream",
          "text": [
            "INFO:tensorflow:Assets written to: combined/assets\n",
            "WARNING:tensorflow:Compiled the loaded model, but the compiled metrics have yet to be built. `model.compile_metrics` will be empty until you train or evaluate the model.\n",
            "INFO:tensorflow:Assets written to: generator_ab/assets\n"
          ],
          "name": "stdout"
        },
        {
          "output_type": "stream",
          "text": [
            "/usr/local/lib/python3.7/dist-packages/tensorflow/python/keras/utils/generic_utils.py:497: CustomMaskWarning: Custom mask layers require a config and must override get_config. When loading, the custom mask layer must be passed to the custom_objects argument.\n",
            "  category=CustomMaskWarning)\n"
          ],
          "name": "stderr"
        },
        {
          "output_type": "stream",
          "text": [
            "WARNING:tensorflow:Compiled the loaded model, but the compiled metrics have yet to be built. `model.compile_metrics` will be empty until you train or evaluate the model.\n",
            "INFO:tensorflow:Assets written to: generator_ba/assets\n"
          ],
          "name": "stdout"
        },
        {
          "output_type": "stream",
          "text": [
            "/usr/local/lib/python3.7/dist-packages/tensorflow/python/keras/utils/generic_utils.py:497: CustomMaskWarning: Custom mask layers require a config and must override get_config. When loading, the custom mask layer must be passed to the custom_objects argument.\n",
            "  category=CustomMaskWarning)\n"
          ],
          "name": "stderr"
        },
        {
          "output_type": "stream",
          "text": [
            "epoch  33\n",
            "dloss -  0.5665061101317406   daccuracy -  22.187499329447746\n",
            "gloss -  1.071456789970398\n",
            "dloss -  0.5702644363045692   daccuracy -  22.343750670552254\n",
            "gloss -  0.9672001004219055\n",
            "dloss -  0.5387595072388649   daccuracy -  23.906250298023224\n",
            "gloss -  0.9699145555496216\n",
            "dloss -  0.5439678654074669   daccuracy -  23.04687462747097\n",
            "gloss -  0.9545184969902039\n",
            "dloss -  0.5619341656565666   daccuracy -  21.249999664723873\n",
            "gloss -  0.9958685040473938\n",
            "dloss -  0.5223754346370697   daccuracy -  23.984374850988388\n",
            "gloss -  1.1139317750930786\n",
            "dloss -  0.5652255266904831   daccuracy -  23.828125\n",
            "gloss -  1.0007253885269165\n",
            "dloss -  0.5529279038310051   daccuracy -  22.890625521540642\n",
            "gloss -  0.9972437024116516\n",
            "dloss -  0.5429377481341362   daccuracy -  25.468749552965164\n",
            "gloss -  1.0734254121780396\n",
            "dloss -  0.5810171663761139   daccuracy -  20.859375223517418\n",
            "gloss -  1.093580961227417\n",
            "dloss -  0.5676996558904648   daccuracy -  23.203125037252903\n",
            "gloss -  1.060558557510376\n",
            "dloss -  0.5613898932933807   daccuracy -  24.062500521540642\n",
            "gloss -  1.0825406312942505\n",
            "dloss -  0.5215968936681747   daccuracy -  23.281250149011612\n",
            "gloss -  1.0867952108383179\n",
            "dloss -  0.5795653089880943   daccuracy -  23.593749850988388\n",
            "gloss -  1.0393706560134888\n",
            "INFO:tensorflow:Assets written to: discriminator_a/assets\n",
            "INFO:tensorflow:Assets written to: discriminator_b/assets\n"
          ],
          "name": "stdout"
        },
        {
          "output_type": "stream",
          "text": [
            "/usr/local/lib/python3.7/dist-packages/tensorflow/python/keras/utils/generic_utils.py:497: CustomMaskWarning: Custom mask layers require a config and must override get_config. When loading, the custom mask layer must be passed to the custom_objects argument.\n",
            "  category=CustomMaskWarning)\n"
          ],
          "name": "stderr"
        },
        {
          "output_type": "stream",
          "text": [
            "INFO:tensorflow:Assets written to: combined/assets\n",
            "WARNING:tensorflow:Compiled the loaded model, but the compiled metrics have yet to be built. `model.compile_metrics` will be empty until you train or evaluate the model.\n",
            "INFO:tensorflow:Assets written to: generator_ab/assets\n"
          ],
          "name": "stdout"
        },
        {
          "output_type": "stream",
          "text": [
            "/usr/local/lib/python3.7/dist-packages/tensorflow/python/keras/utils/generic_utils.py:497: CustomMaskWarning: Custom mask layers require a config and must override get_config. When loading, the custom mask layer must be passed to the custom_objects argument.\n",
            "  category=CustomMaskWarning)\n"
          ],
          "name": "stderr"
        },
        {
          "output_type": "stream",
          "text": [
            "WARNING:tensorflow:Compiled the loaded model, but the compiled metrics have yet to be built. `model.compile_metrics` will be empty until you train or evaluate the model.\n",
            "INFO:tensorflow:Assets written to: generator_ba/assets\n"
          ],
          "name": "stdout"
        },
        {
          "output_type": "stream",
          "text": [
            "/usr/local/lib/python3.7/dist-packages/tensorflow/python/keras/utils/generic_utils.py:497: CustomMaskWarning: Custom mask layers require a config and must override get_config. When loading, the custom mask layer must be passed to the custom_objects argument.\n",
            "  category=CustomMaskWarning)\n"
          ],
          "name": "stderr"
        },
        {
          "output_type": "stream",
          "text": [
            "epoch  34\n",
            "dloss -  0.53560371696949   daccuracy -  22.34375011175871\n",
            "gloss -  0.9997504949569702\n",
            "dloss -  0.5424137264490128   daccuracy -  22.031249478459358\n",
            "gloss -  1.0779764652252197\n",
            "dloss -  0.5187046006321907   daccuracy -  24.68750011175871\n",
            "gloss -  1.070512294769287\n",
            "dloss -  0.6013283580541611   daccuracy -  19.84374960884452\n",
            "gloss -  0.9940186738967896\n",
            "dloss -  0.5268319100141525   daccuracy -  24.296875298023224\n",
            "gloss -  1.052474021911621\n",
            "dloss -  0.5812444910407066   daccuracy -  23.12499973922968\n",
            "gloss -  1.0041216611862183\n",
            "dloss -  0.5108456313610077   daccuracy -  22.96874988824129\n",
            "gloss -  1.0572136640548706\n",
            "dloss -  0.5293918550014496   daccuracy -  23.437500279396772\n",
            "gloss -  1.027122139930725\n",
            "dloss -  0.5731664597988129   daccuracy -  20.859375037252903\n",
            "gloss -  0.9563513994216919\n",
            "dloss -  0.6047718077898026   daccuracy -  19.140625\n",
            "gloss -  1.01479971408844\n",
            "dloss -  0.5345957353711128   daccuracy -  22.421874850988388\n",
            "gloss -  1.0252461433410645\n",
            "dloss -  0.5980040580034256   daccuracy -  19.21875001862645\n",
            "gloss -  1.0476446151733398\n",
            "dloss -  0.5182393193244934   daccuracy -  26.484375074505806\n",
            "gloss -  1.000962734222412\n",
            "dloss -  0.49396922439336777   daccuracy -  26.796874776482582\n",
            "gloss -  1.089229702949524\n",
            "INFO:tensorflow:Assets written to: discriminator_a/assets\n",
            "INFO:tensorflow:Assets written to: discriminator_b/assets\n"
          ],
          "name": "stdout"
        },
        {
          "output_type": "stream",
          "text": [
            "/usr/local/lib/python3.7/dist-packages/tensorflow/python/keras/utils/generic_utils.py:497: CustomMaskWarning: Custom mask layers require a config and must override get_config. When loading, the custom mask layer must be passed to the custom_objects argument.\n",
            "  category=CustomMaskWarning)\n"
          ],
          "name": "stderr"
        },
        {
          "output_type": "stream",
          "text": [
            "INFO:tensorflow:Assets written to: combined/assets\n",
            "WARNING:tensorflow:Compiled the loaded model, but the compiled metrics have yet to be built. `model.compile_metrics` will be empty until you train or evaluate the model.\n",
            "INFO:tensorflow:Assets written to: generator_ab/assets\n"
          ],
          "name": "stdout"
        },
        {
          "output_type": "stream",
          "text": [
            "/usr/local/lib/python3.7/dist-packages/tensorflow/python/keras/utils/generic_utils.py:497: CustomMaskWarning: Custom mask layers require a config and must override get_config. When loading, the custom mask layer must be passed to the custom_objects argument.\n",
            "  category=CustomMaskWarning)\n"
          ],
          "name": "stderr"
        },
        {
          "output_type": "stream",
          "text": [
            "WARNING:tensorflow:Compiled the loaded model, but the compiled metrics have yet to be built. `model.compile_metrics` will be empty until you train or evaluate the model.\n",
            "INFO:tensorflow:Assets written to: generator_ba/assets\n"
          ],
          "name": "stdout"
        },
        {
          "output_type": "stream",
          "text": [
            "/usr/local/lib/python3.7/dist-packages/tensorflow/python/keras/utils/generic_utils.py:497: CustomMaskWarning: Custom mask layers require a config and must override get_config. When loading, the custom mask layer must be passed to the custom_objects argument.\n",
            "  category=CustomMaskWarning)\n"
          ],
          "name": "stderr"
        },
        {
          "output_type": "stream",
          "text": [
            "epoch  35\n",
            "dloss -  0.5953308194875717   daccuracy -  18.125000409781933\n",
            "gloss -  0.955592930316925\n",
            "dloss -  0.5616623163223267   daccuracy -  21.09374962747097\n",
            "gloss -  1.0952917337417603\n",
            "dloss -  0.4852222800254822   daccuracy -  25.937499850988388\n",
            "gloss -  0.9773386120796204\n",
            "dloss -  0.5583062618970871   daccuracy -  21.328125149011612\n",
            "gloss -  1.030019760131836\n",
            "dloss -  0.567490741610527   daccuracy -  18.906250223517418\n",
            "gloss -  0.9731286764144897\n",
            "dloss -  0.5347726494073868   daccuracy -  22.890624590218067\n",
            "gloss -  1.0951259136199951\n",
            "dloss -  0.6060037538409233   daccuracy -  20.000000577419996\n",
            "gloss -  1.0119469165802002\n",
            "dloss -  0.49367765337228775   daccuracy -  26.093750074505806\n",
            "gloss -  1.0617786645889282\n",
            "dloss -  0.5634421035647392   daccuracy -  21.953125298023224\n",
            "gloss -  1.0669522285461426\n",
            "dloss -  0.503216490149498   daccuracy -  23.984375223517418\n",
            "gloss -  1.0207982063293457\n",
            "dloss -  0.5062164887785912   daccuracy -  25.468749925494194\n",
            "gloss -  1.067847490310669\n",
            "dloss -  0.4958550035953522   daccuracy -  26.484375074505806\n",
            "gloss -  1.0803951025009155\n",
            "dloss -  0.5180609822273254   daccuracy -  26.56250037252903\n",
            "gloss -  1.0993530750274658\n",
            "dloss -  0.5153078138828278   daccuracy -  28.281249478459358\n",
            "gloss -  1.0378963947296143\n",
            "INFO:tensorflow:Assets written to: discriminator_a/assets\n",
            "INFO:tensorflow:Assets written to: discriminator_b/assets\n"
          ],
          "name": "stdout"
        },
        {
          "output_type": "stream",
          "text": [
            "/usr/local/lib/python3.7/dist-packages/tensorflow/python/keras/utils/generic_utils.py:497: CustomMaskWarning: Custom mask layers require a config and must override get_config. When loading, the custom mask layer must be passed to the custom_objects argument.\n",
            "  category=CustomMaskWarning)\n"
          ],
          "name": "stderr"
        },
        {
          "output_type": "stream",
          "text": [
            "INFO:tensorflow:Assets written to: combined/assets\n",
            "WARNING:tensorflow:Compiled the loaded model, but the compiled metrics have yet to be built. `model.compile_metrics` will be empty until you train or evaluate the model.\n",
            "INFO:tensorflow:Assets written to: generator_ab/assets\n"
          ],
          "name": "stdout"
        },
        {
          "output_type": "stream",
          "text": [
            "/usr/local/lib/python3.7/dist-packages/tensorflow/python/keras/utils/generic_utils.py:497: CustomMaskWarning: Custom mask layers require a config and must override get_config. When loading, the custom mask layer must be passed to the custom_objects argument.\n",
            "  category=CustomMaskWarning)\n"
          ],
          "name": "stderr"
        },
        {
          "output_type": "stream",
          "text": [
            "WARNING:tensorflow:Compiled the loaded model, but the compiled metrics have yet to be built. `model.compile_metrics` will be empty until you train or evaluate the model.\n",
            "INFO:tensorflow:Assets written to: generator_ba/assets\n"
          ],
          "name": "stdout"
        },
        {
          "output_type": "stream",
          "text": [
            "/usr/local/lib/python3.7/dist-packages/tensorflow/python/keras/utils/generic_utils.py:497: CustomMaskWarning: Custom mask layers require a config and must override get_config. When loading, the custom mask layer must be passed to the custom_objects argument.\n",
            "  category=CustomMaskWarning)\n"
          ],
          "name": "stderr"
        },
        {
          "output_type": "stream",
          "text": [
            "epoch  36\n",
            "dloss -  0.5200118869543076   daccuracy -  22.96875063329935\n",
            "gloss -  1.0247153043746948\n",
            "dloss -  0.5335262268781662   daccuracy -  21.171875298023224\n",
            "gloss -  0.9923733472824097\n",
            "dloss -  0.5266802459955215   daccuracy -  24.843750149011612\n",
            "gloss -  0.9948360323905945\n",
            "dloss -  0.6088540703058243   daccuracy -  18.125000037252903\n",
            "gloss -  1.0604875087738037\n",
            "dloss -  0.5323772877454758   daccuracy -  22.031249292194843\n",
            "gloss -  0.9346736073493958\n",
            "dloss -  0.4982290118932724   daccuracy -  24.765624478459358\n",
            "gloss -  1.0889501571655273\n",
            "dloss -  0.5080585479736328   daccuracy -  24.531250074505806\n",
            "gloss -  1.0782763957977295\n",
            "dloss -  0.5588338449597359   daccuracy -  19.375000149011612\n",
            "gloss -  1.007643222808838\n",
            "dloss -  0.5233316570520401   daccuracy -  25.39062462747097\n",
            "gloss -  1.0941641330718994\n",
            "dloss -  0.5284187197685242   daccuracy -  22.343750670552254\n",
            "gloss -  1.0441409349441528\n",
            "dloss -  0.5496204867959023   daccuracy -  21.406250447034836\n",
            "gloss -  1.0591391324996948\n",
            "dloss -  0.5427453070878983   daccuracy -  25.468749925494194\n",
            "gloss -  1.1348600387573242\n",
            "dloss -  0.4587821289896965   daccuracy -  29.296875\n",
            "gloss -  0.9869936108589172\n",
            "dloss -  0.498332217335701   daccuracy -  27.656250074505806\n",
            "gloss -  1.1647521257400513\n",
            "INFO:tensorflow:Assets written to: discriminator_a/assets\n",
            "INFO:tensorflow:Assets written to: discriminator_b/assets\n"
          ],
          "name": "stdout"
        },
        {
          "output_type": "stream",
          "text": [
            "/usr/local/lib/python3.7/dist-packages/tensorflow/python/keras/utils/generic_utils.py:497: CustomMaskWarning: Custom mask layers require a config and must override get_config. When loading, the custom mask layer must be passed to the custom_objects argument.\n",
            "  category=CustomMaskWarning)\n"
          ],
          "name": "stderr"
        },
        {
          "output_type": "stream",
          "text": [
            "INFO:tensorflow:Assets written to: combined/assets\n",
            "WARNING:tensorflow:Compiled the loaded model, but the compiled metrics have yet to be built. `model.compile_metrics` will be empty until you train or evaluate the model.\n",
            "INFO:tensorflow:Assets written to: generator_ab/assets\n"
          ],
          "name": "stdout"
        },
        {
          "output_type": "stream",
          "text": [
            "/usr/local/lib/python3.7/dist-packages/tensorflow/python/keras/utils/generic_utils.py:497: CustomMaskWarning: Custom mask layers require a config and must override get_config. When loading, the custom mask layer must be passed to the custom_objects argument.\n",
            "  category=CustomMaskWarning)\n"
          ],
          "name": "stderr"
        },
        {
          "output_type": "stream",
          "text": [
            "WARNING:tensorflow:Compiled the loaded model, but the compiled metrics have yet to be built. `model.compile_metrics` will be empty until you train or evaluate the model.\n"
          ],
          "name": "stdout"
        },
        {
          "output_type": "stream",
          "text": [
            "/usr/local/lib/python3.7/dist-packages/tensorflow/python/keras/utils/generic_utils.py:497: CustomMaskWarning: Custom mask layers require a config and must override get_config. When loading, the custom mask layer must be passed to the custom_objects argument.\n",
            "  category=CustomMaskWarning)\n"
          ],
          "name": "stderr"
        },
        {
          "output_type": "stream",
          "text": [
            "INFO:tensorflow:Assets written to: generator_ba/assets\n",
            "epoch  37\n",
            "dloss -  0.5579643845558167   daccuracy -  19.687500409781933\n",
            "gloss -  0.9751408696174622\n",
            "dloss -  0.5626976639032364   daccuracy -  20.781250204890966\n",
            "gloss -  1.036879301071167\n",
            "dloss -  0.508992001414299   daccuracy -  23.04687462747097\n",
            "gloss -  1.0839051008224487\n",
            "dloss -  0.5376267433166504   daccuracy -  22.812499292194843\n",
            "gloss -  1.0432710647583008\n",
            "dloss -  0.5111874714493752   daccuracy -  23.515624925494194\n",
            "gloss -  1.0793386697769165\n",
            "dloss -  0.49044904857873917   daccuracy -  27.031250298023224\n",
            "gloss -  1.0686830282211304\n",
            "dloss -  0.4767528399825096   daccuracy -  26.796874776482582\n",
            "gloss -  1.051119327545166\n",
            "dloss -  0.5272711589932442   daccuracy -  22.65625\n",
            "gloss -  1.0707699060440063\n",
            "dloss -  0.5592264384031296   daccuracy -  20.078125223517418\n",
            "gloss -  1.0083138942718506\n",
            "dloss -  0.4667683094739914   daccuracy -  26.718749478459358\n",
            "gloss -  1.0546064376831055\n",
            "dloss -  0.5332358032464981   daccuracy -  22.734374925494194\n",
            "gloss -  1.056219458580017\n",
            "dloss -  0.5297306850552559   daccuracy -  22.343749925494194\n",
            "gloss -  1.0595388412475586\n",
            "dloss -  0.5341322422027588   daccuracy -  21.015625074505806\n",
            "gloss -  1.0310814380645752\n",
            "dloss -  0.5153552889823914   daccuracy -  23.4375\n",
            "gloss -  0.9934202432632446\n",
            "INFO:tensorflow:Assets written to: discriminator_a/assets\n",
            "INFO:tensorflow:Assets written to: discriminator_b/assets\n"
          ],
          "name": "stdout"
        },
        {
          "output_type": "stream",
          "text": [
            "/usr/local/lib/python3.7/dist-packages/tensorflow/python/keras/utils/generic_utils.py:497: CustomMaskWarning: Custom mask layers require a config and must override get_config. When loading, the custom mask layer must be passed to the custom_objects argument.\n",
            "  category=CustomMaskWarning)\n"
          ],
          "name": "stderr"
        },
        {
          "output_type": "stream",
          "text": [
            "INFO:tensorflow:Assets written to: combined/assets\n",
            "WARNING:tensorflow:Compiled the loaded model, but the compiled metrics have yet to be built. `model.compile_metrics` will be empty until you train or evaluate the model.\n",
            "INFO:tensorflow:Assets written to: generator_ab/assets\n"
          ],
          "name": "stdout"
        },
        {
          "output_type": "stream",
          "text": [
            "/usr/local/lib/python3.7/dist-packages/tensorflow/python/keras/utils/generic_utils.py:497: CustomMaskWarning: Custom mask layers require a config and must override get_config. When loading, the custom mask layer must be passed to the custom_objects argument.\n",
            "  category=CustomMaskWarning)\n"
          ],
          "name": "stderr"
        },
        {
          "output_type": "stream",
          "text": [
            "WARNING:tensorflow:Compiled the loaded model, but the compiled metrics have yet to be built. `model.compile_metrics` will be empty until you train or evaluate the model.\n",
            "INFO:tensorflow:Assets written to: generator_ba/assets\n"
          ],
          "name": "stdout"
        },
        {
          "output_type": "stream",
          "text": [
            "/usr/local/lib/python3.7/dist-packages/tensorflow/python/keras/utils/generic_utils.py:497: CustomMaskWarning: Custom mask layers require a config and must override get_config. When loading, the custom mask layer must be passed to the custom_objects argument.\n",
            "  category=CustomMaskWarning)\n"
          ],
          "name": "stderr"
        },
        {
          "output_type": "stream",
          "text": [
            "epoch  38\n",
            "dloss -  0.5113857388496399   daccuracy -  22.734374925494194\n",
            "gloss -  1.0419455766677856\n",
            "dloss -  0.48093876987695694   daccuracy -  25.703124329447746\n",
            "gloss -  1.049399971961975\n",
            "dloss -  0.5105460956692696   daccuracy -  21.09374962747097\n",
            "gloss -  1.0224465131759644\n",
            "dloss -  0.4772978946566582   daccuracy -  26.015624776482582\n",
            "gloss -  0.996517539024353\n",
            "dloss -  0.5286564528942108   daccuracy -  23.04687537252903\n",
            "gloss -  1.044440507888794\n",
            "dloss -  0.5202760398387909   daccuracy -  20.156250149011612\n",
            "gloss -  1.093448281288147\n",
            "dloss -  0.5121424645185471   daccuracy -  23.593749850988388\n",
            "gloss -  0.9909104108810425\n",
            "dloss -  0.541840560734272   daccuracy -  22.031250223517418\n",
            "gloss -  1.0008149147033691\n",
            "dloss -  0.5523329824209213   daccuracy -  20.62500026077032\n",
            "gloss -  1.022035837173462\n",
            "dloss -  0.5191674828529358   daccuracy -  23.671875335276127\n",
            "gloss -  1.0287754535675049\n",
            "dloss -  0.5324263125658035   daccuracy -  21.328124962747097\n",
            "gloss -  0.9682891964912415\n",
            "dloss -  0.5705504789948463   daccuracy -  20.234374701976776\n",
            "gloss -  1.025044560432434\n",
            "dloss -  0.5221898406744003   daccuracy -  21.796875074505806\n",
            "gloss -  1.145302414894104\n",
            "dloss -  0.4935614615678787   daccuracy -  25.234375521540642\n",
            "gloss -  1.0962986946105957\n",
            "INFO:tensorflow:Assets written to: discriminator_a/assets\n",
            "INFO:tensorflow:Assets written to: discriminator_b/assets\n"
          ],
          "name": "stdout"
        },
        {
          "output_type": "stream",
          "text": [
            "/usr/local/lib/python3.7/dist-packages/tensorflow/python/keras/utils/generic_utils.py:497: CustomMaskWarning: Custom mask layers require a config and must override get_config. When loading, the custom mask layer must be passed to the custom_objects argument.\n",
            "  category=CustomMaskWarning)\n"
          ],
          "name": "stderr"
        },
        {
          "output_type": "stream",
          "text": [
            "INFO:tensorflow:Assets written to: combined/assets\n",
            "WARNING:tensorflow:Compiled the loaded model, but the compiled metrics have yet to be built. `model.compile_metrics` will be empty until you train or evaluate the model.\n",
            "INFO:tensorflow:Assets written to: generator_ab/assets\n"
          ],
          "name": "stdout"
        },
        {
          "output_type": "stream",
          "text": [
            "/usr/local/lib/python3.7/dist-packages/tensorflow/python/keras/utils/generic_utils.py:497: CustomMaskWarning: Custom mask layers require a config and must override get_config. When loading, the custom mask layer must be passed to the custom_objects argument.\n",
            "  category=CustomMaskWarning)\n"
          ],
          "name": "stderr"
        },
        {
          "output_type": "stream",
          "text": [
            "WARNING:tensorflow:Compiled the loaded model, but the compiled metrics have yet to be built. `model.compile_metrics` will be empty until you train or evaluate the model.\n"
          ],
          "name": "stdout"
        },
        {
          "output_type": "stream",
          "text": [
            "/usr/local/lib/python3.7/dist-packages/tensorflow/python/keras/utils/generic_utils.py:497: CustomMaskWarning: Custom mask layers require a config and must override get_config. When loading, the custom mask layer must be passed to the custom_objects argument.\n",
            "  category=CustomMaskWarning)\n"
          ],
          "name": "stderr"
        },
        {
          "output_type": "stream",
          "text": [
            "INFO:tensorflow:Assets written to: generator_ba/assets\n",
            "epoch  39\n",
            "dloss -  0.5001338571310043   daccuracy -  21.874999813735485\n",
            "gloss -  0.9957519769668579\n",
            "dloss -  0.5380899682641029   daccuracy -  21.95312548428774\n",
            "gloss -  0.9835401773452759\n",
            "dloss -  0.5755415260791779   daccuracy -  16.953124850988388\n",
            "gloss -  1.0313880443572998\n",
            "dloss -  0.4960452690720558   daccuracy -  23.593749664723873\n",
            "gloss -  1.1161800622940063\n",
            "dloss -  0.5008839517831802   daccuracy -  21.953124925494194\n",
            "gloss -  0.9652615785598755\n",
            "dloss -  0.48713403195142746   daccuracy -  24.296874925494194\n",
            "gloss -  1.1122210025787354\n",
            "dloss -  0.5517398789525032   daccuracy -  19.7656256146729\n",
            "gloss -  1.0080649852752686\n",
            "dloss -  0.5095027685165405   daccuracy -  21.250000037252903\n",
            "gloss -  1.005300521850586\n",
            "dloss -  0.5211084857583046   daccuracy -  20.70312462747097\n",
            "gloss -  1.0692353248596191\n",
            "dloss -  0.5016119182109833   daccuracy -  24.453124962747097\n",
            "gloss -  1.0019267797470093\n",
            "dloss -  0.4893815591931343   daccuracy -  25.078125298023224\n",
            "gloss -  1.0601508617401123\n",
            "dloss -  0.48638367652893066   daccuracy -  23.90625011175871\n",
            "gloss -  1.12309992313385\n",
            "dloss -  0.5337797850370407   daccuracy -  21.953124925494194\n",
            "gloss -  1.02565598487854\n",
            "dloss -  0.4516921043395996   daccuracy -  28.984374552965164\n",
            "gloss -  1.1353263854980469\n",
            "INFO:tensorflow:Assets written to: discriminator_a/assets\n",
            "INFO:tensorflow:Assets written to: discriminator_b/assets\n"
          ],
          "name": "stdout"
        },
        {
          "output_type": "stream",
          "text": [
            "/usr/local/lib/python3.7/dist-packages/tensorflow/python/keras/utils/generic_utils.py:497: CustomMaskWarning: Custom mask layers require a config and must override get_config. When loading, the custom mask layer must be passed to the custom_objects argument.\n",
            "  category=CustomMaskWarning)\n"
          ],
          "name": "stderr"
        },
        {
          "output_type": "stream",
          "text": [
            "INFO:tensorflow:Assets written to: combined/assets\n",
            "WARNING:tensorflow:Compiled the loaded model, but the compiled metrics have yet to be built. `model.compile_metrics` will be empty until you train or evaluate the model.\n",
            "INFO:tensorflow:Assets written to: generator_ab/assets\n"
          ],
          "name": "stdout"
        },
        {
          "output_type": "stream",
          "text": [
            "/usr/local/lib/python3.7/dist-packages/tensorflow/python/keras/utils/generic_utils.py:497: CustomMaskWarning: Custom mask layers require a config and must override get_config. When loading, the custom mask layer must be passed to the custom_objects argument.\n",
            "  category=CustomMaskWarning)\n"
          ],
          "name": "stderr"
        },
        {
          "output_type": "stream",
          "text": [
            "WARNING:tensorflow:Compiled the loaded model, but the compiled metrics have yet to be built. `model.compile_metrics` will be empty until you train or evaluate the model.\n",
            "INFO:tensorflow:Assets written to: generator_ba/assets\n"
          ],
          "name": "stdout"
        },
        {
          "output_type": "stream",
          "text": [
            "/usr/local/lib/python3.7/dist-packages/tensorflow/python/keras/utils/generic_utils.py:497: CustomMaskWarning: Custom mask layers require a config and must override get_config. When loading, the custom mask layer must be passed to the custom_objects argument.\n",
            "  category=CustomMaskWarning)\n"
          ],
          "name": "stderr"
        },
        {
          "output_type": "stream",
          "text": [
            "epoch  40\n",
            "dloss -  0.4906536117196083   daccuracy -  20.3125\n",
            "gloss -  1.0339655876159668\n",
            "dloss -  0.5331531688570976   daccuracy -  20.625000074505806\n",
            "gloss -  0.9772014617919922\n",
            "dloss -  0.4761952906847   daccuracy -  23.828125\n",
            "gloss -  1.0384067296981812\n",
            "dloss -  0.49855006486177444   daccuracy -  23.046875\n",
            "gloss -  1.072896957397461\n",
            "dloss -  0.46361256390810013   daccuracy -  26.17187537252903\n",
            "gloss -  1.090487003326416\n",
            "dloss -  0.477087065577507   daccuracy -  25.00000037252903\n",
            "gloss -  1.157832145690918\n",
            "dloss -  0.501625619828701   daccuracy -  22.812500037252903\n",
            "gloss -  1.0228363275527954\n",
            "dloss -  0.5372737944126129   daccuracy -  21.250000037252903\n",
            "gloss -  1.055954933166504\n",
            "dloss -  0.4840313494205475   daccuracy -  23.984375596046448\n",
            "gloss -  0.9774636030197144\n",
            "dloss -  0.5260225087404251   daccuracy -  22.421875223517418\n",
            "gloss -  1.0335437059402466\n",
            "dloss -  0.49111130833625793   daccuracy -  23.125000298023224\n",
            "gloss -  1.082845687866211\n",
            "dloss -  0.5203317850828171   daccuracy -  19.999999552965164\n",
            "gloss -  0.9868971109390259\n",
            "dloss -  0.5937296897172928   daccuracy -  18.43750001862645\n",
            "gloss -  1.0177996158599854\n",
            "dloss -  0.48452115803956985   daccuracy -  24.21874962747097\n",
            "gloss -  1.0720245838165283\n",
            "INFO:tensorflow:Assets written to: discriminator_a/assets\n",
            "INFO:tensorflow:Assets written to: discriminator_b/assets\n"
          ],
          "name": "stdout"
        },
        {
          "output_type": "stream",
          "text": [
            "/usr/local/lib/python3.7/dist-packages/tensorflow/python/keras/utils/generic_utils.py:497: CustomMaskWarning: Custom mask layers require a config and must override get_config. When loading, the custom mask layer must be passed to the custom_objects argument.\n",
            "  category=CustomMaskWarning)\n"
          ],
          "name": "stderr"
        },
        {
          "output_type": "stream",
          "text": [
            "INFO:tensorflow:Assets written to: combined/assets\n",
            "WARNING:tensorflow:Compiled the loaded model, but the compiled metrics have yet to be built. `model.compile_metrics` will be empty until you train or evaluate the model.\n",
            "INFO:tensorflow:Assets written to: generator_ab/assets\n"
          ],
          "name": "stdout"
        },
        {
          "output_type": "stream",
          "text": [
            "/usr/local/lib/python3.7/dist-packages/tensorflow/python/keras/utils/generic_utils.py:497: CustomMaskWarning: Custom mask layers require a config and must override get_config. When loading, the custom mask layer must be passed to the custom_objects argument.\n",
            "  category=CustomMaskWarning)\n"
          ],
          "name": "stderr"
        },
        {
          "output_type": "stream",
          "text": [
            "WARNING:tensorflow:Compiled the loaded model, but the compiled metrics have yet to be built. `model.compile_metrics` will be empty until you train or evaluate the model.\n",
            "INFO:tensorflow:Assets written to: generator_ba/assets\n"
          ],
          "name": "stdout"
        },
        {
          "output_type": "stream",
          "text": [
            "/usr/local/lib/python3.7/dist-packages/tensorflow/python/keras/utils/generic_utils.py:497: CustomMaskWarning: Custom mask layers require a config and must override get_config. When loading, the custom mask layer must be passed to the custom_objects argument.\n",
            "  category=CustomMaskWarning)\n"
          ],
          "name": "stderr"
        },
        {
          "output_type": "stream",
          "text": [
            "epoch  41\n",
            "dloss -  0.5494018867611885   daccuracy -  18.28124998137355\n",
            "gloss -  0.9912315607070923\n",
            "dloss -  0.4683917537331581   daccuracy -  24.374999850988388\n",
            "gloss -  1.0565357208251953\n",
            "dloss -  0.5556603521108627   daccuracy -  18.515624850988388\n",
            "gloss -  0.9847596287727356\n",
            "dloss -  0.48534271121025085   daccuracy -  23.82812462747097\n",
            "gloss -  1.0078448057174683\n",
            "dloss -  0.5066385790705681   daccuracy -  22.812500223517418\n",
            "gloss -  1.0976709127426147\n",
            "dloss -  0.5046171694993973   daccuracy -  23.984375037252903\n",
            "gloss -  1.066819429397583\n",
            "dloss -  0.4786337688565254   daccuracy -  23.593749850988388\n",
            "gloss -  1.198879599571228\n",
            "dloss -  0.51480682939291   daccuracy -  21.093750186264515\n",
            "gloss -  1.0629205703735352\n",
            "dloss -  0.47815901786088943   daccuracy -  24.609375\n",
            "gloss -  0.9966748952865601\n",
            "dloss -  0.516243502497673   daccuracy -  22.187499701976776\n",
            "gloss -  1.0624470710754395\n",
            "dloss -  0.4874098151922226   daccuracy -  22.187500447034836\n",
            "gloss -  1.007664680480957\n",
            "dloss -  0.4867834821343422   daccuracy -  22.812500037252903\n",
            "gloss -  1.0501809120178223\n",
            "dloss -  0.46460872143507004   daccuracy -  28.046875819563866\n",
            "gloss -  1.1059808731079102\n",
            "dloss -  0.4966406300663948   daccuracy -  22.18749951571226\n",
            "gloss -  1.0806612968444824\n",
            "INFO:tensorflow:Assets written to: discriminator_a/assets\n",
            "INFO:tensorflow:Assets written to: discriminator_b/assets\n"
          ],
          "name": "stdout"
        },
        {
          "output_type": "stream",
          "text": [
            "/usr/local/lib/python3.7/dist-packages/tensorflow/python/keras/utils/generic_utils.py:497: CustomMaskWarning: Custom mask layers require a config and must override get_config. When loading, the custom mask layer must be passed to the custom_objects argument.\n",
            "  category=CustomMaskWarning)\n"
          ],
          "name": "stderr"
        },
        {
          "output_type": "stream",
          "text": [
            "INFO:tensorflow:Assets written to: combined/assets\n",
            "WARNING:tensorflow:Compiled the loaded model, but the compiled metrics have yet to be built. `model.compile_metrics` will be empty until you train or evaluate the model.\n",
            "INFO:tensorflow:Assets written to: generator_ab/assets\n"
          ],
          "name": "stdout"
        },
        {
          "output_type": "stream",
          "text": [
            "/usr/local/lib/python3.7/dist-packages/tensorflow/python/keras/utils/generic_utils.py:497: CustomMaskWarning: Custom mask layers require a config and must override get_config. When loading, the custom mask layer must be passed to the custom_objects argument.\n",
            "  category=CustomMaskWarning)\n"
          ],
          "name": "stderr"
        },
        {
          "output_type": "stream",
          "text": [
            "WARNING:tensorflow:Compiled the loaded model, but the compiled metrics have yet to be built. `model.compile_metrics` will be empty until you train or evaluate the model.\n",
            "INFO:tensorflow:Assets written to: generator_ba/assets\n"
          ],
          "name": "stdout"
        },
        {
          "output_type": "stream",
          "text": [
            "/usr/local/lib/python3.7/dist-packages/tensorflow/python/keras/utils/generic_utils.py:497: CustomMaskWarning: Custom mask layers require a config and must override get_config. When loading, the custom mask layer must be passed to the custom_objects argument.\n",
            "  category=CustomMaskWarning)\n"
          ],
          "name": "stderr"
        },
        {
          "output_type": "stream",
          "text": [
            "epoch  42\n",
            "dloss -  0.4755331128835678   daccuracy -  25.546874850988388\n",
            "gloss -  1.071582317352295\n",
            "dloss -  0.5539624914526939   daccuracy -  17.109375074505806\n",
            "gloss -  0.9475467801094055\n",
            "dloss -  0.5070536062121391   daccuracy -  20.781250298023224\n",
            "gloss -  1.014465093612671\n",
            "dloss -  0.4896479994058609   daccuracy -  22.109375149011612\n",
            "gloss -  1.048904299736023\n",
            "dloss -  0.4829186126589775   daccuracy -  22.343749552965164\n",
            "gloss -  0.9838859438896179\n",
            "dloss -  0.49687833338975906   daccuracy -  21.718750521540642\n",
            "gloss -  1.02860426902771\n",
            "dloss -  0.5062888860702515   daccuracy -  22.343749925494194\n",
            "gloss -  1.1371722221374512\n",
            "dloss -  0.5163748860359192   daccuracy -  20.78124973922968\n",
            "gloss -  1.054449439048767\n",
            "dloss -  0.46364420652389526   daccuracy -  24.21875\n",
            "gloss -  1.1512216329574585\n",
            "dloss -  0.47226396948099136   daccuracy -  24.921875074505806\n",
            "gloss -  1.0674254894256592\n",
            "dloss -  0.4773653373122215   daccuracy -  24.687500298023224\n",
            "gloss -  1.0413156747817993\n",
            "dloss -  0.46490323543548584   daccuracy -  27.734375\n",
            "gloss -  1.1042629480361938\n",
            "dloss -  0.4833471328020096   daccuracy -  26.093750074505806\n",
            "gloss -  1.1076462268829346\n",
            "dloss -  0.4996177926659584   daccuracy -  24.531249329447746\n",
            "gloss -  1.025822639465332\n",
            "INFO:tensorflow:Assets written to: discriminator_a/assets\n",
            "INFO:tensorflow:Assets written to: discriminator_b/assets\n"
          ],
          "name": "stdout"
        },
        {
          "output_type": "stream",
          "text": [
            "/usr/local/lib/python3.7/dist-packages/tensorflow/python/keras/utils/generic_utils.py:497: CustomMaskWarning: Custom mask layers require a config and must override get_config. When loading, the custom mask layer must be passed to the custom_objects argument.\n",
            "  category=CustomMaskWarning)\n"
          ],
          "name": "stderr"
        },
        {
          "output_type": "stream",
          "text": [
            "INFO:tensorflow:Assets written to: combined/assets\n",
            "WARNING:tensorflow:Compiled the loaded model, but the compiled metrics have yet to be built. `model.compile_metrics` will be empty until you train or evaluate the model.\n",
            "INFO:tensorflow:Assets written to: generator_ab/assets\n"
          ],
          "name": "stdout"
        },
        {
          "output_type": "stream",
          "text": [
            "/usr/local/lib/python3.7/dist-packages/tensorflow/python/keras/utils/generic_utils.py:497: CustomMaskWarning: Custom mask layers require a config and must override get_config. When loading, the custom mask layer must be passed to the custom_objects argument.\n",
            "  category=CustomMaskWarning)\n"
          ],
          "name": "stderr"
        },
        {
          "output_type": "stream",
          "text": [
            "WARNING:tensorflow:Compiled the loaded model, but the compiled metrics have yet to be built. `model.compile_metrics` will be empty until you train or evaluate the model.\n",
            "INFO:tensorflow:Assets written to: generator_ba/assets\n"
          ],
          "name": "stdout"
        },
        {
          "output_type": "stream",
          "text": [
            "/usr/local/lib/python3.7/dist-packages/tensorflow/python/keras/utils/generic_utils.py:497: CustomMaskWarning: Custom mask layers require a config and must override get_config. When loading, the custom mask layer must be passed to the custom_objects argument.\n",
            "  category=CustomMaskWarning)\n"
          ],
          "name": "stderr"
        },
        {
          "output_type": "stream",
          "text": [
            "epoch  43\n",
            "dloss -  0.46362990885972977   daccuracy -  25.546874850988388\n",
            "gloss -  1.096923828125\n",
            "dloss -  0.46447040140628815   daccuracy -  23.515624925494194\n",
            "gloss -  1.0338486433029175\n",
            "dloss -  0.5502512827515602   daccuracy -  17.65625011175871\n",
            "gloss -  0.9704982042312622\n",
            "dloss -  0.5050585493445396   daccuracy -  23.515625298023224\n",
            "gloss -  1.1425585746765137\n",
            "dloss -  0.4600199982523918   daccuracy -  26.171874813735485\n",
            "gloss -  1.073331594467163\n",
            "dloss -  0.4527975171804428   daccuracy -  26.328124850988388\n",
            "gloss -  1.1051127910614014\n",
            "dloss -  0.5164498090744019   daccuracy -  20.546874776482582\n",
            "gloss -  1.0398777723312378\n",
            "dloss -  0.47222666442394257   daccuracy -  23.82812425494194\n",
            "gloss -  1.1096839904785156\n",
            "dloss -  0.45682191103696823   daccuracy -  23.906250298023224\n",
            "gloss -  1.0345332622528076\n",
            "dloss -  0.4913318306207657   daccuracy -  22.031250223517418\n",
            "gloss -  0.9720019102096558\n",
            "dloss -  0.5131577923893929   daccuracy -  22.187500447034836\n",
            "gloss -  1.0950098037719727\n",
            "dloss -  0.4910511001944542   daccuracy -  24.60937537252903\n",
            "gloss -  1.0571619272232056\n",
            "dloss -  0.4808400943875313   daccuracy -  22.65625\n",
            "gloss -  1.071516752243042\n",
            "dloss -  0.5062925443053246   daccuracy -  24.453124776482582\n",
            "gloss -  1.057368278503418\n",
            "INFO:tensorflow:Assets written to: discriminator_a/assets\n",
            "INFO:tensorflow:Assets written to: discriminator_b/assets\n"
          ],
          "name": "stdout"
        },
        {
          "output_type": "stream",
          "text": [
            "/usr/local/lib/python3.7/dist-packages/tensorflow/python/keras/utils/generic_utils.py:497: CustomMaskWarning: Custom mask layers require a config and must override get_config. When loading, the custom mask layer must be passed to the custom_objects argument.\n",
            "  category=CustomMaskWarning)\n"
          ],
          "name": "stderr"
        },
        {
          "output_type": "stream",
          "text": [
            "INFO:tensorflow:Assets written to: combined/assets\n",
            "WARNING:tensorflow:Compiled the loaded model, but the compiled metrics have yet to be built. `model.compile_metrics` will be empty until you train or evaluate the model.\n",
            "INFO:tensorflow:Assets written to: generator_ab/assets\n"
          ],
          "name": "stdout"
        },
        {
          "output_type": "stream",
          "text": [
            "/usr/local/lib/python3.7/dist-packages/tensorflow/python/keras/utils/generic_utils.py:497: CustomMaskWarning: Custom mask layers require a config and must override get_config. When loading, the custom mask layer must be passed to the custom_objects argument.\n",
            "  category=CustomMaskWarning)\n"
          ],
          "name": "stderr"
        },
        {
          "output_type": "stream",
          "text": [
            "WARNING:tensorflow:Compiled the loaded model, but the compiled metrics have yet to be built. `model.compile_metrics` will be empty until you train or evaluate the model.\n",
            "INFO:tensorflow:Assets written to: generator_ba/assets\n"
          ],
          "name": "stdout"
        },
        {
          "output_type": "stream",
          "text": [
            "/usr/local/lib/python3.7/dist-packages/tensorflow/python/keras/utils/generic_utils.py:497: CustomMaskWarning: Custom mask layers require a config and must override get_config. When loading, the custom mask layer must be passed to the custom_objects argument.\n",
            "  category=CustomMaskWarning)\n"
          ],
          "name": "stderr"
        },
        {
          "output_type": "stream",
          "text": [
            "epoch  44\n",
            "dloss -  0.5237116292119026   daccuracy -  19.140624813735485\n",
            "gloss -  1.0581018924713135\n",
            "dloss -  0.5175023302435875   daccuracy -  20.078124850988388\n",
            "gloss -  0.978394627571106\n",
            "dloss -  0.48530934751033783   daccuracy -  24.296874552965164\n",
            "gloss -  1.0453271865844727\n",
            "dloss -  0.5042329877614975   daccuracy -  22.031249850988388\n",
            "gloss -  1.025929570198059\n",
            "dloss -  0.42492562532424927   daccuracy -  27.500000223517418\n",
            "gloss -  1.0996768474578857\n",
            "dloss -  0.48760031908750534   daccuracy -  21.640625596046448\n",
            "gloss -  0.9735363125801086\n",
            "dloss -  0.49359606951475143   daccuracy -  22.890624403953552\n",
            "gloss -  1.0387579202651978\n",
            "dloss -  0.48576390743255615   daccuracy -  22.812500223517418\n",
            "gloss -  1.0442290306091309\n",
            "dloss -  0.4855055883526802   daccuracy -  24.60937462747097\n",
            "gloss -  1.2271807193756104\n",
            "dloss -  0.4547967463731766   daccuracy -  23.906249552965164\n",
            "gloss -  1.1322723627090454\n",
            "dloss -  0.44564370810985565   daccuracy -  24.765625223517418\n",
            "gloss -  1.148848056793213\n",
            "dloss -  0.4681231826543808   daccuracy -  27.421874180436134\n",
            "gloss -  1.1176034212112427\n",
            "dloss -  0.4904459938406944   daccuracy -  22.968749701976776\n",
            "gloss -  1.0308221578598022\n",
            "dloss -  0.4648955464363098   daccuracy -  26.328125223517418\n",
            "gloss -  1.146507740020752\n",
            "INFO:tensorflow:Assets written to: discriminator_a/assets\n",
            "INFO:tensorflow:Assets written to: discriminator_b/assets\n"
          ],
          "name": "stdout"
        },
        {
          "output_type": "stream",
          "text": [
            "/usr/local/lib/python3.7/dist-packages/tensorflow/python/keras/utils/generic_utils.py:497: CustomMaskWarning: Custom mask layers require a config and must override get_config. When loading, the custom mask layer must be passed to the custom_objects argument.\n",
            "  category=CustomMaskWarning)\n"
          ],
          "name": "stderr"
        },
        {
          "output_type": "stream",
          "text": [
            "INFO:tensorflow:Assets written to: combined/assets\n",
            "WARNING:tensorflow:Compiled the loaded model, but the compiled metrics have yet to be built. `model.compile_metrics` will be empty until you train or evaluate the model.\n",
            "INFO:tensorflow:Assets written to: generator_ab/assets\n"
          ],
          "name": "stdout"
        },
        {
          "output_type": "stream",
          "text": [
            "/usr/local/lib/python3.7/dist-packages/tensorflow/python/keras/utils/generic_utils.py:497: CustomMaskWarning: Custom mask layers require a config and must override get_config. When loading, the custom mask layer must be passed to the custom_objects argument.\n",
            "  category=CustomMaskWarning)\n"
          ],
          "name": "stderr"
        },
        {
          "output_type": "stream",
          "text": [
            "WARNING:tensorflow:Compiled the loaded model, but the compiled metrics have yet to be built. `model.compile_metrics` will be empty until you train or evaluate the model.\n",
            "INFO:tensorflow:Assets written to: generator_ba/assets\n"
          ],
          "name": "stdout"
        },
        {
          "output_type": "stream",
          "text": [
            "/usr/local/lib/python3.7/dist-packages/tensorflow/python/keras/utils/generic_utils.py:497: CustomMaskWarning: Custom mask layers require a config and must override get_config. When loading, the custom mask layer must be passed to the custom_objects argument.\n",
            "  category=CustomMaskWarning)\n"
          ],
          "name": "stderr"
        },
        {
          "output_type": "stream",
          "text": [
            "epoch  45\n",
            "dloss -  0.4532870054244995   daccuracy -  22.734375298023224\n",
            "gloss -  1.121353030204773\n",
            "dloss -  0.4827241450548172   daccuracy -  23.359374701976776\n",
            "gloss -  1.0841753482818604\n",
            "dloss -  0.5093013793230057   daccuracy -  21.250000037252903\n",
            "gloss -  1.02754807472229\n",
            "dloss -  0.4469135031104088   daccuracy -  27.265624329447746\n",
            "gloss -  1.0436574220657349\n",
            "dloss -  0.4352256879210472   daccuracy -  25.625000149011612\n",
            "gloss -  1.1527106761932373\n",
            "dloss -  0.47513897716999054   daccuracy -  22.26562537252903\n",
            "gloss -  1.0457981824874878\n",
            "dloss -  0.5113389268517494   daccuracy -  22.109374776482582\n",
            "gloss -  1.0728446245193481\n",
            "dloss -  0.4514769837260246   daccuracy -  26.17187537252903\n",
            "gloss -  1.1097429990768433\n",
            "dloss -  0.45292314887046814   daccuracy -  27.499999478459358\n",
            "gloss -  1.136121392250061\n",
            "dloss -  0.44207191467285156   daccuracy -  28.437499701976776\n",
            "gloss -  1.0198280811309814\n",
            "dloss -  0.5026153922080994   daccuracy -  24.60937537252903\n",
            "gloss -  1.1138640642166138\n",
            "dloss -  0.4504315182566643   daccuracy -  25.234374776482582\n",
            "gloss -  1.0504217147827148\n",
            "dloss -  0.484261155128479   daccuracy -  23.203124850988388\n",
            "gloss -  1.1012983322143555\n",
            "dloss -  0.500330924987793   daccuracy -  23.203124850988388\n",
            "gloss -  1.123380184173584\n",
            "INFO:tensorflow:Assets written to: discriminator_a/assets\n",
            "INFO:tensorflow:Assets written to: discriminator_b/assets\n"
          ],
          "name": "stdout"
        },
        {
          "output_type": "stream",
          "text": [
            "/usr/local/lib/python3.7/dist-packages/tensorflow/python/keras/utils/generic_utils.py:497: CustomMaskWarning: Custom mask layers require a config and must override get_config. When loading, the custom mask layer must be passed to the custom_objects argument.\n",
            "  category=CustomMaskWarning)\n"
          ],
          "name": "stderr"
        },
        {
          "output_type": "stream",
          "text": [
            "INFO:tensorflow:Assets written to: combined/assets\n",
            "WARNING:tensorflow:Compiled the loaded model, but the compiled metrics have yet to be built. `model.compile_metrics` will be empty until you train or evaluate the model.\n",
            "INFO:tensorflow:Assets written to: generator_ab/assets\n"
          ],
          "name": "stdout"
        },
        {
          "output_type": "stream",
          "text": [
            "/usr/local/lib/python3.7/dist-packages/tensorflow/python/keras/utils/generic_utils.py:497: CustomMaskWarning: Custom mask layers require a config and must override get_config. When loading, the custom mask layer must be passed to the custom_objects argument.\n",
            "  category=CustomMaskWarning)\n"
          ],
          "name": "stderr"
        },
        {
          "output_type": "stream",
          "text": [
            "WARNING:tensorflow:Compiled the loaded model, but the compiled metrics have yet to be built. `model.compile_metrics` will be empty until you train or evaluate the model.\n",
            "INFO:tensorflow:Assets written to: generator_ba/assets\n"
          ],
          "name": "stdout"
        },
        {
          "output_type": "stream",
          "text": [
            "/usr/local/lib/python3.7/dist-packages/tensorflow/python/keras/utils/generic_utils.py:497: CustomMaskWarning: Custom mask layers require a config and must override get_config. When loading, the custom mask layer must be passed to the custom_objects argument.\n",
            "  category=CustomMaskWarning)\n"
          ],
          "name": "stderr"
        },
        {
          "output_type": "stream",
          "text": [
            "epoch  46\n",
            "dloss -  0.4955810457468033   daccuracy -  22.109375149011612\n",
            "gloss -  1.1267775297164917\n",
            "dloss -  0.48768632113933563   daccuracy -  20.703125\n",
            "gloss -  1.0595378875732422\n",
            "dloss -  0.48248814791440964   daccuracy -  20.078124850988388\n",
            "gloss -  0.9536587595939636\n",
            "dloss -  0.4795629382133484   daccuracy -  22.65625037252903\n",
            "gloss -  0.9919902682304382\n",
            "dloss -  0.42120586335659027   daccuracy -  28.750000149011612\n",
            "gloss -  1.1135796308517456\n",
            "dloss -  0.43750324845314026   daccuracy -  26.874999701976776\n",
            "gloss -  1.0703859329223633\n",
            "dloss -  0.5333248674869537   daccuracy -  20.70312462747097\n",
            "gloss -  1.0571234226226807\n",
            "dloss -  0.4701029434800148   daccuracy -  23.203124850988388\n",
            "gloss -  1.020442247390747\n",
            "dloss -  0.46462345123291016   daccuracy -  23.671875149011612\n",
            "gloss -  1.0634124279022217\n",
            "dloss -  0.44277434796094894   daccuracy -  27.031250298023224\n",
            "gloss -  1.1194480657577515\n",
            "dloss -  0.47691963613033295   daccuracy -  23.04687462747097\n",
            "gloss -  1.086300015449524\n",
            "dloss -  0.46712009608745575   daccuracy -  25.937500596046448\n",
            "gloss -  1.1509910821914673\n",
            "dloss -  0.4640338569879532   daccuracy -  25.39062425494194\n",
            "gloss -  1.1039321422576904\n",
            "dloss -  0.4243619740009308   daccuracy -  30.859375\n",
            "gloss -  1.1741636991500854\n",
            "INFO:tensorflow:Assets written to: discriminator_a/assets\n",
            "INFO:tensorflow:Assets written to: discriminator_b/assets\n"
          ],
          "name": "stdout"
        },
        {
          "output_type": "stream",
          "text": [
            "/usr/local/lib/python3.7/dist-packages/tensorflow/python/keras/utils/generic_utils.py:497: CustomMaskWarning: Custom mask layers require a config and must override get_config. When loading, the custom mask layer must be passed to the custom_objects argument.\n",
            "  category=CustomMaskWarning)\n"
          ],
          "name": "stderr"
        },
        {
          "output_type": "stream",
          "text": [
            "INFO:tensorflow:Assets written to: combined/assets\n",
            "WARNING:tensorflow:Compiled the loaded model, but the compiled metrics have yet to be built. `model.compile_metrics` will be empty until you train or evaluate the model.\n",
            "INFO:tensorflow:Assets written to: generator_ab/assets\n"
          ],
          "name": "stdout"
        },
        {
          "output_type": "stream",
          "text": [
            "/usr/local/lib/python3.7/dist-packages/tensorflow/python/keras/utils/generic_utils.py:497: CustomMaskWarning: Custom mask layers require a config and must override get_config. When loading, the custom mask layer must be passed to the custom_objects argument.\n",
            "  category=CustomMaskWarning)\n"
          ],
          "name": "stderr"
        },
        {
          "output_type": "stream",
          "text": [
            "WARNING:tensorflow:Compiled the loaded model, but the compiled metrics have yet to be built. `model.compile_metrics` will be empty until you train or evaluate the model.\n",
            "INFO:tensorflow:Assets written to: generator_ba/assets\n"
          ],
          "name": "stdout"
        },
        {
          "output_type": "stream",
          "text": [
            "/usr/local/lib/python3.7/dist-packages/tensorflow/python/keras/utils/generic_utils.py:497: CustomMaskWarning: Custom mask layers require a config and must override get_config. When loading, the custom mask layer must be passed to the custom_objects argument.\n",
            "  category=CustomMaskWarning)\n"
          ],
          "name": "stderr"
        },
        {
          "output_type": "stream",
          "text": [
            "epoch  47\n",
            "dloss -  0.4786766320466995   daccuracy -  21.95312473922968\n",
            "gloss -  1.0487239360809326\n",
            "dloss -  0.4653225466609001   daccuracy -  25.156249850988388\n",
            "gloss -  1.0577585697174072\n",
            "dloss -  0.4769759774208069   daccuracy -  23.828125\n",
            "gloss -  1.0592607259750366\n",
            "dloss -  0.4760877937078476   daccuracy -  23.515625298023224\n",
            "gloss -  1.0132911205291748\n",
            "dloss -  0.4692588895559311   daccuracy -  23.984374478459358\n",
            "gloss -  1.082907795906067\n",
            "dloss -  0.46109603345394135   daccuracy -  23.82812462747097\n",
            "gloss -  1.1387773752212524\n",
            "dloss -  0.4747154042124748   daccuracy -  23.750000074505806\n",
            "gloss -  1.127318024635315\n",
            "dloss -  0.4854023680090904   daccuracy -  22.65624962747097\n",
            "gloss -  1.1647650003433228\n",
            "dloss -  0.4432857856154442   daccuracy -  25.859374552965164\n",
            "gloss -  1.0425233840942383\n",
            "dloss -  0.47791898995637894   daccuracy -  23.046875\n",
            "gloss -  1.0258413553237915\n",
            "dloss -  0.4654662609100342   daccuracy -  23.984374850988388\n",
            "gloss -  1.1248797178268433\n",
            "dloss -  0.4584589824080467   daccuracy -  23.984374478459358\n",
            "gloss -  1.0540741682052612\n",
            "dloss -  0.42964698374271393   daccuracy -  29.453125223517418\n",
            "gloss -  1.050458312034607\n",
            "dloss -  0.44709303975105286   daccuracy -  23.43750037252903\n",
            "gloss -  1.0695767402648926\n",
            "INFO:tensorflow:Assets written to: discriminator_a/assets\n",
            "INFO:tensorflow:Assets written to: discriminator_b/assets\n"
          ],
          "name": "stdout"
        },
        {
          "output_type": "stream",
          "text": [
            "/usr/local/lib/python3.7/dist-packages/tensorflow/python/keras/utils/generic_utils.py:497: CustomMaskWarning: Custom mask layers require a config and must override get_config. When loading, the custom mask layer must be passed to the custom_objects argument.\n",
            "  category=CustomMaskWarning)\n"
          ],
          "name": "stderr"
        },
        {
          "output_type": "stream",
          "text": [
            "INFO:tensorflow:Assets written to: combined/assets\n",
            "WARNING:tensorflow:Compiled the loaded model, but the compiled metrics have yet to be built. `model.compile_metrics` will be empty until you train or evaluate the model.\n",
            "INFO:tensorflow:Assets written to: generator_ab/assets\n"
          ],
          "name": "stdout"
        },
        {
          "output_type": "stream",
          "text": [
            "/usr/local/lib/python3.7/dist-packages/tensorflow/python/keras/utils/generic_utils.py:497: CustomMaskWarning: Custom mask layers require a config and must override get_config. When loading, the custom mask layer must be passed to the custom_objects argument.\n",
            "  category=CustomMaskWarning)\n"
          ],
          "name": "stderr"
        },
        {
          "output_type": "stream",
          "text": [
            "WARNING:tensorflow:Compiled the loaded model, but the compiled metrics have yet to be built. `model.compile_metrics` will be empty until you train or evaluate the model.\n",
            "INFO:tensorflow:Assets written to: generator_ba/assets\n"
          ],
          "name": "stdout"
        },
        {
          "output_type": "stream",
          "text": [
            "/usr/local/lib/python3.7/dist-packages/tensorflow/python/keras/utils/generic_utils.py:497: CustomMaskWarning: Custom mask layers require a config and must override get_config. When loading, the custom mask layer must be passed to the custom_objects argument.\n",
            "  category=CustomMaskWarning)\n"
          ],
          "name": "stderr"
        },
        {
          "output_type": "stream",
          "text": [
            "epoch  48\n",
            "dloss -  0.4553532898426056   daccuracy -  23.593749478459358\n",
            "gloss -  1.0892846584320068\n",
            "dloss -  0.5290755704045296   daccuracy -  17.89062535390258\n",
            "gloss -  1.0198907852172852\n",
            "dloss -  0.4297901317477226   daccuracy -  25.078124552965164\n",
            "gloss -  1.1917701959609985\n",
            "dloss -  0.4707593396306038   daccuracy -  21.01562526077032\n",
            "gloss -  1.082211971282959\n",
            "dloss -  0.4452647417783737   daccuracy -  23.124999925494194\n",
            "gloss -  1.034681797027588\n",
            "dloss -  0.45237065851688385   daccuracy -  23.359374701976776\n",
            "gloss -  1.1361262798309326\n",
            "dloss -  0.4560829699039459   daccuracy -  22.500000149011612\n",
            "gloss -  1.0722535848617554\n",
            "dloss -  0.48134877532720566   daccuracy -  20.546875149011612\n",
            "gloss -  0.9912899732589722\n",
            "dloss -  0.4164850041270256   daccuracy -  29.296875\n",
            "gloss -  1.0974504947662354\n",
            "dloss -  0.4609479308128357   daccuracy -  24.843750149011612\n",
            "gloss -  0.9923323392868042\n",
            "dloss -  0.5046935603022575   daccuracy -  20.468750596046448\n",
            "gloss -  1.0333536863327026\n",
            "dloss -  0.4989795610308647   daccuracy -  20.703124813735485\n",
            "gloss -  1.0709819793701172\n",
            "dloss -  0.4642626792192459   daccuracy -  24.765624850988388\n",
            "gloss -  1.1305943727493286\n",
            "dloss -  0.41610315442085266   daccuracy -  27.499999850988388\n",
            "gloss -  1.1124509572982788\n",
            "INFO:tensorflow:Assets written to: discriminator_a/assets\n",
            "INFO:tensorflow:Assets written to: discriminator_b/assets\n"
          ],
          "name": "stdout"
        },
        {
          "output_type": "stream",
          "text": [
            "/usr/local/lib/python3.7/dist-packages/tensorflow/python/keras/utils/generic_utils.py:497: CustomMaskWarning: Custom mask layers require a config and must override get_config. When loading, the custom mask layer must be passed to the custom_objects argument.\n",
            "  category=CustomMaskWarning)\n"
          ],
          "name": "stderr"
        },
        {
          "output_type": "stream",
          "text": [
            "INFO:tensorflow:Assets written to: combined/assets\n",
            "WARNING:tensorflow:Compiled the loaded model, but the compiled metrics have yet to be built. `model.compile_metrics` will be empty until you train or evaluate the model.\n",
            "INFO:tensorflow:Assets written to: generator_ab/assets\n"
          ],
          "name": "stdout"
        },
        {
          "output_type": "stream",
          "text": [
            "/usr/local/lib/python3.7/dist-packages/tensorflow/python/keras/utils/generic_utils.py:497: CustomMaskWarning: Custom mask layers require a config and must override get_config. When loading, the custom mask layer must be passed to the custom_objects argument.\n",
            "  category=CustomMaskWarning)\n"
          ],
          "name": "stderr"
        },
        {
          "output_type": "stream",
          "text": [
            "WARNING:tensorflow:Compiled the loaded model, but the compiled metrics have yet to be built. `model.compile_metrics` will be empty until you train or evaluate the model.\n",
            "INFO:tensorflow:Assets written to: generator_ba/assets\n"
          ],
          "name": "stdout"
        },
        {
          "output_type": "stream",
          "text": [
            "/usr/local/lib/python3.7/dist-packages/tensorflow/python/keras/utils/generic_utils.py:497: CustomMaskWarning: Custom mask layers require a config and must override get_config. When loading, the custom mask layer must be passed to the custom_objects argument.\n",
            "  category=CustomMaskWarning)\n"
          ],
          "name": "stderr"
        },
        {
          "output_type": "stream",
          "text": [
            "epoch  49\n",
            "dloss -  0.41450285166502   daccuracy -  27.890625596046448\n",
            "gloss -  1.0312395095825195\n",
            "dloss -  0.4581550732254982   daccuracy -  24.765625223517418\n",
            "gloss -  1.1045223474502563\n",
            "dloss -  0.4619450569152832   daccuracy -  23.750000074505806\n",
            "gloss -  1.0542173385620117\n",
            "dloss -  0.4466899409890175   daccuracy -  25.703125447034836\n",
            "gloss -  1.0885852575302124\n",
            "dloss -  0.4562757909297943   daccuracy -  20.937499403953552\n",
            "gloss -  1.1175973415374756\n",
            "dloss -  0.5002860873937607   daccuracy -  19.062499701976776\n",
            "gloss -  1.0023268461227417\n",
            "dloss -  0.4703647643327713   daccuracy -  22.26562462747097\n",
            "gloss -  1.072363257408142\n",
            "dloss -  0.43839385360479355   daccuracy -  24.765624850988388\n",
            "gloss -  1.0712510347366333\n",
            "dloss -  0.4630510285496712   daccuracy -  22.26562462747097\n",
            "gloss -  1.0329318046569824\n",
            "dloss -  0.480737529695034   daccuracy -  20.859374850988388\n",
            "gloss -  1.043433666229248\n",
            "dloss -  0.4361366555094719   daccuracy -  27.187499776482582\n",
            "gloss -  1.0844502449035645\n",
            "dloss -  0.43779706954956055   daccuracy -  28.750000521540642\n",
            "gloss -  1.1624408960342407\n",
            "dloss -  0.457101434469223   daccuracy -  25.546874850988388\n",
            "gloss -  1.033919334411621\n",
            "dloss -  0.4478648528456688   daccuracy -  27.031249552965164\n",
            "gloss -  1.1519094705581665\n",
            "INFO:tensorflow:Assets written to: discriminator_a/assets\n",
            "INFO:tensorflow:Assets written to: discriminator_b/assets\n"
          ],
          "name": "stdout"
        },
        {
          "output_type": "stream",
          "text": [
            "/usr/local/lib/python3.7/dist-packages/tensorflow/python/keras/utils/generic_utils.py:497: CustomMaskWarning: Custom mask layers require a config and must override get_config. When loading, the custom mask layer must be passed to the custom_objects argument.\n",
            "  category=CustomMaskWarning)\n"
          ],
          "name": "stderr"
        },
        {
          "output_type": "stream",
          "text": [
            "INFO:tensorflow:Assets written to: combined/assets\n",
            "WARNING:tensorflow:Compiled the loaded model, but the compiled metrics have yet to be built. `model.compile_metrics` will be empty until you train or evaluate the model.\n",
            "INFO:tensorflow:Assets written to: generator_ab/assets\n"
          ],
          "name": "stdout"
        },
        {
          "output_type": "stream",
          "text": [
            "/usr/local/lib/python3.7/dist-packages/tensorflow/python/keras/utils/generic_utils.py:497: CustomMaskWarning: Custom mask layers require a config and must override get_config. When loading, the custom mask layer must be passed to the custom_objects argument.\n",
            "  category=CustomMaskWarning)\n"
          ],
          "name": "stderr"
        },
        {
          "output_type": "stream",
          "text": [
            "WARNING:tensorflow:Compiled the loaded model, but the compiled metrics have yet to be built. `model.compile_metrics` will be empty until you train or evaluate the model.\n",
            "INFO:tensorflow:Assets written to: generator_ba/assets\n"
          ],
          "name": "stdout"
        },
        {
          "output_type": "stream",
          "text": [
            "/usr/local/lib/python3.7/dist-packages/tensorflow/python/keras/utils/generic_utils.py:497: CustomMaskWarning: Custom mask layers require a config and must override get_config. When loading, the custom mask layer must be passed to the custom_objects argument.\n",
            "  category=CustomMaskWarning)\n"
          ],
          "name": "stderr"
        },
        {
          "output_type": "stream",
          "text": [
            "epoch  50\n",
            "dloss -  0.41427425295114517   daccuracy -  25.156250223517418\n",
            "gloss -  1.096201777458191\n",
            "dloss -  0.4383188411593437   daccuracy -  25.234374403953552\n",
            "gloss -  1.1058626174926758\n",
            "dloss -  0.4389489144086838   daccuracy -  23.984374478459358\n",
            "gloss -  1.0189423561096191\n",
            "dloss -  0.4747428745031357   daccuracy -  23.04687462747097\n",
            "gloss -  1.1205146312713623\n",
            "dloss -  0.45526212453842163   daccuracy -  26.171875\n",
            "gloss -  1.071128010749817\n",
            "dloss -  0.48332320153713226   daccuracy -  23.593750223517418\n",
            "gloss -  1.0909744501113892\n",
            "dloss -  0.44073644280433655   daccuracy -  26.95312462747097\n",
            "gloss -  1.115485429763794\n",
            "dloss -  0.4351217746734619   daccuracy -  24.140625447034836\n",
            "gloss -  1.1053367853164673\n",
            "dloss -  0.4717441573739052   daccuracy -  25.390625\n",
            "gloss -  1.0556162595748901\n",
            "dloss -  0.4929893761873245   daccuracy -  19.296874478459358\n",
            "gloss -  1.0483453273773193\n",
            "dloss -  0.430133193731308   daccuracy -  28.593749552965164\n",
            "gloss -  1.2292473316192627\n",
            "dloss -  0.44086599349975586   daccuracy -  26.718750223517418\n",
            "gloss -  1.0608139038085938\n",
            "dloss -  0.4496716633439064   daccuracy -  24.453124776482582\n",
            "gloss -  1.05306875705719\n",
            "dloss -  0.43700070679187775   daccuracy -  25.390625\n",
            "gloss -  0.9883806109428406\n",
            "INFO:tensorflow:Assets written to: discriminator_a/assets\n",
            "INFO:tensorflow:Assets written to: discriminator_b/assets\n"
          ],
          "name": "stdout"
        },
        {
          "output_type": "stream",
          "text": [
            "/usr/local/lib/python3.7/dist-packages/tensorflow/python/keras/utils/generic_utils.py:497: CustomMaskWarning: Custom mask layers require a config and must override get_config. When loading, the custom mask layer must be passed to the custom_objects argument.\n",
            "  category=CustomMaskWarning)\n"
          ],
          "name": "stderr"
        },
        {
          "output_type": "stream",
          "text": [
            "INFO:tensorflow:Assets written to: combined/assets\n",
            "WARNING:tensorflow:Compiled the loaded model, but the compiled metrics have yet to be built. `model.compile_metrics` will be empty until you train or evaluate the model.\n",
            "INFO:tensorflow:Assets written to: generator_ab/assets\n"
          ],
          "name": "stdout"
        },
        {
          "output_type": "stream",
          "text": [
            "/usr/local/lib/python3.7/dist-packages/tensorflow/python/keras/utils/generic_utils.py:497: CustomMaskWarning: Custom mask layers require a config and must override get_config. When loading, the custom mask layer must be passed to the custom_objects argument.\n",
            "  category=CustomMaskWarning)\n"
          ],
          "name": "stderr"
        },
        {
          "output_type": "stream",
          "text": [
            "WARNING:tensorflow:Compiled the loaded model, but the compiled metrics have yet to be built. `model.compile_metrics` will be empty until you train or evaluate the model.\n",
            "INFO:tensorflow:Assets written to: generator_ba/assets\n"
          ],
          "name": "stdout"
        },
        {
          "output_type": "stream",
          "text": [
            "/usr/local/lib/python3.7/dist-packages/tensorflow/python/keras/utils/generic_utils.py:497: CustomMaskWarning: Custom mask layers require a config and must override get_config. When loading, the custom mask layer must be passed to the custom_objects argument.\n",
            "  category=CustomMaskWarning)\n"
          ],
          "name": "stderr"
        },
        {
          "output_type": "stream",
          "text": [
            "epoch  51\n",
            "dloss -  0.4555574581027031   daccuracy -  22.499999776482582\n",
            "gloss -  1.0577940940856934\n",
            "dloss -  0.4416511058807373   daccuracy -  27.578125149011612\n",
            "gloss -  1.1181634664535522\n",
            "dloss -  0.4832944944500923   daccuracy -  18.359375\n",
            "gloss -  1.0253756046295166\n",
            "dloss -  0.47026514261960983   daccuracy -  24.062500149011612\n",
            "gloss -  1.0989949703216553\n",
            "dloss -  0.46507516503334045   daccuracy -  23.359375074505806\n",
            "gloss -  1.1738746166229248\n",
            "dloss -  0.4325309917330742   daccuracy -  24.687499552965164\n",
            "gloss -  1.012502670288086\n",
            "dloss -  0.45659060031175613   daccuracy -  23.515625298023224\n",
            "gloss -  1.0906507968902588\n",
            "dloss -  0.4225701838731766   daccuracy -  26.953125\n",
            "gloss -  1.0575978755950928\n",
            "dloss -  0.4587883725762367   daccuracy -  24.140624329447746\n",
            "gloss -  1.0552237033843994\n",
            "dloss -  0.4006372317671776   daccuracy -  27.34375\n",
            "gloss -  1.0804606676101685\n",
            "dloss -  0.43332231044769287   daccuracy -  25.468750298023224\n",
            "gloss -  1.0960298776626587\n",
            "dloss -  0.42707786709070206   daccuracy -  26.328125223517418\n",
            "gloss -  1.0942940711975098\n",
            "dloss -  0.46793023496866226   daccuracy -  24.374999850988388\n",
            "gloss -  1.0554933547973633\n",
            "dloss -  0.45732078701257706   daccuracy -  23.281250149011612\n",
            "gloss -  1.0626921653747559\n",
            "INFO:tensorflow:Assets written to: discriminator_a/assets\n",
            "INFO:tensorflow:Assets written to: discriminator_b/assets\n"
          ],
          "name": "stdout"
        },
        {
          "output_type": "stream",
          "text": [
            "/usr/local/lib/python3.7/dist-packages/tensorflow/python/keras/utils/generic_utils.py:497: CustomMaskWarning: Custom mask layers require a config and must override get_config. When loading, the custom mask layer must be passed to the custom_objects argument.\n",
            "  category=CustomMaskWarning)\n"
          ],
          "name": "stderr"
        },
        {
          "output_type": "stream",
          "text": [
            "INFO:tensorflow:Assets written to: combined/assets\n",
            "WARNING:tensorflow:Compiled the loaded model, but the compiled metrics have yet to be built. `model.compile_metrics` will be empty until you train or evaluate the model.\n",
            "INFO:tensorflow:Assets written to: generator_ab/assets\n"
          ],
          "name": "stdout"
        },
        {
          "output_type": "stream",
          "text": [
            "/usr/local/lib/python3.7/dist-packages/tensorflow/python/keras/utils/generic_utils.py:497: CustomMaskWarning: Custom mask layers require a config and must override get_config. When loading, the custom mask layer must be passed to the custom_objects argument.\n",
            "  category=CustomMaskWarning)\n"
          ],
          "name": "stderr"
        },
        {
          "output_type": "stream",
          "text": [
            "WARNING:tensorflow:Compiled the loaded model, but the compiled metrics have yet to be built. `model.compile_metrics` will be empty until you train or evaluate the model.\n",
            "INFO:tensorflow:Assets written to: generator_ba/assets\n"
          ],
          "name": "stdout"
        },
        {
          "output_type": "stream",
          "text": [
            "/usr/local/lib/python3.7/dist-packages/tensorflow/python/keras/utils/generic_utils.py:497: CustomMaskWarning: Custom mask layers require a config and must override get_config. When loading, the custom mask layer must be passed to the custom_objects argument.\n",
            "  category=CustomMaskWarning)\n"
          ],
          "name": "stderr"
        },
        {
          "output_type": "stream",
          "text": [
            "epoch  52\n",
            "dloss -  0.44681359827518463   daccuracy -  22.734375298023224\n",
            "gloss -  1.069360613822937\n",
            "dloss -  0.41497283428907394   daccuracy -  26.249999925494194\n",
            "gloss -  1.068219780921936\n",
            "dloss -  0.456864558160305   daccuracy -  22.578125074505806\n",
            "gloss -  1.0066450834274292\n",
            "dloss -  0.4349054992198944   daccuracy -  27.031250298023224\n",
            "gloss -  1.1506288051605225\n",
            "dloss -  0.44783786684274673   daccuracy -  24.843750149011612\n",
            "gloss -  1.1210578680038452\n",
            "dloss -  0.4346962720155716   daccuracy -  25.156249850988388\n",
            "gloss -  1.1151305437088013\n",
            "dloss -  0.5118634030222893   daccuracy -  19.53125\n",
            "gloss -  1.0216293334960938\n",
            "dloss -  0.4092279151082039   daccuracy -  27.890624850988388\n",
            "gloss -  1.0963164567947388\n",
            "dloss -  0.3998380973935127   daccuracy -  27.812499925494194\n",
            "gloss -  1.0470892190933228\n",
            "dloss -  0.5175287202000618   daccuracy -  17.812500149011612\n",
            "gloss -  1.0317633152008057\n",
            "dloss -  0.4078983813524246   daccuracy -  29.218749701976776\n",
            "gloss -  1.1028255224227905\n",
            "dloss -  0.44753647595643997   daccuracy -  22.421875223517418\n",
            "gloss -  1.117904782295227\n",
            "dloss -  0.4369802474975586   daccuracy -  25.546874850988388\n",
            "gloss -  1.085109829902649\n",
            "dloss -  0.428976871073246   daccuracy -  27.187500149011612\n",
            "gloss -  1.0879510641098022\n",
            "INFO:tensorflow:Assets written to: discriminator_a/assets\n",
            "INFO:tensorflow:Assets written to: discriminator_b/assets\n"
          ],
          "name": "stdout"
        },
        {
          "output_type": "stream",
          "text": [
            "/usr/local/lib/python3.7/dist-packages/tensorflow/python/keras/utils/generic_utils.py:497: CustomMaskWarning: Custom mask layers require a config and must override get_config. When loading, the custom mask layer must be passed to the custom_objects argument.\n",
            "  category=CustomMaskWarning)\n"
          ],
          "name": "stderr"
        },
        {
          "output_type": "stream",
          "text": [
            "INFO:tensorflow:Assets written to: combined/assets\n",
            "WARNING:tensorflow:Compiled the loaded model, but the compiled metrics have yet to be built. `model.compile_metrics` will be empty until you train or evaluate the model.\n",
            "INFO:tensorflow:Assets written to: generator_ab/assets\n"
          ],
          "name": "stdout"
        },
        {
          "output_type": "stream",
          "text": [
            "/usr/local/lib/python3.7/dist-packages/tensorflow/python/keras/utils/generic_utils.py:497: CustomMaskWarning: Custom mask layers require a config and must override get_config. When loading, the custom mask layer must be passed to the custom_objects argument.\n",
            "  category=CustomMaskWarning)\n"
          ],
          "name": "stderr"
        },
        {
          "output_type": "stream",
          "text": [
            "WARNING:tensorflow:Compiled the loaded model, but the compiled metrics have yet to be built. `model.compile_metrics` will be empty until you train or evaluate the model.\n",
            "INFO:tensorflow:Assets written to: generator_ba/assets\n"
          ],
          "name": "stdout"
        },
        {
          "output_type": "stream",
          "text": [
            "/usr/local/lib/python3.7/dist-packages/tensorflow/python/keras/utils/generic_utils.py:497: CustomMaskWarning: Custom mask layers require a config and must override get_config. When loading, the custom mask layer must be passed to the custom_objects argument.\n",
            "  category=CustomMaskWarning)\n"
          ],
          "name": "stderr"
        },
        {
          "output_type": "stream",
          "text": [
            "epoch  53\n",
            "dloss -  0.43309421837329865   daccuracy -  24.296874552965164\n",
            "gloss -  1.0850909948349\n",
            "dloss -  0.43266940116882324   daccuracy -  23.750000447034836\n",
            "gloss -  1.06251060962677\n",
            "dloss -  0.41540006548166275   daccuracy -  28.046875074505806\n",
            "gloss -  1.0327696800231934\n",
            "dloss -  0.40234362334012985   daccuracy -  28.203124925494194\n",
            "gloss -  1.0644855499267578\n",
            "dloss -  0.49180570244789124   daccuracy -  21.406249329447746\n",
            "gloss -  1.0596542358398438\n",
            "dloss -  0.44254107028245926   daccuracy -  23.984374850988388\n",
            "gloss -  1.1798657178878784\n",
            "dloss -  0.4318644404411316   daccuracy -  24.843750521540642\n",
            "gloss -  1.1034679412841797\n",
            "dloss -  0.4666351303458214   daccuracy -  22.734375298023224\n",
            "gloss -  1.0297030210494995\n",
            "dloss -  0.4501415491104126   daccuracy -  22.343750298023224\n",
            "gloss -  1.0173853635787964\n",
            "dloss -  0.4455602839589119   daccuracy -  23.671874403953552\n",
            "gloss -  1.0783233642578125\n",
            "dloss -  0.4291640669107437   daccuracy -  25.234374776482582\n",
            "gloss -  1.1155612468719482\n",
            "dloss -  0.42609725147485733   daccuracy -  26.796874776482582\n",
            "gloss -  1.1208399534225464\n",
            "dloss -  0.4495021551847458   daccuracy -  22.65625\n",
            "gloss -  1.0571991205215454\n",
            "dloss -  0.4594399333000183   daccuracy -  23.82812462747097\n",
            "gloss -  1.0613023042678833\n",
            "INFO:tensorflow:Assets written to: discriminator_a/assets\n",
            "INFO:tensorflow:Assets written to: discriminator_b/assets\n"
          ],
          "name": "stdout"
        },
        {
          "output_type": "stream",
          "text": [
            "/usr/local/lib/python3.7/dist-packages/tensorflow/python/keras/utils/generic_utils.py:497: CustomMaskWarning: Custom mask layers require a config and must override get_config. When loading, the custom mask layer must be passed to the custom_objects argument.\n",
            "  category=CustomMaskWarning)\n"
          ],
          "name": "stderr"
        },
        {
          "output_type": "stream",
          "text": [
            "INFO:tensorflow:Assets written to: combined/assets\n",
            "WARNING:tensorflow:Compiled the loaded model, but the compiled metrics have yet to be built. `model.compile_metrics` will be empty until you train or evaluate the model.\n",
            "INFO:tensorflow:Assets written to: generator_ab/assets\n"
          ],
          "name": "stdout"
        },
        {
          "output_type": "stream",
          "text": [
            "/usr/local/lib/python3.7/dist-packages/tensorflow/python/keras/utils/generic_utils.py:497: CustomMaskWarning: Custom mask layers require a config and must override get_config. When loading, the custom mask layer must be passed to the custom_objects argument.\n",
            "  category=CustomMaskWarning)\n"
          ],
          "name": "stderr"
        },
        {
          "output_type": "stream",
          "text": [
            "WARNING:tensorflow:Compiled the loaded model, but the compiled metrics have yet to be built. `model.compile_metrics` will be empty until you train or evaluate the model.\n",
            "INFO:tensorflow:Assets written to: generator_ba/assets\n"
          ],
          "name": "stdout"
        },
        {
          "output_type": "stream",
          "text": [
            "/usr/local/lib/python3.7/dist-packages/tensorflow/python/keras/utils/generic_utils.py:497: CustomMaskWarning: Custom mask layers require a config and must override get_config. When loading, the custom mask layer must be passed to the custom_objects argument.\n",
            "  category=CustomMaskWarning)\n"
          ],
          "name": "stderr"
        },
        {
          "output_type": "stream",
          "text": [
            "epoch  54\n",
            "dloss -  0.44952666014432907   daccuracy -  22.421875596046448\n",
            "gloss -  1.005563497543335\n",
            "dloss -  0.4650796800851822   daccuracy -  18.984374776482582\n",
            "gloss -  1.0916417837142944\n",
            "dloss -  0.47771092504262924   daccuracy -  19.60937511175871\n",
            "gloss -  1.0461455583572388\n",
            "dloss -  0.4548925384879112   daccuracy -  19.765624776482582\n",
            "gloss -  1.035430908203125\n",
            "dloss -  0.45380527526140213   daccuracy -  23.281250521540642\n",
            "gloss -  1.105839490890503\n",
            "dloss -  0.469931960105896   daccuracy -  21.953125298023224\n",
            "gloss -  1.001552939414978\n",
            "dloss -  0.41115106642246246   daccuracy -  28.593749925494194\n",
            "gloss -  1.1022394895553589\n",
            "dloss -  0.42781032621860504   daccuracy -  27.109375223517418\n",
            "gloss -  1.0645647048950195\n",
            "dloss -  0.41308752447366714   daccuracy -  26.718749478459358\n",
            "gloss -  1.265526294708252\n",
            "dloss -  0.44004593044519424   daccuracy -  24.21875\n",
            "gloss -  1.0276165008544922\n",
            "dloss -  0.3899133801460266   daccuracy -  30.937499552965164\n",
            "gloss -  1.1120110750198364\n",
            "dloss -  0.38531551510095596   daccuracy -  32.8125\n",
            "gloss -  1.0781561136245728\n",
            "dloss -  0.4418123960494995   daccuracy -  23.984375223517418\n",
            "gloss -  1.1187034845352173\n",
            "dloss -  0.43287040293216705   daccuracy -  25.859374925494194\n",
            "gloss -  1.0553562641143799\n",
            "INFO:tensorflow:Assets written to: discriminator_a/assets\n",
            "INFO:tensorflow:Assets written to: discriminator_b/assets\n"
          ],
          "name": "stdout"
        },
        {
          "output_type": "stream",
          "text": [
            "/usr/local/lib/python3.7/dist-packages/tensorflow/python/keras/utils/generic_utils.py:497: CustomMaskWarning: Custom mask layers require a config and must override get_config. When loading, the custom mask layer must be passed to the custom_objects argument.\n",
            "  category=CustomMaskWarning)\n"
          ],
          "name": "stderr"
        },
        {
          "output_type": "stream",
          "text": [
            "INFO:tensorflow:Assets written to: combined/assets\n",
            "WARNING:tensorflow:Compiled the loaded model, but the compiled metrics have yet to be built. `model.compile_metrics` will be empty until you train or evaluate the model.\n",
            "INFO:tensorflow:Assets written to: generator_ab/assets\n"
          ],
          "name": "stdout"
        },
        {
          "output_type": "stream",
          "text": [
            "/usr/local/lib/python3.7/dist-packages/tensorflow/python/keras/utils/generic_utils.py:497: CustomMaskWarning: Custom mask layers require a config and must override get_config. When loading, the custom mask layer must be passed to the custom_objects argument.\n",
            "  category=CustomMaskWarning)\n"
          ],
          "name": "stderr"
        },
        {
          "output_type": "stream",
          "text": [
            "WARNING:tensorflow:Compiled the loaded model, but the compiled metrics have yet to be built. `model.compile_metrics` will be empty until you train or evaluate the model.\n",
            "INFO:tensorflow:Assets written to: generator_ba/assets\n"
          ],
          "name": "stdout"
        },
        {
          "output_type": "stream",
          "text": [
            "/usr/local/lib/python3.7/dist-packages/tensorflow/python/keras/utils/generic_utils.py:497: CustomMaskWarning: Custom mask layers require a config and must override get_config. When loading, the custom mask layer must be passed to the custom_objects argument.\n",
            "  category=CustomMaskWarning)\n"
          ],
          "name": "stderr"
        },
        {
          "output_type": "stream",
          "text": [
            "epoch  55\n",
            "dloss -  0.4410731792449951   daccuracy -  24.687500298023224\n",
            "gloss -  1.0715450048446655\n",
            "dloss -  0.4502345696091652   daccuracy -  24.21875037252903\n",
            "gloss -  1.0317084789276123\n",
            "dloss -  0.427725687623024   daccuracy -  24.453124776482582\n",
            "gloss -  1.0716863870620728\n",
            "dloss -  0.4567951112985611   daccuracy -  21.87499962747097\n",
            "gloss -  1.1119952201843262\n",
            "dloss -  0.3939025551080704   daccuracy -  27.734375\n",
            "gloss -  1.0753893852233887\n",
            "dloss -  0.4533301144838333   daccuracy -  25.31249988824129\n",
            "gloss -  1.0765085220336914\n",
            "dloss -  0.41260168701410294   daccuracy -  25.703124701976776\n",
            "gloss -  1.0708690881729126\n",
            "dloss -  0.4738280922174454   daccuracy -  18.671875074505806\n",
            "gloss -  1.061592936515808\n",
            "dloss -  0.44531039148569107   daccuracy -  22.968750447034836\n",
            "gloss -  1.066501259803772\n",
            "dloss -  0.43031010031700134   daccuracy -  25.078124552965164\n",
            "gloss -  1.0110243558883667\n",
            "dloss -  0.4582211300730705   daccuracy -  25.312500074505806\n",
            "gloss -  1.1463412046432495\n",
            "dloss -  0.43384163826704025   daccuracy -  24.921874329447746\n",
            "gloss -  1.107189416885376\n",
            "dloss -  0.3853035792708397   daccuracy -  29.843750223517418\n",
            "gloss -  1.0315548181533813\n",
            "dloss -  0.3976558968424797   daccuracy -  30.703124403953552\n",
            "gloss -  1.1510789394378662\n",
            "INFO:tensorflow:Assets written to: discriminator_a/assets\n",
            "INFO:tensorflow:Assets written to: discriminator_b/assets\n"
          ],
          "name": "stdout"
        },
        {
          "output_type": "stream",
          "text": [
            "/usr/local/lib/python3.7/dist-packages/tensorflow/python/keras/utils/generic_utils.py:497: CustomMaskWarning: Custom mask layers require a config and must override get_config. When loading, the custom mask layer must be passed to the custom_objects argument.\n",
            "  category=CustomMaskWarning)\n"
          ],
          "name": "stderr"
        },
        {
          "output_type": "stream",
          "text": [
            "INFO:tensorflow:Assets written to: combined/assets\n",
            "WARNING:tensorflow:Compiled the loaded model, but the compiled metrics have yet to be built. `model.compile_metrics` will be empty until you train or evaluate the model.\n",
            "INFO:tensorflow:Assets written to: generator_ab/assets\n"
          ],
          "name": "stdout"
        },
        {
          "output_type": "stream",
          "text": [
            "/usr/local/lib/python3.7/dist-packages/tensorflow/python/keras/utils/generic_utils.py:497: CustomMaskWarning: Custom mask layers require a config and must override get_config. When loading, the custom mask layer must be passed to the custom_objects argument.\n",
            "  category=CustomMaskWarning)\n"
          ],
          "name": "stderr"
        },
        {
          "output_type": "stream",
          "text": [
            "WARNING:tensorflow:Compiled the loaded model, but the compiled metrics have yet to be built. `model.compile_metrics` will be empty until you train or evaluate the model.\n",
            "INFO:tensorflow:Assets written to: generator_ba/assets\n"
          ],
          "name": "stdout"
        },
        {
          "output_type": "stream",
          "text": [
            "/usr/local/lib/python3.7/dist-packages/tensorflow/python/keras/utils/generic_utils.py:497: CustomMaskWarning: Custom mask layers require a config and must override get_config. When loading, the custom mask layer must be passed to the custom_objects argument.\n",
            "  category=CustomMaskWarning)\n"
          ],
          "name": "stderr"
        },
        {
          "output_type": "stream",
          "text": [
            "epoch  56\n",
            "dloss -  0.4411211982369423   daccuracy -  23.671875521540642\n",
            "gloss -  1.0718731880187988\n",
            "dloss -  0.4155875891447067   daccuracy -  27.421875298023224\n",
            "gloss -  1.1454944610595703\n",
            "dloss -  0.4424993395805359   daccuracy -  22.812500223517418\n",
            "gloss -  1.0433515310287476\n",
            "dloss -  0.3936993256211281   daccuracy -  30.07812574505806\n",
            "gloss -  1.1200952529907227\n",
            "dloss -  0.4347509741783142   daccuracy -  25.859374925494194\n",
            "gloss -  1.0114309787750244\n",
            "dloss -  0.4022127166390419   daccuracy -  26.25000048428774\n",
            "gloss -  1.0687800645828247\n",
            "dloss -  0.4173310250043869   daccuracy -  24.531250447034836\n",
            "gloss -  0.9896860122680664\n",
            "dloss -  0.42829472571611404   daccuracy -  26.953125186264515\n",
            "gloss -  1.0808699131011963\n",
            "dloss -  0.40675370395183563   daccuracy -  31.093750149011612\n",
            "gloss -  1.216164469718933\n",
            "dloss -  0.4137052968144417   daccuracy -  25.625000149011612\n",
            "gloss -  1.1264852285385132\n",
            "dloss -  0.4372885748744011   daccuracy -  25.78125074505806\n",
            "gloss -  1.1106008291244507\n",
            "dloss -  0.451357364654541   daccuracy -  23.749999701976776\n",
            "gloss -  1.0512526035308838\n",
            "dloss -  0.45883841067552567   daccuracy -  22.812499850988388\n",
            "gloss -  1.1426528692245483\n",
            "dloss -  0.40980060398578644   daccuracy -  27.421875298023224\n",
            "gloss -  1.0994465351104736\n",
            "INFO:tensorflow:Assets written to: discriminator_a/assets\n",
            "INFO:tensorflow:Assets written to: discriminator_b/assets\n"
          ],
          "name": "stdout"
        },
        {
          "output_type": "stream",
          "text": [
            "/usr/local/lib/python3.7/dist-packages/tensorflow/python/keras/utils/generic_utils.py:497: CustomMaskWarning: Custom mask layers require a config and must override get_config. When loading, the custom mask layer must be passed to the custom_objects argument.\n",
            "  category=CustomMaskWarning)\n"
          ],
          "name": "stderr"
        },
        {
          "output_type": "stream",
          "text": [
            "INFO:tensorflow:Assets written to: combined/assets\n",
            "WARNING:tensorflow:Compiled the loaded model, but the compiled metrics have yet to be built. `model.compile_metrics` will be empty until you train or evaluate the model.\n",
            "INFO:tensorflow:Assets written to: generator_ab/assets\n"
          ],
          "name": "stdout"
        },
        {
          "output_type": "stream",
          "text": [
            "/usr/local/lib/python3.7/dist-packages/tensorflow/python/keras/utils/generic_utils.py:497: CustomMaskWarning: Custom mask layers require a config and must override get_config. When loading, the custom mask layer must be passed to the custom_objects argument.\n",
            "  category=CustomMaskWarning)\n"
          ],
          "name": "stderr"
        },
        {
          "output_type": "stream",
          "text": [
            "WARNING:tensorflow:Compiled the loaded model, but the compiled metrics have yet to be built. `model.compile_metrics` will be empty until you train or evaluate the model.\n",
            "INFO:tensorflow:Assets written to: generator_ba/assets\n"
          ],
          "name": "stdout"
        },
        {
          "output_type": "stream",
          "text": [
            "/usr/local/lib/python3.7/dist-packages/tensorflow/python/keras/utils/generic_utils.py:497: CustomMaskWarning: Custom mask layers require a config and must override get_config. When loading, the custom mask layer must be passed to the custom_objects argument.\n",
            "  category=CustomMaskWarning)\n"
          ],
          "name": "stderr"
        },
        {
          "output_type": "stream",
          "text": [
            "epoch  57\n",
            "dloss -  0.41062430292367935   daccuracy -  24.609375\n",
            "gloss -  0.9988520741462708\n",
            "dloss -  0.4177291840314865   daccuracy -  24.296874552965164\n",
            "gloss -  1.1529921293258667\n",
            "dloss -  0.4523724466562271   daccuracy -  24.062500149011612\n",
            "gloss -  1.0457613468170166\n",
            "dloss -  0.4231099635362625   daccuracy -  24.921875074505806\n",
            "gloss -  1.0476170778274536\n",
            "dloss -  0.4402923956513405   daccuracy -  24.609375\n",
            "gloss -  1.0780616998672485\n",
            "dloss -  0.45109858363866806   daccuracy -  23.43750037252903\n",
            "gloss -  1.092490553855896\n",
            "dloss -  0.4254397228360176   daccuracy -  24.296875298023224\n",
            "gloss -  1.207797646522522\n",
            "dloss -  0.47369787096977234   daccuracy -  20.937499776482582\n",
            "gloss -  1.0236835479736328\n",
            "dloss -  0.38963115960359573   daccuracy -  27.031249180436134\n",
            "gloss -  1.0885268449783325\n",
            "dloss -  0.41579733043909073   daccuracy -  28.515625\n",
            "gloss -  1.0635045766830444\n",
            "dloss -  0.43880607187747955   daccuracy -  22.65625\n",
            "gloss -  1.0874502658843994\n",
            "dloss -  0.39238377660512924   daccuracy -  28.281250223517418\n",
            "gloss -  1.0740247964859009\n",
            "dloss -  0.39983681589365005   daccuracy -  26.95312462747097\n",
            "gloss -  1.0799683332443237\n",
            "dloss -  0.42874712496995926   daccuracy -  25.937499478459358\n",
            "gloss -  1.1408129930496216\n",
            "INFO:tensorflow:Assets written to: discriminator_a/assets\n",
            "INFO:tensorflow:Assets written to: discriminator_b/assets\n"
          ],
          "name": "stdout"
        },
        {
          "output_type": "stream",
          "text": [
            "/usr/local/lib/python3.7/dist-packages/tensorflow/python/keras/utils/generic_utils.py:497: CustomMaskWarning: Custom mask layers require a config and must override get_config. When loading, the custom mask layer must be passed to the custom_objects argument.\n",
            "  category=CustomMaskWarning)\n"
          ],
          "name": "stderr"
        },
        {
          "output_type": "stream",
          "text": [
            "INFO:tensorflow:Assets written to: combined/assets\n",
            "WARNING:tensorflow:Compiled the loaded model, but the compiled metrics have yet to be built. `model.compile_metrics` will be empty until you train or evaluate the model.\n",
            "INFO:tensorflow:Assets written to: generator_ab/assets\n"
          ],
          "name": "stdout"
        },
        {
          "output_type": "stream",
          "text": [
            "/usr/local/lib/python3.7/dist-packages/tensorflow/python/keras/utils/generic_utils.py:497: CustomMaskWarning: Custom mask layers require a config and must override get_config. When loading, the custom mask layer must be passed to the custom_objects argument.\n",
            "  category=CustomMaskWarning)\n"
          ],
          "name": "stderr"
        },
        {
          "output_type": "stream",
          "text": [
            "WARNING:tensorflow:Compiled the loaded model, but the compiled metrics have yet to be built. `model.compile_metrics` will be empty until you train or evaluate the model.\n",
            "INFO:tensorflow:Assets written to: generator_ba/assets\n"
          ],
          "name": "stdout"
        },
        {
          "output_type": "stream",
          "text": [
            "/usr/local/lib/python3.7/dist-packages/tensorflow/python/keras/utils/generic_utils.py:497: CustomMaskWarning: Custom mask layers require a config and must override get_config. When loading, the custom mask layer must be passed to the custom_objects argument.\n",
            "  category=CustomMaskWarning)\n"
          ],
          "name": "stderr"
        },
        {
          "output_type": "stream",
          "text": [
            "epoch  58\n",
            "dloss -  0.4410955384373665   daccuracy -  22.26562537252903\n",
            "gloss -  1.0281339883804321\n",
            "dloss -  0.4266747385263443   daccuracy -  23.359375447034836\n",
            "gloss -  1.017838954925537\n",
            "dloss -  0.41281237453222275   daccuracy -  27.578124776482582\n",
            "gloss -  1.0983483791351318\n",
            "dloss -  0.4105854779481888   daccuracy -  24.687500298023224\n",
            "gloss -  1.1188706159591675\n",
            "dloss -  0.4417096748948097   daccuracy -  24.21875\n",
            "gloss -  1.0289380550384521\n",
            "dloss -  0.45609842985868454   daccuracy -  22.421874478459358\n",
            "gloss -  1.081579566001892\n",
            "dloss -  0.41535087674856186   daccuracy -  27.578125149011612\n",
            "gloss -  1.0810892581939697\n",
            "dloss -  0.41314220428466797   daccuracy -  25.156249850988388\n",
            "gloss -  1.0560446977615356\n",
            "dloss -  0.41700372099876404   daccuracy -  25.468749925494194\n",
            "gloss -  1.117224931716919\n",
            "dloss -  0.4532608166337013   daccuracy -  21.95312511175871\n",
            "gloss -  1.0218122005462646\n",
            "dloss -  0.38367853313684464   daccuracy -  28.984374552965164\n",
            "gloss -  1.110516905784607\n",
            "dloss -  0.419658400118351   daccuracy -  25.937500223517418\n",
            "gloss -  1.1824476718902588\n",
            "dloss -  0.41272060573101044   daccuracy -  23.828125\n",
            "gloss -  1.0863115787506104\n",
            "dloss -  0.4008588567376137   daccuracy -  30.07812574505806\n",
            "gloss -  1.1505680084228516\n",
            "INFO:tensorflow:Assets written to: discriminator_a/assets\n",
            "INFO:tensorflow:Assets written to: discriminator_b/assets\n"
          ],
          "name": "stdout"
        },
        {
          "output_type": "stream",
          "text": [
            "/usr/local/lib/python3.7/dist-packages/tensorflow/python/keras/utils/generic_utils.py:497: CustomMaskWarning: Custom mask layers require a config and must override get_config. When loading, the custom mask layer must be passed to the custom_objects argument.\n",
            "  category=CustomMaskWarning)\n"
          ],
          "name": "stderr"
        },
        {
          "output_type": "stream",
          "text": [
            "INFO:tensorflow:Assets written to: combined/assets\n",
            "WARNING:tensorflow:Compiled the loaded model, but the compiled metrics have yet to be built. `model.compile_metrics` will be empty until you train or evaluate the model.\n",
            "INFO:tensorflow:Assets written to: generator_ab/assets\n"
          ],
          "name": "stdout"
        },
        {
          "output_type": "stream",
          "text": [
            "/usr/local/lib/python3.7/dist-packages/tensorflow/python/keras/utils/generic_utils.py:497: CustomMaskWarning: Custom mask layers require a config and must override get_config. When loading, the custom mask layer must be passed to the custom_objects argument.\n",
            "  category=CustomMaskWarning)\n"
          ],
          "name": "stderr"
        },
        {
          "output_type": "stream",
          "text": [
            "WARNING:tensorflow:Compiled the loaded model, but the compiled metrics have yet to be built. `model.compile_metrics` will be empty until you train or evaluate the model.\n",
            "INFO:tensorflow:Assets written to: generator_ba/assets\n"
          ],
          "name": "stdout"
        },
        {
          "output_type": "stream",
          "text": [
            "/usr/local/lib/python3.7/dist-packages/tensorflow/python/keras/utils/generic_utils.py:497: CustomMaskWarning: Custom mask layers require a config and must override get_config. When loading, the custom mask layer must be passed to the custom_objects argument.\n",
            "  category=CustomMaskWarning)\n"
          ],
          "name": "stderr"
        },
        {
          "output_type": "stream",
          "text": [
            "epoch  59\n",
            "dloss -  0.4499860256910324   daccuracy -  22.499999776482582\n",
            "gloss -  1.0066536664962769\n",
            "dloss -  0.40949101001024246   daccuracy -  25.39062537252903\n",
            "gloss -  1.111032247543335\n",
            "dloss -  0.47513094544410706   daccuracy -  21.406250074505806\n",
            "gloss -  1.0455960035324097\n",
            "dloss -  0.4230337291955948   daccuracy -  22.890624403953552\n",
            "gloss -  1.1654982566833496\n",
            "dloss -  0.39575350284576416   daccuracy -  26.328124850988388\n",
            "gloss -  1.0174715518951416\n",
            "dloss -  0.46029506623744965   daccuracy -  21.796874701976776\n",
            "gloss -  1.1062334775924683\n",
            "dloss -  0.4620848521590233   daccuracy -  20.078124850988388\n",
            "gloss -  1.0108929872512817\n",
            "dloss -  0.4404892325401306   daccuracy -  22.734374180436134\n",
            "gloss -  1.0836204290390015\n",
            "dloss -  0.3966675400733948   daccuracy -  25.0\n",
            "gloss -  1.0354516506195068\n",
            "dloss -  0.4358873814344406   daccuracy -  21.640625223517418\n",
            "gloss -  1.0864325761795044\n",
            "dloss -  0.41273827850818634   daccuracy -  25.468749925494194\n",
            "gloss -  1.0841732025146484\n",
            "dloss -  0.390619195997715   daccuracy -  27.890624850988388\n",
            "gloss -  1.094531536102295\n",
            "dloss -  0.3906337320804596   daccuracy -  28.984375298023224\n",
            "gloss -  1.0687443017959595\n",
            "dloss -  0.4028254300355911   daccuracy -  25.937499850988388\n",
            "gloss -  1.098658561706543\n",
            "INFO:tensorflow:Assets written to: discriminator_a/assets\n",
            "INFO:tensorflow:Assets written to: discriminator_b/assets\n"
          ],
          "name": "stdout"
        },
        {
          "output_type": "stream",
          "text": [
            "/usr/local/lib/python3.7/dist-packages/tensorflow/python/keras/utils/generic_utils.py:497: CustomMaskWarning: Custom mask layers require a config and must override get_config. When loading, the custom mask layer must be passed to the custom_objects argument.\n",
            "  category=CustomMaskWarning)\n"
          ],
          "name": "stderr"
        },
        {
          "output_type": "stream",
          "text": [
            "INFO:tensorflow:Assets written to: combined/assets\n",
            "WARNING:tensorflow:Compiled the loaded model, but the compiled metrics have yet to be built. `model.compile_metrics` will be empty until you train or evaluate the model.\n",
            "INFO:tensorflow:Assets written to: generator_ab/assets\n"
          ],
          "name": "stdout"
        },
        {
          "output_type": "stream",
          "text": [
            "/usr/local/lib/python3.7/dist-packages/tensorflow/python/keras/utils/generic_utils.py:497: CustomMaskWarning: Custom mask layers require a config and must override get_config. When loading, the custom mask layer must be passed to the custom_objects argument.\n",
            "  category=CustomMaskWarning)\n"
          ],
          "name": "stderr"
        },
        {
          "output_type": "stream",
          "text": [
            "WARNING:tensorflow:Compiled the loaded model, but the compiled metrics have yet to be built. `model.compile_metrics` will be empty until you train or evaluate the model.\n",
            "INFO:tensorflow:Assets written to: generator_ba/assets\n"
          ],
          "name": "stdout"
        },
        {
          "output_type": "stream",
          "text": [
            "/usr/local/lib/python3.7/dist-packages/tensorflow/python/keras/utils/generic_utils.py:497: CustomMaskWarning: Custom mask layers require a config and must override get_config. When loading, the custom mask layer must be passed to the custom_objects argument.\n",
            "  category=CustomMaskWarning)\n"
          ],
          "name": "stderr"
        },
        {
          "output_type": "stream",
          "text": [
            "epoch  60\n",
            "dloss -  0.4029065668582916   daccuracy -  26.015624776482582\n",
            "gloss -  1.0718107223510742\n",
            "dloss -  0.45575176179409027   daccuracy -  19.21875011175871\n",
            "gloss -  1.0216336250305176\n",
            "dloss -  0.4235071465373039   daccuracy -  23.515624925494194\n",
            "gloss -  1.0448822975158691\n",
            "dloss -  0.40355104207992554   daccuracy -  25.859375298023224\n",
            "gloss -  1.1504400968551636\n",
            "dloss -  0.46575360000133514   daccuracy -  22.031250037252903\n",
            "gloss -  1.0522544384002686\n",
            "dloss -  0.3866473287343979   daccuracy -  28.437500074505806\n",
            "gloss -  1.0902292728424072\n",
            "dloss -  0.38353167474269867   daccuracy -  30.46875\n",
            "gloss -  1.16276216506958\n",
            "dloss -  0.4117886796593666   daccuracy -  27.890625223517418\n",
            "gloss -  1.1169260740280151\n",
            "dloss -  0.41622602194547653   daccuracy -  27.109375223517418\n",
            "gloss -  1.1018633842468262\n",
            "dloss -  0.3997066542506218   daccuracy -  24.99999962747097\n",
            "gloss -  1.1620491743087769\n",
            "dloss -  0.3974720314145088   daccuracy -  28.671874850988388\n",
            "gloss -  1.0571346282958984\n",
            "dloss -  0.41501040756702423   daccuracy -  27.578124403953552\n",
            "gloss -  1.0413546562194824\n",
            "dloss -  0.40307462215423584   daccuracy -  28.984375298023224\n",
            "gloss -  1.1221903562545776\n",
            "dloss -  0.4485997408628464   daccuracy -  24.609375\n",
            "gloss -  1.0840510129928589\n",
            "INFO:tensorflow:Assets written to: discriminator_a/assets\n",
            "INFO:tensorflow:Assets written to: discriminator_b/assets\n"
          ],
          "name": "stdout"
        },
        {
          "output_type": "stream",
          "text": [
            "/usr/local/lib/python3.7/dist-packages/tensorflow/python/keras/utils/generic_utils.py:497: CustomMaskWarning: Custom mask layers require a config and must override get_config. When loading, the custom mask layer must be passed to the custom_objects argument.\n",
            "  category=CustomMaskWarning)\n"
          ],
          "name": "stderr"
        },
        {
          "output_type": "stream",
          "text": [
            "INFO:tensorflow:Assets written to: combined/assets\n",
            "WARNING:tensorflow:Compiled the loaded model, but the compiled metrics have yet to be built. `model.compile_metrics` will be empty until you train or evaluate the model.\n",
            "INFO:tensorflow:Assets written to: generator_ab/assets\n"
          ],
          "name": "stdout"
        },
        {
          "output_type": "stream",
          "text": [
            "/usr/local/lib/python3.7/dist-packages/tensorflow/python/keras/utils/generic_utils.py:497: CustomMaskWarning: Custom mask layers require a config and must override get_config. When loading, the custom mask layer must be passed to the custom_objects argument.\n",
            "  category=CustomMaskWarning)\n"
          ],
          "name": "stderr"
        },
        {
          "output_type": "stream",
          "text": [
            "WARNING:tensorflow:Compiled the loaded model, but the compiled metrics have yet to be built. `model.compile_metrics` will be empty until you train or evaluate the model.\n",
            "INFO:tensorflow:Assets written to: generator_ba/assets\n"
          ],
          "name": "stdout"
        },
        {
          "output_type": "stream",
          "text": [
            "/usr/local/lib/python3.7/dist-packages/tensorflow/python/keras/utils/generic_utils.py:497: CustomMaskWarning: Custom mask layers require a config and must override get_config. When loading, the custom mask layer must be passed to the custom_objects argument.\n",
            "  category=CustomMaskWarning)\n"
          ],
          "name": "stderr"
        },
        {
          "output_type": "stream",
          "text": [
            "epoch  61\n",
            "dloss -  0.4389297813177109   daccuracy -  23.828125\n",
            "gloss -  1.0812630653381348\n",
            "dloss -  0.435292050242424   daccuracy -  25.312500447034836\n",
            "gloss -  1.120192050933838\n",
            "dloss -  0.4189148470759392   daccuracy -  26.093750074505806\n",
            "gloss -  1.181545376777649\n",
            "dloss -  0.40047717094421387   daccuracy -  27.812500298023224\n",
            "gloss -  1.0409573316574097\n",
            "dloss -  0.42201054841279984   daccuracy -  25.078124925494194\n",
            "gloss -  1.113755464553833\n",
            "dloss -  0.4409293159842491   daccuracy -  25.546874850988388\n",
            "gloss -  1.0788754224777222\n",
            "dloss -  0.3971910700201988   daccuracy -  28.437500447034836\n",
            "gloss -  1.0540117025375366\n",
            "dloss -  0.3767389580607414   daccuracy -  30.000000074505806\n",
            "gloss -  1.1533093452453613\n",
            "dloss -  0.42286140471696854   daccuracy -  25.234374776482582\n",
            "gloss -  1.0369304418563843\n",
            "dloss -  0.3811260834336281   daccuracy -  29.609374701976776\n",
            "gloss -  1.0820906162261963\n",
            "dloss -  0.3940160572528839   daccuracy -  29.453124850988388\n",
            "gloss -  1.1539926528930664\n",
            "dloss -  0.40175744891166687   daccuracy -  25.625000521540642\n",
            "gloss -  1.0446425676345825\n",
            "dloss -  0.40609464049339294   daccuracy -  28.90625037252903\n",
            "gloss -  1.201293706893921\n",
            "dloss -  0.38803505152463913   daccuracy -  28.984374552965164\n",
            "gloss -  1.1102571487426758\n",
            "INFO:tensorflow:Assets written to: discriminator_a/assets\n",
            "INFO:tensorflow:Assets written to: discriminator_b/assets\n"
          ],
          "name": "stdout"
        },
        {
          "output_type": "stream",
          "text": [
            "/usr/local/lib/python3.7/dist-packages/tensorflow/python/keras/utils/generic_utils.py:497: CustomMaskWarning: Custom mask layers require a config and must override get_config. When loading, the custom mask layer must be passed to the custom_objects argument.\n",
            "  category=CustomMaskWarning)\n"
          ],
          "name": "stderr"
        },
        {
          "output_type": "stream",
          "text": [
            "INFO:tensorflow:Assets written to: combined/assets\n",
            "WARNING:tensorflow:Compiled the loaded model, but the compiled metrics have yet to be built. `model.compile_metrics` will be empty until you train or evaluate the model.\n",
            "INFO:tensorflow:Assets written to: generator_ab/assets\n"
          ],
          "name": "stdout"
        },
        {
          "output_type": "stream",
          "text": [
            "/usr/local/lib/python3.7/dist-packages/tensorflow/python/keras/utils/generic_utils.py:497: CustomMaskWarning: Custom mask layers require a config and must override get_config. When loading, the custom mask layer must be passed to the custom_objects argument.\n",
            "  category=CustomMaskWarning)\n"
          ],
          "name": "stderr"
        },
        {
          "output_type": "stream",
          "text": [
            "WARNING:tensorflow:Compiled the loaded model, but the compiled metrics have yet to be built. `model.compile_metrics` will be empty until you train or evaluate the model.\n",
            "INFO:tensorflow:Assets written to: generator_ba/assets\n"
          ],
          "name": "stdout"
        },
        {
          "output_type": "stream",
          "text": [
            "/usr/local/lib/python3.7/dist-packages/tensorflow/python/keras/utils/generic_utils.py:497: CustomMaskWarning: Custom mask layers require a config and must override get_config. When loading, the custom mask layer must be passed to the custom_objects argument.\n",
            "  category=CustomMaskWarning)\n"
          ],
          "name": "stderr"
        },
        {
          "output_type": "stream",
          "text": [
            "epoch  62\n",
            "dloss -  0.3719511553645134   daccuracy -  31.093750149011612\n",
            "gloss -  1.125810146331787\n",
            "dloss -  0.44587989896535873   daccuracy -  24.062500149011612\n",
            "gloss -  1.0777181386947632\n",
            "dloss -  0.4105067476630211   daccuracy -  26.484375447034836\n",
            "gloss -  1.0671521425247192\n",
            "dloss -  0.40440046787261963   daccuracy -  26.17187574505806\n",
            "gloss -  1.1158207654953003\n",
            "dloss -  0.41638489812612534   daccuracy -  22.421875596046448\n",
            "gloss -  1.0339688062667847\n",
            "dloss -  0.38216181099414825   daccuracy -  26.171875\n",
            "gloss -  1.0393309593200684\n",
            "dloss -  0.45233573019504547   daccuracy -  23.593749478459358\n",
            "gloss -  1.0692859888076782\n",
            "dloss -  0.39856626093387604   daccuracy -  28.750000149011612\n",
            "gloss -  1.0990216732025146\n",
            "dloss -  0.40244612097740173   daccuracy -  25.78125037252903\n",
            "gloss -  1.0451279878616333\n",
            "dloss -  0.46754369884729385   daccuracy -  20.546875521540642\n",
            "gloss -  1.0792006254196167\n",
            "dloss -  0.44917508214712143   daccuracy -  20.31249962747097\n",
            "gloss -  1.1184221506118774\n",
            "dloss -  0.39395271986722946   daccuracy -  27.499999850988388\n",
            "gloss -  1.16057288646698\n",
            "dloss -  0.3878227323293686   daccuracy -  29.999999701976776\n",
            "gloss -  1.1538207530975342\n",
            "dloss -  0.3968505412340164   daccuracy -  31.953125447034836\n",
            "gloss -  1.1829288005828857\n",
            "INFO:tensorflow:Assets written to: discriminator_a/assets\n",
            "INFO:tensorflow:Assets written to: discriminator_b/assets\n"
          ],
          "name": "stdout"
        },
        {
          "output_type": "stream",
          "text": [
            "/usr/local/lib/python3.7/dist-packages/tensorflow/python/keras/utils/generic_utils.py:497: CustomMaskWarning: Custom mask layers require a config and must override get_config. When loading, the custom mask layer must be passed to the custom_objects argument.\n",
            "  category=CustomMaskWarning)\n"
          ],
          "name": "stderr"
        },
        {
          "output_type": "stream",
          "text": [
            "INFO:tensorflow:Assets written to: combined/assets\n",
            "WARNING:tensorflow:Compiled the loaded model, but the compiled metrics have yet to be built. `model.compile_metrics` will be empty until you train or evaluate the model.\n",
            "INFO:tensorflow:Assets written to: generator_ab/assets\n"
          ],
          "name": "stdout"
        },
        {
          "output_type": "stream",
          "text": [
            "/usr/local/lib/python3.7/dist-packages/tensorflow/python/keras/utils/generic_utils.py:497: CustomMaskWarning: Custom mask layers require a config and must override get_config. When loading, the custom mask layer must be passed to the custom_objects argument.\n",
            "  category=CustomMaskWarning)\n"
          ],
          "name": "stderr"
        },
        {
          "output_type": "stream",
          "text": [
            "WARNING:tensorflow:Compiled the loaded model, but the compiled metrics have yet to be built. `model.compile_metrics` will be empty until you train or evaluate the model.\n",
            "INFO:tensorflow:Assets written to: generator_ba/assets\n"
          ],
          "name": "stdout"
        },
        {
          "output_type": "stream",
          "text": [
            "/usr/local/lib/python3.7/dist-packages/tensorflow/python/keras/utils/generic_utils.py:497: CustomMaskWarning: Custom mask layers require a config and must override get_config. When loading, the custom mask layer must be passed to the custom_objects argument.\n",
            "  category=CustomMaskWarning)\n"
          ],
          "name": "stderr"
        },
        {
          "output_type": "stream",
          "text": [
            "epoch  63\n",
            "dloss -  0.4167463853955269   daccuracy -  26.406249776482582\n",
            "gloss -  1.180579662322998\n",
            "dloss -  0.39926502108573914   daccuracy -  29.140625149011612\n",
            "gloss -  1.0448827743530273\n",
            "dloss -  0.38518453389406204   daccuracy -  27.265625447034836\n",
            "gloss -  1.1114399433135986\n",
            "dloss -  0.43234220147132874   daccuracy -  21.406250074505806\n",
            "gloss -  1.1114983558654785\n",
            "dloss -  0.41925375908613205   daccuracy -  25.234375521540642\n",
            "gloss -  1.035363793373108\n",
            "dloss -  0.3932497426867485   daccuracy -  28.281250596046448\n",
            "gloss -  1.1511061191558838\n",
            "dloss -  0.4080384820699692   daccuracy -  29.218749701976776\n",
            "gloss -  1.1169353723526\n",
            "dloss -  0.3988220617175102   daccuracy -  28.515625\n",
            "gloss -  1.1778357028961182\n",
            "dloss -  0.4068170115351677   daccuracy -  27.890625596046448\n",
            "gloss -  1.0557526350021362\n",
            "dloss -  0.40435557812452316   daccuracy -  29.453125596046448\n",
            "gloss -  1.148849368095398\n",
            "dloss -  0.3599426671862602   daccuracy -  32.81249925494194\n",
            "gloss -  1.1931790113449097\n",
            "dloss -  0.4138830304145813   daccuracy -  28.437499701976776\n",
            "gloss -  1.1577805280685425\n",
            "dloss -  0.3611271232366562   daccuracy -  32.65625014901161\n",
            "gloss -  1.0365557670593262\n",
            "dloss -  0.4002133682370186   daccuracy -  28.281250596046448\n",
            "gloss -  1.0885629653930664\n",
            "INFO:tensorflow:Assets written to: discriminator_a/assets\n",
            "INFO:tensorflow:Assets written to: discriminator_b/assets\n"
          ],
          "name": "stdout"
        },
        {
          "output_type": "stream",
          "text": [
            "/usr/local/lib/python3.7/dist-packages/tensorflow/python/keras/utils/generic_utils.py:497: CustomMaskWarning: Custom mask layers require a config and must override get_config. When loading, the custom mask layer must be passed to the custom_objects argument.\n",
            "  category=CustomMaskWarning)\n"
          ],
          "name": "stderr"
        },
        {
          "output_type": "stream",
          "text": [
            "INFO:tensorflow:Assets written to: combined/assets\n",
            "WARNING:tensorflow:Compiled the loaded model, but the compiled metrics have yet to be built. `model.compile_metrics` will be empty until you train or evaluate the model.\n",
            "INFO:tensorflow:Assets written to: generator_ab/assets\n"
          ],
          "name": "stdout"
        },
        {
          "output_type": "stream",
          "text": [
            "/usr/local/lib/python3.7/dist-packages/tensorflow/python/keras/utils/generic_utils.py:497: CustomMaskWarning: Custom mask layers require a config and must override get_config. When loading, the custom mask layer must be passed to the custom_objects argument.\n",
            "  category=CustomMaskWarning)\n"
          ],
          "name": "stderr"
        },
        {
          "output_type": "stream",
          "text": [
            "WARNING:tensorflow:Compiled the loaded model, but the compiled metrics have yet to be built. `model.compile_metrics` will be empty until you train or evaluate the model.\n",
            "INFO:tensorflow:Assets written to: generator_ba/assets\n"
          ],
          "name": "stdout"
        },
        {
          "output_type": "stream",
          "text": [
            "/usr/local/lib/python3.7/dist-packages/tensorflow/python/keras/utils/generic_utils.py:497: CustomMaskWarning: Custom mask layers require a config and must override get_config. When loading, the custom mask layer must be passed to the custom_objects argument.\n",
            "  category=CustomMaskWarning)\n"
          ],
          "name": "stderr"
        },
        {
          "output_type": "stream",
          "text": [
            "epoch  64\n",
            "dloss -  0.4218064844608307   daccuracy -  26.328124850988388\n",
            "gloss -  1.0732513666152954\n",
            "dloss -  0.4572126567363739   daccuracy -  21.640624664723873\n",
            "gloss -  1.0419628620147705\n",
            "dloss -  0.44459783285856247   daccuracy -  23.593750223517418\n",
            "gloss -  1.1470204591751099\n",
            "dloss -  0.37454134970903397   daccuracy -  31.718750298023224\n",
            "gloss -  1.1473039388656616\n",
            "dloss -  0.43567273765802383   daccuracy -  22.343750298023224\n",
            "gloss -  1.1212124824523926\n",
            "dloss -  0.3728635013103485   daccuracy -  31.25000074505806\n",
            "gloss -  1.1228010654449463\n",
            "dloss -  0.38030464947223663   daccuracy -  30.46875\n",
            "gloss -  1.083878517150879\n",
            "dloss -  0.40774042159318924   daccuracy -  25.937499478459358\n",
            "gloss -  1.1143369674682617\n",
            "dloss -  0.3756091371178627   daccuracy -  31.406249850988388\n",
            "gloss -  1.0831117630004883\n",
            "dloss -  0.38295768201351166   daccuracy -  31.015624850988388\n",
            "gloss -  1.144321322441101\n",
            "dloss -  0.3706713020801544   daccuracy -  30.703125149011612\n",
            "gloss -  1.0618611574172974\n",
            "dloss -  0.43122698366642   daccuracy -  25.703125074505806\n",
            "gloss -  1.0644925832748413\n",
            "dloss -  0.37209615856409073   daccuracy -  28.203125298023224\n",
            "gloss -  1.2232387065887451\n",
            "dloss -  0.3856421709060669   daccuracy -  28.359375149011612\n",
            "gloss -  1.1175851821899414\n",
            "INFO:tensorflow:Assets written to: discriminator_a/assets\n",
            "INFO:tensorflow:Assets written to: discriminator_b/assets\n"
          ],
          "name": "stdout"
        },
        {
          "output_type": "stream",
          "text": [
            "/usr/local/lib/python3.7/dist-packages/tensorflow/python/keras/utils/generic_utils.py:497: CustomMaskWarning: Custom mask layers require a config and must override get_config. When loading, the custom mask layer must be passed to the custom_objects argument.\n",
            "  category=CustomMaskWarning)\n"
          ],
          "name": "stderr"
        },
        {
          "output_type": "stream",
          "text": [
            "INFO:tensorflow:Assets written to: combined/assets\n",
            "WARNING:tensorflow:Compiled the loaded model, but the compiled metrics have yet to be built. `model.compile_metrics` will be empty until you train or evaluate the model.\n",
            "INFO:tensorflow:Assets written to: generator_ab/assets\n"
          ],
          "name": "stdout"
        },
        {
          "output_type": "stream",
          "text": [
            "/usr/local/lib/python3.7/dist-packages/tensorflow/python/keras/utils/generic_utils.py:497: CustomMaskWarning: Custom mask layers require a config and must override get_config. When loading, the custom mask layer must be passed to the custom_objects argument.\n",
            "  category=CustomMaskWarning)\n"
          ],
          "name": "stderr"
        },
        {
          "output_type": "stream",
          "text": [
            "WARNING:tensorflow:Compiled the loaded model, but the compiled metrics have yet to be built. `model.compile_metrics` will be empty until you train or evaluate the model.\n",
            "INFO:tensorflow:Assets written to: generator_ba/assets\n"
          ],
          "name": "stdout"
        },
        {
          "output_type": "stream",
          "text": [
            "/usr/local/lib/python3.7/dist-packages/tensorflow/python/keras/utils/generic_utils.py:497: CustomMaskWarning: Custom mask layers require a config and must override get_config. When loading, the custom mask layer must be passed to the custom_objects argument.\n",
            "  category=CustomMaskWarning)\n"
          ],
          "name": "stderr"
        },
        {
          "output_type": "stream",
          "text": [
            "epoch  65\n",
            "dloss -  0.43311095237731934   daccuracy -  23.984374850988388\n",
            "gloss -  1.0846095085144043\n",
            "dloss -  0.40553396940231323   daccuracy -  26.406250149011612\n",
            "gloss -  1.166654348373413\n",
            "dloss -  0.4253804311156273   daccuracy -  23.515625670552254\n",
            "gloss -  1.0698987245559692\n",
            "dloss -  0.39671971648931503   daccuracy -  27.187500149011612\n",
            "gloss -  1.1203553676605225\n",
            "dloss -  0.40356815606355667   daccuracy -  25.546875223517418\n",
            "gloss -  1.0358052253723145\n",
            "dloss -  0.40329258143901825   daccuracy -  27.499999850988388\n",
            "gloss -  1.0651813745498657\n",
            "dloss -  0.41048910468816757   daccuracy -  25.703125074505806\n",
            "gloss -  1.134364128112793\n",
            "dloss -  0.3813622370362282   daccuracy -  29.062500596046448\n",
            "gloss -  1.0948138236999512\n",
            "dloss -  0.4073759615421295   daccuracy -  26.093750074505806\n",
            "gloss -  1.0610694885253906\n",
            "dloss -  0.39687349647283554   daccuracy -  25.703124329447746\n",
            "gloss -  1.045140266418457\n",
            "dloss -  0.38006120175123215   daccuracy -  28.51562537252903\n",
            "gloss -  1.1656455993652344\n",
            "dloss -  0.4165831357240677   daccuracy -  24.921875447034836\n",
            "gloss -  1.036177635192871\n",
            "dloss -  0.43171656131744385   daccuracy -  23.281250149011612\n",
            "gloss -  1.101541519165039\n",
            "dloss -  0.35259274393320084   daccuracy -  31.406249850988388\n",
            "gloss -  1.128157377243042\n",
            "INFO:tensorflow:Assets written to: discriminator_a/assets\n",
            "INFO:tensorflow:Assets written to: discriminator_b/assets\n"
          ],
          "name": "stdout"
        },
        {
          "output_type": "stream",
          "text": [
            "/usr/local/lib/python3.7/dist-packages/tensorflow/python/keras/utils/generic_utils.py:497: CustomMaskWarning: Custom mask layers require a config and must override get_config. When loading, the custom mask layer must be passed to the custom_objects argument.\n",
            "  category=CustomMaskWarning)\n"
          ],
          "name": "stderr"
        },
        {
          "output_type": "stream",
          "text": [
            "INFO:tensorflow:Assets written to: combined/assets\n",
            "WARNING:tensorflow:Compiled the loaded model, but the compiled metrics have yet to be built. `model.compile_metrics` will be empty until you train or evaluate the model.\n",
            "INFO:tensorflow:Assets written to: generator_ab/assets\n"
          ],
          "name": "stdout"
        },
        {
          "output_type": "stream",
          "text": [
            "/usr/local/lib/python3.7/dist-packages/tensorflow/python/keras/utils/generic_utils.py:497: CustomMaskWarning: Custom mask layers require a config and must override get_config. When loading, the custom mask layer must be passed to the custom_objects argument.\n",
            "  category=CustomMaskWarning)\n"
          ],
          "name": "stderr"
        },
        {
          "output_type": "stream",
          "text": [
            "WARNING:tensorflow:Compiled the loaded model, but the compiled metrics have yet to be built. `model.compile_metrics` will be empty until you train or evaluate the model.\n",
            "INFO:tensorflow:Assets written to: generator_ba/assets\n"
          ],
          "name": "stdout"
        },
        {
          "output_type": "stream",
          "text": [
            "/usr/local/lib/python3.7/dist-packages/tensorflow/python/keras/utils/generic_utils.py:497: CustomMaskWarning: Custom mask layers require a config and must override get_config. When loading, the custom mask layer must be passed to the custom_objects argument.\n",
            "  category=CustomMaskWarning)\n"
          ],
          "name": "stderr"
        },
        {
          "output_type": "stream",
          "text": [
            "epoch  66\n",
            "dloss -  0.3824588805437088   daccuracy -  26.796874776482582\n",
            "gloss -  1.0576132535934448\n",
            "dloss -  0.3970058411359787   daccuracy -  28.515625\n",
            "gloss -  1.0567415952682495\n",
            "dloss -  0.3887755200266838   daccuracy -  25.937499850988388\n",
            "gloss -  1.1044249534606934\n",
            "dloss -  0.41409581154584885   daccuracy -  22.500000149011612\n",
            "gloss -  1.078818678855896\n",
            "dloss -  0.450514055788517   daccuracy -  22.265624813735485\n",
            "gloss -  1.1134742498397827\n",
            "dloss -  0.3969690203666687   daccuracy -  27.265625819563866\n",
            "gloss -  1.0535986423492432\n",
            "dloss -  0.4284452870488167   daccuracy -  21.640625223517418\n",
            "gloss -  1.013034701347351\n",
            "dloss -  0.3844522312283516   daccuracy -  25.937500223517418\n",
            "gloss -  1.0191595554351807\n",
            "dloss -  0.405955970287323   daccuracy -  23.359375074505806\n",
            "gloss -  1.1438534259796143\n",
            "dloss -  0.41515758633613586   daccuracy -  25.312500074505806\n",
            "gloss -  1.0462673902511597\n",
            "dloss -  0.4158022031188011   daccuracy -  26.093750074505806\n",
            "gloss -  1.1447069644927979\n",
            "dloss -  0.37287620455026627   daccuracy -  28.203124552965164\n",
            "gloss -  1.1132956743240356\n",
            "dloss -  0.3810031861066818   daccuracy -  26.95312537252903\n",
            "gloss -  1.1033117771148682\n",
            "dloss -  0.4000709280371666   daccuracy -  26.875000447034836\n",
            "gloss -  1.1307703256607056\n",
            "INFO:tensorflow:Assets written to: discriminator_a/assets\n",
            "INFO:tensorflow:Assets written to: discriminator_b/assets\n"
          ],
          "name": "stdout"
        },
        {
          "output_type": "stream",
          "text": [
            "/usr/local/lib/python3.7/dist-packages/tensorflow/python/keras/utils/generic_utils.py:497: CustomMaskWarning: Custom mask layers require a config and must override get_config. When loading, the custom mask layer must be passed to the custom_objects argument.\n",
            "  category=CustomMaskWarning)\n"
          ],
          "name": "stderr"
        },
        {
          "output_type": "stream",
          "text": [
            "INFO:tensorflow:Assets written to: combined/assets\n",
            "WARNING:tensorflow:Compiled the loaded model, but the compiled metrics have yet to be built. `model.compile_metrics` will be empty until you train or evaluate the model.\n",
            "INFO:tensorflow:Assets written to: generator_ab/assets\n"
          ],
          "name": "stdout"
        },
        {
          "output_type": "stream",
          "text": [
            "/usr/local/lib/python3.7/dist-packages/tensorflow/python/keras/utils/generic_utils.py:497: CustomMaskWarning: Custom mask layers require a config and must override get_config. When loading, the custom mask layer must be passed to the custom_objects argument.\n",
            "  category=CustomMaskWarning)\n"
          ],
          "name": "stderr"
        },
        {
          "output_type": "stream",
          "text": [
            "WARNING:tensorflow:Compiled the loaded model, but the compiled metrics have yet to be built. `model.compile_metrics` will be empty until you train or evaluate the model.\n",
            "INFO:tensorflow:Assets written to: generator_ba/assets\n"
          ],
          "name": "stdout"
        },
        {
          "output_type": "stream",
          "text": [
            "/usr/local/lib/python3.7/dist-packages/tensorflow/python/keras/utils/generic_utils.py:497: CustomMaskWarning: Custom mask layers require a config and must override get_config. When loading, the custom mask layer must be passed to the custom_objects argument.\n",
            "  category=CustomMaskWarning)\n"
          ],
          "name": "stderr"
        },
        {
          "output_type": "stream",
          "text": [
            "epoch  67\n",
            "dloss -  0.36464210599660873   daccuracy -  29.999999329447746\n",
            "gloss -  1.1223549842834473\n",
            "dloss -  0.3934943452477455   daccuracy -  25.312499329447746\n",
            "gloss -  1.1394675970077515\n",
            "dloss -  0.3959294930100441   daccuracy -  26.56250074505806\n",
            "gloss -  1.0466060638427734\n",
            "dloss -  0.3781497925519943   daccuracy -  28.51562425494194\n",
            "gloss -  1.065422773361206\n",
            "dloss -  0.413688063621521   daccuracy -  21.249999850988388\n",
            "gloss -  1.0711599588394165\n",
            "dloss -  0.40054694563150406   daccuracy -  25.78124962747097\n",
            "gloss -  1.0974429845809937\n",
            "dloss -  0.4163590371608734   daccuracy -  25.78125\n",
            "gloss -  1.054319977760315\n",
            "dloss -  0.4063964933156967   daccuracy -  23.593749478459358\n",
            "gloss -  1.1254957914352417\n",
            "dloss -  0.44211215525865555   daccuracy -  23.046875\n",
            "gloss -  1.061652421951294\n",
            "dloss -  0.4073038026690483   daccuracy -  24.453125149011612\n",
            "gloss -  1.1305028200149536\n",
            "dloss -  0.38047922402620316   daccuracy -  27.265624701976776\n",
            "gloss -  1.0956616401672363\n",
            "dloss -  0.39212528616189957   daccuracy -  29.453125596046448\n",
            "gloss -  1.0212651491165161\n",
            "dloss -  0.40703506022691727   daccuracy -  25.859374552965164\n",
            "gloss -  1.0603724718093872\n",
            "dloss -  0.40319227427244186   daccuracy -  27.578124403953552\n",
            "gloss -  1.1269404888153076\n",
            "INFO:tensorflow:Assets written to: discriminator_a/assets\n",
            "INFO:tensorflow:Assets written to: discriminator_b/assets\n"
          ],
          "name": "stdout"
        },
        {
          "output_type": "stream",
          "text": [
            "/usr/local/lib/python3.7/dist-packages/tensorflow/python/keras/utils/generic_utils.py:497: CustomMaskWarning: Custom mask layers require a config and must override get_config. When loading, the custom mask layer must be passed to the custom_objects argument.\n",
            "  category=CustomMaskWarning)\n"
          ],
          "name": "stderr"
        },
        {
          "output_type": "stream",
          "text": [
            "INFO:tensorflow:Assets written to: combined/assets\n",
            "WARNING:tensorflow:Compiled the loaded model, but the compiled metrics have yet to be built. `model.compile_metrics` will be empty until you train or evaluate the model.\n",
            "INFO:tensorflow:Assets written to: generator_ab/assets\n"
          ],
          "name": "stdout"
        },
        {
          "output_type": "stream",
          "text": [
            "/usr/local/lib/python3.7/dist-packages/tensorflow/python/keras/utils/generic_utils.py:497: CustomMaskWarning: Custom mask layers require a config and must override get_config. When loading, the custom mask layer must be passed to the custom_objects argument.\n",
            "  category=CustomMaskWarning)\n"
          ],
          "name": "stderr"
        },
        {
          "output_type": "stream",
          "text": [
            "WARNING:tensorflow:Compiled the loaded model, but the compiled metrics have yet to be built. `model.compile_metrics` will be empty until you train or evaluate the model.\n",
            "INFO:tensorflow:Assets written to: generator_ba/assets\n"
          ],
          "name": "stdout"
        },
        {
          "output_type": "stream",
          "text": [
            "/usr/local/lib/python3.7/dist-packages/tensorflow/python/keras/utils/generic_utils.py:497: CustomMaskWarning: Custom mask layers require a config and must override get_config. When loading, the custom mask layer must be passed to the custom_objects argument.\n",
            "  category=CustomMaskWarning)\n"
          ],
          "name": "stderr"
        },
        {
          "output_type": "stream",
          "text": [
            "epoch  68\n",
            "dloss -  0.4041750207543373   daccuracy -  25.234375521540642\n",
            "gloss -  1.05118989944458\n",
            "dloss -  0.39050985872745514   daccuracy -  26.796875521540642\n",
            "gloss -  1.069628119468689\n",
            "dloss -  0.3784274160861969   daccuracy -  27.578124031424522\n",
            "gloss -  1.1523925065994263\n",
            "dloss -  0.3960198909044266   daccuracy -  27.968750149011612\n",
            "gloss -  1.1061599254608154\n",
            "dloss -  0.4303117021918297   daccuracy -  21.718749776482582\n",
            "gloss -  1.1126658916473389\n",
            "dloss -  0.41355492174625397   daccuracy -  23.593749850988388\n",
            "gloss -  1.0246663093566895\n",
            "dloss -  0.4276840090751648   daccuracy -  18.515625409781933\n",
            "gloss -  1.0283101797103882\n",
            "dloss -  0.3524295836687088   daccuracy -  31.093750149011612\n",
            "gloss -  1.0203434228897095\n",
            "dloss -  0.39887651801109314   daccuracy -  26.249999552965164\n",
            "gloss -  1.1711041927337646\n",
            "dloss -  0.4168922081589699   daccuracy -  22.890625149011612\n",
            "gloss -  1.039949893951416\n",
            "dloss -  0.353511281311512   daccuracy -  30.46875074505806\n",
            "gloss -  1.1061902046203613\n",
            "dloss -  0.4621937796473503   daccuracy -  19.21874973922968\n",
            "gloss -  1.0509710311889648\n",
            "dloss -  0.3845248743891716   daccuracy -  26.406250149011612\n",
            "gloss -  1.1111781597137451\n",
            "dloss -  0.3794468268752098   daccuracy -  28.125\n",
            "gloss -  1.1320134401321411\n",
            "INFO:tensorflow:Assets written to: discriminator_a/assets\n",
            "INFO:tensorflow:Assets written to: discriminator_b/assets\n"
          ],
          "name": "stdout"
        },
        {
          "output_type": "stream",
          "text": [
            "/usr/local/lib/python3.7/dist-packages/tensorflow/python/keras/utils/generic_utils.py:497: CustomMaskWarning: Custom mask layers require a config and must override get_config. When loading, the custom mask layer must be passed to the custom_objects argument.\n",
            "  category=CustomMaskWarning)\n"
          ],
          "name": "stderr"
        },
        {
          "output_type": "stream",
          "text": [
            "INFO:tensorflow:Assets written to: combined/assets\n",
            "WARNING:tensorflow:Compiled the loaded model, but the compiled metrics have yet to be built. `model.compile_metrics` will be empty until you train or evaluate the model.\n",
            "INFO:tensorflow:Assets written to: generator_ab/assets\n"
          ],
          "name": "stdout"
        },
        {
          "output_type": "stream",
          "text": [
            "/usr/local/lib/python3.7/dist-packages/tensorflow/python/keras/utils/generic_utils.py:497: CustomMaskWarning: Custom mask layers require a config and must override get_config. When loading, the custom mask layer must be passed to the custom_objects argument.\n",
            "  category=CustomMaskWarning)\n"
          ],
          "name": "stderr"
        },
        {
          "output_type": "stream",
          "text": [
            "WARNING:tensorflow:Compiled the loaded model, but the compiled metrics have yet to be built. `model.compile_metrics` will be empty until you train or evaluate the model.\n",
            "INFO:tensorflow:Assets written to: generator_ba/assets\n"
          ],
          "name": "stdout"
        },
        {
          "output_type": "stream",
          "text": [
            "/usr/local/lib/python3.7/dist-packages/tensorflow/python/keras/utils/generic_utils.py:497: CustomMaskWarning: Custom mask layers require a config and must override get_config. When loading, the custom mask layer must be passed to the custom_objects argument.\n",
            "  category=CustomMaskWarning)\n"
          ],
          "name": "stderr"
        },
        {
          "output_type": "stream",
          "text": [
            "epoch  69\n",
            "dloss -  0.4329846277832985   daccuracy -  21.562499552965164\n",
            "gloss -  1.0557897090911865\n",
            "dloss -  0.3784908130764961   daccuracy -  27.34374962747097\n",
            "gloss -  1.0476105213165283\n",
            "dloss -  0.39218805730342865   daccuracy -  26.328124850988388\n",
            "gloss -  1.0143605470657349\n",
            "dloss -  0.3828838989138603   daccuracy -  30.703125149011612\n",
            "gloss -  1.1598668098449707\n",
            "dloss -  0.3914487957954407   daccuracy -  25.78125037252903\n",
            "gloss -  1.0483782291412354\n",
            "dloss -  0.38003911077976227   daccuracy -  26.17187537252903\n",
            "gloss -  1.0978058576583862\n",
            "dloss -  0.38227707147598267   daccuracy -  26.718750223517418\n",
            "gloss -  1.1184145212173462\n",
            "dloss -  0.39565563201904297   daccuracy -  26.015624403953552\n",
            "gloss -  1.0852993726730347\n",
            "dloss -  0.36474069207906723   daccuracy -  27.812500298023224\n",
            "gloss -  1.0685490369796753\n",
            "dloss -  0.38605795055627823   daccuracy -  26.249999925494194\n",
            "gloss -  1.1084586381912231\n",
            "dloss -  0.4686192721128464   daccuracy -  20.000000298023224\n",
            "gloss -  0.9797142744064331\n",
            "dloss -  0.39301151782274246   daccuracy -  26.17187574505806\n",
            "gloss -  1.032285213470459\n",
            "dloss -  0.37577884644269943   daccuracy -  27.031249925494194\n",
            "gloss -  1.1592166423797607\n",
            "dloss -  0.40135710686445236   daccuracy -  24.296874925494194\n",
            "gloss -  1.1225717067718506\n",
            "INFO:tensorflow:Assets written to: discriminator_a/assets\n",
            "INFO:tensorflow:Assets written to: discriminator_b/assets\n"
          ],
          "name": "stdout"
        },
        {
          "output_type": "stream",
          "text": [
            "/usr/local/lib/python3.7/dist-packages/tensorflow/python/keras/utils/generic_utils.py:497: CustomMaskWarning: Custom mask layers require a config and must override get_config. When loading, the custom mask layer must be passed to the custom_objects argument.\n",
            "  category=CustomMaskWarning)\n"
          ],
          "name": "stderr"
        },
        {
          "output_type": "stream",
          "text": [
            "INFO:tensorflow:Assets written to: combined/assets\n",
            "WARNING:tensorflow:Compiled the loaded model, but the compiled metrics have yet to be built. `model.compile_metrics` will be empty until you train or evaluate the model.\n",
            "INFO:tensorflow:Assets written to: generator_ab/assets\n"
          ],
          "name": "stdout"
        },
        {
          "output_type": "stream",
          "text": [
            "/usr/local/lib/python3.7/dist-packages/tensorflow/python/keras/utils/generic_utils.py:497: CustomMaskWarning: Custom mask layers require a config and must override get_config. When loading, the custom mask layer must be passed to the custom_objects argument.\n",
            "  category=CustomMaskWarning)\n"
          ],
          "name": "stderr"
        },
        {
          "output_type": "stream",
          "text": [
            "WARNING:tensorflow:Compiled the loaded model, but the compiled metrics have yet to be built. `model.compile_metrics` will be empty until you train or evaluate the model.\n",
            "INFO:tensorflow:Assets written to: generator_ba/assets\n"
          ],
          "name": "stdout"
        },
        {
          "output_type": "stream",
          "text": [
            "/usr/local/lib/python3.7/dist-packages/tensorflow/python/keras/utils/generic_utils.py:497: CustomMaskWarning: Custom mask layers require a config and must override get_config. When loading, the custom mask layer must be passed to the custom_objects argument.\n",
            "  category=CustomMaskWarning)\n"
          ],
          "name": "stderr"
        },
        {
          "output_type": "stream",
          "text": [
            "epoch  70\n",
            "dloss -  0.38504060357809067   daccuracy -  26.5625\n",
            "gloss -  1.0791833400726318\n",
            "dloss -  0.38977469503879547   daccuracy -  24.375000223517418\n",
            "gloss -  1.0497688055038452\n",
            "dloss -  0.37127635627985   daccuracy -  29.140625149011612\n",
            "gloss -  1.0907317399978638\n",
            "dloss -  0.4397060349583626   daccuracy -  22.499999403953552\n",
            "gloss -  1.0008169412612915\n",
            "dloss -  0.39446622133255005   daccuracy -  26.015624776482582\n",
            "gloss -  1.0536224842071533\n",
            "dloss -  0.3926565647125244   daccuracy -  25.39062537252903\n",
            "gloss -  1.049026370048523\n",
            "dloss -  0.42693743854761124   daccuracy -  24.21874962747097\n",
            "gloss -  1.0857391357421875\n",
            "dloss -  0.4000690430402756   daccuracy -  26.328124850988388\n",
            "gloss -  1.1978923082351685\n",
            "dloss -  0.3716835007071495   daccuracy -  27.890625596046448\n",
            "gloss -  1.146527886390686\n",
            "dloss -  0.37465744465589523   daccuracy -  30.156250298023224\n",
            "gloss -  0.9788135290145874\n",
            "dloss -  0.4032101482152939   daccuracy -  23.906249925494194\n",
            "gloss -  1.1011070013046265\n",
            "dloss -  0.3590259328484535   daccuracy -  29.531249403953552\n",
            "gloss -  1.130681037902832\n",
            "dloss -  0.37725622951984406   daccuracy -  29.765624552965164\n",
            "gloss -  1.1482000350952148\n",
            "dloss -  0.4144996926188469   daccuracy -  23.359374701976776\n",
            "gloss -  1.1365041732788086\n",
            "INFO:tensorflow:Assets written to: discriminator_a/assets\n",
            "INFO:tensorflow:Assets written to: discriminator_b/assets\n"
          ],
          "name": "stdout"
        },
        {
          "output_type": "stream",
          "text": [
            "/usr/local/lib/python3.7/dist-packages/tensorflow/python/keras/utils/generic_utils.py:497: CustomMaskWarning: Custom mask layers require a config and must override get_config. When loading, the custom mask layer must be passed to the custom_objects argument.\n",
            "  category=CustomMaskWarning)\n"
          ],
          "name": "stderr"
        },
        {
          "output_type": "stream",
          "text": [
            "INFO:tensorflow:Assets written to: combined/assets\n",
            "WARNING:tensorflow:Compiled the loaded model, but the compiled metrics have yet to be built. `model.compile_metrics` will be empty until you train or evaluate the model.\n",
            "INFO:tensorflow:Assets written to: generator_ab/assets\n"
          ],
          "name": "stdout"
        },
        {
          "output_type": "stream",
          "text": [
            "/usr/local/lib/python3.7/dist-packages/tensorflow/python/keras/utils/generic_utils.py:497: CustomMaskWarning: Custom mask layers require a config and must override get_config. When loading, the custom mask layer must be passed to the custom_objects argument.\n",
            "  category=CustomMaskWarning)\n"
          ],
          "name": "stderr"
        },
        {
          "output_type": "stream",
          "text": [
            "WARNING:tensorflow:Compiled the loaded model, but the compiled metrics have yet to be built. `model.compile_metrics` will be empty until you train or evaluate the model.\n",
            "INFO:tensorflow:Assets written to: generator_ba/assets\n"
          ],
          "name": "stdout"
        },
        {
          "output_type": "stream",
          "text": [
            "/usr/local/lib/python3.7/dist-packages/tensorflow/python/keras/utils/generic_utils.py:497: CustomMaskWarning: Custom mask layers require a config and must override get_config. When loading, the custom mask layer must be passed to the custom_objects argument.\n",
            "  category=CustomMaskWarning)\n"
          ],
          "name": "stderr"
        },
        {
          "output_type": "stream",
          "text": [
            "epoch  71\n",
            "dloss -  0.41820303350687027   daccuracy -  22.109375149011612\n",
            "gloss -  1.0336462259292603\n",
            "dloss -  0.39764270931482315   daccuracy -  24.99999962747097\n",
            "gloss -  1.0953022241592407\n",
            "dloss -  0.3937176465988159   daccuracy -  25.312500074505806\n",
            "gloss -  1.1232784986495972\n",
            "dloss -  0.3781774640083313   daccuracy -  27.656249329447746\n",
            "gloss -  1.1929171085357666\n",
            "dloss -  0.3622696176171303   daccuracy -  29.45312410593033\n",
            "gloss -  1.0910120010375977\n",
            "dloss -  0.3616342917084694   daccuracy -  32.96874985098839\n",
            "gloss -  1.1766453981399536\n",
            "dloss -  0.3951910361647606   daccuracy -  27.73437462747097\n",
            "gloss -  1.0890018939971924\n",
            "dloss -  0.39932314306497574   daccuracy -  24.140625074505806\n",
            "gloss -  1.0633426904678345\n",
            "dloss -  0.4020293727517128   daccuracy -  27.578125149011612\n",
            "gloss -  1.0812381505966187\n",
            "dloss -  0.3637394532561302   daccuracy -  29.453125223517418\n",
            "gloss -  1.1569455862045288\n",
            "dloss -  0.3833552673459053   daccuracy -  25.703124701976776\n",
            "gloss -  1.063976764678955\n",
            "dloss -  0.4330439940094948   daccuracy -  25.468749925494194\n",
            "gloss -  1.0508012771606445\n",
            "dloss -  0.3707786276936531   daccuracy -  31.406249850988388\n",
            "gloss -  1.077390193939209\n",
            "dloss -  0.40297430008649826   daccuracy -  24.531250819563866\n",
            "gloss -  1.1556816101074219\n",
            "INFO:tensorflow:Assets written to: discriminator_a/assets\n",
            "INFO:tensorflow:Assets written to: discriminator_b/assets\n"
          ],
          "name": "stdout"
        },
        {
          "output_type": "stream",
          "text": [
            "/usr/local/lib/python3.7/dist-packages/tensorflow/python/keras/utils/generic_utils.py:497: CustomMaskWarning: Custom mask layers require a config and must override get_config. When loading, the custom mask layer must be passed to the custom_objects argument.\n",
            "  category=CustomMaskWarning)\n"
          ],
          "name": "stderr"
        },
        {
          "output_type": "stream",
          "text": [
            "INFO:tensorflow:Assets written to: combined/assets\n",
            "WARNING:tensorflow:Compiled the loaded model, but the compiled metrics have yet to be built. `model.compile_metrics` will be empty until you train or evaluate the model.\n",
            "INFO:tensorflow:Assets written to: generator_ab/assets\n"
          ],
          "name": "stdout"
        },
        {
          "output_type": "stream",
          "text": [
            "/usr/local/lib/python3.7/dist-packages/tensorflow/python/keras/utils/generic_utils.py:497: CustomMaskWarning: Custom mask layers require a config and must override get_config. When loading, the custom mask layer must be passed to the custom_objects argument.\n",
            "  category=CustomMaskWarning)\n"
          ],
          "name": "stderr"
        },
        {
          "output_type": "stream",
          "text": [
            "WARNING:tensorflow:Compiled the loaded model, but the compiled metrics have yet to be built. `model.compile_metrics` will be empty until you train or evaluate the model.\n",
            "INFO:tensorflow:Assets written to: generator_ba/assets\n"
          ],
          "name": "stdout"
        },
        {
          "output_type": "stream",
          "text": [
            "/usr/local/lib/python3.7/dist-packages/tensorflow/python/keras/utils/generic_utils.py:497: CustomMaskWarning: Custom mask layers require a config and must override get_config. When loading, the custom mask layer must be passed to the custom_objects argument.\n",
            "  category=CustomMaskWarning)\n"
          ],
          "name": "stderr"
        },
        {
          "output_type": "stream",
          "text": [
            "epoch  72\n",
            "dloss -  0.37456709146499634   daccuracy -  28.593750298023224\n",
            "gloss -  1.0772554874420166\n",
            "dloss -  0.40769702941179276   daccuracy -  23.671874776482582\n",
            "gloss -  1.1508262157440186\n",
            "dloss -  0.34567566215991974   daccuracy -  32.499999552965164\n",
            "gloss -  1.0430642366409302\n",
            "dloss -  0.382693350315094   daccuracy -  29.765624925494194\n",
            "gloss -  1.177441954612732\n",
            "dloss -  0.3950026109814644   daccuracy -  24.843750149011612\n",
            "gloss -  1.0835784673690796\n",
            "dloss -  0.3484247922897339   daccuracy -  30.31250089406967\n",
            "gloss -  1.0823211669921875\n",
            "dloss -  0.3975307196378708   daccuracy -  24.531249329447746\n",
            "gloss -  1.064941644668579\n",
            "dloss -  0.3848741129040718   daccuracy -  30.07812425494194\n",
            "gloss -  1.084945559501648\n",
            "dloss -  0.3625338450074196   daccuracy -  30.703124403953552\n",
            "gloss -  1.102006196975708\n",
            "dloss -  0.3882399722933769   daccuracy -  26.5625\n",
            "gloss -  1.0862513780593872\n",
            "dloss -  0.39531007409095764   daccuracy -  27.34375\n",
            "gloss -  1.169619083404541\n",
            "dloss -  0.39889951050281525   daccuracy -  26.640625298023224\n",
            "gloss -  1.0642226934432983\n",
            "dloss -  0.3770723417401314   daccuracy -  30.546875298023224\n",
            "gloss -  1.1402372121810913\n",
            "dloss -  0.40620531141757965   daccuracy -  26.718750223517418\n",
            "gloss -  1.068297266960144\n",
            "INFO:tensorflow:Assets written to: discriminator_a/assets\n",
            "INFO:tensorflow:Assets written to: discriminator_b/assets\n"
          ],
          "name": "stdout"
        },
        {
          "output_type": "stream",
          "text": [
            "/usr/local/lib/python3.7/dist-packages/tensorflow/python/keras/utils/generic_utils.py:497: CustomMaskWarning: Custom mask layers require a config and must override get_config. When loading, the custom mask layer must be passed to the custom_objects argument.\n",
            "  category=CustomMaskWarning)\n"
          ],
          "name": "stderr"
        },
        {
          "output_type": "stream",
          "text": [
            "INFO:tensorflow:Assets written to: combined/assets\n",
            "WARNING:tensorflow:Compiled the loaded model, but the compiled metrics have yet to be built. `model.compile_metrics` will be empty until you train or evaluate the model.\n",
            "INFO:tensorflow:Assets written to: generator_ab/assets\n"
          ],
          "name": "stdout"
        },
        {
          "output_type": "stream",
          "text": [
            "/usr/local/lib/python3.7/dist-packages/tensorflow/python/keras/utils/generic_utils.py:497: CustomMaskWarning: Custom mask layers require a config and must override get_config. When loading, the custom mask layer must be passed to the custom_objects argument.\n",
            "  category=CustomMaskWarning)\n"
          ],
          "name": "stderr"
        },
        {
          "output_type": "stream",
          "text": [
            "WARNING:tensorflow:Compiled the loaded model, but the compiled metrics have yet to be built. `model.compile_metrics` will be empty until you train or evaluate the model.\n",
            "INFO:tensorflow:Assets written to: generator_ba/assets\n"
          ],
          "name": "stdout"
        },
        {
          "output_type": "stream",
          "text": [
            "/usr/local/lib/python3.7/dist-packages/tensorflow/python/keras/utils/generic_utils.py:497: CustomMaskWarning: Custom mask layers require a config and must override get_config. When loading, the custom mask layer must be passed to the custom_objects argument.\n",
            "  category=CustomMaskWarning)\n"
          ],
          "name": "stderr"
        },
        {
          "output_type": "stream",
          "text": [
            "epoch  73\n",
            "dloss -  0.38951966166496277   daccuracy -  24.453125149011612\n",
            "gloss -  1.0758594274520874\n",
            "dloss -  0.3706904575228691   daccuracy -  28.12500074505806\n",
            "gloss -  1.1301525831222534\n",
            "dloss -  0.3845561742782593   daccuracy -  25.468749552965164\n",
            "gloss -  1.093273401260376\n",
            "dloss -  0.3654373660683632   daccuracy -  30.234374850988388\n",
            "gloss -  1.196411371231079\n",
            "dloss -  0.38578589260578156   daccuracy -  26.796874776482582\n",
            "gloss -  1.0574954748153687\n",
            "dloss -  0.37963274121284485   daccuracy -  31.796875596046448\n",
            "gloss -  1.1656830310821533\n",
            "dloss -  0.3916589468717575   daccuracy -  25.546874850988388\n",
            "gloss -  1.0565322637557983\n",
            "dloss -  0.347074918448925   daccuracy -  31.562500447034836\n",
            "gloss -  1.0624228715896606\n",
            "dloss -  0.3681682422757149   daccuracy -  29.609375074505806\n",
            "gloss -  1.0647846460342407\n",
            "dloss -  0.3812471330165863   daccuracy -  28.046875447034836\n",
            "gloss -  1.1151492595672607\n",
            "dloss -  0.4180026948451996   daccuracy -  23.828125\n",
            "gloss -  1.0594497919082642\n",
            "dloss -  0.40453940629959106   daccuracy -  23.04687462747097\n",
            "gloss -  1.031536340713501\n",
            "dloss -  0.39131439477205276   daccuracy -  24.140625074505806\n",
            "gloss -  1.0849175453186035\n",
            "dloss -  0.38326556235551834   daccuracy -  25.39062462747097\n",
            "gloss -  1.078500747680664\n",
            "INFO:tensorflow:Assets written to: discriminator_a/assets\n",
            "INFO:tensorflow:Assets written to: discriminator_b/assets\n"
          ],
          "name": "stdout"
        },
        {
          "output_type": "stream",
          "text": [
            "/usr/local/lib/python3.7/dist-packages/tensorflow/python/keras/utils/generic_utils.py:497: CustomMaskWarning: Custom mask layers require a config and must override get_config. When loading, the custom mask layer must be passed to the custom_objects argument.\n",
            "  category=CustomMaskWarning)\n"
          ],
          "name": "stderr"
        },
        {
          "output_type": "stream",
          "text": [
            "INFO:tensorflow:Assets written to: combined/assets\n",
            "WARNING:tensorflow:Compiled the loaded model, but the compiled metrics have yet to be built. `model.compile_metrics` will be empty until you train or evaluate the model.\n",
            "INFO:tensorflow:Assets written to: generator_ab/assets\n"
          ],
          "name": "stdout"
        },
        {
          "output_type": "stream",
          "text": [
            "/usr/local/lib/python3.7/dist-packages/tensorflow/python/keras/utils/generic_utils.py:497: CustomMaskWarning: Custom mask layers require a config and must override get_config. When loading, the custom mask layer must be passed to the custom_objects argument.\n",
            "  category=CustomMaskWarning)\n"
          ],
          "name": "stderr"
        },
        {
          "output_type": "stream",
          "text": [
            "WARNING:tensorflow:Compiled the loaded model, but the compiled metrics have yet to be built. `model.compile_metrics` will be empty until you train or evaluate the model.\n",
            "INFO:tensorflow:Assets written to: generator_ba/assets\n"
          ],
          "name": "stdout"
        },
        {
          "output_type": "stream",
          "text": [
            "/usr/local/lib/python3.7/dist-packages/tensorflow/python/keras/utils/generic_utils.py:497: CustomMaskWarning: Custom mask layers require a config and must override get_config. When loading, the custom mask layer must be passed to the custom_objects argument.\n",
            "  category=CustomMaskWarning)\n"
          ],
          "name": "stderr"
        },
        {
          "output_type": "stream",
          "text": [
            "epoch  74\n",
            "dloss -  0.36747241020202637   daccuracy -  27.34374962747097\n",
            "gloss -  1.1297029256820679\n",
            "dloss -  0.3798336535692215   daccuracy -  26.718749850988388\n",
            "gloss -  1.0524731874465942\n",
            "dloss -  0.39991507679224014   daccuracy -  26.093750447034836\n",
            "gloss -  1.089422583580017\n",
            "dloss -  0.3615734726190567   daccuracy -  28.12500074505806\n",
            "gloss -  1.0950971841812134\n",
            "dloss -  0.4288093224167824   daccuracy -  24.140625074505806\n",
            "gloss -  1.0448110103607178\n",
            "dloss -  0.3774830177426338   daccuracy -  26.875000447034836\n",
            "gloss -  1.0444532632827759\n",
            "dloss -  0.39511530846357346   daccuracy -  28.593750298023224\n",
            "gloss -  1.1226835250854492\n",
            "dloss -  0.3757326081395149   daccuracy -  29.218751192092896\n",
            "gloss -  1.1324310302734375\n",
            "dloss -  0.37749189138412476   daccuracy -  26.5625\n",
            "gloss -  1.0412517786026\n",
            "dloss -  0.39111798256635666   daccuracy -  25.468749925494194\n",
            "gloss -  1.1777704954147339\n",
            "dloss -  0.37402650713920593   daccuracy -  26.406249403953552\n",
            "gloss -  1.1067321300506592\n",
            "dloss -  0.3889484629034996   daccuracy -  27.890625596046448\n",
            "gloss -  1.1023757457733154\n",
            "dloss -  0.373332217335701   daccuracy -  30.234374850988388\n",
            "gloss -  1.1205333471298218\n",
            "dloss -  0.37594037503004074   daccuracy -  25.234375149011612\n",
            "gloss -  1.0746023654937744\n",
            "INFO:tensorflow:Assets written to: discriminator_a/assets\n",
            "INFO:tensorflow:Assets written to: discriminator_b/assets\n"
          ],
          "name": "stdout"
        },
        {
          "output_type": "stream",
          "text": [
            "/usr/local/lib/python3.7/dist-packages/tensorflow/python/keras/utils/generic_utils.py:497: CustomMaskWarning: Custom mask layers require a config and must override get_config. When loading, the custom mask layer must be passed to the custom_objects argument.\n",
            "  category=CustomMaskWarning)\n"
          ],
          "name": "stderr"
        },
        {
          "output_type": "stream",
          "text": [
            "INFO:tensorflow:Assets written to: combined/assets\n",
            "WARNING:tensorflow:Compiled the loaded model, but the compiled metrics have yet to be built. `model.compile_metrics` will be empty until you train or evaluate the model.\n",
            "INFO:tensorflow:Assets written to: generator_ab/assets\n"
          ],
          "name": "stdout"
        },
        {
          "output_type": "stream",
          "text": [
            "/usr/local/lib/python3.7/dist-packages/tensorflow/python/keras/utils/generic_utils.py:497: CustomMaskWarning: Custom mask layers require a config and must override get_config. When loading, the custom mask layer must be passed to the custom_objects argument.\n",
            "  category=CustomMaskWarning)\n"
          ],
          "name": "stderr"
        },
        {
          "output_type": "stream",
          "text": [
            "WARNING:tensorflow:Compiled the loaded model, but the compiled metrics have yet to be built. `model.compile_metrics` will be empty until you train or evaluate the model.\n",
            "INFO:tensorflow:Assets written to: generator_ba/assets\n"
          ],
          "name": "stdout"
        },
        {
          "output_type": "stream",
          "text": [
            "/usr/local/lib/python3.7/dist-packages/tensorflow/python/keras/utils/generic_utils.py:497: CustomMaskWarning: Custom mask layers require a config and must override get_config. When loading, the custom mask layer must be passed to the custom_objects argument.\n",
            "  category=CustomMaskWarning)\n"
          ],
          "name": "stderr"
        },
        {
          "output_type": "stream",
          "text": [
            "epoch  75\n",
            "dloss -  0.35519618541002274   daccuracy -  29.6875\n",
            "gloss -  1.0774108171463013\n",
            "dloss -  0.37473567575216293   daccuracy -  27.187500521540642\n",
            "gloss -  1.0677556991577148\n",
            "dloss -  0.4399183839559555   daccuracy -  21.953124925494194\n",
            "gloss -  1.0287065505981445\n",
            "dloss -  0.3439539223909378   daccuracy -  32.57812485098839\n",
            "gloss -  1.057875394821167\n",
            "dloss -  0.4029904901981354   daccuracy -  24.687499552965164\n",
            "gloss -  1.0967180728912354\n",
            "dloss -  0.3849138244986534   daccuracy -  26.875000074505806\n",
            "gloss -  1.1524122953414917\n",
            "dloss -  0.3618943989276886   daccuracy -  29.999999701976776\n",
            "gloss -  1.1737521886825562\n",
            "dloss -  0.4120509549975395   daccuracy -  22.109375335276127\n",
            "gloss -  1.0551806688308716\n",
            "dloss -  0.34542445838451385   daccuracy -  33.35937485098839\n",
            "gloss -  1.0551153421401978\n",
            "dloss -  0.37935175746679306   daccuracy -  30.156249552965164\n",
            "gloss -  1.067408800125122\n",
            "dloss -  0.3759204223752022   daccuracy -  29.92187589406967\n",
            "gloss -  1.2445553541183472\n",
            "dloss -  0.369546502828598   daccuracy -  28.750000149011612\n",
            "gloss -  1.1392889022827148\n",
            "dloss -  0.38387247174978256   daccuracy -  26.093750819563866\n",
            "gloss -  1.121099829673767\n",
            "dloss -  0.35644109547138214   daccuracy -  31.484374403953552\n",
            "gloss -  1.0992107391357422\n",
            "INFO:tensorflow:Assets written to: discriminator_a/assets\n",
            "INFO:tensorflow:Assets written to: discriminator_b/assets\n"
          ],
          "name": "stdout"
        },
        {
          "output_type": "stream",
          "text": [
            "/usr/local/lib/python3.7/dist-packages/tensorflow/python/keras/utils/generic_utils.py:497: CustomMaskWarning: Custom mask layers require a config and must override get_config. When loading, the custom mask layer must be passed to the custom_objects argument.\n",
            "  category=CustomMaskWarning)\n"
          ],
          "name": "stderr"
        },
        {
          "output_type": "stream",
          "text": [
            "INFO:tensorflow:Assets written to: combined/assets\n",
            "WARNING:tensorflow:Compiled the loaded model, but the compiled metrics have yet to be built. `model.compile_metrics` will be empty until you train or evaluate the model.\n",
            "INFO:tensorflow:Assets written to: generator_ab/assets\n"
          ],
          "name": "stdout"
        },
        {
          "output_type": "stream",
          "text": [
            "/usr/local/lib/python3.7/dist-packages/tensorflow/python/keras/utils/generic_utils.py:497: CustomMaskWarning: Custom mask layers require a config and must override get_config. When loading, the custom mask layer must be passed to the custom_objects argument.\n",
            "  category=CustomMaskWarning)\n"
          ],
          "name": "stderr"
        },
        {
          "output_type": "stream",
          "text": [
            "WARNING:tensorflow:Compiled the loaded model, but the compiled metrics have yet to be built. `model.compile_metrics` will be empty until you train or evaluate the model.\n",
            "INFO:tensorflow:Assets written to: generator_ba/assets\n"
          ],
          "name": "stdout"
        },
        {
          "output_type": "stream",
          "text": [
            "/usr/local/lib/python3.7/dist-packages/tensorflow/python/keras/utils/generic_utils.py:497: CustomMaskWarning: Custom mask layers require a config and must override get_config. When loading, the custom mask layer must be passed to the custom_objects argument.\n",
            "  category=CustomMaskWarning)\n"
          ],
          "name": "stderr"
        },
        {
          "output_type": "stream",
          "text": [
            "epoch  76\n",
            "dloss -  0.3677366003394127   daccuracy -  26.718750596046448\n",
            "gloss -  1.0673311948776245\n",
            "dloss -  0.3770349472761154   daccuracy -  25.859375670552254\n",
            "gloss -  1.0937563180923462\n",
            "dloss -  0.3409949168562889   daccuracy -  33.984375\n",
            "gloss -  1.0870442390441895\n",
            "dloss -  0.37916993349790573   daccuracy -  25.234375149011612\n",
            "gloss -  1.0908730030059814\n",
            "dloss -  0.3778808042407036   daccuracy -  27.421875670552254\n",
            "gloss -  1.0819344520568848\n",
            "dloss -  0.40570367127656937   daccuracy -  22.812500223517418\n",
            "gloss -  1.0743751525878906\n",
            "dloss -  0.41351688653230667   daccuracy -  25.234374776482582\n",
            "gloss -  1.1075364351272583\n",
            "dloss -  0.3662535324692726   daccuracy -  27.812500298023224\n",
            "gloss -  1.1188104152679443\n",
            "dloss -  0.3855776786804199   daccuracy -  25.624999776482582\n",
            "gloss -  1.1145875453948975\n",
            "dloss -  0.369678370654583   daccuracy -  28.828124701976776\n",
            "gloss -  1.0631660223007202\n",
            "dloss -  0.38224001228809357   daccuracy -  27.578125149011612\n",
            "gloss -  1.0773265361785889\n",
            "dloss -  0.36089076846838   daccuracy -  29.84374910593033\n",
            "gloss -  1.1539956331253052\n",
            "dloss -  0.4070783630013466   daccuracy -  23.437499813735485\n",
            "gloss -  1.0578582286834717\n",
            "dloss -  0.35703858733177185   daccuracy -  29.140624403953552\n",
            "gloss -  1.0631805658340454\n",
            "INFO:tensorflow:Assets written to: discriminator_a/assets\n",
            "INFO:tensorflow:Assets written to: discriminator_b/assets\n"
          ],
          "name": "stdout"
        },
        {
          "output_type": "stream",
          "text": [
            "/usr/local/lib/python3.7/dist-packages/tensorflow/python/keras/utils/generic_utils.py:497: CustomMaskWarning: Custom mask layers require a config and must override get_config. When loading, the custom mask layer must be passed to the custom_objects argument.\n",
            "  category=CustomMaskWarning)\n"
          ],
          "name": "stderr"
        },
        {
          "output_type": "stream",
          "text": [
            "INFO:tensorflow:Assets written to: combined/assets\n",
            "WARNING:tensorflow:Compiled the loaded model, but the compiled metrics have yet to be built. `model.compile_metrics` will be empty until you train or evaluate the model.\n",
            "INFO:tensorflow:Assets written to: generator_ab/assets\n"
          ],
          "name": "stdout"
        },
        {
          "output_type": "stream",
          "text": [
            "/usr/local/lib/python3.7/dist-packages/tensorflow/python/keras/utils/generic_utils.py:497: CustomMaskWarning: Custom mask layers require a config and must override get_config. When loading, the custom mask layer must be passed to the custom_objects argument.\n",
            "  category=CustomMaskWarning)\n"
          ],
          "name": "stderr"
        },
        {
          "output_type": "stream",
          "text": [
            "WARNING:tensorflow:Compiled the loaded model, but the compiled metrics have yet to be built. `model.compile_metrics` will be empty until you train or evaluate the model.\n",
            "INFO:tensorflow:Assets written to: generator_ba/assets\n"
          ],
          "name": "stdout"
        },
        {
          "output_type": "stream",
          "text": [
            "/usr/local/lib/python3.7/dist-packages/tensorflow/python/keras/utils/generic_utils.py:497: CustomMaskWarning: Custom mask layers require a config and must override get_config. When loading, the custom mask layer must be passed to the custom_objects argument.\n",
            "  category=CustomMaskWarning)\n"
          ],
          "name": "stderr"
        },
        {
          "output_type": "stream",
          "text": [
            "epoch  77\n",
            "dloss -  0.37078090757131577   daccuracy -  29.062499850988388\n",
            "gloss -  1.1347547769546509\n",
            "dloss -  0.39529378712177277   daccuracy -  26.093750447034836\n",
            "gloss -  1.0633528232574463\n",
            "dloss -  0.3713158294558525   daccuracy -  25.468750298023224\n",
            "gloss -  1.0756398439407349\n",
            "dloss -  0.391317680478096   daccuracy -  26.406250149011612\n",
            "gloss -  1.0800025463104248\n",
            "dloss -  0.360987089574337   daccuracy -  29.843750596046448\n",
            "gloss -  1.080997109413147\n",
            "dloss -  0.3776467442512512   daccuracy -  27.265624701976776\n",
            "gloss -  1.0659008026123047\n",
            "dloss -  0.37207135558128357   daccuracy -  26.328124850988388\n",
            "gloss -  1.1287381649017334\n",
            "dloss -  0.3549966737627983   daccuracy -  28.828124701976776\n",
            "gloss -  1.0373121500015259\n",
            "dloss -  0.3720386400818825   daccuracy -  27.812501043081284\n",
            "gloss -  1.0917084217071533\n",
            "dloss -  0.43594758957624435   daccuracy -  21.406249701976776\n",
            "gloss -  1.0742332935333252\n",
            "dloss -  0.3928236588835716   daccuracy -  26.015625521540642\n",
            "gloss -  1.099936842918396\n",
            "dloss -  0.3493760749697685   daccuracy -  31.796875596046448\n",
            "gloss -  1.2257106304168701\n",
            "dloss -  0.3605896979570389   daccuracy -  28.749999403953552\n",
            "gloss -  1.1150195598602295\n",
            "dloss -  0.3586106449365616   daccuracy -  28.90624925494194\n",
            "gloss -  1.050736665725708\n",
            "INFO:tensorflow:Assets written to: discriminator_a/assets\n",
            "INFO:tensorflow:Assets written to: discriminator_b/assets\n"
          ],
          "name": "stdout"
        },
        {
          "output_type": "stream",
          "text": [
            "/usr/local/lib/python3.7/dist-packages/tensorflow/python/keras/utils/generic_utils.py:497: CustomMaskWarning: Custom mask layers require a config and must override get_config. When loading, the custom mask layer must be passed to the custom_objects argument.\n",
            "  category=CustomMaskWarning)\n"
          ],
          "name": "stderr"
        },
        {
          "output_type": "stream",
          "text": [
            "INFO:tensorflow:Assets written to: combined/assets\n",
            "WARNING:tensorflow:Compiled the loaded model, but the compiled metrics have yet to be built. `model.compile_metrics` will be empty until you train or evaluate the model.\n",
            "INFO:tensorflow:Assets written to: generator_ab/assets\n"
          ],
          "name": "stdout"
        },
        {
          "output_type": "stream",
          "text": [
            "/usr/local/lib/python3.7/dist-packages/tensorflow/python/keras/utils/generic_utils.py:497: CustomMaskWarning: Custom mask layers require a config and must override get_config. When loading, the custom mask layer must be passed to the custom_objects argument.\n",
            "  category=CustomMaskWarning)\n"
          ],
          "name": "stderr"
        },
        {
          "output_type": "stream",
          "text": [
            "WARNING:tensorflow:Compiled the loaded model, but the compiled metrics have yet to be built. `model.compile_metrics` will be empty until you train or evaluate the model.\n",
            "INFO:tensorflow:Assets written to: generator_ba/assets\n"
          ],
          "name": "stdout"
        },
        {
          "output_type": "stream",
          "text": [
            "/usr/local/lib/python3.7/dist-packages/tensorflow/python/keras/utils/generic_utils.py:497: CustomMaskWarning: Custom mask layers require a config and must override get_config. When loading, the custom mask layer must be passed to the custom_objects argument.\n",
            "  category=CustomMaskWarning)\n"
          ],
          "name": "stderr"
        },
        {
          "output_type": "stream",
          "text": [
            "epoch  78\n",
            "dloss -  0.4306322857737541   daccuracy -  23.906249925494194\n",
            "gloss -  1.0372488498687744\n",
            "dloss -  0.3572404012084007   daccuracy -  27.890624850988388\n",
            "gloss -  1.1022801399230957\n",
            "dloss -  0.38130300492048264   daccuracy -  26.17187462747097\n",
            "gloss -  1.0704745054244995\n",
            "dloss -  0.3971432149410248   daccuracy -  26.640624552965164\n",
            "gloss -  1.0659306049346924\n",
            "dloss -  0.34926222264766693   daccuracy -  30.859375\n",
            "gloss -  1.1807464361190796\n",
            "dloss -  0.3311985582113266   daccuracy -  31.562499701976776\n",
            "gloss -  1.1047282218933105\n",
            "dloss -  0.39845704287290573   daccuracy -  23.906249552965164\n",
            "gloss -  1.0629923343658447\n",
            "dloss -  0.3537915498018265   daccuracy -  30.937500298023224\n",
            "gloss -  1.1096338033676147\n",
            "dloss -  0.35872023552656174   daccuracy -  27.109375223517418\n",
            "gloss -  1.0568774938583374\n",
            "dloss -  0.36781589686870575   daccuracy -  28.125\n",
            "gloss -  1.1055033206939697\n",
            "dloss -  0.36576930433511734   daccuracy -  27.656250447034836\n",
            "gloss -  1.066864252090454\n",
            "dloss -  0.409588485956192   daccuracy -  23.515625298023224\n",
            "gloss -  1.1379340887069702\n",
            "dloss -  0.38477424532175064   daccuracy -  22.734374925494194\n",
            "gloss -  1.088019609451294\n",
            "dloss -  0.3886149451136589   daccuracy -  25.624999776482582\n",
            "gloss -  1.0852407217025757\n",
            "INFO:tensorflow:Assets written to: discriminator_a/assets\n",
            "INFO:tensorflow:Assets written to: discriminator_b/assets\n"
          ],
          "name": "stdout"
        },
        {
          "output_type": "stream",
          "text": [
            "/usr/local/lib/python3.7/dist-packages/tensorflow/python/keras/utils/generic_utils.py:497: CustomMaskWarning: Custom mask layers require a config and must override get_config. When loading, the custom mask layer must be passed to the custom_objects argument.\n",
            "  category=CustomMaskWarning)\n"
          ],
          "name": "stderr"
        },
        {
          "output_type": "stream",
          "text": [
            "INFO:tensorflow:Assets written to: combined/assets\n",
            "WARNING:tensorflow:Compiled the loaded model, but the compiled metrics have yet to be built. `model.compile_metrics` will be empty until you train or evaluate the model.\n",
            "INFO:tensorflow:Assets written to: generator_ab/assets\n"
          ],
          "name": "stdout"
        },
        {
          "output_type": "stream",
          "text": [
            "/usr/local/lib/python3.7/dist-packages/tensorflow/python/keras/utils/generic_utils.py:497: CustomMaskWarning: Custom mask layers require a config and must override get_config. When loading, the custom mask layer must be passed to the custom_objects argument.\n",
            "  category=CustomMaskWarning)\n"
          ],
          "name": "stderr"
        },
        {
          "output_type": "stream",
          "text": [
            "WARNING:tensorflow:Compiled the loaded model, but the compiled metrics have yet to be built. `model.compile_metrics` will be empty until you train or evaluate the model.\n",
            "INFO:tensorflow:Assets written to: generator_ba/assets\n"
          ],
          "name": "stdout"
        },
        {
          "output_type": "stream",
          "text": [
            "/usr/local/lib/python3.7/dist-packages/tensorflow/python/keras/utils/generic_utils.py:497: CustomMaskWarning: Custom mask layers require a config and must override get_config. When loading, the custom mask layer must be passed to the custom_objects argument.\n",
            "  category=CustomMaskWarning)\n"
          ],
          "name": "stderr"
        },
        {
          "output_type": "stream",
          "text": [
            "epoch  79\n",
            "dloss -  0.3604438230395317   daccuracy -  29.921874031424522\n",
            "gloss -  1.051018476486206\n",
            "dloss -  0.36279527842998505   daccuracy -  25.546874850988388\n",
            "gloss -  1.0961002111434937\n",
            "dloss -  0.3676133528351784   daccuracy -  27.968750149011612\n",
            "gloss -  1.0758991241455078\n",
            "dloss -  0.3562740683555603   daccuracy -  29.453125596046448\n",
            "gloss -  1.0817188024520874\n",
            "dloss -  0.3706085607409477   daccuracy -  28.750000149011612\n",
            "gloss -  1.164957880973816\n",
            "dloss -  0.38346102088689804   daccuracy -  24.140625447034836\n",
            "gloss -  1.0427316427230835\n",
            "dloss -  0.33671264350414276   daccuracy -  31.093750149011612\n",
            "gloss -  1.083249568939209\n",
            "dloss -  0.38081903010606766   daccuracy -  26.015624403953552\n",
            "gloss -  1.121424674987793\n",
            "dloss -  0.3794194161891937   daccuracy -  25.859374925494194\n",
            "gloss -  1.0974507331848145\n",
            "dloss -  0.43734296411275864   daccuracy -  19.453125074505806\n",
            "gloss -  1.1428371667861938\n",
            "dloss -  0.4192616567015648   daccuracy -  19.53125\n",
            "gloss -  1.0056418180465698\n",
            "dloss -  0.37809040397405624   daccuracy -  28.281249478459358\n",
            "gloss -  1.1217384338378906\n",
            "dloss -  0.3488897383213043   daccuracy -  27.500000223517418\n",
            "gloss -  1.049299955368042\n",
            "dloss -  0.38043835759162903   daccuracy -  25.859374552965164\n",
            "gloss -  1.0439980030059814\n",
            "INFO:tensorflow:Assets written to: discriminator_a/assets\n",
            "INFO:tensorflow:Assets written to: discriminator_b/assets\n"
          ],
          "name": "stdout"
        },
        {
          "output_type": "stream",
          "text": [
            "/usr/local/lib/python3.7/dist-packages/tensorflow/python/keras/utils/generic_utils.py:497: CustomMaskWarning: Custom mask layers require a config and must override get_config. When loading, the custom mask layer must be passed to the custom_objects argument.\n",
            "  category=CustomMaskWarning)\n"
          ],
          "name": "stderr"
        },
        {
          "output_type": "stream",
          "text": [
            "INFO:tensorflow:Assets written to: combined/assets\n",
            "WARNING:tensorflow:Compiled the loaded model, but the compiled metrics have yet to be built. `model.compile_metrics` will be empty until you train or evaluate the model.\n",
            "INFO:tensorflow:Assets written to: generator_ab/assets\n"
          ],
          "name": "stdout"
        },
        {
          "output_type": "stream",
          "text": [
            "/usr/local/lib/python3.7/dist-packages/tensorflow/python/keras/utils/generic_utils.py:497: CustomMaskWarning: Custom mask layers require a config and must override get_config. When loading, the custom mask layer must be passed to the custom_objects argument.\n",
            "  category=CustomMaskWarning)\n"
          ],
          "name": "stderr"
        },
        {
          "output_type": "stream",
          "text": [
            "WARNING:tensorflow:Compiled the loaded model, but the compiled metrics have yet to be built. `model.compile_metrics` will be empty until you train or evaluate the model.\n",
            "INFO:tensorflow:Assets written to: generator_ba/assets\n"
          ],
          "name": "stdout"
        },
        {
          "output_type": "stream",
          "text": [
            "/usr/local/lib/python3.7/dist-packages/tensorflow/python/keras/utils/generic_utils.py:497: CustomMaskWarning: Custom mask layers require a config and must override get_config. When loading, the custom mask layer must be passed to the custom_objects argument.\n",
            "  category=CustomMaskWarning)\n"
          ],
          "name": "stderr"
        },
        {
          "output_type": "stream",
          "text": [
            "epoch  80\n",
            "dloss -  0.3842860534787178   daccuracy -  27.656250447034836\n",
            "gloss -  1.1741985082626343\n",
            "dloss -  0.3566838577389717   daccuracy -  29.14062589406967\n",
            "gloss -  1.0912748575210571\n",
            "dloss -  0.35313762724399567   daccuracy -  27.656250447034836\n",
            "gloss -  1.140428900718689\n",
            "dloss -  0.39673571288585663   daccuracy -  24.062500521540642\n",
            "gloss -  1.0712553262710571\n",
            "dloss -  0.35361119359731674   daccuracy -  29.6875\n",
            "gloss -  1.0737055540084839\n",
            "dloss -  0.3443993702530861   daccuracy -  29.375000298023224\n",
            "gloss -  1.0534502267837524\n",
            "dloss -  0.3495677262544632   daccuracy -  29.999998956918716\n",
            "gloss -  1.05995512008667\n",
            "dloss -  0.38283706456422806   daccuracy -  26.5625\n",
            "gloss -  1.0402618646621704\n",
            "dloss -  0.3974875137209892   daccuracy -  23.749999701976776\n",
            "gloss -  1.068649411201477\n",
            "dloss -  0.37409380078315735   daccuracy -  28.203124552965164\n",
            "gloss -  1.0396088361740112\n",
            "dloss -  0.3495492488145828   daccuracy -  27.34375074505806\n",
            "gloss -  1.1048800945281982\n",
            "dloss -  0.3771226704120636   daccuracy -  27.031250670552254\n",
            "gloss -  1.1400445699691772\n",
            "dloss -  0.3839707672595978   daccuracy -  24.687499925494194\n",
            "gloss -  1.0748385190963745\n",
            "dloss -  0.4040196016430855   daccuracy -  26.718749850988388\n",
            "gloss -  1.1030982732772827\n",
            "INFO:tensorflow:Assets written to: discriminator_a/assets\n",
            "INFO:tensorflow:Assets written to: discriminator_b/assets\n"
          ],
          "name": "stdout"
        },
        {
          "output_type": "stream",
          "text": [
            "/usr/local/lib/python3.7/dist-packages/tensorflow/python/keras/utils/generic_utils.py:497: CustomMaskWarning: Custom mask layers require a config and must override get_config. When loading, the custom mask layer must be passed to the custom_objects argument.\n",
            "  category=CustomMaskWarning)\n"
          ],
          "name": "stderr"
        },
        {
          "output_type": "stream",
          "text": [
            "INFO:tensorflow:Assets written to: combined/assets\n",
            "WARNING:tensorflow:Compiled the loaded model, but the compiled metrics have yet to be built. `model.compile_metrics` will be empty until you train or evaluate the model.\n",
            "INFO:tensorflow:Assets written to: generator_ab/assets\n"
          ],
          "name": "stdout"
        },
        {
          "output_type": "stream",
          "text": [
            "/usr/local/lib/python3.7/dist-packages/tensorflow/python/keras/utils/generic_utils.py:497: CustomMaskWarning: Custom mask layers require a config and must override get_config. When loading, the custom mask layer must be passed to the custom_objects argument.\n",
            "  category=CustomMaskWarning)\n"
          ],
          "name": "stderr"
        },
        {
          "output_type": "stream",
          "text": [
            "WARNING:tensorflow:Compiled the loaded model, but the compiled metrics have yet to be built. `model.compile_metrics` will be empty until you train or evaluate the model.\n",
            "INFO:tensorflow:Assets written to: generator_ba/assets\n"
          ],
          "name": "stdout"
        },
        {
          "output_type": "stream",
          "text": [
            "/usr/local/lib/python3.7/dist-packages/tensorflow/python/keras/utils/generic_utils.py:497: CustomMaskWarning: Custom mask layers require a config and must override get_config. When loading, the custom mask layer must be passed to the custom_objects argument.\n",
            "  category=CustomMaskWarning)\n"
          ],
          "name": "stderr"
        },
        {
          "output_type": "stream",
          "text": [
            "epoch  81\n",
            "dloss -  0.3635542020201683   daccuracy -  28.671874850988388\n",
            "gloss -  1.1882421970367432\n",
            "dloss -  0.40927525609731674   daccuracy -  21.640624478459358\n",
            "gloss -  1.1212334632873535\n",
            "dloss -  0.4347322881221771   daccuracy -  20.937500149011612\n",
            "gloss -  1.0285700559616089\n",
            "dloss -  0.3472886011004448   daccuracy -  29.999999701976776\n",
            "gloss -  1.0249629020690918\n",
            "dloss -  0.3551243767142296   daccuracy -  30.156250298023224\n",
            "gloss -  1.1696369647979736\n",
            "dloss -  0.36191438883543015   daccuracy -  31.25\n",
            "gloss -  1.1046804189682007\n",
            "dloss -  0.37082211673259735   daccuracy -  28.437500447034836\n",
            "gloss -  1.1126583814620972\n",
            "dloss -  0.3637823611497879   daccuracy -  27.734375\n",
            "gloss -  1.0715149641036987\n",
            "dloss -  0.3495851457118988   daccuracy -  29.531250149011612\n",
            "gloss -  1.1275272369384766\n",
            "dloss -  0.38807782530784607   daccuracy -  21.406250074505806\n",
            "gloss -  1.084023356437683\n",
            "dloss -  0.3686366379261017   daccuracy -  27.656250074505806\n",
            "gloss -  1.0202033519744873\n",
            "dloss -  0.38797253370285034   daccuracy -  26.95312537252903\n",
            "gloss -  1.1227104663848877\n",
            "dloss -  0.34344299137592316   daccuracy -  28.90624925494194\n",
            "gloss -  1.0334889888763428\n",
            "dloss -  0.36317093670368195   daccuracy -  29.531250149011612\n",
            "gloss -  1.1173735857009888\n",
            "INFO:tensorflow:Assets written to: discriminator_a/assets\n",
            "INFO:tensorflow:Assets written to: discriminator_b/assets\n"
          ],
          "name": "stdout"
        },
        {
          "output_type": "stream",
          "text": [
            "/usr/local/lib/python3.7/dist-packages/tensorflow/python/keras/utils/generic_utils.py:497: CustomMaskWarning: Custom mask layers require a config and must override get_config. When loading, the custom mask layer must be passed to the custom_objects argument.\n",
            "  category=CustomMaskWarning)\n"
          ],
          "name": "stderr"
        },
        {
          "output_type": "stream",
          "text": [
            "INFO:tensorflow:Assets written to: combined/assets\n",
            "WARNING:tensorflow:Compiled the loaded model, but the compiled metrics have yet to be built. `model.compile_metrics` will be empty until you train or evaluate the model.\n",
            "INFO:tensorflow:Assets written to: generator_ab/assets\n"
          ],
          "name": "stdout"
        },
        {
          "output_type": "stream",
          "text": [
            "/usr/local/lib/python3.7/dist-packages/tensorflow/python/keras/utils/generic_utils.py:497: CustomMaskWarning: Custom mask layers require a config and must override get_config. When loading, the custom mask layer must be passed to the custom_objects argument.\n",
            "  category=CustomMaskWarning)\n"
          ],
          "name": "stderr"
        },
        {
          "output_type": "stream",
          "text": [
            "WARNING:tensorflow:Compiled the loaded model, but the compiled metrics have yet to be built. `model.compile_metrics` will be empty until you train or evaluate the model.\n",
            "INFO:tensorflow:Assets written to: generator_ba/assets\n"
          ],
          "name": "stdout"
        },
        {
          "output_type": "stream",
          "text": [
            "/usr/local/lib/python3.7/dist-packages/tensorflow/python/keras/utils/generic_utils.py:497: CustomMaskWarning: Custom mask layers require a config and must override get_config. When loading, the custom mask layer must be passed to the custom_objects argument.\n",
            "  category=CustomMaskWarning)\n"
          ],
          "name": "stderr"
        },
        {
          "output_type": "stream",
          "text": [
            "epoch  82\n",
            "dloss -  0.3867875933647156   daccuracy -  25.39062574505806\n",
            "gloss -  1.1730180978775024\n",
            "dloss -  0.3491220697760582   daccuracy -  29.765624552965164\n",
            "gloss -  1.106451153755188\n",
            "dloss -  0.38854342699050903   daccuracy -  25.468749925494194\n",
            "gloss -  1.0690654516220093\n",
            "dloss -  0.3549386188387871   daccuracy -  33.04687514901161\n",
            "gloss -  1.1034035682678223\n",
            "dloss -  0.40468940138816833   daccuracy -  25.859374925494194\n",
            "gloss -  1.0622234344482422\n",
            "dloss -  0.3829670622944832   daccuracy -  22.968749701976776\n",
            "gloss -  1.0480077266693115\n",
            "dloss -  0.3843807056546211   daccuracy -  23.4375\n",
            "gloss -  1.0883755683898926\n",
            "dloss -  0.36472515016794205   daccuracy -  28.671874850988388\n",
            "gloss -  1.058631181716919\n",
            "dloss -  0.34725675731897354   daccuracy -  29.843749850988388\n",
            "gloss -  1.0923601388931274\n",
            "dloss -  0.35754337906837463   daccuracy -  28.90624962747097\n",
            "gloss -  1.103402018547058\n",
            "dloss -  0.3331308141350746   daccuracy -  33.281249552965164\n",
            "gloss -  1.1382008790969849\n",
            "dloss -  0.39333198219537735   daccuracy -  25.312500447034836\n",
            "gloss -  1.0980247259140015\n",
            "dloss -  0.38122396916151047   daccuracy -  26.640625298023224\n",
            "gloss -  1.0466350317001343\n",
            "dloss -  0.3538787215948105   daccuracy -  32.26562514901161\n",
            "gloss -  1.1127432584762573\n",
            "INFO:tensorflow:Assets written to: discriminator_a/assets\n",
            "INFO:tensorflow:Assets written to: discriminator_b/assets\n"
          ],
          "name": "stdout"
        },
        {
          "output_type": "stream",
          "text": [
            "/usr/local/lib/python3.7/dist-packages/tensorflow/python/keras/utils/generic_utils.py:497: CustomMaskWarning: Custom mask layers require a config and must override get_config. When loading, the custom mask layer must be passed to the custom_objects argument.\n",
            "  category=CustomMaskWarning)\n"
          ],
          "name": "stderr"
        },
        {
          "output_type": "stream",
          "text": [
            "INFO:tensorflow:Assets written to: combined/assets\n",
            "WARNING:tensorflow:Compiled the loaded model, but the compiled metrics have yet to be built. `model.compile_metrics` will be empty until you train or evaluate the model.\n",
            "INFO:tensorflow:Assets written to: generator_ab/assets\n"
          ],
          "name": "stdout"
        },
        {
          "output_type": "stream",
          "text": [
            "/usr/local/lib/python3.7/dist-packages/tensorflow/python/keras/utils/generic_utils.py:497: CustomMaskWarning: Custom mask layers require a config and must override get_config. When loading, the custom mask layer must be passed to the custom_objects argument.\n",
            "  category=CustomMaskWarning)\n"
          ],
          "name": "stderr"
        },
        {
          "output_type": "stream",
          "text": [
            "WARNING:tensorflow:Compiled the loaded model, but the compiled metrics have yet to be built. `model.compile_metrics` will be empty until you train or evaluate the model.\n",
            "INFO:tensorflow:Assets written to: generator_ba/assets\n"
          ],
          "name": "stdout"
        },
        {
          "output_type": "stream",
          "text": [
            "/usr/local/lib/python3.7/dist-packages/tensorflow/python/keras/utils/generic_utils.py:497: CustomMaskWarning: Custom mask layers require a config and must override get_config. When loading, the custom mask layer must be passed to the custom_objects argument.\n",
            "  category=CustomMaskWarning)\n"
          ],
          "name": "stderr"
        },
        {
          "output_type": "stream",
          "text": [
            "epoch  83\n",
            "dloss -  0.34394239634275436   daccuracy -  32.18750059604645\n",
            "gloss -  1.0417512655258179\n",
            "dloss -  0.40664350986480713   daccuracy -  22.500000149011612\n",
            "gloss -  1.1232070922851562\n",
            "dloss -  0.3542115017771721   daccuracy -  29.218749701976776\n",
            "gloss -  1.0352827310562134\n",
            "dloss -  0.34689047932624817   daccuracy -  30.703125149011612\n",
            "gloss -  1.0791105031967163\n",
            "dloss -  0.3876357600092888   daccuracy -  26.953125\n",
            "gloss -  1.0665359497070312\n",
            "dloss -  0.37804777920246124   daccuracy -  22.968749329447746\n",
            "gloss -  1.0951104164123535\n",
            "dloss -  0.3580728620290756   daccuracy -  32.03125\n",
            "gloss -  1.1723624467849731\n",
            "dloss -  0.3521242067217827   daccuracy -  29.843749850988388\n",
            "gloss -  1.0822337865829468\n",
            "dloss -  0.3717940226197243   daccuracy -  27.968750149011612\n",
            "gloss -  1.0551172494888306\n",
            "dloss -  0.38538797944784164   daccuracy -  25.546874850988388\n",
            "gloss -  1.0905663967132568\n",
            "dloss -  0.34860191494226456   daccuracy -  28.593749925494194\n",
            "gloss -  1.0603313446044922\n",
            "dloss -  0.3824043348431587   daccuracy -  25.703125074505806\n",
            "gloss -  1.1030826568603516\n",
            "dloss -  0.39424584805965424   daccuracy -  27.187500149011612\n",
            "gloss -  1.1692261695861816\n",
            "dloss -  0.3554525300860405   daccuracy -  27.968750149011612\n",
            "gloss -  1.126428246498108\n",
            "INFO:tensorflow:Assets written to: discriminator_a/assets\n",
            "INFO:tensorflow:Assets written to: discriminator_b/assets\n"
          ],
          "name": "stdout"
        },
        {
          "output_type": "stream",
          "text": [
            "/usr/local/lib/python3.7/dist-packages/tensorflow/python/keras/utils/generic_utils.py:497: CustomMaskWarning: Custom mask layers require a config and must override get_config. When loading, the custom mask layer must be passed to the custom_objects argument.\n",
            "  category=CustomMaskWarning)\n"
          ],
          "name": "stderr"
        },
        {
          "output_type": "stream",
          "text": [
            "INFO:tensorflow:Assets written to: combined/assets\n",
            "WARNING:tensorflow:Compiled the loaded model, but the compiled metrics have yet to be built. `model.compile_metrics` will be empty until you train or evaluate the model.\n",
            "INFO:tensorflow:Assets written to: generator_ab/assets\n"
          ],
          "name": "stdout"
        },
        {
          "output_type": "stream",
          "text": [
            "/usr/local/lib/python3.7/dist-packages/tensorflow/python/keras/utils/generic_utils.py:497: CustomMaskWarning: Custom mask layers require a config and must override get_config. When loading, the custom mask layer must be passed to the custom_objects argument.\n",
            "  category=CustomMaskWarning)\n"
          ],
          "name": "stderr"
        },
        {
          "output_type": "stream",
          "text": [
            "WARNING:tensorflow:Compiled the loaded model, but the compiled metrics have yet to be built. `model.compile_metrics` will be empty until you train or evaluate the model.\n",
            "INFO:tensorflow:Assets written to: generator_ba/assets\n"
          ],
          "name": "stdout"
        },
        {
          "output_type": "stream",
          "text": [
            "/usr/local/lib/python3.7/dist-packages/tensorflow/python/keras/utils/generic_utils.py:497: CustomMaskWarning: Custom mask layers require a config and must override get_config. When loading, the custom mask layer must be passed to the custom_objects argument.\n",
            "  category=CustomMaskWarning)\n"
          ],
          "name": "stderr"
        },
        {
          "output_type": "stream",
          "text": [
            "epoch  84\n",
            "dloss -  0.36514660716056824   daccuracy -  28.593749552965164\n",
            "gloss -  1.0815420150756836\n",
            "dloss -  0.3452954888343811   daccuracy -  32.57812485098839\n",
            "gloss -  1.0822783708572388\n",
            "dloss -  0.3714761286973953   daccuracy -  25.937499850988388\n",
            "gloss -  1.0384275913238525\n",
            "dloss -  0.37042903900146484   daccuracy -  29.609374701976776\n",
            "gloss -  1.1124694347381592\n",
            "dloss -  0.34677357971668243   daccuracy -  33.75000059604645\n",
            "gloss -  1.0610926151275635\n",
            "dloss -  0.33659620583057404   daccuracy -  32.734374701976776\n",
            "gloss -  1.0799306631088257\n",
            "dloss -  0.3484019786119461   daccuracy -  31.562500819563866\n",
            "gloss -  1.1526930332183838\n",
            "dloss -  0.3669152036309242   daccuracy -  29.140625149011612\n",
            "gloss -  1.114096999168396\n",
            "dloss -  0.3787522092461586   daccuracy -  28.359374776482582\n",
            "gloss -  1.1663801670074463\n",
            "dloss -  0.352639839053154   daccuracy -  29.140624403953552\n",
            "gloss -  1.057145357131958\n",
            "dloss -  0.38250137120485306   daccuracy -  26.953125\n",
            "gloss -  1.0582867860794067\n",
            "dloss -  0.37118151038885117   daccuracy -  25.312499701976776\n",
            "gloss -  1.1077394485473633\n",
            "dloss -  0.35975465178489685   daccuracy -  28.593749552965164\n",
            "gloss -  1.1074039936065674\n",
            "dloss -  0.39048362523317337   daccuracy -  24.296874925494194\n",
            "gloss -  1.121293067932129\n",
            "INFO:tensorflow:Assets written to: discriminator_a/assets\n",
            "INFO:tensorflow:Assets written to: discriminator_b/assets\n"
          ],
          "name": "stdout"
        },
        {
          "output_type": "stream",
          "text": [
            "/usr/local/lib/python3.7/dist-packages/tensorflow/python/keras/utils/generic_utils.py:497: CustomMaskWarning: Custom mask layers require a config and must override get_config. When loading, the custom mask layer must be passed to the custom_objects argument.\n",
            "  category=CustomMaskWarning)\n"
          ],
          "name": "stderr"
        },
        {
          "output_type": "stream",
          "text": [
            "INFO:tensorflow:Assets written to: combined/assets\n",
            "WARNING:tensorflow:Compiled the loaded model, but the compiled metrics have yet to be built. `model.compile_metrics` will be empty until you train or evaluate the model.\n",
            "INFO:tensorflow:Assets written to: generator_ab/assets\n"
          ],
          "name": "stdout"
        },
        {
          "output_type": "stream",
          "text": [
            "/usr/local/lib/python3.7/dist-packages/tensorflow/python/keras/utils/generic_utils.py:497: CustomMaskWarning: Custom mask layers require a config and must override get_config. When loading, the custom mask layer must be passed to the custom_objects argument.\n",
            "  category=CustomMaskWarning)\n"
          ],
          "name": "stderr"
        },
        {
          "output_type": "stream",
          "text": [
            "WARNING:tensorflow:Compiled the loaded model, but the compiled metrics have yet to be built. `model.compile_metrics` will be empty until you train or evaluate the model.\n",
            "INFO:tensorflow:Assets written to: generator_ba/assets\n"
          ],
          "name": "stdout"
        },
        {
          "output_type": "stream",
          "text": [
            "/usr/local/lib/python3.7/dist-packages/tensorflow/python/keras/utils/generic_utils.py:497: CustomMaskWarning: Custom mask layers require a config and must override get_config. When loading, the custom mask layer must be passed to the custom_objects argument.\n",
            "  category=CustomMaskWarning)\n"
          ],
          "name": "stderr"
        },
        {
          "output_type": "stream",
          "text": [
            "epoch  85\n",
            "dloss -  0.3688919022679329   daccuracy -  27.890624850988388\n",
            "gloss -  1.0484973192214966\n",
            "dloss -  0.3852136880159378   daccuracy -  26.95312574505806\n",
            "gloss -  1.1711156368255615\n",
            "dloss -  0.3744850382208824   daccuracy -  25.703124701976776\n",
            "gloss -  1.036080241203308\n",
            "dloss -  0.3511803224682808   daccuracy -  31.328125298023224\n",
            "gloss -  1.0893423557281494\n",
            "dloss -  0.36824527382850647   daccuracy -  27.34374925494194\n",
            "gloss -  1.0753343105316162\n",
            "dloss -  0.37333085387945175   daccuracy -  27.421875298023224\n",
            "gloss -  1.0637304782867432\n",
            "dloss -  0.339351586997509   daccuracy -  32.8125\n",
            "gloss -  1.0777413845062256\n",
            "dloss -  0.3542904853820801   daccuracy -  29.68749962747097\n",
            "gloss -  1.0673190355300903\n",
            "dloss -  0.36624957621097565   daccuracy -  30.781250074505806\n",
            "gloss -  1.133725643157959\n",
            "dloss -  0.38240259885787964   daccuracy -  26.484375074505806\n",
            "gloss -  1.1071101427078247\n",
            "dloss -  0.32399655878543854   daccuracy -  33.82812440395355\n",
            "gloss -  1.1144012212753296\n",
            "dloss -  0.38865868747234344   daccuracy -  24.609375\n",
            "gloss -  1.180159091949463\n",
            "dloss -  0.3514302745461464   daccuracy -  29.14062589406967\n",
            "gloss -  1.0483554601669312\n",
            "dloss -  0.38138682395219803   daccuracy -  26.484375074505806\n",
            "gloss -  1.0869801044464111\n",
            "INFO:tensorflow:Assets written to: discriminator_a/assets\n",
            "INFO:tensorflow:Assets written to: discriminator_b/assets\n"
          ],
          "name": "stdout"
        },
        {
          "output_type": "stream",
          "text": [
            "/usr/local/lib/python3.7/dist-packages/tensorflow/python/keras/utils/generic_utils.py:497: CustomMaskWarning: Custom mask layers require a config and must override get_config. When loading, the custom mask layer must be passed to the custom_objects argument.\n",
            "  category=CustomMaskWarning)\n"
          ],
          "name": "stderr"
        },
        {
          "output_type": "stream",
          "text": [
            "INFO:tensorflow:Assets written to: combined/assets\n",
            "WARNING:tensorflow:Compiled the loaded model, but the compiled metrics have yet to be built. `model.compile_metrics` will be empty until you train or evaluate the model.\n",
            "INFO:tensorflow:Assets written to: generator_ab/assets\n"
          ],
          "name": "stdout"
        },
        {
          "output_type": "stream",
          "text": [
            "/usr/local/lib/python3.7/dist-packages/tensorflow/python/keras/utils/generic_utils.py:497: CustomMaskWarning: Custom mask layers require a config and must override get_config. When loading, the custom mask layer must be passed to the custom_objects argument.\n",
            "  category=CustomMaskWarning)\n"
          ],
          "name": "stderr"
        },
        {
          "output_type": "stream",
          "text": [
            "WARNING:tensorflow:Compiled the loaded model, but the compiled metrics have yet to be built. `model.compile_metrics` will be empty until you train or evaluate the model.\n",
            "INFO:tensorflow:Assets written to: generator_ba/assets\n"
          ],
          "name": "stdout"
        },
        {
          "output_type": "stream",
          "text": [
            "/usr/local/lib/python3.7/dist-packages/tensorflow/python/keras/utils/generic_utils.py:497: CustomMaskWarning: Custom mask layers require a config and must override get_config. When loading, the custom mask layer must be passed to the custom_objects argument.\n",
            "  category=CustomMaskWarning)\n"
          ],
          "name": "stderr"
        },
        {
          "output_type": "stream",
          "text": [
            "epoch  86\n",
            "dloss -  0.3677090182900429   daccuracy -  27.109375596046448\n",
            "gloss -  1.0722570419311523\n",
            "dloss -  0.3492977097630501   daccuracy -  31.328124552965164\n",
            "gloss -  1.1546176671981812\n",
            "dloss -  0.37507859617471695   daccuracy -  28.749999776482582\n",
            "gloss -  1.061617374420166\n",
            "dloss -  0.4043883830308914   daccuracy -  19.609375298023224\n",
            "gloss -  1.1077394485473633\n",
            "dloss -  0.3340253680944443   daccuracy -  34.53125059604645\n",
            "gloss -  1.0692468881607056\n",
            "dloss -  0.3462464138865471   daccuracy -  31.562499701976776\n",
            "gloss -  1.0862871408462524\n",
            "dloss -  0.3558364510536194   daccuracy -  30.234374850988388\n",
            "gloss -  1.2532302141189575\n",
            "dloss -  0.3414263427257538   daccuracy -  31.718749552965164\n",
            "gloss -  1.1229965686798096\n",
            "dloss -  0.3806353062391281   daccuracy -  25.39062537252903\n",
            "gloss -  1.0301116704940796\n",
            "dloss -  0.36632397770881653   daccuracy -  27.812500298023224\n",
            "gloss -  1.0856952667236328\n",
            "dloss -  0.3462112918496132   daccuracy -  33.515625447034836\n",
            "gloss -  1.0930781364440918\n",
            "dloss -  0.3927786871790886   daccuracy -  22.421875223517418\n",
            "gloss -  1.0685845613479614\n",
            "dloss -  0.3501315712928772   daccuracy -  31.562499701976776\n",
            "gloss -  1.087431788444519\n",
            "dloss -  0.3642762079834938   daccuracy -  30.07812574505806\n",
            "gloss -  1.0583815574645996\n",
            "INFO:tensorflow:Assets written to: discriminator_a/assets\n",
            "INFO:tensorflow:Assets written to: discriminator_b/assets\n"
          ],
          "name": "stdout"
        },
        {
          "output_type": "stream",
          "text": [
            "/usr/local/lib/python3.7/dist-packages/tensorflow/python/keras/utils/generic_utils.py:497: CustomMaskWarning: Custom mask layers require a config and must override get_config. When loading, the custom mask layer must be passed to the custom_objects argument.\n",
            "  category=CustomMaskWarning)\n"
          ],
          "name": "stderr"
        },
        {
          "output_type": "stream",
          "text": [
            "INFO:tensorflow:Assets written to: combined/assets\n",
            "WARNING:tensorflow:Compiled the loaded model, but the compiled metrics have yet to be built. `model.compile_metrics` will be empty until you train or evaluate the model.\n",
            "INFO:tensorflow:Assets written to: generator_ab/assets\n"
          ],
          "name": "stdout"
        },
        {
          "output_type": "stream",
          "text": [
            "/usr/local/lib/python3.7/dist-packages/tensorflow/python/keras/utils/generic_utils.py:497: CustomMaskWarning: Custom mask layers require a config and must override get_config. When loading, the custom mask layer must be passed to the custom_objects argument.\n",
            "  category=CustomMaskWarning)\n"
          ],
          "name": "stderr"
        },
        {
          "output_type": "stream",
          "text": [
            "WARNING:tensorflow:Compiled the loaded model, but the compiled metrics have yet to be built. `model.compile_metrics` will be empty until you train or evaluate the model.\n",
            "INFO:tensorflow:Assets written to: generator_ba/assets\n"
          ],
          "name": "stdout"
        },
        {
          "output_type": "stream",
          "text": [
            "/usr/local/lib/python3.7/dist-packages/tensorflow/python/keras/utils/generic_utils.py:497: CustomMaskWarning: Custom mask layers require a config and must override get_config. When loading, the custom mask layer must be passed to the custom_objects argument.\n",
            "  category=CustomMaskWarning)\n"
          ],
          "name": "stderr"
        },
        {
          "output_type": "stream",
          "text": [
            "epoch  87\n",
            "dloss -  0.35602322965860367   daccuracy -  28.828124701976776\n",
            "gloss -  1.0512325763702393\n",
            "dloss -  0.3710562735795975   daccuracy -  26.17187537252903\n",
            "gloss -  1.1004722118377686\n",
            "dloss -  0.38919318467378616   daccuracy -  22.968749701976776\n",
            "gloss -  1.1152056455612183\n",
            "dloss -  0.3635477051138878   daccuracy -  30.156249552965164\n",
            "gloss -  1.050981879234314\n",
            "dloss -  0.39481277763843536   daccuracy -  23.82812462747097\n",
            "gloss -  1.0922545194625854\n",
            "dloss -  0.34660666435956955   daccuracy -  31.328124925494194\n",
            "gloss -  1.1228159666061401\n",
            "dloss -  0.32080136984586716   daccuracy -  37.65625059604645\n",
            "gloss -  1.0804860591888428\n",
            "dloss -  0.3299974426627159   daccuracy -  35.468750447034836\n",
            "gloss -  1.1522815227508545\n",
            "dloss -  0.3604664206504822   daccuracy -  32.03125\n",
            "gloss -  1.1628426313400269\n",
            "dloss -  0.34201760590076447   daccuracy -  33.125000074505806\n",
            "gloss -  1.1103814840316772\n",
            "dloss -  0.33945532143116   daccuracy -  34.843749552965164\n",
            "gloss -  1.158553957939148\n",
            "dloss -  0.35472521930933   daccuracy -  30.546874552965164\n",
            "gloss -  1.0953271389007568\n",
            "dloss -  0.35295891016721725   daccuracy -  28.359374403953552\n",
            "gloss -  1.1315577030181885\n",
            "dloss -  0.38471053540706635   daccuracy -  24.531250074505806\n",
            "gloss -  1.0133295059204102\n",
            "INFO:tensorflow:Assets written to: discriminator_a/assets\n",
            "INFO:tensorflow:Assets written to: discriminator_b/assets\n"
          ],
          "name": "stdout"
        },
        {
          "output_type": "stream",
          "text": [
            "/usr/local/lib/python3.7/dist-packages/tensorflow/python/keras/utils/generic_utils.py:497: CustomMaskWarning: Custom mask layers require a config and must override get_config. When loading, the custom mask layer must be passed to the custom_objects argument.\n",
            "  category=CustomMaskWarning)\n"
          ],
          "name": "stderr"
        },
        {
          "output_type": "stream",
          "text": [
            "INFO:tensorflow:Assets written to: combined/assets\n",
            "WARNING:tensorflow:Compiled the loaded model, but the compiled metrics have yet to be built. `model.compile_metrics` will be empty until you train or evaluate the model.\n",
            "INFO:tensorflow:Assets written to: generator_ab/assets\n"
          ],
          "name": "stdout"
        },
        {
          "output_type": "stream",
          "text": [
            "/usr/local/lib/python3.7/dist-packages/tensorflow/python/keras/utils/generic_utils.py:497: CustomMaskWarning: Custom mask layers require a config and must override get_config. When loading, the custom mask layer must be passed to the custom_objects argument.\n",
            "  category=CustomMaskWarning)\n"
          ],
          "name": "stderr"
        },
        {
          "output_type": "stream",
          "text": [
            "WARNING:tensorflow:Compiled the loaded model, but the compiled metrics have yet to be built. `model.compile_metrics` will be empty until you train or evaluate the model.\n",
            "INFO:tensorflow:Assets written to: generator_ba/assets\n"
          ],
          "name": "stdout"
        },
        {
          "output_type": "stream",
          "text": [
            "/usr/local/lib/python3.7/dist-packages/tensorflow/python/keras/utils/generic_utils.py:497: CustomMaskWarning: Custom mask layers require a config and must override get_config. When loading, the custom mask layer must be passed to the custom_objects argument.\n",
            "  category=CustomMaskWarning)\n"
          ],
          "name": "stderr"
        },
        {
          "output_type": "stream",
          "text": [
            "epoch  88\n",
            "dloss -  0.3598046377301216   daccuracy -  27.812500298023224\n",
            "gloss -  1.0396915674209595\n",
            "dloss -  0.32767731696367264   daccuracy -  32.343749701976776\n",
            "gloss -  1.1391023397445679\n",
            "dloss -  0.35480698198080063   daccuracy -  29.921874403953552\n",
            "gloss -  1.1227521896362305\n",
            "dloss -  0.3516520634293556   daccuracy -  29.765624552965164\n",
            "gloss -  1.0231167078018188\n",
            "dloss -  0.3464863672852516   daccuracy -  31.25\n",
            "gloss -  1.1016390323638916\n",
            "dloss -  0.3801101818680763   daccuracy -  27.734375\n",
            "gloss -  1.1042866706848145\n",
            "dloss -  0.3658696562051773   daccuracy -  28.046875447034836\n",
            "gloss -  1.1163643598556519\n",
            "dloss -  0.37239282578229904   daccuracy -  26.95312574505806\n",
            "gloss -  1.102101445198059\n",
            "dloss -  0.36191391199827194   daccuracy -  28.359375149011612\n",
            "gloss -  1.1461470127105713\n",
            "dloss -  0.32985883206129074   daccuracy -  34.14062485098839\n",
            "gloss -  1.1620570421218872\n",
            "dloss -  0.3589992821216583   daccuracy -  29.140625149011612\n",
            "gloss -  1.0460327863693237\n",
            "dloss -  0.3621939495205879   daccuracy -  27.734375\n",
            "gloss -  1.1188652515411377\n",
            "dloss -  0.3627806380391121   daccuracy -  28.515625\n",
            "gloss -  1.173507809638977\n",
            "dloss -  0.3333200290799141   daccuracy -  32.65625014901161\n",
            "gloss -  1.1402733325958252\n",
            "INFO:tensorflow:Assets written to: discriminator_a/assets\n",
            "INFO:tensorflow:Assets written to: discriminator_b/assets\n"
          ],
          "name": "stdout"
        },
        {
          "output_type": "stream",
          "text": [
            "/usr/local/lib/python3.7/dist-packages/tensorflow/python/keras/utils/generic_utils.py:497: CustomMaskWarning: Custom mask layers require a config and must override get_config. When loading, the custom mask layer must be passed to the custom_objects argument.\n",
            "  category=CustomMaskWarning)\n"
          ],
          "name": "stderr"
        },
        {
          "output_type": "stream",
          "text": [
            "INFO:tensorflow:Assets written to: combined/assets\n",
            "WARNING:tensorflow:Compiled the loaded model, but the compiled metrics have yet to be built. `model.compile_metrics` will be empty until you train or evaluate the model.\n",
            "INFO:tensorflow:Assets written to: generator_ab/assets\n"
          ],
          "name": "stdout"
        },
        {
          "output_type": "stream",
          "text": [
            "/usr/local/lib/python3.7/dist-packages/tensorflow/python/keras/utils/generic_utils.py:497: CustomMaskWarning: Custom mask layers require a config and must override get_config. When loading, the custom mask layer must be passed to the custom_objects argument.\n",
            "  category=CustomMaskWarning)\n"
          ],
          "name": "stderr"
        },
        {
          "output_type": "stream",
          "text": [
            "WARNING:tensorflow:Compiled the loaded model, but the compiled metrics have yet to be built. `model.compile_metrics` will be empty until you train or evaluate the model.\n",
            "INFO:tensorflow:Assets written to: generator_ba/assets\n"
          ],
          "name": "stdout"
        },
        {
          "output_type": "stream",
          "text": [
            "/usr/local/lib/python3.7/dist-packages/tensorflow/python/keras/utils/generic_utils.py:497: CustomMaskWarning: Custom mask layers require a config and must override get_config. When loading, the custom mask layer must be passed to the custom_objects argument.\n",
            "  category=CustomMaskWarning)\n"
          ],
          "name": "stderr"
        },
        {
          "output_type": "stream",
          "text": [
            "epoch  89\n",
            "dloss -  0.3479706272482872   daccuracy -  30.703125149011612\n",
            "gloss -  1.064483404159546\n",
            "dloss -  0.38425106555223465   daccuracy -  25.312499701976776\n",
            "gloss -  1.0489997863769531\n",
            "dloss -  0.36742331832647324   daccuracy -  25.78125\n",
            "gloss -  1.0663303136825562\n",
            "dloss -  0.3787185251712799   daccuracy -  24.687499925494194\n",
            "gloss -  1.1065562963485718\n",
            "dloss -  0.34932421892881393   daccuracy -  29.140624776482582\n",
            "gloss -  1.117776870727539\n",
            "dloss -  0.37881801277399063   daccuracy -  25.937499850988388\n",
            "gloss -  1.0264298915863037\n",
            "dloss -  0.3591001033782959   daccuracy -  26.640625298023224\n",
            "gloss -  1.077641487121582\n",
            "dloss -  0.3607911542057991   daccuracy -  29.609374701976776\n",
            "gloss -  1.1400526762008667\n",
            "dloss -  0.36028144508600235   daccuracy -  28.828125447034836\n",
            "gloss -  1.0949715375900269\n",
            "dloss -  0.34635933488607407   daccuracy -  29.531250149011612\n",
            "gloss -  1.05289626121521\n",
            "dloss -  0.35464906692504883   daccuracy -  30.624999850988388\n",
            "gloss -  1.124586820602417\n",
            "dloss -  0.3417389541864395   daccuracy -  30.078125\n",
            "gloss -  1.0889233350753784\n",
            "dloss -  0.3337263837456703   daccuracy -  35.39062514901161\n",
            "gloss -  1.1930104494094849\n",
            "dloss -  0.3304649889469147   daccuracy -  35.31249985098839\n",
            "gloss -  1.1028794050216675\n",
            "INFO:tensorflow:Assets written to: discriminator_a/assets\n",
            "INFO:tensorflow:Assets written to: discriminator_b/assets\n"
          ],
          "name": "stdout"
        },
        {
          "output_type": "stream",
          "text": [
            "/usr/local/lib/python3.7/dist-packages/tensorflow/python/keras/utils/generic_utils.py:497: CustomMaskWarning: Custom mask layers require a config and must override get_config. When loading, the custom mask layer must be passed to the custom_objects argument.\n",
            "  category=CustomMaskWarning)\n"
          ],
          "name": "stderr"
        },
        {
          "output_type": "stream",
          "text": [
            "INFO:tensorflow:Assets written to: combined/assets\n",
            "WARNING:tensorflow:Compiled the loaded model, but the compiled metrics have yet to be built. `model.compile_metrics` will be empty until you train or evaluate the model.\n",
            "INFO:tensorflow:Assets written to: generator_ab/assets\n"
          ],
          "name": "stdout"
        },
        {
          "output_type": "stream",
          "text": [
            "/usr/local/lib/python3.7/dist-packages/tensorflow/python/keras/utils/generic_utils.py:497: CustomMaskWarning: Custom mask layers require a config and must override get_config. When loading, the custom mask layer must be passed to the custom_objects argument.\n",
            "  category=CustomMaskWarning)\n"
          ],
          "name": "stderr"
        },
        {
          "output_type": "stream",
          "text": [
            "WARNING:tensorflow:Compiled the loaded model, but the compiled metrics have yet to be built. `model.compile_metrics` will be empty until you train or evaluate the model.\n",
            "INFO:tensorflow:Assets written to: generator_ba/assets\n"
          ],
          "name": "stdout"
        },
        {
          "output_type": "stream",
          "text": [
            "/usr/local/lib/python3.7/dist-packages/tensorflow/python/keras/utils/generic_utils.py:497: CustomMaskWarning: Custom mask layers require a config and must override get_config. When loading, the custom mask layer must be passed to the custom_objects argument.\n",
            "  category=CustomMaskWarning)\n"
          ],
          "name": "stderr"
        },
        {
          "output_type": "stream",
          "text": [
            "epoch  90\n",
            "dloss -  0.3686227425932884   daccuracy -  28.046874701976776\n",
            "gloss -  1.078144907951355\n",
            "dloss -  0.3654332607984543   daccuracy -  27.421875298023224\n",
            "gloss -  1.0807641744613647\n",
            "dloss -  0.3353079929947853   daccuracy -  31.328125298023224\n",
            "gloss -  1.141571283340454\n",
            "dloss -  0.3374791070818901   daccuracy -  31.015624850988388\n",
            "gloss -  1.066309928894043\n",
            "dloss -  0.35685665905475616   daccuracy -  28.750000521540642\n",
            "gloss -  1.0601327419281006\n",
            "dloss -  0.3449024185538292   daccuracy -  30.234374850988388\n",
            "gloss -  1.0394765138626099\n",
            "dloss -  0.3861539661884308   daccuracy -  23.515624552965164\n",
            "gloss -  1.0517489910125732\n",
            "dloss -  0.35430673509836197   daccuracy -  27.578125149011612\n",
            "gloss -  1.068331241607666\n",
            "dloss -  0.35326139628887177   daccuracy -  28.828124701976776\n",
            "gloss -  1.1550571918487549\n",
            "dloss -  0.3775949105620384   daccuracy -  26.406249776482582\n",
            "gloss -  1.0560972690582275\n",
            "dloss -  0.3481847569346428   daccuracy -  28.437499701976776\n",
            "gloss -  1.0496642589569092\n",
            "dloss -  0.3477400466799736   daccuracy -  28.90625\n",
            "gloss -  1.079820156097412\n",
            "dloss -  0.38792920857667923   daccuracy -  25.703125074505806\n",
            "gloss -  1.0923075675964355\n",
            "dloss -  0.34560535103082657   daccuracy -  32.42187574505806\n",
            "gloss -  1.1312700510025024\n",
            "INFO:tensorflow:Assets written to: discriminator_a/assets\n",
            "INFO:tensorflow:Assets written to: discriminator_b/assets\n"
          ],
          "name": "stdout"
        },
        {
          "output_type": "stream",
          "text": [
            "/usr/local/lib/python3.7/dist-packages/tensorflow/python/keras/utils/generic_utils.py:497: CustomMaskWarning: Custom mask layers require a config and must override get_config. When loading, the custom mask layer must be passed to the custom_objects argument.\n",
            "  category=CustomMaskWarning)\n"
          ],
          "name": "stderr"
        },
        {
          "output_type": "stream",
          "text": [
            "INFO:tensorflow:Assets written to: combined/assets\n",
            "WARNING:tensorflow:Compiled the loaded model, but the compiled metrics have yet to be built. `model.compile_metrics` will be empty until you train or evaluate the model.\n",
            "INFO:tensorflow:Assets written to: generator_ab/assets\n"
          ],
          "name": "stdout"
        },
        {
          "output_type": "stream",
          "text": [
            "/usr/local/lib/python3.7/dist-packages/tensorflow/python/keras/utils/generic_utils.py:497: CustomMaskWarning: Custom mask layers require a config and must override get_config. When loading, the custom mask layer must be passed to the custom_objects argument.\n",
            "  category=CustomMaskWarning)\n"
          ],
          "name": "stderr"
        },
        {
          "output_type": "stream",
          "text": [
            "WARNING:tensorflow:Compiled the loaded model, but the compiled metrics have yet to be built. `model.compile_metrics` will be empty until you train or evaluate the model.\n",
            "INFO:tensorflow:Assets written to: generator_ba/assets\n"
          ],
          "name": "stdout"
        },
        {
          "output_type": "stream",
          "text": [
            "/usr/local/lib/python3.7/dist-packages/tensorflow/python/keras/utils/generic_utils.py:497: CustomMaskWarning: Custom mask layers require a config and must override get_config. When loading, the custom mask layer must be passed to the custom_objects argument.\n",
            "  category=CustomMaskWarning)\n"
          ],
          "name": "stderr"
        },
        {
          "output_type": "stream",
          "text": [
            "epoch  91\n",
            "dloss -  0.34141989052295685   daccuracy -  27.34375\n",
            "gloss -  1.0131916999816895\n",
            "dloss -  0.37033194303512573   daccuracy -  24.765624478459358\n",
            "gloss -  1.0634570121765137\n",
            "dloss -  0.34554630517959595   daccuracy -  28.125\n",
            "gloss -  1.0719934701919556\n",
            "dloss -  0.37487687915563583   daccuracy -  26.406250149011612\n",
            "gloss -  1.0767481327056885\n",
            "dloss -  0.3503728285431862   daccuracy -  29.609374701976776\n",
            "gloss -  1.2043347358703613\n",
            "dloss -  0.38003456592559814   daccuracy -  26.875000074505806\n",
            "gloss -  1.0944650173187256\n",
            "dloss -  0.37553536891937256   daccuracy -  27.421875670552254\n",
            "gloss -  1.0616576671600342\n",
            "dloss -  0.36744265258312225   daccuracy -  26.249999925494194\n",
            "gloss -  1.090090036392212\n",
            "dloss -  0.3662974685430527   daccuracy -  27.34375074505806\n",
            "gloss -  1.005042552947998\n",
            "dloss -  0.3331666737794876   daccuracy -  31.406249850988388\n",
            "gloss -  1.0799897909164429\n",
            "dloss -  0.32904303818941116   daccuracy -  33.203125\n",
            "gloss -  1.0968561172485352\n",
            "dloss -  0.36484719067811966   daccuracy -  28.281249850988388\n",
            "gloss -  1.1321161985397339\n",
            "dloss -  0.3344413563609123   daccuracy -  30.937498807907104\n",
            "gloss -  1.0498361587524414\n",
            "dloss -  0.3440331444144249   daccuracy -  28.984374552965164\n",
            "gloss -  1.109874963760376\n",
            "INFO:tensorflow:Assets written to: discriminator_a/assets\n",
            "INFO:tensorflow:Assets written to: discriminator_b/assets\n"
          ],
          "name": "stdout"
        },
        {
          "output_type": "stream",
          "text": [
            "/usr/local/lib/python3.7/dist-packages/tensorflow/python/keras/utils/generic_utils.py:497: CustomMaskWarning: Custom mask layers require a config and must override get_config. When loading, the custom mask layer must be passed to the custom_objects argument.\n",
            "  category=CustomMaskWarning)\n"
          ],
          "name": "stderr"
        },
        {
          "output_type": "stream",
          "text": [
            "INFO:tensorflow:Assets written to: combined/assets\n",
            "WARNING:tensorflow:Compiled the loaded model, but the compiled metrics have yet to be built. `model.compile_metrics` will be empty until you train or evaluate the model.\n",
            "INFO:tensorflow:Assets written to: generator_ab/assets\n"
          ],
          "name": "stdout"
        },
        {
          "output_type": "stream",
          "text": [
            "/usr/local/lib/python3.7/dist-packages/tensorflow/python/keras/utils/generic_utils.py:497: CustomMaskWarning: Custom mask layers require a config and must override get_config. When loading, the custom mask layer must be passed to the custom_objects argument.\n",
            "  category=CustomMaskWarning)\n"
          ],
          "name": "stderr"
        },
        {
          "output_type": "stream",
          "text": [
            "WARNING:tensorflow:Compiled the loaded model, but the compiled metrics have yet to be built. `model.compile_metrics` will be empty until you train or evaluate the model.\n",
            "INFO:tensorflow:Assets written to: generator_ba/assets\n"
          ],
          "name": "stdout"
        },
        {
          "output_type": "stream",
          "text": [
            "/usr/local/lib/python3.7/dist-packages/tensorflow/python/keras/utils/generic_utils.py:497: CustomMaskWarning: Custom mask layers require a config and must override get_config. When loading, the custom mask layer must be passed to the custom_objects argument.\n",
            "  category=CustomMaskWarning)\n"
          ],
          "name": "stderr"
        },
        {
          "output_type": "stream",
          "text": [
            "epoch  92\n",
            "dloss -  0.34374118596315384   daccuracy -  32.03125\n",
            "gloss -  1.1060986518859863\n",
            "dloss -  0.3263853192329407   daccuracy -  31.953124701976776\n",
            "gloss -  1.0658642053604126\n",
            "dloss -  0.3504447117447853   daccuracy -  30.781249701976776\n",
            "gloss -  1.1034491062164307\n",
            "dloss -  0.377041332423687   daccuracy -  24.21875\n",
            "gloss -  1.117238163948059\n",
            "dloss -  0.3614385053515434   daccuracy -  30.312500149011612\n",
            "gloss -  1.119577407836914\n",
            "dloss -  0.3501484841108322   daccuracy -  26.640625670552254\n",
            "gloss -  1.0624724626541138\n",
            "dloss -  0.3601701855659485   daccuracy -  27.812500298023224\n",
            "gloss -  1.107153296470642\n",
            "dloss -  0.39637286216020584   daccuracy -  23.281250149011612\n",
            "gloss -  1.0607062578201294\n",
            "dloss -  0.32853125780820847   daccuracy -  32.8125\n",
            "gloss -  1.0609201192855835\n",
            "dloss -  0.3477579206228256   daccuracy -  29.609375447034836\n",
            "gloss -  1.1035887002944946\n",
            "dloss -  0.4006359949707985   daccuracy -  20.625000074505806\n",
            "gloss -  1.0089324712753296\n",
            "dloss -  0.3568810671567917   daccuracy -  29.296875\n",
            "gloss -  1.064914584159851\n",
            "dloss -  0.32897675037384033   daccuracy -  32.81249925494194\n",
            "gloss -  1.1876932382583618\n",
            "dloss -  0.33523376286029816   daccuracy -  33.98437425494194\n",
            "gloss -  1.1166703701019287\n",
            "INFO:tensorflow:Assets written to: discriminator_a/assets\n",
            "INFO:tensorflow:Assets written to: discriminator_b/assets\n"
          ],
          "name": "stdout"
        },
        {
          "output_type": "stream",
          "text": [
            "/usr/local/lib/python3.7/dist-packages/tensorflow/python/keras/utils/generic_utils.py:497: CustomMaskWarning: Custom mask layers require a config and must override get_config. When loading, the custom mask layer must be passed to the custom_objects argument.\n",
            "  category=CustomMaskWarning)\n"
          ],
          "name": "stderr"
        },
        {
          "output_type": "stream",
          "text": [
            "INFO:tensorflow:Assets written to: combined/assets\n",
            "WARNING:tensorflow:Compiled the loaded model, but the compiled metrics have yet to be built. `model.compile_metrics` will be empty until you train or evaluate the model.\n",
            "INFO:tensorflow:Assets written to: generator_ab/assets\n"
          ],
          "name": "stdout"
        },
        {
          "output_type": "stream",
          "text": [
            "/usr/local/lib/python3.7/dist-packages/tensorflow/python/keras/utils/generic_utils.py:497: CustomMaskWarning: Custom mask layers require a config and must override get_config. When loading, the custom mask layer must be passed to the custom_objects argument.\n",
            "  category=CustomMaskWarning)\n"
          ],
          "name": "stderr"
        },
        {
          "output_type": "stream",
          "text": [
            "WARNING:tensorflow:Compiled the loaded model, but the compiled metrics have yet to be built. `model.compile_metrics` will be empty until you train or evaluate the model.\n",
            "INFO:tensorflow:Assets written to: generator_ba/assets\n"
          ],
          "name": "stdout"
        },
        {
          "output_type": "stream",
          "text": [
            "/usr/local/lib/python3.7/dist-packages/tensorflow/python/keras/utils/generic_utils.py:497: CustomMaskWarning: Custom mask layers require a config and must override get_config. When loading, the custom mask layer must be passed to the custom_objects argument.\n",
            "  category=CustomMaskWarning)\n"
          ],
          "name": "stderr"
        },
        {
          "output_type": "stream",
          "text": [
            "epoch  93\n",
            "dloss -  0.3868141770362854   daccuracy -  24.765625223517418\n",
            "gloss -  1.054094672203064\n",
            "dloss -  0.35913553088903427   daccuracy -  28.593749925494194\n",
            "gloss -  1.1221685409545898\n",
            "dloss -  0.3549346327781677   daccuracy -  29.765624552965164\n",
            "gloss -  1.044708490371704\n",
            "dloss -  0.34254398941993713   daccuracy -  32.03125074505806\n",
            "gloss -  1.094323992729187\n",
            "dloss -  0.3446769639849663   daccuracy -  30.624999850988388\n",
            "gloss -  1.116613507270813\n",
            "dloss -  0.33754129707813263   daccuracy -  31.093750149011612\n",
            "gloss -  1.0775915384292603\n",
            "dloss -  0.36918648332357407   daccuracy -  26.640624925494194\n",
            "gloss -  1.0717524290084839\n",
            "dloss -  0.34431928396224976   daccuracy -  31.015624850988388\n",
            "gloss -  1.0346379280090332\n",
            "dloss -  0.36373617500066757   daccuracy -  25.468749925494194\n",
            "gloss -  1.1157668828964233\n",
            "dloss -  0.31892120838165283   daccuracy -  35.31249985098839\n",
            "gloss -  1.1847807168960571\n",
            "dloss -  0.33033304661512375   daccuracy -  33.04687514901161\n",
            "gloss -  1.105665922164917\n",
            "dloss -  0.34096287935972214   daccuracy -  30.546874552965164\n",
            "gloss -  1.1180683374404907\n",
            "dloss -  0.34427137672901154   daccuracy -  30.546875298023224\n",
            "gloss -  1.1230533123016357\n",
            "dloss -  0.34788136929273605   daccuracy -  33.671875298023224\n",
            "gloss -  1.0646320581436157\n",
            "INFO:tensorflow:Assets written to: discriminator_a/assets\n",
            "INFO:tensorflow:Assets written to: discriminator_b/assets\n"
          ],
          "name": "stdout"
        },
        {
          "output_type": "stream",
          "text": [
            "/usr/local/lib/python3.7/dist-packages/tensorflow/python/keras/utils/generic_utils.py:497: CustomMaskWarning: Custom mask layers require a config and must override get_config. When loading, the custom mask layer must be passed to the custom_objects argument.\n",
            "  category=CustomMaskWarning)\n"
          ],
          "name": "stderr"
        },
        {
          "output_type": "stream",
          "text": [
            "INFO:tensorflow:Assets written to: combined/assets\n",
            "WARNING:tensorflow:Compiled the loaded model, but the compiled metrics have yet to be built. `model.compile_metrics` will be empty until you train or evaluate the model.\n",
            "INFO:tensorflow:Assets written to: generator_ab/assets\n"
          ],
          "name": "stdout"
        },
        {
          "output_type": "stream",
          "text": [
            "/usr/local/lib/python3.7/dist-packages/tensorflow/python/keras/utils/generic_utils.py:497: CustomMaskWarning: Custom mask layers require a config and must override get_config. When loading, the custom mask layer must be passed to the custom_objects argument.\n",
            "  category=CustomMaskWarning)\n"
          ],
          "name": "stderr"
        },
        {
          "output_type": "stream",
          "text": [
            "WARNING:tensorflow:Compiled the loaded model, but the compiled metrics have yet to be built. `model.compile_metrics` will be empty until you train or evaluate the model.\n",
            "INFO:tensorflow:Assets written to: generator_ba/assets\n"
          ],
          "name": "stdout"
        },
        {
          "output_type": "stream",
          "text": [
            "/usr/local/lib/python3.7/dist-packages/tensorflow/python/keras/utils/generic_utils.py:497: CustomMaskWarning: Custom mask layers require a config and must override get_config. When loading, the custom mask layer must be passed to the custom_objects argument.\n",
            "  category=CustomMaskWarning)\n"
          ],
          "name": "stderr"
        },
        {
          "output_type": "stream",
          "text": [
            "epoch  94\n",
            "dloss -  0.31871360540390015   daccuracy -  35.15624925494194\n",
            "gloss -  1.107954978942871\n",
            "dloss -  0.3624803125858307   daccuracy -  28.046875074505806\n",
            "gloss -  1.0836818218231201\n",
            "dloss -  0.3558380529284477   daccuracy -  28.828125447034836\n",
            "gloss -  1.0786566734313965\n",
            "dloss -  0.3607517257332802   daccuracy -  28.593749552965164\n",
            "gloss -  1.1467281579971313\n",
            "dloss -  0.374287910759449   daccuracy -  24.99999962747097\n",
            "gloss -  1.1518033742904663\n",
            "dloss -  0.3822428658604622   daccuracy -  22.578124329447746\n",
            "gloss -  1.0806437730789185\n",
            "dloss -  0.3602263927459717   daccuracy -  26.328125223517418\n",
            "gloss -  1.0343501567840576\n",
            "dloss -  0.36275602877140045   daccuracy -  28.359375149011612\n",
            "gloss -  1.1041268110275269\n",
            "dloss -  0.3249299004673958   daccuracy -  34.453124552965164\n",
            "gloss -  1.0583711862564087\n",
            "dloss -  0.33911582827568054   daccuracy -  27.265624701976776\n",
            "gloss -  1.0490049123764038\n",
            "dloss -  0.3514854907989502   daccuracy -  27.968749403953552\n",
            "gloss -  1.0899548530578613\n",
            "dloss -  0.32632264494895935   daccuracy -  34.843750298023224\n",
            "gloss -  1.1015783548355103\n",
            "dloss -  0.3448784723877907   daccuracy -  29.999999701976776\n",
            "gloss -  1.1198681592941284\n",
            "dloss -  0.35453203320503235   daccuracy -  29.296875\n",
            "gloss -  1.0244746208190918\n",
            "INFO:tensorflow:Assets written to: discriminator_a/assets\n",
            "INFO:tensorflow:Assets written to: discriminator_b/assets\n"
          ],
          "name": "stdout"
        },
        {
          "output_type": "stream",
          "text": [
            "/usr/local/lib/python3.7/dist-packages/tensorflow/python/keras/utils/generic_utils.py:497: CustomMaskWarning: Custom mask layers require a config and must override get_config. When loading, the custom mask layer must be passed to the custom_objects argument.\n",
            "  category=CustomMaskWarning)\n"
          ],
          "name": "stderr"
        },
        {
          "output_type": "stream",
          "text": [
            "INFO:tensorflow:Assets written to: combined/assets\n",
            "WARNING:tensorflow:Compiled the loaded model, but the compiled metrics have yet to be built. `model.compile_metrics` will be empty until you train or evaluate the model.\n",
            "INFO:tensorflow:Assets written to: generator_ab/assets\n"
          ],
          "name": "stdout"
        },
        {
          "output_type": "stream",
          "text": [
            "/usr/local/lib/python3.7/dist-packages/tensorflow/python/keras/utils/generic_utils.py:497: CustomMaskWarning: Custom mask layers require a config and must override get_config. When loading, the custom mask layer must be passed to the custom_objects argument.\n",
            "  category=CustomMaskWarning)\n"
          ],
          "name": "stderr"
        },
        {
          "output_type": "stream",
          "text": [
            "WARNING:tensorflow:Compiled the loaded model, but the compiled metrics have yet to be built. `model.compile_metrics` will be empty until you train or evaluate the model.\n",
            "INFO:tensorflow:Assets written to: generator_ba/assets\n"
          ],
          "name": "stdout"
        },
        {
          "output_type": "stream",
          "text": [
            "/usr/local/lib/python3.7/dist-packages/tensorflow/python/keras/utils/generic_utils.py:497: CustomMaskWarning: Custom mask layers require a config and must override get_config. When loading, the custom mask layer must be passed to the custom_objects argument.\n",
            "  category=CustomMaskWarning)\n"
          ],
          "name": "stderr"
        },
        {
          "output_type": "stream",
          "text": [
            "epoch  95\n",
            "dloss -  0.39353425800800323   daccuracy -  20.624999701976776\n",
            "gloss -  1.0765050649642944\n",
            "dloss -  0.3629319593310356   daccuracy -  28.12500037252903\n",
            "gloss -  1.0817921161651611\n",
            "dloss -  0.34209906309843063   daccuracy -  28.671874850988388\n",
            "gloss -  1.0534714460372925\n",
            "dloss -  0.3437272533774376   daccuracy -  32.734374701976776\n",
            "gloss -  1.0486977100372314\n",
            "dloss -  0.3470401465892792   daccuracy -  29.765625298023224\n",
            "gloss -  1.1350789070129395\n",
            "dloss -  0.35875777900218964   daccuracy -  25.546874850988388\n",
            "gloss -  1.1606374979019165\n",
            "dloss -  0.3374078646302223   daccuracy -  28.90624962747097\n",
            "gloss -  1.0181407928466797\n",
            "dloss -  0.3306924030184746   daccuracy -  30.546875298023224\n",
            "gloss -  1.073459267616272\n",
            "dloss -  0.3369772359728813   daccuracy -  30.859375\n",
            "gloss -  1.0400067567825317\n",
            "dloss -  0.3335519805550575   daccuracy -  35.15625\n",
            "gloss -  1.0764412879943848\n",
            "dloss -  0.36576034128665924   daccuracy -  26.5625\n",
            "gloss -  1.1018818616867065\n",
            "dloss -  0.3699124753475189   daccuracy -  26.640624552965164\n",
            "gloss -  1.1066882610321045\n",
            "dloss -  0.33843693882226944   daccuracy -  31.875000149011612\n",
            "gloss -  1.0431315898895264\n",
            "dloss -  0.34974443167448044   daccuracy -  29.609374701976776\n",
            "gloss -  1.0950653553009033\n",
            "INFO:tensorflow:Assets written to: discriminator_a/assets\n",
            "INFO:tensorflow:Assets written to: discriminator_b/assets\n"
          ],
          "name": "stdout"
        },
        {
          "output_type": "stream",
          "text": [
            "/usr/local/lib/python3.7/dist-packages/tensorflow/python/keras/utils/generic_utils.py:497: CustomMaskWarning: Custom mask layers require a config and must override get_config. When loading, the custom mask layer must be passed to the custom_objects argument.\n",
            "  category=CustomMaskWarning)\n"
          ],
          "name": "stderr"
        },
        {
          "output_type": "stream",
          "text": [
            "INFO:tensorflow:Assets written to: combined/assets\n",
            "WARNING:tensorflow:Compiled the loaded model, but the compiled metrics have yet to be built. `model.compile_metrics` will be empty until you train or evaluate the model.\n",
            "INFO:tensorflow:Assets written to: generator_ab/assets\n"
          ],
          "name": "stdout"
        },
        {
          "output_type": "stream",
          "text": [
            "/usr/local/lib/python3.7/dist-packages/tensorflow/python/keras/utils/generic_utils.py:497: CustomMaskWarning: Custom mask layers require a config and must override get_config. When loading, the custom mask layer must be passed to the custom_objects argument.\n",
            "  category=CustomMaskWarning)\n"
          ],
          "name": "stderr"
        },
        {
          "output_type": "stream",
          "text": [
            "WARNING:tensorflow:Compiled the loaded model, but the compiled metrics have yet to be built. `model.compile_metrics` will be empty until you train or evaluate the model.\n",
            "INFO:tensorflow:Assets written to: generator_ba/assets\n"
          ],
          "name": "stdout"
        },
        {
          "output_type": "stream",
          "text": [
            "/usr/local/lib/python3.7/dist-packages/tensorflow/python/keras/utils/generic_utils.py:497: CustomMaskWarning: Custom mask layers require a config and must override get_config. When loading, the custom mask layer must be passed to the custom_objects argument.\n",
            "  category=CustomMaskWarning)\n"
          ],
          "name": "stderr"
        },
        {
          "output_type": "stream",
          "text": [
            "epoch  96\n",
            "dloss -  0.3385090231895447   daccuracy -  30.546874552965164\n",
            "gloss -  1.080748438835144\n",
            "dloss -  0.31933750212192535   daccuracy -  33.281249552965164\n",
            "gloss -  1.0805459022521973\n",
            "dloss -  0.3668057918548584   daccuracy -  25.312500074505806\n",
            "gloss -  1.051632046699524\n",
            "dloss -  0.3468504697084427   daccuracy -  30.781249701976776\n",
            "gloss -  1.1417025327682495\n",
            "dloss -  0.35836637020111084   daccuracy -  25.312500447034836\n",
            "gloss -  1.0440086126327515\n",
            "dloss -  0.37432365864515305   daccuracy -  24.921874701976776\n",
            "gloss -  1.063704013824463\n",
            "dloss -  0.34112413972616196   daccuracy -  31.015625596046448\n",
            "gloss -  1.0873008966445923\n",
            "dloss -  0.34780554473400116   daccuracy -  29.765624552965164\n",
            "gloss -  1.0823919773101807\n",
            "dloss -  0.3630834072828293   daccuracy -  27.421874552965164\n",
            "gloss -  1.0880253314971924\n",
            "dloss -  0.3394419774413109   daccuracy -  30.234375596046448\n",
            "gloss -  1.0582300424575806\n",
            "dloss -  0.3292732611298561   daccuracy -  34.453125298023224\n",
            "gloss -  1.108207106590271\n",
            "dloss -  0.31474871933460236   daccuracy -  35.234375298023224\n",
            "gloss -  1.1911972761154175\n",
            "dloss -  0.38081566989421844   daccuracy -  24.296874925494194\n",
            "gloss -  1.0370162725448608\n",
            "dloss -  0.37766890227794647   daccuracy -  26.015624776482582\n",
            "gloss -  1.0340203046798706\n",
            "INFO:tensorflow:Assets written to: discriminator_a/assets\n",
            "INFO:tensorflow:Assets written to: discriminator_b/assets\n"
          ],
          "name": "stdout"
        },
        {
          "output_type": "stream",
          "text": [
            "/usr/local/lib/python3.7/dist-packages/tensorflow/python/keras/utils/generic_utils.py:497: CustomMaskWarning: Custom mask layers require a config and must override get_config. When loading, the custom mask layer must be passed to the custom_objects argument.\n",
            "  category=CustomMaskWarning)\n"
          ],
          "name": "stderr"
        },
        {
          "output_type": "stream",
          "text": [
            "INFO:tensorflow:Assets written to: combined/assets\n",
            "WARNING:tensorflow:Compiled the loaded model, but the compiled metrics have yet to be built. `model.compile_metrics` will be empty until you train or evaluate the model.\n",
            "INFO:tensorflow:Assets written to: generator_ab/assets\n"
          ],
          "name": "stdout"
        },
        {
          "output_type": "stream",
          "text": [
            "/usr/local/lib/python3.7/dist-packages/tensorflow/python/keras/utils/generic_utils.py:497: CustomMaskWarning: Custom mask layers require a config and must override get_config. When loading, the custom mask layer must be passed to the custom_objects argument.\n",
            "  category=CustomMaskWarning)\n"
          ],
          "name": "stderr"
        },
        {
          "output_type": "stream",
          "text": [
            "WARNING:tensorflow:Compiled the loaded model, but the compiled metrics have yet to be built. `model.compile_metrics` will be empty until you train or evaluate the model.\n",
            "INFO:tensorflow:Assets written to: generator_ba/assets\n"
          ],
          "name": "stdout"
        },
        {
          "output_type": "stream",
          "text": [
            "/usr/local/lib/python3.7/dist-packages/tensorflow/python/keras/utils/generic_utils.py:497: CustomMaskWarning: Custom mask layers require a config and must override get_config. When loading, the custom mask layer must be passed to the custom_objects argument.\n",
            "  category=CustomMaskWarning)\n"
          ],
          "name": "stderr"
        },
        {
          "output_type": "stream",
          "text": [
            "epoch  97\n",
            "dloss -  0.33556436002254486   daccuracy -  29.218750447034836\n",
            "gloss -  1.0221692323684692\n",
            "dloss -  0.37632641196250916   daccuracy -  24.609375\n",
            "gloss -  1.0520628690719604\n",
            "dloss -  0.36919255554676056   daccuracy -  25.937499850988388\n",
            "gloss -  1.0477265119552612\n",
            "dloss -  0.34349099546670914   daccuracy -  28.046874701976776\n",
            "gloss -  1.059725046157837\n",
            "dloss -  0.3665308207273483   daccuracy -  27.265625447034836\n",
            "gloss -  1.094629168510437\n",
            "dloss -  0.3326314464211464   daccuracy -  35.078125447034836\n",
            "gloss -  1.1682182550430298\n",
            "dloss -  0.33992400020360947   daccuracy -  28.281249850988388\n",
            "gloss -  1.0905523300170898\n",
            "dloss -  0.32622669637203217   daccuracy -  34.062499552965164\n",
            "gloss -  1.0484552383422852\n",
            "dloss -  0.316660113632679   daccuracy -  35.859374701976776\n",
            "gloss -  1.0687768459320068\n",
            "dloss -  0.3200274705886841   daccuracy -  35.9375\n",
            "gloss -  1.110427975654602\n",
            "dloss -  0.35055555403232574   daccuracy -  28.749999776482582\n",
            "gloss -  1.0885461568832397\n",
            "dloss -  0.378448948264122   daccuracy -  27.656250074505806\n",
            "gloss -  1.1325817108154297\n",
            "dloss -  0.3491987884044647   daccuracy -  28.750000149011612\n",
            "gloss -  1.0750732421875\n",
            "dloss -  0.36698606610298157   daccuracy -  24.765625223517418\n",
            "gloss -  1.051290512084961\n",
            "INFO:tensorflow:Assets written to: discriminator_a/assets\n",
            "INFO:tensorflow:Assets written to: discriminator_b/assets\n"
          ],
          "name": "stdout"
        },
        {
          "output_type": "stream",
          "text": [
            "/usr/local/lib/python3.7/dist-packages/tensorflow/python/keras/utils/generic_utils.py:497: CustomMaskWarning: Custom mask layers require a config and must override get_config. When loading, the custom mask layer must be passed to the custom_objects argument.\n",
            "  category=CustomMaskWarning)\n"
          ],
          "name": "stderr"
        },
        {
          "output_type": "stream",
          "text": [
            "INFO:tensorflow:Assets written to: combined/assets\n",
            "WARNING:tensorflow:Compiled the loaded model, but the compiled metrics have yet to be built. `model.compile_metrics` will be empty until you train or evaluate the model.\n",
            "INFO:tensorflow:Assets written to: generator_ab/assets\n"
          ],
          "name": "stdout"
        },
        {
          "output_type": "stream",
          "text": [
            "/usr/local/lib/python3.7/dist-packages/tensorflow/python/keras/utils/generic_utils.py:497: CustomMaskWarning: Custom mask layers require a config and must override get_config. When loading, the custom mask layer must be passed to the custom_objects argument.\n",
            "  category=CustomMaskWarning)\n"
          ],
          "name": "stderr"
        },
        {
          "output_type": "stream",
          "text": [
            "WARNING:tensorflow:Compiled the loaded model, but the compiled metrics have yet to be built. `model.compile_metrics` will be empty until you train or evaluate the model.\n",
            "INFO:tensorflow:Assets written to: generator_ba/assets\n"
          ],
          "name": "stdout"
        },
        {
          "output_type": "stream",
          "text": [
            "/usr/local/lib/python3.7/dist-packages/tensorflow/python/keras/utils/generic_utils.py:497: CustomMaskWarning: Custom mask layers require a config and must override get_config. When loading, the custom mask layer must be passed to the custom_objects argument.\n",
            "  category=CustomMaskWarning)\n"
          ],
          "name": "stderr"
        },
        {
          "output_type": "stream",
          "text": [
            "epoch  98\n",
            "dloss -  0.35189376026391983   daccuracy -  27.812499925494194\n",
            "gloss -  1.0946071147918701\n",
            "dloss -  0.3630823343992233   daccuracy -  26.5625\n",
            "gloss -  1.2257493734359741\n",
            "dloss -  0.3574686869978905   daccuracy -  25.624999403953552\n",
            "gloss -  1.0470809936523438\n",
            "dloss -  0.3491223677992821   daccuracy -  28.12500037252903\n",
            "gloss -  1.039290428161621\n",
            "dloss -  0.3584396243095398   daccuracy -  28.749999403953552\n",
            "gloss -  1.0710556507110596\n",
            "dloss -  0.3540969341993332   daccuracy -  29.29687574505806\n",
            "gloss -  1.024657130241394\n",
            "dloss -  0.3337225168943405   daccuracy -  33.04687514901161\n",
            "gloss -  1.0894536972045898\n",
            "dloss -  0.3430238738656044   daccuracy -  31.093750149011612\n",
            "gloss -  1.0845417976379395\n",
            "dloss -  0.3691374287009239   daccuracy -  27.812500298023224\n",
            "gloss -  1.050684928894043\n",
            "dloss -  0.3481123223900795   daccuracy -  28.203125298023224\n",
            "gloss -  1.0643417835235596\n",
            "dloss -  0.3474409803748131   daccuracy -  29.140625149011612\n",
            "gloss -  1.1076472997665405\n",
            "dloss -  0.32945653796195984   daccuracy -  32.890624552965164\n",
            "gloss -  1.069239854812622\n",
            "dloss -  0.35361313819885254   daccuracy -  28.046875074505806\n",
            "gloss -  1.0591933727264404\n",
            "dloss -  0.3236541748046875   daccuracy -  33.35937485098839\n",
            "gloss -  1.1162656545639038\n",
            "INFO:tensorflow:Assets written to: discriminator_a/assets\n",
            "INFO:tensorflow:Assets written to: discriminator_b/assets\n"
          ],
          "name": "stdout"
        },
        {
          "output_type": "stream",
          "text": [
            "/usr/local/lib/python3.7/dist-packages/tensorflow/python/keras/utils/generic_utils.py:497: CustomMaskWarning: Custom mask layers require a config and must override get_config. When loading, the custom mask layer must be passed to the custom_objects argument.\n",
            "  category=CustomMaskWarning)\n"
          ],
          "name": "stderr"
        },
        {
          "output_type": "stream",
          "text": [
            "INFO:tensorflow:Assets written to: combined/assets\n",
            "WARNING:tensorflow:Compiled the loaded model, but the compiled metrics have yet to be built. `model.compile_metrics` will be empty until you train or evaluate the model.\n",
            "INFO:tensorflow:Assets written to: generator_ab/assets\n"
          ],
          "name": "stdout"
        },
        {
          "output_type": "stream",
          "text": [
            "/usr/local/lib/python3.7/dist-packages/tensorflow/python/keras/utils/generic_utils.py:497: CustomMaskWarning: Custom mask layers require a config and must override get_config. When loading, the custom mask layer must be passed to the custom_objects argument.\n",
            "  category=CustomMaskWarning)\n"
          ],
          "name": "stderr"
        },
        {
          "output_type": "stream",
          "text": [
            "WARNING:tensorflow:Compiled the loaded model, but the compiled metrics have yet to be built. `model.compile_metrics` will be empty until you train or evaluate the model.\n",
            "INFO:tensorflow:Assets written to: generator_ba/assets\n"
          ],
          "name": "stdout"
        },
        {
          "output_type": "stream",
          "text": [
            "/usr/local/lib/python3.7/dist-packages/tensorflow/python/keras/utils/generic_utils.py:497: CustomMaskWarning: Custom mask layers require a config and must override get_config. When loading, the custom mask layer must be passed to the custom_objects argument.\n",
            "  category=CustomMaskWarning)\n"
          ],
          "name": "stderr"
        },
        {
          "output_type": "stream",
          "text": [
            "epoch  99\n",
            "dloss -  0.34275779128074646   daccuracy -  28.749999403953552\n",
            "gloss -  1.0370450019836426\n",
            "dloss -  0.40045664459466934   daccuracy -  21.48437537252903\n",
            "gloss -  1.0861611366271973\n",
            "dloss -  0.3318971171975136   daccuracy -  30.781249701976776\n",
            "gloss -  1.0622289180755615\n",
            "dloss -  0.3740282878279686   daccuracy -  23.82812537252903\n",
            "gloss -  1.1235579252243042\n",
            "dloss -  0.3418995440006256   daccuracy -  29.375000298023224\n",
            "gloss -  1.0422037839889526\n",
            "dloss -  0.32846488803625107   daccuracy -  33.203125\n",
            "gloss -  1.0727894306182861\n",
            "dloss -  0.3571920841932297   daccuracy -  29.609375447034836\n",
            "gloss -  1.0995633602142334\n",
            "dloss -  0.3278011232614517   daccuracy -  33.203125\n",
            "gloss -  1.0544383525848389\n",
            "dloss -  0.3215038552880287   daccuracy -  33.515625074505806\n",
            "gloss -  1.0819181203842163\n",
            "dloss -  0.36518897116184235   daccuracy -  28.359374403953552\n",
            "gloss -  1.030640721321106\n",
            "dloss -  0.3298633322119713   daccuracy -  32.421875\n",
            "gloss -  1.1305313110351562\n",
            "dloss -  0.3246892914175987   daccuracy -  34.765625\n",
            "gloss -  1.0632727146148682\n",
            "dloss -  0.3683943748474121   daccuracy -  25.625000149011612\n",
            "gloss -  1.0649573802947998\n",
            "dloss -  0.34338075667619705   daccuracy -  27.73437574505806\n",
            "gloss -  1.115242838859558\n",
            "INFO:tensorflow:Assets written to: discriminator_a/assets\n",
            "INFO:tensorflow:Assets written to: discriminator_b/assets\n"
          ],
          "name": "stdout"
        },
        {
          "output_type": "stream",
          "text": [
            "/usr/local/lib/python3.7/dist-packages/tensorflow/python/keras/utils/generic_utils.py:497: CustomMaskWarning: Custom mask layers require a config and must override get_config. When loading, the custom mask layer must be passed to the custom_objects argument.\n",
            "  category=CustomMaskWarning)\n"
          ],
          "name": "stderr"
        },
        {
          "output_type": "stream",
          "text": [
            "INFO:tensorflow:Assets written to: combined/assets\n",
            "WARNING:tensorflow:Compiled the loaded model, but the compiled metrics have yet to be built. `model.compile_metrics` will be empty until you train or evaluate the model.\n",
            "INFO:tensorflow:Assets written to: generator_ab/assets\n"
          ],
          "name": "stdout"
        },
        {
          "output_type": "stream",
          "text": [
            "/usr/local/lib/python3.7/dist-packages/tensorflow/python/keras/utils/generic_utils.py:497: CustomMaskWarning: Custom mask layers require a config and must override get_config. When loading, the custom mask layer must be passed to the custom_objects argument.\n",
            "  category=CustomMaskWarning)\n"
          ],
          "name": "stderr"
        },
        {
          "output_type": "stream",
          "text": [
            "WARNING:tensorflow:Compiled the loaded model, but the compiled metrics have yet to be built. `model.compile_metrics` will be empty until you train or evaluate the model.\n",
            "INFO:tensorflow:Assets written to: generator_ba/assets\n"
          ],
          "name": "stdout"
        },
        {
          "output_type": "stream",
          "text": [
            "/usr/local/lib/python3.7/dist-packages/tensorflow/python/keras/utils/generic_utils.py:497: CustomMaskWarning: Custom mask layers require a config and must override get_config. When loading, the custom mask layer must be passed to the custom_objects argument.\n",
            "  category=CustomMaskWarning)\n"
          ],
          "name": "stderr"
        }
      ]
    },
    {
      "cell_type": "code",
      "metadata": {
        "colab": {
          "base_uri": "https://localhost:8080/",
          "height": 517
        },
        "id": "CDWHR7zS_7ox",
        "outputId": "42e89d6e-4dad-4ac5-ddbe-42104d5e64e1"
      },
      "source": [
        "testimg=cv2.imread('guava/00000119.jpg')\n",
        "testimg=cv2.resize(testimg,dsize=(256,256),interpolation=cv2.INTER_CUBIC)\n",
        "\n",
        "#testimg=cv2.cvtColor(testimg,cv2.COLOR_BGR2RGB)\n",
        "testimg=np.array(testimg)/255.0\n",
        "testimg=np.reshape(testimg,(1,256,256,3))\n",
        "testout=generator_ab.predict(testimg)\n",
        "\n",
        "#cv2.imshow('ok',testout)\n",
        "testout=np.reshape(testout,(256,256,3))\n",
        "testout=cv2.cvtColor(testout,cv2.COLOR_BGR2RGB)\n",
        "\n",
        "plt.imshow(testout)\n",
        "plt.show()\n",
        "epochs=[]\n",
        "for i in range(len(glosses)):\n",
        "  epochs.append(i)\n",
        "plt.plot(epochs,glosses)\n",
        "plt.show()"
      ],
      "execution_count": 20,
      "outputs": [
        {
          "output_type": "display_data",
          "data": {
            "image/png": "[encoded data removed]",
            "text/plain": [
              "<Figure size 432x288 with 1 Axes>"
            ]
          },
          "metadata": {
            "tags": [],
            "needs_background": "light"
          }
        },
        {
          "output_type": "display_data",
          "data": {
            "image/png": "[encoded data removed]",
            "text/plain": [
              "<Figure size 432x288 with 1 Axes>"
            ]
          },
          "metadata": {
            "tags": [],
            "needs_background": "light"
          }
        }
      ]
    },
    {
      "cell_type": "markdown",
      "metadata": {
        "id": "woTyJ0tibBH4"
      },
      "source": [
        "# New Section"
      ]
    }
  ]
}