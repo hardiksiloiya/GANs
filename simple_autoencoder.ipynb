{
  "nbformat": 4,
  "nbformat_minor": 0,
  "metadata": {
    "colab": {
      "name": "simple_autoencoder.ipynb",
      "provenance": [],
      "authorship_tag": "ABX9TyOw/eledRzsvhG8ZIeGQi1M",
      "include_colab_link": true
    },
    "kernelspec": {
      "name": "python3",
      "display_name": "Python 3"
    },
    "language_info": {
      "name": "python"
    }
  },
  "cells": [
    {
      "cell_type": "markdown",
      "metadata": {
        "id": "view-in-github",
        "colab_type": "text"
      },
      "source": [
        "<a href=\"https://colab.research.google.com/github/hardiksiloiya/GANs/blob/main/simple_autoencoder.ipynb\" target=\"_parent\"><img src=\"https://colab.research.google.com/assets/colab-badge.svg\" alt=\"Open In Colab\"/></a>"
      ]
    },
    {
      "cell_type": "code",
      "metadata": {
        "id": "wfnZkpx7cvlc"
      },
      "source": [
        "import sys\n",
        "import os\n",
        "import keras\n",
        "from keras.models import Model\n",
        "import numpy as np\n",
        "from keras.layers import Input\n",
        "from tensorflow.keras.layers import Conv2D,Conv2DTranspose\n",
        "from keras.datasets import mnist\n",
        "from tensorflow.keras.layers import BatchNormalization\n",
        "from keras.layers import LeakyReLU\n",
        "from keras.layers import Dense, Activation, Flatten, Dropout,Reshape\n",
        "from keras.optimizers import Adam\n",
        "from keras import backend as K\n",
        "\n"
      ],
      "execution_count": 124,
      "outputs": []
    },
    {
      "cell_type": "code",
      "metadata": {
        "id": "GpttDU7TdXi8"
      },
      "source": [
        "(x_train,y_train),(x_test,y_test)=mnist.load_data()\n",
        "x_train=x_train.reshape(60000,28,28,1)\n",
        "x_test=x_test.reshape(10000,28,28,1)\n",
        "x_train = x_train.astype(np.float32)\n",
        "y_train = y_train.astype(np.float32)\n",
        "x_test=x_test.astype(np.float32)\n",
        "y_test=y_test.astype(np.float32)"
      ],
      "execution_count": 125,
      "outputs": []
    },
    {
      "cell_type": "code",
      "metadata": {
        "id": "TlUaMgz4EPqE"
      },
      "source": [
        "input_layer=Input((28,28,1))\n",
        "x=Conv2D(filters=30,kernel_size=3,strides=1,padding='same')(input_layer)\n",
        "x=BatchNormalization()(x)\n",
        "x=LeakyReLU()(x)\n",
        "\n",
        "x=Conv2D(filters=10,kernel_size=3,strides=1,padding='same')(x)\n",
        "x=BatchNormalization()(x)\n",
        "x=LeakyReLU()(x)\n",
        "\n",
        "x=Conv2D(filters=15,kernel_size=3,strides=1,padding='same')(x)\n",
        "x=LeakyReLU()(x)\n",
        "x=Dropout(rate=0.25)(x)\n",
        "\n",
        "x=Conv2D(filters=20,kernel_size=3,strides=1,padding='same')(x)\n",
        "x=BatchNormalization()(x)\n",
        "x=LeakyReLU()(x)\n",
        "x=Flatten()(x)\n",
        "\n",
        "\n",
        "x=Dense(2)(x)\n",
        "out1=x\n",
        "\n",
        "encode=Model(input_layer,out1)\n",
        "#encode.summary()"
      ],
      "execution_count": 142,
      "outputs": []
    },
    {
      "cell_type": "code",
      "metadata": {
        "id": "QngJOU_yUGvv"
      },
      "source": [
        "input_layer2=Input(shape=2)\n",
        "y=Dense(1568)(input_layer2)\n",
        "y=Reshape((7,7,32))(y)\n",
        "y=Conv2DTranspose(filters = 15, kernel_size = 3, strides = 2, padding = 'same')(y)\n",
        "y=Conv2DTranspose(filters=30,kernel_size=3,strides=2,padding='same')(y)\n",
        "y=Conv2DTranspose(filters=20,kernel_size=3,strides=1,padding='same')(y)\n",
        "\n",
        "y=Conv2DTranspose(filters=1,kernel_size=3,strides=1,padding='same')(y)\n",
        "y=Activation('relu')(y)\n",
        "out2=y\n",
        "\n",
        "decode=Model(input_layer2,out2)\n",
        "#decode.summary()\n"
      ],
      "execution_count": 143,
      "outputs": []
    },
    {
      "cell_type": "code",
      "metadata": {
        "colab": {
          "base_uri": "https://localhost:8080/"
        },
        "id": "Spj8CcSwiLK2",
        "outputId": "9131cddf-320e-43e8-c7ab-9d21f636d743"
      },
      "source": [
        "model=Model(input_layer,decode(x))\n",
        "model.summary()"
      ],
      "execution_count": 144,
      "outputs": [
        {
          "output_type": "stream",
          "text": [
            "Model: \"model_37\"\n",
            "_________________________________________________________________\n",
            "Layer (type)                 Output Shape              Param #   \n",
            "=================================================================\n",
            "input_51 (InputLayer)        [(None, 28, 28, 1)]       0         \n",
            "_________________________________________________________________\n",
            "conv2d_59 (Conv2D)           (None, 28, 28, 30)        300       \n",
            "_________________________________________________________________\n",
            "batch_normalization_73 (Batc (None, 28, 28, 30)        120       \n",
            "_________________________________________________________________\n",
            "leaky_re_lu_68 (LeakyReLU)   (None, 28, 28, 30)        0         \n",
            "_________________________________________________________________\n",
            "conv2d_60 (Conv2D)           (None, 28, 28, 10)        2710      \n",
            "_________________________________________________________________\n",
            "batch_normalization_74 (Batc (None, 28, 28, 10)        40        \n",
            "_________________________________________________________________\n",
            "leaky_re_lu_69 (LeakyReLU)   (None, 28, 28, 10)        0         \n",
            "_________________________________________________________________\n",
            "conv2d_61 (Conv2D)           (None, 28, 28, 15)        1365      \n",
            "_________________________________________________________________\n",
            "leaky_re_lu_70 (LeakyReLU)   (None, 28, 28, 15)        0         \n",
            "_________________________________________________________________\n",
            "dropout_17 (Dropout)         (None, 28, 28, 15)        0         \n",
            "_________________________________________________________________\n",
            "conv2d_62 (Conv2D)           (None, 28, 28, 20)        2720      \n",
            "_________________________________________________________________\n",
            "batch_normalization_75 (Batc (None, 28, 28, 20)        80        \n",
            "_________________________________________________________________\n",
            "leaky_re_lu_71 (LeakyReLU)   (None, 28, 28, 20)        0         \n",
            "_________________________________________________________________\n",
            "flatten_21 (Flatten)         (None, 15680)             0         \n",
            "_________________________________________________________________\n",
            "dense_55 (Dense)             (None, 2)                 31362     \n",
            "_________________________________________________________________\n",
            "model_36 (Functional)        (None, 28, 28, 1)         18720     \n",
            "=================================================================\n",
            "Total params: 57,417\n",
            "Trainable params: 57,297\n",
            "Non-trainable params: 120\n",
            "_________________________________________________________________\n"
          ],
          "name": "stdout"
        }
      ]
    },
    {
      "cell_type": "code",
      "metadata": {
        "id": "6K4bQZwfkEC5"
      },
      "source": [
        "optimizer=Adam(lr=0.0005)\n",
        "def loss(a,b):\n",
        " return K.mean(K.square(a-b), axis = [1,2,3])\n",
        " \n",
        "model.compile(optimizer=optimizer,loss=loss)"
      ],
      "execution_count": 145,
      "outputs": []
    },
    {
      "cell_type": "code",
      "metadata": {
        "colab": {
          "base_uri": "https://localhost:8080/"
        },
        "id": "QiY3xcrHlRJ8",
        "outputId": "57221dcd-8cff-4bd9-b85e-9974cf3edf0d"
      },
      "source": [
        "model.fit(x=x_train,y=x_train,batch_size=32,shuffle=True,epochs=10)"
      ],
      "execution_count": null,
      "outputs": [
        {
          "output_type": "stream",
          "text": [
            "Epoch 1/10\n",
            " 314/1875 [====>.........................] - ETA: 4:48 - loss: 5107.2920"
          ],
          "name": "stdout"
        }
      ]
    }
  ]
}