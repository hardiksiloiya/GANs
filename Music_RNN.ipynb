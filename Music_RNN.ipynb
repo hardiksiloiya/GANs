{
  "nbformat": 4,
  "nbformat_minor": 0,
  "metadata": {
    "colab": {
      "name": "Untitled11.ipynb",
      "provenance": [],
      "authorship_tag": "ABX9TyPdleLIInAKpudPkyTMBJaZ",
      "include_colab_link": true
    },
    "kernelspec": {
      "name": "python3",
      "display_name": "Python 3"
    },
    "language_info": {
      "name": "python"
    },
    "accelerator": "GPU"
  },
  "cells": [
    {
      "cell_type": "markdown",
      "metadata": {
        "id": "view-in-github",
        "colab_type": "text"
      },
      "source": [
        "<a href=\"https://colab.research.google.com/github/hardiksiloiya/GANs/blob/main/Music_RNN.ipynb\" target=\"_parent\"><img src=\"https://colab.research.google.com/assets/colab-badge.svg\" alt=\"Open In Colab\"/></a>"
      ]
    },
    {
      "cell_type": "code",
      "metadata": {
        "id": "_2BUcAIneRxa"
      },
      "source": [
        "from tensorflow import keras\n",
        "from tensorflow.keras.layers import *\n",
        "from tensorflow.keras.models import *\n",
        "from tensorflow.keras import backend as K\n",
        "from tensorflow.keras.optimizers import *\n",
        "from tensorflow.keras.preprocessing.text import Tokenizer\n",
        "import glob\n",
        "import numpy as np\n",
        "import matplotlib.pyplot as plt\n"
      ],
      "execution_count": 14,
      "outputs": []
    },
    {
      "cell_type": "code",
      "metadata": {
        "id": "xZaYGWonKEQo"
      },
      "source": [
        "from music21 import converter,instrument, note, stream, chord, duration\n"
      ],
      "execution_count": 44,
      "outputs": []
    },
    {
      "cell_type": "code",
      "metadata": {
        "colab": {
          "base_uri": "https://localhost:8080/"
        },
        "id": "TQvoqTQEL_MB",
        "outputId": "2e56aece-0e61-4333-81ab-9495a3362f1e"
      },
      "source": [
        "notes = []\n",
        "durations = []\n",
        "for file in glob.glob('temp2/*'):\n",
        "  print(file)\n",
        "  mus=converter.parse(file).chordify()\n",
        "  for element in mus.flat:\n",
        "    if isinstance(element, chord.Chord):\n",
        "      notes.append('.'.join(n.nameWithOctave for n in element.pitches))\n",
        "      durations.append(element.duration.quarterLength)\n",
        "    if isinstance(element, note.Note):\n",
        "      if element.isRest:\n",
        "        notes.append(str(element.name))\n",
        "        durations.append(element.duration.quarterLength)\n",
        "      else:\n",
        "        notes.append(str(element.nameWithOctave))\n",
        "        durations.append(element.duration.quarterLength)\n"
      ],
      "execution_count": 56,
      "outputs": [
        {
          "output_type": "stream",
          "text": [
            "temp2/beethoven_les_adieux_3.mid\n",
            "temp2/waldstein_2.mid\n",
            "temp2/bach_850.mid\n",
            "temp2/bor_ps2.mid\n",
            "temp2/chpn_op33_2.mid\n",
            "temp2/waldstein_3.mid\n",
            "temp2/beethoven_opus22_3.mid\n",
            "temp2/mz_333_1.mid\n",
            "temp2/appass_3.mid\n",
            "temp2/appass_2.mid\n",
            "temp2/bor_ps1.mid\n",
            "temp2/beethoven_hammerklavier_1.mid\n",
            "temp2/beethoven_opus90_2.mid\n",
            "temp2/bach_847.mid\n",
            "temp2/beethoven_opus90_1.mid\n",
            "temp2/beethoven_opus22_2.mid\n",
            "temp2/chpn_op27_2.mid\n",
            "temp2/ty_oktober.mid\n",
            "temp2/beethoven_opus10_2.mid\n",
            "temp2/chpn_op27_1.mid\n",
            "temp2/mz_332_3.mid\n",
            "temp2/bach_846.mid\n",
            "temp2/waldstein_1.mid\n",
            "temp2/beethoven_opus10_3.mid\n",
            "temp2/ty_september.mid\n"
          ],
          "name": "stdout"
        }
      ]
    },
    {
      "cell_type": "code",
      "metadata": {
        "id": "N41c3--qNVpY"
      },
      "source": [
        "#for n,d in zip(notes,durations):\n",
        "#  print(n,\"\\t\",d)\n",
        "def get_distinct(elem):\n",
        "  dis=sorted(set(elem))\n",
        "  num=len(dis)\n",
        "  return dis,num"
      ],
      "execution_count": 4,
      "outputs": []
    },
    {
      "cell_type": "code",
      "metadata": {
        "colab": {
          "base_uri": "https://localhost:8080/"
        },
        "id": "_-ma6yeAOU8z",
        "outputId": "abaa55d7-c917-4912-e71f-b79e3ded7738"
      },
      "source": [
        "note_names,num_notes=get_distinct(notes)\n",
        "duration_names,num_durations=get_distinct(durations)\n",
        "note_to_int=dict((elem,num) for num,elem in enumerate(note_names))\n",
        "dur_to_int=dict((elem,num) for num,elem in enumerate(duration_names))\n",
        "print(num_notes)\n",
        "print(num_durations)\n",
        "dur_to_int"
      ],
      "execution_count": 57,
      "outputs": [
        {
          "output_type": "stream",
          "text": [
            "10351\n",
            "20\n"
          ],
          "name": "stdout"
        },
        {
          "output_type": "execute_result",
          "data": {
            "text/plain": [
              "{Fraction(1, 12): 0,\n",
              " Fraction(1, 6): 1,\n",
              " 0.25: 2,\n",
              " Fraction(1, 3): 3,\n",
              " Fraction(5, 12): 4,\n",
              " 0.5: 5,\n",
              " Fraction(2, 3): 6,\n",
              " 0.75: 7,\n",
              " Fraction(11, 12): 8,\n",
              " 1.0: 9,\n",
              " 1.25: 10,\n",
              " Fraction(4, 3): 11,\n",
              " 1.5: 12,\n",
              " Fraction(5, 3): 13,\n",
              " 1.75: 14,\n",
              " 2.0: 15,\n",
              " 2.5: 16,\n",
              " 2.75: 17,\n",
              " 3.0: 18,\n",
              " 4.0: 19}"
            ]
          },
          "metadata": {
            "tags": []
          },
          "execution_count": 57
        }
      ]
    },
    {
      "cell_type": "code",
      "metadata": {
        "colab": {
          "base_uri": "https://localhost:8080/"
        },
        "id": "z7By-Wm9vQWy",
        "outputId": "eef0c454-4abe-4840-d2ed-79b0cb6b8743"
      },
      "source": [
        "xxx=Input(shape=(None,))\n",
        "yyy=Input(shape=(None,))\n",
        "x1=Embedding(num_notes,200)(xxx)\n",
        "y1=Embedding(num_durations,200)(yyy)\n",
        "z=Concatenate()([x1,y1])\n",
        "z=LSTM(100,return_sequences=True)(z)\n",
        "z=LSTM(100,return_sequences=True)(z)\n",
        "e=Dense(1,activation='tanh')(z)\n",
        "e=Reshape([-1])(e)\n",
        "alpha=Activation('softmax')(e)\n",
        "c=Permute([2,1])(RepeatVector(100)(alpha))\n",
        "c=Multiply()([z,c])\n",
        "c=Lambda(lambda temp:K.sum(temp,axis=1))(c)\n",
        "note=Dense(num_notes,activation='softmax')(c)\n",
        "duration=Dense(num_durations,activation='softmax')(c)\n",
        "mod=Model((xxx,yyy),[note,duration])\n",
        "att=Model([xxx,yyy],alpha)\n",
        "mod.compile(optimizer=RMSprop(lr=0.005),loss=['categorical_crossentropy','categorical_crossentropy'])"
      ],
      "execution_count": 6,
      "outputs": [
        {
          "output_type": "stream",
          "text": [
            "/usr/local/lib/python3.7/dist-packages/tensorflow/python/keras/optimizer_v2/optimizer_v2.py:375: UserWarning: The `lr` argument is deprecated, use `learning_rate` instead.\n",
            "  \"The `lr` argument is deprecated, use `learning_rate` instead.\")\n"
          ],
          "name": "stderr"
        }
      ]
    },
    {
      "cell_type": "code",
      "metadata": {
        "id": "HsQMqF2HWqc6"
      },
      "source": [
        "x=[]\n",
        "y=[]\n",
        "xnotes=[]\n",
        "ynotes=[]\n",
        "xdur=[]\n",
        "ydur=[]\n",
        "for i in range(len(notes)-20):\n",
        "  notesx=notes[i:i+20]\n",
        "  notesy=notes[i+20]\n",
        "  durx=durations[i:i+20]\n",
        "  dury=durations[i+20]\n",
        "  noteconv=[]\n",
        "  durconv=[]\n",
        "  for j in notesx:\n",
        "    noteconv.append(note_to_int[j])\n",
        "  for j in durx:\n",
        "    durconv.append(dur_to_int[j])\n",
        "  tempx=[noteconv,durconv]\n",
        "  tempy=[note_to_int[notesy],dur_to_int[dury]]\n",
        "  x.append(tempx)\n",
        "  y.append(tempy)\n",
        "  xnotes.append(noteconv)\n",
        "  ynotesarr=np.zeros(shape=(num_notes))\n",
        "  ydurarr=np.zeros(shape=(num_durations))\n",
        "  ynotesarr[tempy[0]]=1.0\n",
        "  ydurarr[tempy[1]]=1.0\n",
        "  ynotes.append(ynotesarr)\n",
        "  xdur.append(durconv)\n",
        "  ydur.append(ydurarr)\n",
        "#xnotes=np.array(xnotes)\n",
        "xnotes=np.reshape(xnotes,(len(xnotes),20))\n",
        "#xdur=np.array(xdur)\n",
        "xdur=np.reshape(xdur,(len(xdur),20))\n",
        "ynotes=np.reshape(ynotes,(len(ynotes),num_notes))\n",
        "ydur=np.reshape(ydur,(len(ydur),num_durations))"
      ],
      "execution_count": 7,
      "outputs": []
    },
    {
      "cell_type": "code",
      "metadata": {
        "id": "3C2QWAP7a072"
      },
      "source": [
        "int_to_note = {v: k for k, v in note_to_int.items()}\n",
        "int_to_dur = {v: k for k, v in dur_to_int.items()}"
      ],
      "execution_count": 8,
      "outputs": []
    },
    {
      "cell_type": "code",
      "metadata": {
        "colab": {
          "base_uri": "https://localhost:8080/"
        },
        "id": "S-MitAqpaYX1",
        "outputId": "b7d8160a-6b96-46f8-b6fd-cc81b7577f67"
      },
      "source": [
        "print(np.shape(xnotes))\n",
        "print(np.shape(xdur))\n",
        "print(np.shape(ydur))\n",
        "print(np.shape(ynotes))\n",
        "mod.summary()\n",
        "net_input=[xnotes,xdur]\n",
        "net_output=[ynotes,ydur]\n",
        "xnotes"
      ],
      "execution_count": 9,
      "outputs": [
        {
          "output_type": "stream",
          "text": [
            "(47446, 20)\n",
            "(47446, 20)\n",
            "(47446, 20)\n",
            "(47446, 10351)\n",
            "Model: \"model\"\n",
            "__________________________________________________________________________________________________\n",
            "Layer (type)                    Output Shape         Param #     Connected to                     \n",
            "==================================================================================================\n",
            "input_1 (InputLayer)            [(None, None)]       0                                            \n",
            "__________________________________________________________________________________________________\n",
            "input_2 (InputLayer)            [(None, None)]       0                                            \n",
            "__________________________________________________________________________________________________\n",
            "embedding (Embedding)           (None, None, 200)    2070200     input_1[0][0]                    \n",
            "__________________________________________________________________________________________________\n",
            "embedding_1 (Embedding)         (None, None, 200)    4000        input_2[0][0]                    \n",
            "__________________________________________________________________________________________________\n",
            "concatenate (Concatenate)       (None, None, 400)    0           embedding[0][0]                  \n",
            "                                                                 embedding_1[0][0]                \n",
            "__________________________________________________________________________________________________\n",
            "lstm (LSTM)                     (None, None, 100)    200400      concatenate[0][0]                \n",
            "__________________________________________________________________________________________________\n",
            "lstm_1 (LSTM)                   (None, None, 100)    80400       lstm[0][0]                       \n",
            "__________________________________________________________________________________________________\n",
            "dense (Dense)                   (None, None, 1)      101         lstm_1[0][0]                     \n",
            "__________________________________________________________________________________________________\n",
            "reshape (Reshape)               (None, None)         0           dense[0][0]                      \n",
            "__________________________________________________________________________________________________\n",
            "activation (Activation)         (None, None)         0           reshape[0][0]                    \n",
            "__________________________________________________________________________________________________\n",
            "repeat_vector (RepeatVector)    (None, 100, None)    0           activation[0][0]                 \n",
            "__________________________________________________________________________________________________\n",
            "permute (Permute)               (None, None, 100)    0           repeat_vector[0][0]              \n",
            "__________________________________________________________________________________________________\n",
            "multiply (Multiply)             (None, None, 100)    0           lstm_1[0][0]                     \n",
            "                                                                 permute[0][0]                    \n",
            "__________________________________________________________________________________________________\n",
            "lambda (Lambda)                 (None, 100)          0           multiply[0][0]                   \n",
            "__________________________________________________________________________________________________\n",
            "dense_1 (Dense)                 (None, 10351)        1045451     lambda[0][0]                     \n",
            "__________________________________________________________________________________________________\n",
            "dense_2 (Dense)                 (None, 20)           2020        lambda[0][0]                     \n",
            "==================================================================================================\n",
            "Total params: 3,402,572\n",
            "Trainable params: 3,402,572\n",
            "Non-trainable params: 0\n",
            "__________________________________________________________________________________________________\n"
          ],
          "name": "stdout"
        },
        {
          "output_type": "execute_result",
          "data": {
            "text/plain": [
              "array([[1461,  904, 4588, ..., 1312, 5229, 1312],\n",
              "       [ 904, 4588,  904, ..., 5229, 1312, 5125],\n",
              "       [4588,  904, 4729, ..., 1312, 5125, 1312],\n",
              "       ...,\n",
              "       [1857, 1871,  933, ..., 1940, 1943, 1940],\n",
              "       [1871,  933,  920, ..., 1943, 1940, 9903],\n",
              "       [ 933,  920,   90, ..., 1940, 9903, 9899]])"
            ]
          },
          "metadata": {
            "tags": []
          },
          "execution_count": 9
        }
      ]
    },
    {
      "cell_type": "code",
      "metadata": {
        "colab": {
          "base_uri": "https://localhost:8080/",
          "height": 1000
        },
        "id": "Wcbavu4c2PLn",
        "outputId": "3206b128-ecdb-4a5a-e3f2-c20daf936a8a"
      },
      "source": [
        "h=mod.fit(x=[xnotes,xdur],y=(ynotes,ydur),epochs=100,batch_size=32)"
      ],
      "execution_count": 52,
      "outputs": [
        {
          "output_type": "stream",
          "text": [
            "Epoch 1/100\n",
            "1483/1483 [==============================] - 29s 20ms/step - loss: 7.4729 - dense_1_loss: 6.9628 - dense_2_loss: 0.5101\n",
            "Epoch 2/100\n",
            "1483/1483 [==============================] - 28s 19ms/step - loss: 7.5514 - dense_1_loss: 7.0362 - dense_2_loss: 0.5152\n",
            "Epoch 3/100\n",
            "1483/1483 [==============================] - 28s 19ms/step - loss: 7.4335 - dense_1_loss: 6.9250 - dense_2_loss: 0.5085\n",
            "Epoch 4/100\n",
            "1483/1483 [==============================] - 28s 19ms/step - loss: 7.4192 - dense_1_loss: 6.9119 - dense_2_loss: 0.5072\n",
            "Epoch 5/100\n",
            "1483/1483 [==============================] - 30s 20ms/step - loss: 7.3779 - dense_1_loss: 6.8716 - dense_2_loss: 0.5063\n",
            "Epoch 6/100\n",
            "1483/1483 [==============================] - 29s 19ms/step - loss: 7.3578 - dense_1_loss: 6.8524 - dense_2_loss: 0.5053\n",
            "Epoch 7/100\n",
            "1483/1483 [==============================] - 29s 20ms/step - loss: 7.3556 - dense_1_loss: 6.8499 - dense_2_loss: 0.5057\n",
            "Epoch 8/100\n",
            "1483/1483 [==============================] - 29s 19ms/step - loss: 7.3585 - dense_1_loss: 6.8553 - dense_2_loss: 0.5032\n",
            "Epoch 9/100\n",
            "1483/1483 [==============================] - 29s 20ms/step - loss: 7.3948 - dense_1_loss: 6.8908 - dense_2_loss: 0.5040\n",
            "Epoch 10/100\n",
            "1483/1483 [==============================] - 30s 20ms/step - loss: 7.4316 - dense_1_loss: 6.9219 - dense_2_loss: 0.5098\n",
            "Epoch 11/100\n",
            "1483/1483 [==============================] - 29s 20ms/step - loss: 7.3958 - dense_1_loss: 6.8930 - dense_2_loss: 0.5028\n",
            "Epoch 12/100\n",
            "1483/1483 [==============================] - 28s 19ms/step - loss: 7.3475 - dense_1_loss: 6.8484 - dense_2_loss: 0.4991\n",
            "Epoch 13/100\n",
            "1483/1483 [==============================] - 29s 20ms/step - loss: 7.5325 - dense_1_loss: 7.0192 - dense_2_loss: 0.5134\n",
            "Epoch 14/100\n",
            "1483/1483 [==============================] - 29s 20ms/step - loss: 7.3779 - dense_1_loss: 6.8749 - dense_2_loss: 0.5030\n",
            "Epoch 15/100\n",
            "1483/1483 [==============================] - 29s 20ms/step - loss: 7.3560 - dense_1_loss: 6.8527 - dense_2_loss: 0.5033\n",
            "Epoch 16/100\n",
            "1483/1483 [==============================] - 29s 19ms/step - loss: 7.3283 - dense_1_loss: 6.8285 - dense_2_loss: 0.4998\n",
            "Epoch 17/100\n",
            "1483/1483 [==============================] - 28s 19ms/step - loss: 7.3180 - dense_1_loss: 6.8189 - dense_2_loss: 0.4991\n",
            "Epoch 18/100\n",
            "1483/1483 [==============================] - 30s 20ms/step - loss: 7.3045 - dense_1_loss: 6.8098 - dense_2_loss: 0.4947\n",
            "Epoch 19/100\n",
            "1483/1483 [==============================] - 29s 20ms/step - loss: 7.2968 - dense_1_loss: 6.8011 - dense_2_loss: 0.4957\n",
            "Epoch 20/100\n",
            "1483/1483 [==============================] - 28s 19ms/step - loss: 7.2841 - dense_1_loss: 6.7892 - dense_2_loss: 0.4950\n",
            "Epoch 21/100\n",
            "1483/1483 [==============================] - 29s 20ms/step - loss: 7.2748 - dense_1_loss: 6.7794 - dense_2_loss: 0.4954\n",
            "Epoch 22/100\n",
            "1483/1483 [==============================] - 29s 19ms/step - loss: 7.2797 - dense_1_loss: 6.7874 - dense_2_loss: 0.4922\n",
            "Epoch 23/100\n",
            "1483/1483 [==============================] - 28s 19ms/step - loss: 7.2873 - dense_1_loss: 6.7934 - dense_2_loss: 0.4940\n",
            "Epoch 24/100\n",
            "1483/1483 [==============================] - 28s 19ms/step - loss: 7.2966 - dense_1_loss: 6.7981 - dense_2_loss: 0.4985\n",
            "Epoch 25/100\n",
            "1483/1483 [==============================] - 29s 19ms/step - loss: 7.3057 - dense_1_loss: 6.8044 - dense_2_loss: 0.5012\n",
            "Epoch 26/100\n",
            "1483/1483 [==============================] - 29s 19ms/step - loss: 7.2570 - dense_1_loss: 6.7604 - dense_2_loss: 0.4965\n",
            "Epoch 27/100\n",
            "1483/1483 [==============================] - 29s 20ms/step - loss: 7.3007 - dense_1_loss: 6.8051 - dense_2_loss: 0.4956\n",
            "Epoch 28/100\n",
            "1483/1483 [==============================] - 29s 19ms/step - loss: 7.2808 - dense_1_loss: 6.7811 - dense_2_loss: 0.4996\n",
            "Epoch 29/100\n",
            "1483/1483 [==============================] - 28s 19ms/step - loss: 7.2667 - dense_1_loss: 6.7730 - dense_2_loss: 0.4937\n",
            "Epoch 30/100\n",
            "1483/1483 [==============================] - 29s 20ms/step - loss: 7.2843 - dense_1_loss: 6.7905 - dense_2_loss: 0.4937\n",
            "Epoch 31/100\n",
            "1483/1483 [==============================] - 29s 19ms/step - loss: 7.2663 - dense_1_loss: 6.7737 - dense_2_loss: 0.4926\n",
            "Epoch 32/100\n",
            "1483/1483 [==============================] - 29s 19ms/step - loss: 7.2633 - dense_1_loss: 6.7688 - dense_2_loss: 0.4946\n",
            "Epoch 33/100\n",
            "1483/1483 [==============================] - 28s 19ms/step - loss: 7.2566 - dense_1_loss: 6.7638 - dense_2_loss: 0.4928\n",
            "Epoch 34/100\n",
            "1483/1483 [==============================] - 28s 19ms/step - loss: 7.2821 - dense_1_loss: 6.7841 - dense_2_loss: 0.4980\n",
            "Epoch 35/100\n",
            "1483/1483 [==============================] - 29s 20ms/step - loss: 7.2623 - dense_1_loss: 6.7659 - dense_2_loss: 0.4964\n",
            "Epoch 36/100\n",
            "1483/1483 [==============================] - 28s 19ms/step - loss: 7.2942 - dense_1_loss: 6.7954 - dense_2_loss: 0.4988\n",
            "Epoch 37/100\n",
            "1483/1483 [==============================] - 29s 19ms/step - loss: 7.2785 - dense_1_loss: 6.7831 - dense_2_loss: 0.4954\n",
            "Epoch 38/100\n",
            " 175/1483 [==>...........................] - ETA: 25s - loss: 7.0697 - dense_1_loss: 6.5748 - dense_2_loss: 0.4948"
          ],
          "name": "stdout"
        },
        {
          "output_type": "error",
          "ename": "KeyboardInterrupt",
          "evalue": "ignored",
          "traceback": [
            "\u001b[0;31m---------------------------------------------------------------------------\u001b[0m",
            "\u001b[0;31mKeyboardInterrupt\u001b[0m                         Traceback (most recent call last)",
            "\u001b[0;32m<ipython-input-52-011df366a50f>\u001b[0m in \u001b[0;36m<module>\u001b[0;34m()\u001b[0m\n\u001b[0;32m----> 1\u001b[0;31m \u001b[0mh\u001b[0m\u001b[0;34m=\u001b[0m\u001b[0mmod\u001b[0m\u001b[0;34m.\u001b[0m\u001b[0mfit\u001b[0m\u001b[0;34m(\u001b[0m\u001b[0mx\u001b[0m\u001b[0;34m=\u001b[0m\u001b[0;34m[\u001b[0m\u001b[0mxnotes\u001b[0m\u001b[0;34m,\u001b[0m\u001b[0mxdur\u001b[0m\u001b[0;34m]\u001b[0m\u001b[0;34m,\u001b[0m\u001b[0my\u001b[0m\u001b[0;34m=\u001b[0m\u001b[0;34m(\u001b[0m\u001b[0mynotes\u001b[0m\u001b[0;34m,\u001b[0m\u001b[0mydur\u001b[0m\u001b[0;34m)\u001b[0m\u001b[0;34m,\u001b[0m\u001b[0mepochs\u001b[0m\u001b[0;34m=\u001b[0m\u001b[0;36m100\u001b[0m\u001b[0;34m,\u001b[0m\u001b[0mbatch_size\u001b[0m\u001b[0;34m=\u001b[0m\u001b[0;36m32\u001b[0m\u001b[0;34m)\u001b[0m\u001b[0;34m\u001b[0m\u001b[0;34m\u001b[0m\u001b[0m\n\u001b[0m",
            "\u001b[0;32m/usr/local/lib/python3.7/dist-packages/tensorflow/python/keras/engine/training.py\u001b[0m in \u001b[0;36mfit\u001b[0;34m(self, x, y, batch_size, epochs, verbose, callbacks, validation_split, validation_data, shuffle, class_weight, sample_weight, initial_epoch, steps_per_epoch, validation_steps, validation_batch_size, validation_freq, max_queue_size, workers, use_multiprocessing)\u001b[0m\n\u001b[1;32m   1181\u001b[0m                 _r=1):\n\u001b[1;32m   1182\u001b[0m               \u001b[0mcallbacks\u001b[0m\u001b[0;34m.\u001b[0m\u001b[0mon_train_batch_begin\u001b[0m\u001b[0;34m(\u001b[0m\u001b[0mstep\u001b[0m\u001b[0;34m)\u001b[0m\u001b[0;34m\u001b[0m\u001b[0;34m\u001b[0m\u001b[0m\n\u001b[0;32m-> 1183\u001b[0;31m               \u001b[0mtmp_logs\u001b[0m \u001b[0;34m=\u001b[0m \u001b[0mself\u001b[0m\u001b[0;34m.\u001b[0m\u001b[0mtrain_function\u001b[0m\u001b[0;34m(\u001b[0m\u001b[0miterator\u001b[0m\u001b[0;34m)\u001b[0m\u001b[0;34m\u001b[0m\u001b[0;34m\u001b[0m\u001b[0m\n\u001b[0m\u001b[1;32m   1184\u001b[0m               \u001b[0;32mif\u001b[0m \u001b[0mdata_handler\u001b[0m\u001b[0;34m.\u001b[0m\u001b[0mshould_sync\u001b[0m\u001b[0;34m:\u001b[0m\u001b[0;34m\u001b[0m\u001b[0;34m\u001b[0m\u001b[0m\n\u001b[1;32m   1185\u001b[0m                 \u001b[0mcontext\u001b[0m\u001b[0;34m.\u001b[0m\u001b[0masync_wait\u001b[0m\u001b[0;34m(\u001b[0m\u001b[0;34m)\u001b[0m\u001b[0;34m\u001b[0m\u001b[0;34m\u001b[0m\u001b[0m\n",
            "\u001b[0;32m/usr/local/lib/python3.7/dist-packages/tensorflow/python/eager/def_function.py\u001b[0m in \u001b[0;36m__call__\u001b[0;34m(self, *args, **kwds)\u001b[0m\n\u001b[1;32m    887\u001b[0m \u001b[0;34m\u001b[0m\u001b[0m\n\u001b[1;32m    888\u001b[0m       \u001b[0;32mwith\u001b[0m \u001b[0mOptionalXlaContext\u001b[0m\u001b[0;34m(\u001b[0m\u001b[0mself\u001b[0m\u001b[0;34m.\u001b[0m\u001b[0m_jit_compile\u001b[0m\u001b[0;34m)\u001b[0m\u001b[0;34m:\u001b[0m\u001b[0;34m\u001b[0m\u001b[0;34m\u001b[0m\u001b[0m\n\u001b[0;32m--> 889\u001b[0;31m         \u001b[0mresult\u001b[0m \u001b[0;34m=\u001b[0m \u001b[0mself\u001b[0m\u001b[0;34m.\u001b[0m\u001b[0m_call\u001b[0m\u001b[0;34m(\u001b[0m\u001b[0;34m*\u001b[0m\u001b[0margs\u001b[0m\u001b[0;34m,\u001b[0m \u001b[0;34m**\u001b[0m\u001b[0mkwds\u001b[0m\u001b[0;34m)\u001b[0m\u001b[0;34m\u001b[0m\u001b[0;34m\u001b[0m\u001b[0m\n\u001b[0m\u001b[1;32m    890\u001b[0m \u001b[0;34m\u001b[0m\u001b[0m\n\u001b[1;32m    891\u001b[0m       \u001b[0mnew_tracing_count\u001b[0m \u001b[0;34m=\u001b[0m \u001b[0mself\u001b[0m\u001b[0;34m.\u001b[0m\u001b[0mexperimental_get_tracing_count\u001b[0m\u001b[0;34m(\u001b[0m\u001b[0;34m)\u001b[0m\u001b[0;34m\u001b[0m\u001b[0;34m\u001b[0m\u001b[0m\n",
            "\u001b[0;32m/usr/local/lib/python3.7/dist-packages/tensorflow/python/eager/def_function.py\u001b[0m in \u001b[0;36m_call\u001b[0;34m(self, *args, **kwds)\u001b[0m\n\u001b[1;32m    915\u001b[0m       \u001b[0;31m# In this case we have created variables on the first call, so we run the\u001b[0m\u001b[0;34m\u001b[0m\u001b[0;34m\u001b[0m\u001b[0;34m\u001b[0m\u001b[0m\n\u001b[1;32m    916\u001b[0m       \u001b[0;31m# defunned version which is guaranteed to never create variables.\u001b[0m\u001b[0;34m\u001b[0m\u001b[0;34m\u001b[0m\u001b[0;34m\u001b[0m\u001b[0m\n\u001b[0;32m--> 917\u001b[0;31m       \u001b[0;32mreturn\u001b[0m \u001b[0mself\u001b[0m\u001b[0;34m.\u001b[0m\u001b[0m_stateless_fn\u001b[0m\u001b[0;34m(\u001b[0m\u001b[0;34m*\u001b[0m\u001b[0margs\u001b[0m\u001b[0;34m,\u001b[0m \u001b[0;34m**\u001b[0m\u001b[0mkwds\u001b[0m\u001b[0;34m)\u001b[0m  \u001b[0;31m# pylint: disable=not-callable\u001b[0m\u001b[0;34m\u001b[0m\u001b[0;34m\u001b[0m\u001b[0m\n\u001b[0m\u001b[1;32m    918\u001b[0m     \u001b[0;32melif\u001b[0m \u001b[0mself\u001b[0m\u001b[0;34m.\u001b[0m\u001b[0m_stateful_fn\u001b[0m \u001b[0;32mis\u001b[0m \u001b[0;32mnot\u001b[0m \u001b[0;32mNone\u001b[0m\u001b[0;34m:\u001b[0m\u001b[0;34m\u001b[0m\u001b[0;34m\u001b[0m\u001b[0m\n\u001b[1;32m    919\u001b[0m       \u001b[0;31m# Release the lock early so that multiple threads can perform the call\u001b[0m\u001b[0;34m\u001b[0m\u001b[0;34m\u001b[0m\u001b[0;34m\u001b[0m\u001b[0m\n",
            "\u001b[0;32m/usr/local/lib/python3.7/dist-packages/tensorflow/python/eager/function.py\u001b[0m in \u001b[0;36m__call__\u001b[0;34m(self, *args, **kwargs)\u001b[0m\n\u001b[1;32m   3022\u001b[0m        filtered_flat_args) = self._maybe_define_function(args, kwargs)\n\u001b[1;32m   3023\u001b[0m     return graph_function._call_flat(\n\u001b[0;32m-> 3024\u001b[0;31m         filtered_flat_args, captured_inputs=graph_function.captured_inputs)  # pylint: disable=protected-access\n\u001b[0m\u001b[1;32m   3025\u001b[0m \u001b[0;34m\u001b[0m\u001b[0m\n\u001b[1;32m   3026\u001b[0m   \u001b[0;34m@\u001b[0m\u001b[0mproperty\u001b[0m\u001b[0;34m\u001b[0m\u001b[0;34m\u001b[0m\u001b[0m\n",
            "\u001b[0;32m/usr/local/lib/python3.7/dist-packages/tensorflow/python/eager/function.py\u001b[0m in \u001b[0;36m_call_flat\u001b[0;34m(self, args, captured_inputs, cancellation_manager)\u001b[0m\n\u001b[1;32m   1959\u001b[0m       \u001b[0;31m# No tape is watching; skip to running the function.\u001b[0m\u001b[0;34m\u001b[0m\u001b[0;34m\u001b[0m\u001b[0;34m\u001b[0m\u001b[0m\n\u001b[1;32m   1960\u001b[0m       return self._build_call_outputs(self._inference_function.call(\n\u001b[0;32m-> 1961\u001b[0;31m           ctx, args, cancellation_manager=cancellation_manager))\n\u001b[0m\u001b[1;32m   1962\u001b[0m     forward_backward = self._select_forward_and_backward_functions(\n\u001b[1;32m   1963\u001b[0m         \u001b[0margs\u001b[0m\u001b[0;34m,\u001b[0m\u001b[0;34m\u001b[0m\u001b[0;34m\u001b[0m\u001b[0m\n",
            "\u001b[0;32m/usr/local/lib/python3.7/dist-packages/tensorflow/python/eager/function.py\u001b[0m in \u001b[0;36mcall\u001b[0;34m(self, ctx, args, cancellation_manager)\u001b[0m\n\u001b[1;32m    594\u001b[0m               \u001b[0minputs\u001b[0m\u001b[0;34m=\u001b[0m\u001b[0margs\u001b[0m\u001b[0;34m,\u001b[0m\u001b[0;34m\u001b[0m\u001b[0;34m\u001b[0m\u001b[0m\n\u001b[1;32m    595\u001b[0m               \u001b[0mattrs\u001b[0m\u001b[0;34m=\u001b[0m\u001b[0mattrs\u001b[0m\u001b[0;34m,\u001b[0m\u001b[0;34m\u001b[0m\u001b[0;34m\u001b[0m\u001b[0m\n\u001b[0;32m--> 596\u001b[0;31m               ctx=ctx)\n\u001b[0m\u001b[1;32m    597\u001b[0m         \u001b[0;32melse\u001b[0m\u001b[0;34m:\u001b[0m\u001b[0;34m\u001b[0m\u001b[0;34m\u001b[0m\u001b[0m\n\u001b[1;32m    598\u001b[0m           outputs = execute.execute_with_cancellation(\n",
            "\u001b[0;32m/usr/local/lib/python3.7/dist-packages/tensorflow/python/eager/execute.py\u001b[0m in \u001b[0;36mquick_execute\u001b[0;34m(op_name, num_outputs, inputs, attrs, ctx, name)\u001b[0m\n\u001b[1;32m     58\u001b[0m     \u001b[0mctx\u001b[0m\u001b[0;34m.\u001b[0m\u001b[0mensure_initialized\u001b[0m\u001b[0;34m(\u001b[0m\u001b[0;34m)\u001b[0m\u001b[0;34m\u001b[0m\u001b[0;34m\u001b[0m\u001b[0m\n\u001b[1;32m     59\u001b[0m     tensors = pywrap_tfe.TFE_Py_Execute(ctx._handle, device_name, op_name,\n\u001b[0;32m---> 60\u001b[0;31m                                         inputs, attrs, num_outputs)\n\u001b[0m\u001b[1;32m     61\u001b[0m   \u001b[0;32mexcept\u001b[0m \u001b[0mcore\u001b[0m\u001b[0;34m.\u001b[0m\u001b[0m_NotOkStatusException\u001b[0m \u001b[0;32mas\u001b[0m \u001b[0me\u001b[0m\u001b[0;34m:\u001b[0m\u001b[0;34m\u001b[0m\u001b[0;34m\u001b[0m\u001b[0m\n\u001b[1;32m     62\u001b[0m     \u001b[0;32mif\u001b[0m \u001b[0mname\u001b[0m \u001b[0;32mis\u001b[0m \u001b[0;32mnot\u001b[0m \u001b[0;32mNone\u001b[0m\u001b[0;34m:\u001b[0m\u001b[0;34m\u001b[0m\u001b[0;34m\u001b[0m\u001b[0m\n",
            "\u001b[0;31mKeyboardInterrupt\u001b[0m: "
          ]
        }
      ]
    },
    {
      "cell_type": "code",
      "metadata": {
        "colab": {
          "base_uri": "https://localhost:8080/"
        },
        "id": "r3MyvmZU1GEP",
        "outputId": "507704de-cb6a-4515-b66a-4f6b63285f62"
      },
      "source": [
        "mod.save('model')"
      ],
      "execution_count": 11,
      "outputs": [
        {
          "output_type": "stream",
          "text": [
            "WARNING:absl:Found untraced functions such as lstm_cell_layer_call_fn, lstm_cell_layer_call_and_return_conditional_losses, lstm_cell_1_layer_call_fn, lstm_cell_1_layer_call_and_return_conditional_losses, lstm_cell_layer_call_fn while saving (showing 5 of 10). These functions will not be directly callable after loading.\n"
          ],
          "name": "stderr"
        },
        {
          "output_type": "stream",
          "text": [
            "INFO:tensorflow:Assets written to: model/assets\n"
          ],
          "name": "stdout"
        },
        {
          "output_type": "stream",
          "text": [
            "/usr/local/lib/python3.7/dist-packages/tensorflow/python/keras/utils/generic_utils.py:497: CustomMaskWarning: Custom mask layers require a config and must override get_config. When loading, the custom mask layer must be passed to the custom_objects argument.\n",
            "  category=CustomMaskWarning)\n",
            "INFO:tensorflow:Assets written to: model/assets\n"
          ],
          "name": "stderr"
        }
      ]
    },
    {
      "cell_type": "code",
      "metadata": {
        "colab": {
          "base_uri": "https://localhost:8080/",
          "height": 265
        },
        "id": "BC_DISQP-NcZ",
        "outputId": "39f784e7-d139-47ca-e08f-f446b7aa9c0d"
      },
      "source": [
        "plt.plot(np.arange(100),h.history['loss'])\n",
        "plt.show()"
      ],
      "execution_count": 53,
      "outputs": [
        {
          "output_type": "display_data",
          "data": {
            "image/png": "[encoded data removed]",
            "text/plain": [
              "<Figure size 432x288 with 1 Axes>"
            ]
          },
          "metadata": {
            "tags": [],
            "image/png": {
              "width": 378,
              "height": 248
            },
            "needs_background": "light"
          }
        }
      ]
    },
    {
      "cell_type": "code",
      "metadata": {
        "id": "rAeugiIb-eOU"
      },
      "source": [
        "import random\n",
        "start=[]\n",
        "dur=[]\n",
        "for i in range(20):\n",
        "  tt=random.choice(note_names)\n",
        "  ttt=random.choice(duration_names)\n",
        "  start.append(note_to_int[tt])\n",
        "  dur.append(dur_to_int[ttt])\n",
        "\n",
        "\n",
        "for i in range(500):\n",
        "  testnotes=start[-20:]\n",
        "  testdur=dur[-20:]\n",
        "  testnotes=np.reshape(testnotes,(1,20))\n",
        "  testdur=np.reshape(testdur,(1,20))\n",
        "  #print(testnotes)\n",
        "  #print(testdur)\n",
        "  #print('fff')\n",
        "  prednote,preddur=mod.predict([testnotes.astype('float32'),testdur.astype('float32')])\n",
        "  prednote=np.argmax(prednote)\n",
        "  preddur=np.argmax(preddur)\n",
        "  #prednote=int_to_note[prednote]\n",
        "  #preddur=int_to_dur[preddur]\n",
        "  start.append(prednote)\n",
        "  dur.append(preddur)"
      ],
      "execution_count": 58,
      "outputs": []
    },
    {
      "cell_type": "code",
      "metadata": {
        "colab": {
          "base_uri": "https://localhost:8080/",
          "height": 35
        },
        "id": "a-esK_AKAgck",
        "outputId": "bc8e3fc9-ccb5-42f7-9e00-5569b57071d4"
      },
      "source": [
        "midi_stream = stream.Stream()\n",
        "for pattern in zip(start,dur):\n",
        "    note_pattern, duration_pattern = int_to_note[pattern[0]],int_to_dur[pattern[1]]\n",
        "    # pattern is a chord\n",
        "    if ('.' in note_pattern):\n",
        "        notes_in_chord = note_pattern.split('.')\n",
        "        chord_notes = []\n",
        "        for current_note in notes_in_chord:\n",
        "            new_note = note.Note(current_note)\n",
        "            new_note.duration = duration.Duration(duration_pattern)\n",
        "            new_note.storedInstrument = instrument.Piano()\n",
        "            chord_notes.append(new_note)\n",
        "        new_chord = chord.Chord(chord_notes)\n",
        "        midi_stream.append(new_chord)\n",
        "    elif note_pattern == 'rest':\n",
        "    # pattern is a rest\n",
        "        new_note = note.Rest()\n",
        "        new_note.duration = duration.Duration(duration_pattern)\n",
        "        new_note.storedInstrument = instrument.Piano()\n",
        "        midi_stream.append(new_note)\n",
        "    elif note_pattern != 'START':\n",
        "    # pattern is a note\n",
        "        new_note = note.Note(note_pattern)\n",
        "        new_note.duration = duration.Duration(duration_pattern)\n",
        "        new_note.storedInstrument = instrument.Piano()\n",
        "        midi_stream.append(new_note)\n",
        "\n",
        "\n",
        "\n",
        "midi_stream = midi_stream.chordify()\n",
        "midi_stream.write('midi','hello.mid')"
      ],
      "execution_count": 59,
      "outputs": [
        {
          "output_type": "execute_result",
          "data": {
            "application/vnd.google.colaboratory.intrinsic+json": {
              "type": "string"
            },
            "text/plain": [
              "'hello.mid'"
            ]
          },
          "metadata": {
            "tags": []
          },
          "execution_count": 59
        }
      ]
    }
  ]
}